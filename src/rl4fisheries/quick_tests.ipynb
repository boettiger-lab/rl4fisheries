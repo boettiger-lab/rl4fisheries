{
 "cells": [
  {
   "cell_type": "code",
   "execution_count": 1,
   "id": "4bd474d5-ce91-4450-a59c-c6bbd76497c7",
   "metadata": {},
   "outputs": [],
   "source": [
    "from asm_2o import Asm2o"
   ]
  },
  {
   "cell_type": "code",
   "execution_count": 2,
   "id": "aefa837f-df0f-49eb-a3e9-f994335919e3",
   "metadata": {},
   "outputs": [],
   "source": [
    "env = Asm2o()"
   ]
  },
  {
   "cell_type": "code",
   "execution_count": 3,
   "id": "94fc3070-8147-480c-8fc6-2d76db69106f",
   "metadata": {},
   "outputs": [
    {
     "data": {
      "text/plain": [
       "(array([-0.94812864, -0.18197277], dtype=float32), {})"
      ]
     },
     "execution_count": 3,
     "metadata": {},
     "output_type": "execute_result"
    }
   ],
   "source": [
    "env.reset()"
   ]
  },
  {
   "cell_type": "code",
   "execution_count": 21,
   "id": "6e6351e2-6aff-448a-b989-9bdf04ffa0bc",
   "metadata": {},
   "outputs": [
    {
     "data": {
      "text/plain": [
       "array([-0.95703554,  0.7007429 ], dtype=float32)"
      ]
     },
     "execution_count": 21,
     "metadata": {},
     "output_type": "execute_result"
    }
   ],
   "source": [
    "env.step([-1])[0]"
   ]
  },
  {
   "cell_type": "code",
   "execution_count": 45,
   "id": "86d8a624-276e-4983-afd8-a2a2ea8e4b53",
   "metadata": {},
   "outputs": [
    {
     "data": {
      "text/plain": [
       "0.9701466"
      ]
     },
     "execution_count": 45,
     "metadata": {},
     "output_type": "execute_result"
    }
   ],
   "source": [
    "import numpy as np\n",
    "np.max(env.parameters['wt'])"
   ]
  },
  {
   "cell_type": "code",
   "execution_count": 42,
   "id": "9de048cf-1115-44c1-ac86-d7aaebb2f385",
   "metadata": {},
   "outputs": [
    {
     "data": {
      "text/plain": [
       "array([0.00867406, 0.05012764, 0.12382168, 0.2176034 , 0.3191206 ,\n",
       "       0.4192168 , 0.5122158 , 0.5952108 , 0.667202  , 0.7283712 ,\n",
       "       0.7795541 , 0.8218887 , 0.856597  , 0.8848603 , 0.9077545 ,\n",
       "       0.92622364, 0.9410753 , 0.952988  , 0.9625244 , 0.9701466 ],\n",
       "      dtype=float32)"
      ]
     },
     "execution_count": 42,
     "metadata": {},
     "output_type": "execute_result"
    }
   ],
   "source": [
    "env.parameters['wt']"
   ]
  },
  {
   "cell_type": "code",
   "execution_count": 1,
   "id": "1731be3e-bc3b-4d02-8f6f-b303e6bb3b04",
   "metadata": {},
   "outputs": [],
   "source": [
    "from msy import Msy\n",
    "from cautionary_rule import CautionaryRule\n",
    "from const_esc import ConstEsc"
   ]
  },
  {
   "cell_type": "code",
   "execution_count": 17,
   "id": "443cb4e7-af0c-4c99-903d-3e6fd68511fa",
   "metadata": {},
   "outputs": [],
   "source": [
    "m = Msy(0.5)\n",
    "cr = CautionaryRule(0, 1, 1)\n",
    "ce = ConstEsc(0.1)"
   ]
  },
  {
   "cell_type": "code",
   "execution_count": 18,
   "id": "006c2819-325e-4906-a740-f786c365b04c",
   "metadata": {},
   "outputs": [
    {
     "data": {
      "text/plain": [
       "array([0.3, 0.5], dtype=float32)"
      ]
     },
     "execution_count": 18,
     "metadata": {},
     "output_type": "execute_result"
    }
   ],
   "source": [
    "import numpy as np\n",
    "state = np.float32([-0.4, 0.])\n",
    "m.state_to_pop(state)"
   ]
  },
  {
   "cell_type": "code",
   "execution_count": 19,
   "id": "7b43f0e0-692e-4a41-b42c-1b14ea8c71c6",
   "metadata": {},
   "outputs": [
    {
     "data": {
      "text/plain": [
       "'[0.], [-0.39999998], [0.33333337]'"
      ]
     },
     "execution_count": 19,
     "metadata": {},
     "output_type": "execute_result"
    }
   ],
   "source": [
    "f\"{m.predict(state)}, {cr.predict(state)}, {ce.predict(state)}\""
   ]
  },
  {
   "cell_type": "code",
   "execution_count": 20,
   "id": "40e631ca-9f07-4e1b-83a6-5fc2aac24288",
   "metadata": {},
   "outputs": [
    {
     "data": {
      "text/plain": [
       "'[0.5], [0.3], [0.6666667]'"
      ]
     },
     "execution_count": 20,
     "metadata": {},
     "output_type": "execute_result"
    }
   ],
   "source": [
    "f\"{m.predict_effort(state)}, {cr.predict_effort(state)}, {ce.predict_effort(state)}\""
   ]
  },
  {
   "cell_type": "code",
   "execution_count": null,
   "id": "b9fe3178-ceba-45f8-842e-03c8f4133c58",
   "metadata": {},
   "outputs": [],
   "source": []
  }
 ],
 "metadata": {
  "kernelspec": {
   "display_name": "Python 3 (ipykernel)",
   "language": "python",
   "name": "python3"
  },
  "language_info": {
   "codemirror_mode": {
    "name": "ipython",
    "version": 3
   },
   "file_extension": ".py",
   "mimetype": "text/x-python",
   "name": "python",
   "nbconvert_exporter": "python",
   "pygments_lexer": "ipython3",
   "version": "3.10.12"
  }
 },
 "nbformat": 4,
 "nbformat_minor": 5
}
