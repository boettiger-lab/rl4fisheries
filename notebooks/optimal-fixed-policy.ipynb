{
 "cells": [
  {
   "cell_type": "markdown",
   "id": "ba1c2a7a-d99f-499d-9481-f5516c547246",
   "metadata": {},
   "source": [
    "This notebook tries to search for optimal fixed policies (e.g. constant mortality) that maximize the objective (i.e. expected net reward).  Because the dynamics are so heavily stochastic, standard strategies really don't seem to work all that well. Here I try [scikit-optimize](https://scikit-optimize.github.io/stable/index.html) routines which are designed for noisy functions, but the optimum doesn't look that close.  From a simple grid search I think somewhere around 0.05 ~ 0.1 is optimal in this model.  "
   ]
  },
  {
   "cell_type": "code",
   "execution_count": 4,
   "id": "f15d4b8e-ef57-4bce-899b-89bb32d396f6",
   "metadata": {
    "scrolled": true
   },
   "outputs": [
    {
     "name": "stdout",
     "output_type": "stream",
     "text": [
      "Obtaining file:///home/rstudio/rl4fisheries\n",
      "  Installing build dependencies ... \u001b[?25ldone\n",
      "\u001b[?25h  Checking if build backend supports build_editable ... \u001b[?25ldone\n",
      "\u001b[?25h  Getting requirements to build editable ... \u001b[?25ldone\n",
      "\u001b[?25h  Installing backend dependencies ... \u001b[?25ldone\n",
      "\u001b[?25h  Preparing editable metadata (pyproject.toml) ... \u001b[?25ldone\n",
      "\u001b[?25hRequirement already satisfied: gymnasium in /opt/venv/lib/python3.10/site-packages (from rl4fisheries==1.0.0) (0.28.1)\n",
      "Requirement already satisfied: numpy in /opt/venv/lib/python3.10/site-packages (from rl4fisheries==1.0.0) (1.26.4)\n",
      "Requirement already satisfied: matplotlib in /opt/venv/lib/python3.10/site-packages (from rl4fisheries==1.0.0) (3.8.2)\n",
      "Collecting typing (from rl4fisheries==1.0.0)\n",
      "  Using cached typing-3.7.4.3-py3-none-any.whl\n",
      "Requirement already satisfied: jax-jumpy>=1.0.0 in /opt/venv/lib/python3.10/site-packages (from gymnasium->rl4fisheries==1.0.0) (1.0.0)\n",
      "Requirement already satisfied: cloudpickle>=1.2.0 in /opt/venv/lib/python3.10/site-packages (from gymnasium->rl4fisheries==1.0.0) (3.0.0)\n",
      "Requirement already satisfied: typing-extensions>=4.3.0 in /opt/venv/lib/python3.10/site-packages (from gymnasium->rl4fisheries==1.0.0) (4.9.0)\n",
      "Requirement already satisfied: farama-notifications>=0.0.1 in /opt/venv/lib/python3.10/site-packages (from gymnasium->rl4fisheries==1.0.0) (0.0.4)\n",
      "Requirement already satisfied: contourpy>=1.0.1 in /opt/venv/lib/python3.10/site-packages (from matplotlib->rl4fisheries==1.0.0) (1.2.0)\n",
      "Requirement already satisfied: cycler>=0.10 in /opt/venv/lib/python3.10/site-packages (from matplotlib->rl4fisheries==1.0.0) (0.12.1)\n",
      "Requirement already satisfied: fonttools>=4.22.0 in /opt/venv/lib/python3.10/site-packages (from matplotlib->rl4fisheries==1.0.0) (4.48.1)\n",
      "Requirement already satisfied: kiwisolver>=1.3.1 in /opt/venv/lib/python3.10/site-packages (from matplotlib->rl4fisheries==1.0.0) (1.4.5)\n",
      "Requirement already satisfied: packaging>=20.0 in /opt/venv/lib/python3.10/site-packages (from matplotlib->rl4fisheries==1.0.0) (23.2)\n",
      "Requirement already satisfied: pillow>=8 in /opt/venv/lib/python3.10/site-packages (from matplotlib->rl4fisheries==1.0.0) (10.2.0)\n",
      "Requirement already satisfied: pyparsing>=2.3.1 in /opt/venv/lib/python3.10/site-packages (from matplotlib->rl4fisheries==1.0.0) (3.1.1)\n",
      "Requirement already satisfied: python-dateutil>=2.7 in /opt/venv/lib/python3.10/site-packages (from matplotlib->rl4fisheries==1.0.0) (2.8.2)\n",
      "Requirement already satisfied: six>=1.5 in /opt/venv/lib/python3.10/site-packages (from python-dateutil>=2.7->matplotlib->rl4fisheries==1.0.0) (1.16.0)\n",
      "Building wheels for collected packages: rl4fisheries\n",
      "  Building editable for rl4fisheries (pyproject.toml) ... \u001b[?25ldone\n",
      "\u001b[?25h  Created wheel for rl4fisheries: filename=rl4fisheries-1.0.0-0.editable-py3-none-any.whl size=2176 sha256=2eb5ea53c53391e317b5f66336d962fe530a2b8a6c66ba1ee1820d3d3e8803b9\n",
      "  Stored in directory: /tmp/pip-ephem-wheel-cache-umwgxnwa/wheels/d3/ce/fe/d5af67bb4edf309f6a59d59140b2b78d5a336b2ad4b93a1fb4\n",
      "Successfully built rl4fisheries\n",
      "Installing collected packages: typing, rl4fisheries\n",
      "Successfully installed rl4fisheries-1.0.0 typing-3.7.4.3\n",
      "Note: you may need to restart the kernel to use updated packages.\n"
     ]
    }
   ],
   "source": [
    "%pip install -e .."
   ]
  },
  {
   "cell_type": "code",
   "execution_count": 1,
   "id": "8a7920aa-5e69-4690-be6d-f03308ddf449",
   "metadata": {},
   "outputs": [],
   "source": [
    "from rl4fisheries.asm import AsmEnv\n",
    "import numpy as np"
   ]
  },
  {
   "cell_type": "code",
   "execution_count": 2,
   "id": "0bf15706-d2d4-4cf2-bd21-7fa60728e514",
   "metadata": {},
   "outputs": [],
   "source": [
    "env = AsmEnv()"
   ]
  },
  {
   "cell_type": "code",
   "execution_count": 3,
   "id": "156a2ac1-8cc0-4e04-866d-db322cb03d3f",
   "metadata": {},
   "outputs": [],
   "source": [
    "class fixed_effort:\n",
    "    def __init__(self, effort):\n",
    "        self.effort = effort[0]\n",
    "\n",
    "    def predict(self, observation, **kwargs):\n",
    "        action = self.effort * 2 - 1\n",
    "        action = np.array([action], dtype=np.float32)\n",
    "        return action, {}"
   ]
  },
  {
   "cell_type": "code",
   "execution_count": 4,
   "id": "6fa4681c-fbca-4ade-a8ab-e021cd9d07e5",
   "metadata": {},
   "outputs": [],
   "source": [
    "def f(x):\n",
    "    results = []\n",
    "    agent = fixed_effort(x)    \n",
    "    for rep in range(100): # try score as average of 100 replicates, still a noisy measure\n",
    "        episode_reward = 0.0\n",
    "        observation, _ = env.reset()\n",
    "        for t in range(env.Tmax):\n",
    "            action, _ = agent.predict(observation, deterministic=True)\n",
    "            observation, reward, terminated, done, info = env.step(action)\n",
    "            episode_reward += reward\n",
    "            if terminated or done:\n",
    "                break\n",
    "        results.append(episode_reward)      \n",
    "    return np.mean(results)\n",
    "    "
   ]
  },
  {
   "cell_type": "code",
   "execution_count": null,
   "id": "a572e210-7f6b-46e0-a1f9-b6a6db9546e7",
   "metadata": {},
   "outputs": [],
   "source": [
    "f([0.1])"
   ]
  },
  {
   "cell_type": "code",
   "execution_count": null,
   "id": "812edc32-f0f9-4ff4-9792-77acf6962179",
   "metadata": {
    "scrolled": true
   },
   "outputs": [],
   "source": [
    "from skopt import gp_minimize\n",
    "res = gp_minimize(f, [(0.0, 0.2)], n_calls = 1000)\n",
    "res.x"
   ]
  },
  {
   "cell_type": "code",
   "execution_count": 72,
   "id": "dc075969-aec2-4747-a00e-09e219d4519b",
   "metadata": {},
   "outputs": [
    {
     "data": {
      "text/plain": [
       "[0.000302295496324212]"
      ]
     },
     "execution_count": 72,
     "metadata": {},
     "output_type": "execute_result"
    }
   ],
   "source": [
    "from skopt import dummy_minimize\n",
    "res1 = dummy_minimize(f, [(0.0, 0.2)], n_calls = 1000)\n",
    "res1.x"
   ]
  },
  {
   "cell_type": "code",
   "execution_count": null,
   "id": "4c5c2ec8-f61b-4dae-bc1b-ba70310a694b",
   "metadata": {},
   "outputs": [
    {
     "name": "stderr",
     "output_type": "stream",
     "text": [
      "/opt/venv/lib/python3.10/site-packages/skopt/optimizer/optimizer.py:449: UserWarning: The objective has been evaluated at this point before.\n",
      "  warnings.warn(\"The objective has been evaluated \"\n"
     ]
    }
   ],
   "source": [
    "from skopt import gbrt_minimize\n",
    "res2 = gbrt_minimize(f, [(0.0, 0.2)], n_calls = 1000)\n",
    "res2"
   ]
  }
 ],
 "metadata": {
  "kernelspec": {
   "display_name": "Python 3 (ipykernel)",
   "language": "python",
   "name": "python3"
  },
  "language_info": {
   "codemirror_mode": {
    "name": "ipython",
    "version": 3
   },
   "file_extension": ".py",
   "mimetype": "text/x-python",
   "name": "python",
   "nbconvert_exporter": "python",
   "pygments_lexer": "ipython3",
   "version": "3.10.12"
  }
 },
 "nbformat": 4,
 "nbformat_minor": 5
}
