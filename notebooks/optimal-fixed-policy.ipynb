{
 "cells": [
  {
   "cell_type": "markdown",
   "id": "ba1c2a7a-d99f-499d-9481-f5516c547246",
   "metadata": {},
   "source": [
    "This notebook tries to search for optimal fixed policies (e.g. constant mortality) that maximize the objective (i.e. expected net reward). Here I try [scikit-optimize](https://scikit-optimize.github.io/stable/index.html)."
   ]
  },
  {
   "cell_type": "markdown",
   "id": "bbd06647-7a26-43be-a83a-b7289a0983c4",
   "metadata": {},
   "source": [
    "# Setup\n",
    "---"
   ]
  },
  {
   "cell_type": "code",
   "execution_count": 8,
   "id": "f15d4b8e-ef57-4bce-899b-89bb32d396f6",
   "metadata": {
    "scrolled": true
   },
   "outputs": [],
   "source": [
    "# %pip install -e ..\n",
    "# %pip install scikit-optimize"
   ]
  },
  {
   "cell_type": "code",
   "execution_count": 6,
   "id": "dee5cba2-cdc3-4bf5-9ea4-788ca5d4a4d9",
   "metadata": {},
   "outputs": [],
   "source": [
    "import numpy as np\n",
    "import pandas as pd\n",
    "\n",
    "from skopt import gp_minimize, gbrt_minimize \n",
    "from skopt.plots import plot_objective\n",
    "from skopt import dump\n",
    "from skopt.space import Real\n",
    "from skopt.utils import use_named_args\n",
    "\n",
    "from stable_baselines3.common.evaluation import evaluate_policy\n",
    "from stable_baselines3.common.monitor import Monitor\n",
    "\n",
    "from rl4fisheries import AsmEnv, Msy, ConstEsc, CautionaryRule\n",
    "from rl4fisheries.envs.asm_fns import get_r_devs"
   ]
  },
  {
   "cell_type": "code",
   "execution_count": 7,
   "id": "236788a7-ed25-46bd-a9b0-f7301e96cacf",
   "metadata": {},
   "outputs": [],
   "source": [
    "CONFIG = {\"s\":  0.97}"
   ]
  },
  {
   "cell_type": "markdown",
   "id": "1e0daeeb-1d7f-4ee7-a07f-b169999f21a1",
   "metadata": {},
   "source": [
    "## Hugging face login"
   ]
  },
  {
   "cell_type": "code",
   "execution_count": 3,
   "id": "b59deb35-b67d-4232-bce4-ae9c8c2f0fcc",
   "metadata": {},
   "outputs": [
    {
     "data": {
      "application/vnd.jupyter.widget-view+json": {
       "model_id": "a3fdbca8d79646f0835eaa15bb8790aa",
       "version_major": 2,
       "version_minor": 0
      },
      "text/plain": [
       "VBox(children=(HTML(value='<center> <img\\nsrc=https://huggingface.co/front/assets/huggingface_logo-noborder.sv…"
      ]
     },
     "metadata": {},
     "output_type": "display_data"
    }
   ],
   "source": [
    "## download & upload saved model weights\n",
    "from huggingface_hub import hf_hub_download, HfApi, login\n",
    "api = HfApi()\n",
    "login()"
   ]
  },
  {
   "cell_type": "markdown",
   "id": "0f5bdc89-cfb7-4c22-9304-65c1d65f2beb",
   "metadata": {},
   "source": [
    "# Policy Optimization\n",
    "---\n",
    "\n",
    "## Objective fns"
   ]
  },
  {
   "cell_type": "code",
   "execution_count": 12,
   "id": "c122a0c1-1c51-4c31-8f7b-84fd1725abf3",
   "metadata": {},
   "outputs": [],
   "source": [
    "msy_space = [Real(0.001, 0.25, name='mortality')]\n",
    "esc_space = [Real(0.001, 0.80, name='escapement')]\n",
    "cr_space  = [\n",
    "    Real(0.00001, 1, name='radius'),\n",
    "    Real(0.00001, np.pi/4.00001, name='theta'),\n",
    "    Real(0, 1, name='y2'),\n",
    "]\n",
    "\n",
    "@use_named_args(msy_space)\n",
    "def msy_obj(**x):\n",
    "    eval_env = AsmEnv(config=CONFIG)\n",
    "    agent = Msy(env=eval_env, mortality = x['mortality'])\n",
    "    mean, sd = evaluate_policy(agent, Monitor(eval_env), n_eval_episodes=100)\n",
    "    return -mean\n",
    "\n",
    "@use_named_args(esc_space)\n",
    "def esc_obj(**x):\n",
    "    eval_env = AsmEnv(config=CONFIG)\n",
    "    agent = ConstEsc(env=eval_env, escapement = x['escapement'])\n",
    "    mean, sd = evaluate_policy(agent, Monitor(eval_env), n_eval_episodes=100)\n",
    "    return -mean\n",
    "\n",
    "@use_named_args(cr_space)\n",
    "def cr_obj(**x):\n",
    "    theta = x[\"theta\"]\n",
    "    radius = x[\"radius\"]\n",
    "    x1 = np.sin(theta) * radius\n",
    "    x2 = np.cos(theta) * radius\n",
    "    #\n",
    "    eval_env = AsmEnv(config=CONFIG)\n",
    "    agent = CautionaryRule(env=eval_env, x1 = x1, x2 =  x2, y2 = x[\"y2\"])\n",
    "    mean, sd = evaluate_policy(agent, Monitor(eval_env), n_eval_episodes=100)\n",
    "    return -mean  \n",
    "\n"
   ]
  },
  {
   "cell_type": "markdown",
   "id": "be348fe6-5d38-4f77-af59-35dfcdc69fe6",
   "metadata": {},
   "source": [
    "## Optimization"
   ]
  },
  {
   "cell_type": "markdown",
   "id": "a7208d50-0547-4691-8a78-a47b20d73371",
   "metadata": {},
   "source": [
    "### MSY\n",
    "\n",
    "Minimum at spproximately `mortality = 0.036`, with a (minus) reward value of `-344`."
   ]
  },
  {
   "cell_type": "code",
   "execution_count": 15,
   "id": "812edc32-f0f9-4ff4-9792-77acf6962179",
   "metadata": {
    "scrolled": true
   },
   "outputs": [
    {
     "data": {
      "text/plain": [
       "(-344.81508420000006, [0.03679360865276369])"
      ]
     },
     "execution_count": 15,
     "metadata": {},
     "output_type": "execute_result"
    }
   ],
   "source": [
    "%%time\n",
    "msy_gp = gp_minimize(msy_obj, msy_space, n_calls = 50, verbose=True, n_jobs=-1)\n",
    "msy_gp.fun, msy_gp.x"
   ]
  },
  {
   "cell_type": "code",
   "execution_count": 16,
   "id": "6563ba01-9664-4dbc-9594-c4439d22023a",
   "metadata": {},
   "outputs": [
    {
     "data": {
      "text/plain": [
       "<Axes: >"
      ]
     },
     "execution_count": 16,
     "metadata": {},
     "output_type": "execute_result"
    },
    {
     "data": {
      "image/png": "[encoded data removed]",
      "text/plain": [
       "<Figure size 200x200 with 2 Axes>"
      ]
     },
     "metadata": {},
     "output_type": "display_data"
    }
   ],
   "source": [
    "plot_objective(msy_gp)"
   ]
  },
  {
   "cell_type": "code",
   "execution_count": 17,
   "id": "4b420c3d-c941-43dd-b7e4-fcf4a28f80e7",
   "metadata": {
    "scrolled": true
   },
   "outputs": [
    {
     "data": {
      "text/plain": [
       "(-413.97059970999993, [0.026082308394732884])"
      ]
     },
     "execution_count": 17,
     "metadata": {},
     "output_type": "execute_result"
    }
   ],
   "source": [
    "%%time\n",
    "msy_gbrt = gbrt_minimize(msy_obj, msy_space, n_calls = 50, verbose=True, n_jobs=-1)\n",
    "msy_gbrt.fun, msy_gbrt.x"
   ]
  },
  {
   "cell_type": "code",
   "execution_count": 18,
   "id": "73d6974e-8d14-419d-a43d-ef0cd09659f8",
   "metadata": {},
   "outputs": [
    {
     "data": {
      "text/plain": [
       "<Axes: >"
      ]
     },
     "execution_count": 18,
     "metadata": {},
     "output_type": "execute_result"
    },
    {
     "data": {
      "image/png": "[encoded data removed]",
      "text/plain": [
       "<Figure size 200x200 with 2 Axes>"
      ]
     },
     "metadata": {},
     "output_type": "display_data"
    }
   ],
   "source": [
    "plot_objective(msy_gbrt)"
   ]
  },
  {
   "cell_type": "markdown",
   "id": "9a378e12-6eda-4d47-b560-3ef2ff06bbd5",
   "metadata": {},
   "source": [
    "### Esc\n",
    "\n",
    "Optimal escapement is approximately `escapement = 0.133` with a (minus) reward value of about `-250`."
   ]
  },
  {
   "cell_type": "code",
   "execution_count": 19,
   "id": "fafa0c26-8a50-4ed3-b8c7-99984a41c6ea",
   "metadata": {
    "scrolled": true
   },
   "outputs": [
    {
     "data": {
      "text/plain": [
       "(-399.8290314899999, [0.17183492119923788])"
      ]
     },
     "execution_count": 19,
     "metadata": {},
     "output_type": "execute_result"
    }
   ],
   "source": [
    "%%time\n",
    "esc_gp = gp_minimize(esc_obj, esc_space, n_calls = 50, verbose=True, n_jobs=-1)\n",
    "esc_gp.fun, esc_gp.x"
   ]
  },
  {
   "cell_type": "code",
   "execution_count": 20,
   "id": "ebff2644-b811-4bea-995c-ca3c7586c122",
   "metadata": {},
   "outputs": [
    {
     "data": {
      "text/plain": [
       "<Axes: >"
      ]
     },
     "execution_count": 20,
     "metadata": {},
     "output_type": "execute_result"
    },
    {
     "data": {
      "image/png": "[encoded data removed]",
      "text/plain": [
       "<Figure size 200x200 with 2 Axes>"
      ]
     },
     "metadata": {},
     "output_type": "display_data"
    }
   ],
   "source": [
    "plot_objective(esc_gp)"
   ]
  },
  {
   "cell_type": "code",
   "execution_count": 21,
   "id": "82d02ca4-6569-42ca-91fe-dbb3bd140845",
   "metadata": {
    "scrolled": true
   },
   "outputs": [
    {
     "data": {
      "text/plain": [
       "(-445.35083130000004, [0.1596852959040506])"
      ]
     },
     "execution_count": 21,
     "metadata": {},
     "output_type": "execute_result"
    }
   ],
   "source": [
    "%%time\n",
    "esc_gbrt = gbrt_minimize(esc_obj, esc_space, n_calls = 50, verbose=True, n_jobs=-1)\n",
    "esc_gbrt.fun, esc_gbrt.x"
   ]
  },
  {
   "cell_type": "code",
   "execution_count": 22,
   "id": "d85a57bd-e338-468d-9d63-45d82fe53aef",
   "metadata": {},
   "outputs": [
    {
     "data": {
      "text/plain": [
       "<Axes: >"
      ]
     },
     "execution_count": 22,
     "metadata": {},
     "output_type": "execute_result"
    },
    {
     "data": {
      "image/png": "[encoded data removed]",
      "text/plain": [
       "<Figure size 200x200 with 2 Axes>"
      ]
     },
     "metadata": {},
     "output_type": "display_data"
    }
   ],
   "source": [
    "plot_objective(esc_gbrt)"
   ]
  },
  {
   "cell_type": "markdown",
   "id": "015f56dc-d581-40c7-a32e-72bfb8887e4e",
   "metadata": {},
   "source": [
    "### CR"
   ]
  },
  {
   "cell_type": "code",
   "execution_count": 13,
   "id": "f3334db1-0dab-47ed-b266-f2c5da4bee13",
   "metadata": {
    "scrolled": true
   },
   "outputs": [
    {
     "name": "stdout",
     "output_type": "stream",
     "text": [
      "Iteration No: 1 started. Evaluating function at random point.\n",
      "Iteration No: 1 ended. Evaluation done at random point.\n",
      "Time taken: 14.8765\n",
      "Function value obtained: -351.7318\n",
      "Current minimum: -351.7318\n",
      "Iteration No: 2 started. Evaluating function at random point.\n",
      "Iteration No: 2 ended. Evaluation done at random point.\n",
      "Time taken: 14.7790\n",
      "Function value obtained: -222.6689\n",
      "Current minimum: -351.7318\n",
      "Iteration No: 3 started. Evaluating function at random point.\n",
      "Iteration No: 3 ended. Evaluation done at random point.\n",
      "Time taken: 14.7518\n",
      "Function value obtained: -174.7706\n",
      "Current minimum: -351.7318\n",
      "Iteration No: 4 started. Evaluating function at random point.\n",
      "Iteration No: 4 ended. Evaluation done at random point.\n",
      "Time taken: 15.0518\n",
      "Function value obtained: -340.0497\n",
      "Current minimum: -351.7318\n",
      "Iteration No: 5 started. Evaluating function at random point.\n",
      "Iteration No: 5 ended. Evaluation done at random point.\n",
      "Time taken: 14.8816\n",
      "Function value obtained: -251.9900\n",
      "Current minimum: -351.7318\n",
      "Iteration No: 6 started. Evaluating function at random point.\n",
      "Iteration No: 6 ended. Evaluation done at random point.\n",
      "Time taken: 14.7287\n",
      "Function value obtained: -209.4481\n",
      "Current minimum: -351.7318\n",
      "Iteration No: 7 started. Evaluating function at random point.\n",
      "Iteration No: 7 ended. Evaluation done at random point.\n",
      "Time taken: 14.7696\n",
      "Function value obtained: -226.3372\n",
      "Current minimum: -351.7318\n",
      "Iteration No: 8 started. Evaluating function at random point.\n",
      "Iteration No: 8 ended. Evaluation done at random point.\n",
      "Time taken: 14.6545\n",
      "Function value obtained: -174.3101\n",
      "Current minimum: -351.7318\n",
      "Iteration No: 9 started. Evaluating function at random point.\n",
      "Iteration No: 9 ended. Evaluation done at random point.\n",
      "Time taken: 14.8862\n",
      "Function value obtained: -78.2966\n",
      "Current minimum: -351.7318\n",
      "Iteration No: 10 started. Evaluating function at random point.\n",
      "Iteration No: 10 ended. Evaluation done at random point.\n",
      "Time taken: 18.9290\n",
      "Function value obtained: -256.4544\n",
      "Current minimum: -351.7318\n",
      "Iteration No: 11 started. Searching for the next optimal point.\n",
      "Iteration No: 11 ended. Search finished for the next optimal point.\n",
      "Time taken: 16.2500\n",
      "Function value obtained: -207.3230\n",
      "Current minimum: -351.7318\n",
      "Iteration No: 12 started. Searching for the next optimal point.\n",
      "Iteration No: 12 ended. Search finished for the next optimal point.\n",
      "Time taken: 16.2148\n",
      "Function value obtained: -65.2255\n",
      "Current minimum: -351.7318\n",
      "Iteration No: 13 started. Searching for the next optimal point.\n",
      "Iteration No: 13 ended. Search finished for the next optimal point.\n",
      "Time taken: 16.5459\n",
      "Function value obtained: -167.9823\n",
      "Current minimum: -351.7318\n",
      "Iteration No: 14 started. Searching for the next optimal point.\n",
      "Iteration No: 14 ended. Search finished for the next optimal point.\n",
      "Time taken: 16.2486\n",
      "Function value obtained: -410.9384\n",
      "Current minimum: -410.9384\n",
      "Iteration No: 15 started. Searching for the next optimal point.\n",
      "Iteration No: 15 ended. Search finished for the next optimal point.\n",
      "Time taken: 16.1813\n",
      "Function value obtained: -380.7809\n",
      "Current minimum: -410.9384\n",
      "Iteration No: 16 started. Searching for the next optimal point.\n",
      "Iteration No: 16 ended. Search finished for the next optimal point.\n",
      "Time taken: 16.1551\n",
      "Function value obtained: -225.6165\n",
      "Current minimum: -410.9384\n",
      "Iteration No: 17 started. Searching for the next optimal point.\n",
      "Iteration No: 17 ended. Search finished for the next optimal point.\n",
      "Time taken: 16.1436\n",
      "Function value obtained: -289.8493\n",
      "Current minimum: -410.9384\n",
      "Iteration No: 18 started. Searching for the next optimal point.\n",
      "Iteration No: 18 ended. Search finished for the next optimal point.\n",
      "Time taken: 15.7917\n",
      "Function value obtained: -42.3463\n",
      "Current minimum: -410.9384\n",
      "Iteration No: 19 started. Searching for the next optimal point.\n",
      "Iteration No: 19 ended. Search finished for the next optimal point.\n",
      "Time taken: 15.2254\n",
      "Function value obtained: -2.2897\n",
      "Current minimum: -410.9384\n",
      "Iteration No: 20 started. Searching for the next optimal point.\n",
      "Iteration No: 20 ended. Search finished for the next optimal point.\n",
      "Time taken: 15.3229\n",
      "Function value obtained: -0.0000\n",
      "Current minimum: -410.9384\n",
      "Iteration No: 21 started. Searching for the next optimal point.\n",
      "Iteration No: 21 ended. Search finished for the next optimal point.\n",
      "Time taken: 15.2306\n",
      "Function value obtained: -231.6224\n",
      "Current minimum: -410.9384\n",
      "Iteration No: 22 started. Searching for the next optimal point.\n",
      "Iteration No: 22 ended. Search finished for the next optimal point.\n",
      "Time taken: 15.1051\n",
      "Function value obtained: -237.8984\n",
      "Current minimum: -410.9384\n",
      "Iteration No: 23 started. Searching for the next optimal point.\n",
      "Iteration No: 23 ended. Search finished for the next optimal point.\n",
      "Time taken: 14.9081\n",
      "Function value obtained: -171.7056\n",
      "Current minimum: -410.9384\n",
      "Iteration No: 24 started. Searching for the next optimal point.\n",
      "Iteration No: 24 ended. Search finished for the next optimal point.\n",
      "Time taken: 14.9550\n",
      "Function value obtained: -306.1268\n",
      "Current minimum: -410.9384\n",
      "Iteration No: 25 started. Searching for the next optimal point.\n",
      "Iteration No: 25 ended. Search finished for the next optimal point.\n",
      "Time taken: 15.1523\n",
      "Function value obtained: -228.2250\n",
      "Current minimum: -410.9384\n",
      "Iteration No: 26 started. Searching for the next optimal point.\n",
      "Iteration No: 26 ended. Search finished for the next optimal point.\n",
      "Time taken: 14.9595\n",
      "Function value obtained: -204.5615\n",
      "Current minimum: -410.9384\n",
      "Iteration No: 27 started. Searching for the next optimal point.\n",
      "Iteration No: 27 ended. Search finished for the next optimal point.\n",
      "Time taken: 15.0190\n",
      "Function value obtained: -68.6305\n",
      "Current minimum: -410.9384\n",
      "Iteration No: 28 started. Searching for the next optimal point.\n",
      "Iteration No: 28 ended. Search finished for the next optimal point.\n",
      "Time taken: 15.0223\n",
      "Function value obtained: -243.1624\n",
      "Current minimum: -410.9384\n",
      "Iteration No: 29 started. Searching for the next optimal point.\n",
      "Iteration No: 29 ended. Search finished for the next optimal point.\n",
      "Time taken: 14.9260\n",
      "Function value obtained: -1.8602\n",
      "Current minimum: -410.9384\n",
      "Iteration No: 30 started. Searching for the next optimal point.\n",
      "Iteration No: 30 ended. Search finished for the next optimal point.\n",
      "Time taken: 14.9621\n",
      "Function value obtained: -0.0000\n",
      "Current minimum: -410.9384\n",
      "Iteration No: 31 started. Searching for the next optimal point.\n",
      "Iteration No: 31 ended. Search finished for the next optimal point.\n",
      "Time taken: 15.0314\n",
      "Function value obtained: -378.3103\n",
      "Current minimum: -410.9384\n",
      "Iteration No: 32 started. Searching for the next optimal point.\n",
      "Iteration No: 32 ended. Search finished for the next optimal point.\n",
      "Time taken: 14.9896\n",
      "Function value obtained: -278.9007\n",
      "Current minimum: -410.9384\n",
      "Iteration No: 33 started. Searching for the next optimal point.\n",
      "Iteration No: 33 ended. Search finished for the next optimal point.\n",
      "Time taken: 15.4333\n",
      "Function value obtained: -226.2895\n",
      "Current minimum: -410.9384\n",
      "Iteration No: 34 started. Searching for the next optimal point.\n",
      "Iteration No: 34 ended. Search finished for the next optimal point.\n",
      "Time taken: 15.4029\n",
      "Function value obtained: -2.9886\n",
      "Current minimum: -410.9384\n",
      "Iteration No: 35 started. Searching for the next optimal point.\n",
      "Iteration No: 35 ended. Search finished for the next optimal point.\n",
      "Time taken: 15.1865\n",
      "Function value obtained: -274.4211\n",
      "Current minimum: -410.9384\n",
      "Iteration No: 36 started. Searching for the next optimal point.\n",
      "Iteration No: 36 ended. Search finished for the next optimal point.\n",
      "Time taken: 15.3276\n",
      "Function value obtained: -112.1505\n",
      "Current minimum: -410.9384\n",
      "Iteration No: 37 started. Searching for the next optimal point.\n",
      "Iteration No: 37 ended. Search finished for the next optimal point.\n",
      "Time taken: 15.4141\n",
      "Function value obtained: -113.2420\n",
      "Current minimum: -410.9384\n",
      "Iteration No: 38 started. Searching for the next optimal point.\n",
      "Iteration No: 38 ended. Search finished for the next optimal point.\n",
      "Time taken: 15.0401\n",
      "Function value obtained: -2.1604\n",
      "Current minimum: -410.9384\n",
      "Iteration No: 39 started. Searching for the next optimal point.\n",
      "Iteration No: 39 ended. Search finished for the next optimal point.\n",
      "Time taken: 15.1852\n",
      "Function value obtained: -127.1841\n",
      "Current minimum: -410.9384\n",
      "Iteration No: 40 started. Searching for the next optimal point.\n",
      "Iteration No: 40 ended. Search finished for the next optimal point.\n",
      "Time taken: 14.8967\n",
      "Function value obtained: -236.8568\n",
      "Current minimum: -410.9384\n",
      "Iteration No: 41 started. Searching for the next optimal point.\n",
      "Iteration No: 41 ended. Search finished for the next optimal point.\n",
      "Time taken: 15.1567\n",
      "Function value obtained: -0.0000\n",
      "Current minimum: -410.9384\n",
      "Iteration No: 42 started. Searching for the next optimal point.\n",
      "Iteration No: 42 ended. Search finished for the next optimal point.\n",
      "Time taken: 15.1260\n",
      "Function value obtained: -335.5016\n",
      "Current minimum: -410.9384\n",
      "Iteration No: 43 started. Searching for the next optimal point.\n",
      "Iteration No: 43 ended. Search finished for the next optimal point.\n",
      "Time taken: 15.0298\n",
      "Function value obtained: -353.8426\n",
      "Current minimum: -410.9384\n",
      "Iteration No: 44 started. Searching for the next optimal point.\n",
      "Iteration No: 44 ended. Search finished for the next optimal point.\n",
      "Time taken: 15.1143\n",
      "Function value obtained: -351.4422\n",
      "Current minimum: -410.9384\n",
      "Iteration No: 45 started. Searching for the next optimal point.\n",
      "Iteration No: 45 ended. Search finished for the next optimal point.\n",
      "Time taken: 15.0066\n",
      "Function value obtained: -248.2000\n",
      "Current minimum: -410.9384\n",
      "Iteration No: 46 started. Searching for the next optimal point.\n",
      "Iteration No: 46 ended. Search finished for the next optimal point.\n",
      "Time taken: 15.1112\n",
      "Function value obtained: -265.7142\n",
      "Current minimum: -410.9384\n",
      "Iteration No: 47 started. Searching for the next optimal point.\n"
     ]
    },
    {
     "name": "stderr",
     "output_type": "stream",
     "text": [
      "/opt/venv/lib/python3.10/site-packages/skopt/optimizer/optimizer.py:517: UserWarning: The objective has been evaluated at point [1.0, 1e-05, 1.0] before, using random point [0.3803735619256906, 0.501488617712397, 0.11082626422314903]\n",
      "  warnings.warn(\n"
     ]
    },
    {
     "name": "stdout",
     "output_type": "stream",
     "text": [
      "Iteration No: 47 ended. Search finished for the next optimal point.\n",
      "Time taken: 15.0832\n",
      "Function value obtained: -306.8230\n",
      "Current minimum: -410.9384\n",
      "Iteration No: 48 started. Searching for the next optimal point.\n",
      "Iteration No: 48 ended. Search finished for the next optimal point.\n",
      "Time taken: 15.1915\n",
      "Function value obtained: -192.0073\n",
      "Current minimum: -410.9384\n",
      "Iteration No: 49 started. Searching for the next optimal point.\n"
     ]
    },
    {
     "name": "stderr",
     "output_type": "stream",
     "text": [
      "/opt/venv/lib/python3.10/site-packages/skopt/optimizer/optimizer.py:517: UserWarning: The objective has been evaluated at point [1.0, 1e-05, 1.0] before, using random point [0.7877568546929663, 0.7095084957907133, 0.24825060528452686]\n",
      "  warnings.warn(\n"
     ]
    },
    {
     "name": "stdout",
     "output_type": "stream",
     "text": [
      "Iteration No: 49 ended. Search finished for the next optimal point.\n",
      "Time taken: 15.1035\n",
      "Function value obtained: -102.9234\n",
      "Current minimum: -410.9384\n",
      "Iteration No: 50 started. Searching for the next optimal point.\n"
     ]
    },
    {
     "name": "stderr",
     "output_type": "stream",
     "text": [
      "/opt/venv/lib/python3.10/site-packages/skopt/optimizer/optimizer.py:517: UserWarning: The objective has been evaluated at point [1.0, 1e-05, 1.0] before, using random point [0.5156288173888501, 0.18829691640463697, 0.8405282125608928]\n",
      "  warnings.warn(\n"
     ]
    },
    {
     "name": "stdout",
     "output_type": "stream",
     "text": [
      "Iteration No: 50 ended. Search finished for the next optimal point.\n",
      "Time taken: 15.0984\n",
      "Function value obtained: -354.1497\n",
      "Current minimum: -410.9384\n",
      "CPU times: user 14min 7s, sys: 11min 53s, total: 26min 1s\n",
      "Wall time: 12min 45s\n"
     ]
    },
    {
     "data": {
      "text/plain": [
       "(-410.93840314,\n",
       " [0.21946183895274754, 0.44335860308748737, 0.41059228240857215])"
      ]
     },
     "execution_count": 13,
     "metadata": {},
     "output_type": "execute_result"
    }
   ],
   "source": [
    "%%time\n",
    "cr_gp = gp_minimize(cr_obj, cr_space, n_calls = 50, verbose=True, n_jobs=-1)\n",
    "cr_gp.fun, cr_gp.x"
   ]
  },
  {
   "cell_type": "code",
   "execution_count": 14,
   "id": "faa3ef2e-e477-401d-b663-3e10e15d2023",
   "metadata": {},
   "outputs": [
    {
     "data": {
      "text/plain": [
       "<Axes: >"
      ]
     },
     "execution_count": 14,
     "metadata": {},
     "output_type": "execute_result"
    },
    {
     "data": {
      "image/png": "[encoded data removed]",
      "text/plain": [
       "<Figure size 600x600 with 10 Axes>"
      ]
     },
     "metadata": {},
     "output_type": "display_data"
    }
   ],
   "source": [
    "plot_objective(cr_gp)"
   ]
  },
  {
   "cell_type": "code",
   "execution_count": 17,
   "id": "04bccbfe-6ad1-4db4-8e58-c773c3ceeb7e",
   "metadata": {
    "scrolled": true
   },
   "outputs": [
    {
     "name": "stdout",
     "output_type": "stream",
     "text": [
      "Iteration No: 1 started. Evaluating function at random point.\n",
      "Iteration No: 1 ended. Evaluation done at random point.\n",
      "Time taken: 15.4285\n",
      "Function value obtained: -145.5092\n",
      "Current minimum: -145.5092\n",
      "Iteration No: 2 started. Evaluating function at random point.\n",
      "Iteration No: 2 ended. Evaluation done at random point.\n",
      "Time taken: 15.4036\n",
      "Function value obtained: -376.5553\n",
      "Current minimum: -376.5553\n",
      "Iteration No: 3 started. Evaluating function at random point.\n",
      "Iteration No: 3 ended. Evaluation done at random point.\n",
      "Time taken: 15.1200\n",
      "Function value obtained: -61.3406\n",
      "Current minimum: -376.5553\n",
      "Iteration No: 4 started. Evaluating function at random point.\n",
      "Iteration No: 4 ended. Evaluation done at random point.\n",
      "Time taken: 15.1149\n",
      "Function value obtained: -103.9941\n",
      "Current minimum: -376.5553\n",
      "Iteration No: 5 started. Evaluating function at random point.\n",
      "Iteration No: 5 ended. Evaluation done at random point.\n",
      "Time taken: 14.9661\n",
      "Function value obtained: -82.7326\n",
      "Current minimum: -376.5553\n",
      "Iteration No: 6 started. Evaluating function at random point.\n",
      "Iteration No: 6 ended. Evaluation done at random point.\n",
      "Time taken: 14.9986\n",
      "Function value obtained: -238.8941\n",
      "Current minimum: -376.5553\n",
      "Iteration No: 7 started. Evaluating function at random point.\n",
      "Iteration No: 7 ended. Evaluation done at random point.\n",
      "Time taken: 14.9116\n",
      "Function value obtained: -232.8373\n",
      "Current minimum: -376.5553\n",
      "Iteration No: 8 started. Evaluating function at random point.\n",
      "Iteration No: 8 ended. Evaluation done at random point.\n",
      "Time taken: 14.8015\n",
      "Function value obtained: -243.3373\n",
      "Current minimum: -376.5553\n",
      "Iteration No: 9 started. Evaluating function at random point.\n",
      "Iteration No: 9 ended. Evaluation done at random point.\n",
      "Time taken: 14.8692\n",
      "Function value obtained: -75.9417\n",
      "Current minimum: -376.5553\n",
      "Iteration No: 10 started. Evaluating function at random point.\n",
      "Iteration No: 10 ended. Evaluation done at random point.\n",
      "Time taken: 18.6768\n",
      "Function value obtained: -226.2103\n",
      "Current minimum: -376.5553\n",
      "Iteration No: 11 started. Searching for the next optimal point.\n",
      "Iteration No: 11 ended. Search finished for the next optimal point.\n",
      "Time taken: 16.3257\n",
      "Function value obtained: -254.7679\n",
      "Current minimum: -376.5553\n",
      "Iteration No: 12 started. Searching for the next optimal point.\n",
      "Iteration No: 12 ended. Search finished for the next optimal point.\n",
      "Time taken: 16.1989\n",
      "Function value obtained: -155.9018\n",
      "Current minimum: -376.5553\n",
      "Iteration No: 13 started. Searching for the next optimal point.\n",
      "Iteration No: 13 ended. Search finished for the next optimal point.\n",
      "Time taken: 16.5391\n",
      "Function value obtained: -202.6269\n",
      "Current minimum: -376.5553\n",
      "Iteration No: 14 started. Searching for the next optimal point.\n",
      "Iteration No: 14 ended. Search finished for the next optimal point.\n",
      "Time taken: 16.6226\n",
      "Function value obtained: -338.3643\n",
      "Current minimum: -376.5553\n",
      "Iteration No: 15 started. Searching for the next optimal point.\n",
      "Iteration No: 15 ended. Search finished for the next optimal point.\n",
      "Time taken: 16.0937\n",
      "Function value obtained: -320.7793\n",
      "Current minimum: -376.5553\n",
      "Iteration No: 16 started. Searching for the next optimal point.\n",
      "Iteration No: 16 ended. Search finished for the next optimal point.\n",
      "Time taken: 16.9577\n",
      "Function value obtained: -264.4446\n",
      "Current minimum: -376.5553\n",
      "Iteration No: 17 started. Searching for the next optimal point.\n",
      "Iteration No: 17 ended. Search finished for the next optimal point.\n",
      "Time taken: 16.2780\n",
      "Function value obtained: -270.6296\n",
      "Current minimum: -376.5553\n",
      "Iteration No: 18 started. Searching for the next optimal point.\n",
      "Iteration No: 18 ended. Search finished for the next optimal point.\n",
      "Time taken: 16.2300\n",
      "Function value obtained: -438.8857\n",
      "Current minimum: -438.8857\n",
      "Iteration No: 19 started. Searching for the next optimal point.\n",
      "Iteration No: 19 ended. Search finished for the next optimal point.\n",
      "Time taken: 15.0529\n",
      "Function value obtained: -356.9705\n",
      "Current minimum: -438.8857\n",
      "Iteration No: 20 started. Searching for the next optimal point.\n",
      "Iteration No: 20 ended. Search finished for the next optimal point.\n",
      "Time taken: 15.9364\n",
      "Function value obtained: -325.3113\n",
      "Current minimum: -438.8857\n",
      "Iteration No: 21 started. Searching for the next optimal point.\n",
      "Iteration No: 21 ended. Search finished for the next optimal point.\n",
      "Time taken: 14.8991\n",
      "Function value obtained: -309.6122\n",
      "Current minimum: -438.8857\n",
      "Iteration No: 22 started. Searching for the next optimal point.\n",
      "Iteration No: 22 ended. Search finished for the next optimal point.\n",
      "Time taken: 14.8804\n",
      "Function value obtained: -293.3637\n",
      "Current minimum: -438.8857\n",
      "Iteration No: 23 started. Searching for the next optimal point.\n",
      "Iteration No: 23 ended. Search finished for the next optimal point.\n",
      "Time taken: 15.0928\n",
      "Function value obtained: -255.8187\n",
      "Current minimum: -438.8857\n",
      "Iteration No: 24 started. Searching for the next optimal point.\n",
      "Iteration No: 24 ended. Search finished for the next optimal point.\n",
      "Time taken: 14.9054\n",
      "Function value obtained: -87.3464\n",
      "Current minimum: -438.8857\n",
      "Iteration No: 25 started. Searching for the next optimal point.\n",
      "Iteration No: 25 ended. Search finished for the next optimal point.\n",
      "Time taken: 15.1169\n",
      "Function value obtained: -156.4470\n",
      "Current minimum: -438.8857\n",
      "Iteration No: 26 started. Searching for the next optimal point.\n",
      "Iteration No: 26 ended. Search finished for the next optimal point.\n",
      "Time taken: 15.0417\n",
      "Function value obtained: -202.2864\n",
      "Current minimum: -438.8857\n",
      "Iteration No: 27 started. Searching for the next optimal point.\n",
      "Iteration No: 27 ended. Search finished for the next optimal point.\n",
      "Time taken: 15.2709\n",
      "Function value obtained: -205.7233\n",
      "Current minimum: -438.8857\n",
      "Iteration No: 28 started. Searching for the next optimal point.\n",
      "Iteration No: 28 ended. Search finished for the next optimal point.\n",
      "Time taken: 15.3404\n",
      "Function value obtained: -385.5189\n",
      "Current minimum: -438.8857\n",
      "Iteration No: 29 started. Searching for the next optimal point.\n",
      "Iteration No: 29 ended. Search finished for the next optimal point.\n",
      "Time taken: 15.1236\n",
      "Function value obtained: -323.0134\n",
      "Current minimum: -438.8857\n",
      "Iteration No: 30 started. Searching for the next optimal point.\n",
      "Iteration No: 30 ended. Search finished for the next optimal point.\n",
      "Time taken: 15.1110\n",
      "Function value obtained: -0.0000\n",
      "Current minimum: -438.8857\n",
      "Iteration No: 31 started. Searching for the next optimal point.\n",
      "Iteration No: 31 ended. Search finished for the next optimal point.\n",
      "Time taken: 15.9513\n",
      "Function value obtained: -330.9457\n",
      "Current minimum: -438.8857\n",
      "Iteration No: 32 started. Searching for the next optimal point.\n",
      "Iteration No: 32 ended. Search finished for the next optimal point.\n",
      "Time taken: 15.6098\n",
      "Function value obtained: -321.6410\n",
      "Current minimum: -438.8857\n",
      "Iteration No: 33 started. Searching for the next optimal point.\n",
      "Iteration No: 33 ended. Search finished for the next optimal point.\n",
      "Time taken: 16.0473\n",
      "Function value obtained: -416.8465\n",
      "Current minimum: -438.8857\n",
      "Iteration No: 34 started. Searching for the next optimal point.\n",
      "Iteration No: 34 ended. Search finished for the next optimal point.\n",
      "Time taken: 15.0474\n",
      "Function value obtained: -213.8130\n",
      "Current minimum: -438.8857\n",
      "Iteration No: 35 started. Searching for the next optimal point.\n",
      "Iteration No: 35 ended. Search finished for the next optimal point.\n",
      "Time taken: 15.0529\n",
      "Function value obtained: -215.6033\n",
      "Current minimum: -438.8857\n",
      "Iteration No: 36 started. Searching for the next optimal point.\n",
      "Iteration No: 36 ended. Search finished for the next optimal point.\n",
      "Time taken: 15.2426\n",
      "Function value obtained: -283.9917\n",
      "Current minimum: -438.8857\n",
      "Iteration No: 37 started. Searching for the next optimal point.\n",
      "Iteration No: 37 ended. Search finished for the next optimal point.\n",
      "Time taken: 15.0787\n",
      "Function value obtained: -409.1817\n",
      "Current minimum: -438.8857\n",
      "Iteration No: 38 started. Searching for the next optimal point.\n",
      "Iteration No: 38 ended. Search finished for the next optimal point.\n",
      "Time taken: 15.2355\n",
      "Function value obtained: -271.4230\n",
      "Current minimum: -438.8857\n",
      "Iteration No: 39 started. Searching for the next optimal point.\n",
      "Iteration No: 39 ended. Search finished for the next optimal point.\n",
      "Time taken: 15.2466\n",
      "Function value obtained: -384.4810\n",
      "Current minimum: -438.8857\n",
      "Iteration No: 40 started. Searching for the next optimal point.\n",
      "Iteration No: 40 ended. Search finished for the next optimal point.\n",
      "Time taken: 15.5393\n",
      "Function value obtained: -347.7256\n",
      "Current minimum: -438.8857\n",
      "Iteration No: 41 started. Searching for the next optimal point.\n",
      "Iteration No: 41 ended. Search finished for the next optimal point.\n",
      "Time taken: 15.3565\n",
      "Function value obtained: -364.3562\n",
      "Current minimum: -438.8857\n",
      "Iteration No: 42 started. Searching for the next optimal point.\n",
      "Iteration No: 42 ended. Search finished for the next optimal point.\n",
      "Time taken: 15.6342\n",
      "Function value obtained: -286.7312\n",
      "Current minimum: -438.8857\n",
      "Iteration No: 43 started. Searching for the next optimal point.\n",
      "Iteration No: 43 ended. Search finished for the next optimal point.\n",
      "Time taken: 15.1193\n",
      "Function value obtained: -227.2325\n",
      "Current minimum: -438.8857\n",
      "Iteration No: 44 started. Searching for the next optimal point.\n",
      "Iteration No: 44 ended. Search finished for the next optimal point.\n",
      "Time taken: 15.5973\n",
      "Function value obtained: -170.8995\n",
      "Current minimum: -438.8857\n",
      "Iteration No: 45 started. Searching for the next optimal point.\n",
      "Iteration No: 45 ended. Search finished for the next optimal point.\n",
      "Time taken: 15.9054\n",
      "Function value obtained: -189.1649\n",
      "Current minimum: -438.8857\n",
      "Iteration No: 46 started. Searching for the next optimal point.\n",
      "Iteration No: 46 ended. Search finished for the next optimal point.\n",
      "Time taken: 15.3176\n",
      "Function value obtained: -0.0000\n",
      "Current minimum: -438.8857\n",
      "Iteration No: 47 started. Searching for the next optimal point.\n",
      "Iteration No: 47 ended. Search finished for the next optimal point.\n",
      "Time taken: 15.2464\n",
      "Function value obtained: -216.1407\n",
      "Current minimum: -438.8857\n",
      "Iteration No: 48 started. Searching for the next optimal point.\n",
      "Iteration No: 48 ended. Search finished for the next optimal point.\n",
      "Time taken: 16.0330\n",
      "Function value obtained: -0.0000\n",
      "Current minimum: -438.8857\n",
      "Iteration No: 49 started. Searching for the next optimal point.\n",
      "Iteration No: 49 ended. Search finished for the next optimal point.\n",
      "Time taken: 15.2751\n",
      "Function value obtained: -8.5129\n",
      "Current minimum: -438.8857\n",
      "Iteration No: 50 started. Searching for the next optimal point.\n",
      "Iteration No: 50 ended. Search finished for the next optimal point.\n",
      "Time taken: 15.2582\n",
      "Function value obtained: -185.1771\n",
      "Current minimum: -438.8857\n",
      "Iteration No: 51 started. Searching for the next optimal point.\n",
      "Iteration No: 51 ended. Search finished for the next optimal point.\n",
      "Time taken: 15.1405\n",
      "Function value obtained: -189.8003\n",
      "Current minimum: -438.8857\n",
      "Iteration No: 52 started. Searching for the next optimal point.\n",
      "Iteration No: 52 ended. Search finished for the next optimal point.\n",
      "Time taken: 15.3087\n",
      "Function value obtained: -244.8359\n",
      "Current minimum: -438.8857\n",
      "Iteration No: 53 started. Searching for the next optimal point.\n",
      "Iteration No: 53 ended. Search finished for the next optimal point.\n",
      "Time taken: 15.7031\n",
      "Function value obtained: -173.0455\n",
      "Current minimum: -438.8857\n",
      "Iteration No: 54 started. Searching for the next optimal point.\n",
      "Iteration No: 54 ended. Search finished for the next optimal point.\n",
      "Time taken: 15.8906\n",
      "Function value obtained: -218.5830\n",
      "Current minimum: -438.8857\n",
      "Iteration No: 55 started. Searching for the next optimal point.\n",
      "Iteration No: 55 ended. Search finished for the next optimal point.\n",
      "Time taken: 15.5129\n",
      "Function value obtained: -73.5653\n",
      "Current minimum: -438.8857\n",
      "Iteration No: 56 started. Searching for the next optimal point.\n",
      "Iteration No: 56 ended. Search finished for the next optimal point.\n",
      "Time taken: 15.9228\n",
      "Function value obtained: -180.4744\n",
      "Current minimum: -438.8857\n",
      "Iteration No: 57 started. Searching for the next optimal point.\n",
      "Iteration No: 57 ended. Search finished for the next optimal point.\n",
      "Time taken: 15.7201\n",
      "Function value obtained: -376.6617\n",
      "Current minimum: -438.8857\n",
      "Iteration No: 58 started. Searching for the next optimal point.\n",
      "Iteration No: 58 ended. Search finished for the next optimal point.\n",
      "Time taken: 15.7538\n",
      "Function value obtained: -190.3690\n",
      "Current minimum: -438.8857\n",
      "Iteration No: 59 started. Searching for the next optimal point.\n",
      "Iteration No: 59 ended. Search finished for the next optimal point.\n",
      "Time taken: 15.5452\n",
      "Function value obtained: -274.7172\n",
      "Current minimum: -438.8857\n",
      "Iteration No: 60 started. Searching for the next optimal point.\n",
      "Iteration No: 60 ended. Search finished for the next optimal point.\n",
      "Time taken: 15.1527\n",
      "Function value obtained: -0.0000\n",
      "Current minimum: -438.8857\n",
      "Iteration No: 61 started. Searching for the next optimal point.\n",
      "Iteration No: 61 ended. Search finished for the next optimal point.\n",
      "Time taken: 15.3026\n",
      "Function value obtained: -298.3506\n",
      "Current minimum: -438.8857\n",
      "Iteration No: 62 started. Searching for the next optimal point.\n",
      "Iteration No: 62 ended. Search finished for the next optimal point.\n",
      "Time taken: 15.2288\n",
      "Function value obtained: -177.4097\n",
      "Current minimum: -438.8857\n",
      "Iteration No: 63 started. Searching for the next optimal point.\n",
      "Iteration No: 63 ended. Search finished for the next optimal point.\n",
      "Time taken: 15.1948\n",
      "Function value obtained: -273.6563\n",
      "Current minimum: -438.8857\n",
      "Iteration No: 64 started. Searching for the next optimal point.\n",
      "Iteration No: 64 ended. Search finished for the next optimal point.\n",
      "Time taken: 15.5529\n",
      "Function value obtained: -2.0565\n",
      "Current minimum: -438.8857\n",
      "Iteration No: 65 started. Searching for the next optimal point.\n",
      "Iteration No: 65 ended. Search finished for the next optimal point.\n",
      "Time taken: 15.5062\n",
      "Function value obtained: -166.2979\n",
      "Current minimum: -438.8857\n",
      "Iteration No: 66 started. Searching for the next optimal point.\n",
      "Iteration No: 66 ended. Search finished for the next optimal point.\n",
      "Time taken: 15.4895\n",
      "Function value obtained: -305.1273\n",
      "Current minimum: -438.8857\n",
      "Iteration No: 67 started. Searching for the next optimal point.\n",
      "Iteration No: 67 ended. Search finished for the next optimal point.\n",
      "Time taken: 15.2092\n",
      "Function value obtained: -217.1084\n",
      "Current minimum: -438.8857\n",
      "Iteration No: 68 started. Searching for the next optimal point.\n",
      "Iteration No: 68 ended. Search finished for the next optimal point.\n",
      "Time taken: 15.7433\n",
      "Function value obtained: -270.1481\n",
      "Current minimum: -438.8857\n",
      "Iteration No: 69 started. Searching for the next optimal point.\n",
      "Iteration No: 69 ended. Search finished for the next optimal point.\n",
      "Time taken: 15.2462\n",
      "Function value obtained: -400.0950\n",
      "Current minimum: -438.8857\n",
      "Iteration No: 70 started. Searching for the next optimal point.\n",
      "Iteration No: 70 ended. Search finished for the next optimal point.\n",
      "Time taken: 16.1135\n",
      "Function value obtained: -199.2659\n",
      "Current minimum: -438.8857\n",
      "Iteration No: 71 started. Searching for the next optimal point.\n",
      "Iteration No: 71 ended. Search finished for the next optimal point.\n",
      "Time taken: 15.8707\n",
      "Function value obtained: -310.8458\n",
      "Current minimum: -438.8857\n",
      "Iteration No: 72 started. Searching for the next optimal point.\n",
      "Iteration No: 72 ended. Search finished for the next optimal point.\n",
      "Time taken: 15.3051\n",
      "Function value obtained: -190.2455\n",
      "Current minimum: -438.8857\n",
      "Iteration No: 73 started. Searching for the next optimal point.\n",
      "Iteration No: 73 ended. Search finished for the next optimal point.\n",
      "Time taken: 15.3690\n",
      "Function value obtained: -238.7819\n",
      "Current minimum: -438.8857\n",
      "Iteration No: 74 started. Searching for the next optimal point.\n",
      "Iteration No: 74 ended. Search finished for the next optimal point.\n",
      "Time taken: 15.2562\n",
      "Function value obtained: -167.9023\n",
      "Current minimum: -438.8857\n",
      "Iteration No: 75 started. Searching for the next optimal point.\n",
      "Iteration No: 75 ended. Search finished for the next optimal point.\n",
      "Time taken: 15.7955\n",
      "Function value obtained: -259.0012\n",
      "Current minimum: -438.8857\n",
      "Iteration No: 76 started. Searching for the next optimal point.\n",
      "Iteration No: 76 ended. Search finished for the next optimal point.\n",
      "Time taken: 15.4389\n",
      "Function value obtained: -261.2114\n",
      "Current minimum: -438.8857\n",
      "Iteration No: 77 started. Searching for the next optimal point.\n",
      "Iteration No: 77 ended. Search finished for the next optimal point.\n",
      "Time taken: 15.7072\n",
      "Function value obtained: -252.6956\n",
      "Current minimum: -438.8857\n",
      "Iteration No: 78 started. Searching for the next optimal point.\n",
      "Iteration No: 78 ended. Search finished for the next optimal point.\n",
      "Time taken: 15.3383\n",
      "Function value obtained: -353.6387\n",
      "Current minimum: -438.8857\n",
      "Iteration No: 79 started. Searching for the next optimal point.\n",
      "Iteration No: 79 ended. Search finished for the next optimal point.\n",
      "Time taken: 15.2957\n",
      "Function value obtained: -327.7674\n",
      "Current minimum: -438.8857\n",
      "Iteration No: 80 started. Searching for the next optimal point.\n",
      "Iteration No: 80 ended. Search finished for the next optimal point.\n",
      "Time taken: 15.3852\n",
      "Function value obtained: -283.0269\n",
      "Current minimum: -438.8857\n",
      "Iteration No: 81 started. Searching for the next optimal point.\n",
      "Iteration No: 81 ended. Search finished for the next optimal point.\n",
      "Time taken: 15.4744\n",
      "Function value obtained: -297.2389\n",
      "Current minimum: -438.8857\n",
      "Iteration No: 82 started. Searching for the next optimal point.\n",
      "Iteration No: 82 ended. Search finished for the next optimal point.\n",
      "Time taken: 15.3693\n",
      "Function value obtained: -376.0855\n",
      "Current minimum: -438.8857\n",
      "Iteration No: 83 started. Searching for the next optimal point.\n",
      "Iteration No: 83 ended. Search finished for the next optimal point.\n",
      "Time taken: 15.5661\n",
      "Function value obtained: -193.4612\n",
      "Current minimum: -438.8857\n",
      "Iteration No: 84 started. Searching for the next optimal point.\n",
      "Iteration No: 84 ended. Search finished for the next optimal point.\n",
      "Time taken: 15.4443\n",
      "Function value obtained: -276.4440\n",
      "Current minimum: -438.8857\n",
      "Iteration No: 85 started. Searching for the next optimal point.\n",
      "Iteration No: 85 ended. Search finished for the next optimal point.\n",
      "Time taken: 15.5257\n",
      "Function value obtained: -387.9956\n",
      "Current minimum: -438.8857\n",
      "Iteration No: 86 started. Searching for the next optimal point.\n",
      "Iteration No: 86 ended. Search finished for the next optimal point.\n",
      "Time taken: 15.4041\n",
      "Function value obtained: -375.4694\n",
      "Current minimum: -438.8857\n",
      "Iteration No: 87 started. Searching for the next optimal point.\n",
      "Iteration No: 87 ended. Search finished for the next optimal point.\n",
      "Time taken: 15.3485\n",
      "Function value obtained: -435.6686\n",
      "Current minimum: -438.8857\n",
      "Iteration No: 88 started. Searching for the next optimal point.\n",
      "Iteration No: 88 ended. Search finished for the next optimal point.\n",
      "Time taken: 15.7586\n",
      "Function value obtained: -354.5828\n",
      "Current minimum: -438.8857\n",
      "Iteration No: 89 started. Searching for the next optimal point.\n",
      "Iteration No: 89 ended. Search finished for the next optimal point.\n",
      "Time taken: 15.7085\n",
      "Function value obtained: -219.5666\n",
      "Current minimum: -438.8857\n",
      "Iteration No: 90 started. Searching for the next optimal point.\n",
      "Iteration No: 90 ended. Search finished for the next optimal point.\n",
      "Time taken: 15.6027\n",
      "Function value obtained: -319.3203\n",
      "Current minimum: -438.8857\n",
      "Iteration No: 91 started. Searching for the next optimal point.\n",
      "Iteration No: 91 ended. Search finished for the next optimal point.\n",
      "Time taken: 15.4429\n",
      "Function value obtained: -163.7757\n",
      "Current minimum: -438.8857\n",
      "Iteration No: 92 started. Searching for the next optimal point.\n",
      "Iteration No: 92 ended. Search finished for the next optimal point.\n",
      "Time taken: 16.0105\n",
      "Function value obtained: -422.3829\n",
      "Current minimum: -438.8857\n",
      "Iteration No: 93 started. Searching for the next optimal point.\n",
      "Iteration No: 93 ended. Search finished for the next optimal point.\n",
      "Time taken: 16.1356\n",
      "Function value obtained: -226.5309\n",
      "Current minimum: -438.8857\n",
      "Iteration No: 94 started. Searching for the next optimal point.\n",
      "Iteration No: 94 ended. Search finished for the next optimal point.\n",
      "Time taken: 15.8464\n",
      "Function value obtained: -454.6902\n",
      "Current minimum: -454.6902\n",
      "Iteration No: 95 started. Searching for the next optimal point.\n",
      "Iteration No: 95 ended. Search finished for the next optimal point.\n",
      "Time taken: 15.5784\n",
      "Function value obtained: -170.0078\n",
      "Current minimum: -454.6902\n",
      "Iteration No: 96 started. Searching for the next optimal point.\n",
      "Iteration No: 96 ended. Search finished for the next optimal point.\n",
      "Time taken: 15.4668\n",
      "Function value obtained: -223.6554\n",
      "Current minimum: -454.6902\n",
      "Iteration No: 97 started. Searching for the next optimal point.\n",
      "Iteration No: 97 ended. Search finished for the next optimal point.\n",
      "Time taken: 15.6039\n",
      "Function value obtained: -340.4397\n",
      "Current minimum: -454.6902\n",
      "Iteration No: 98 started. Searching for the next optimal point.\n",
      "Iteration No: 98 ended. Search finished for the next optimal point.\n",
      "Time taken: 15.6884\n",
      "Function value obtained: -278.3628\n",
      "Current minimum: -454.6902\n",
      "Iteration No: 99 started. Searching for the next optimal point.\n",
      "Iteration No: 99 ended. Search finished for the next optimal point.\n",
      "Time taken: 15.8655\n",
      "Function value obtained: -283.0379\n",
      "Current minimum: -454.6902\n",
      "Iteration No: 100 started. Searching for the next optimal point.\n",
      "Iteration No: 100 ended. Search finished for the next optimal point.\n",
      "Time taken: 15.6039\n",
      "Function value obtained: -281.5878\n",
      "Current minimum: -454.6902\n",
      "Iteration No: 101 started. Searching for the next optimal point.\n",
      "Iteration No: 101 ended. Search finished for the next optimal point.\n",
      "Time taken: 15.8485\n",
      "Function value obtained: -170.6390\n",
      "Current minimum: -454.6902\n",
      "Iteration No: 102 started. Searching for the next optimal point.\n",
      "Iteration No: 102 ended. Search finished for the next optimal point.\n",
      "Time taken: 15.8758\n",
      "Function value obtained: -202.1503\n",
      "Current minimum: -454.6902\n",
      "Iteration No: 103 started. Searching for the next optimal point.\n",
      "Iteration No: 103 ended. Search finished for the next optimal point.\n",
      "Time taken: 15.8478\n",
      "Function value obtained: -294.7809\n",
      "Current minimum: -454.6902\n",
      "Iteration No: 104 started. Searching for the next optimal point.\n",
      "Iteration No: 104 ended. Search finished for the next optimal point.\n",
      "Time taken: 15.7031\n",
      "Function value obtained: -244.5716\n",
      "Current minimum: -454.6902\n",
      "Iteration No: 105 started. Searching for the next optimal point.\n",
      "Iteration No: 105 ended. Search finished for the next optimal point.\n",
      "Time taken: 16.0215\n",
      "Function value obtained: -276.1295\n",
      "Current minimum: -454.6902\n",
      "Iteration No: 106 started. Searching for the next optimal point.\n",
      "Iteration No: 106 ended. Search finished for the next optimal point.\n",
      "Time taken: 15.9697\n",
      "Function value obtained: -150.1348\n",
      "Current minimum: -454.6902\n",
      "Iteration No: 107 started. Searching for the next optimal point.\n",
      "Iteration No: 107 ended. Search finished for the next optimal point.\n",
      "Time taken: 16.1898\n",
      "Function value obtained: -213.3973\n",
      "Current minimum: -454.6902\n",
      "Iteration No: 108 started. Searching for the next optimal point.\n",
      "Iteration No: 108 ended. Search finished for the next optimal point.\n",
      "Time taken: 16.0638\n",
      "Function value obtained: -236.5961\n",
      "Current minimum: -454.6902\n",
      "Iteration No: 109 started. Searching for the next optimal point.\n",
      "Iteration No: 109 ended. Search finished for the next optimal point.\n",
      "Time taken: 15.9647\n",
      "Function value obtained: -377.7661\n",
      "Current minimum: -454.6902\n",
      "Iteration No: 110 started. Searching for the next optimal point.\n",
      "Iteration No: 110 ended. Search finished for the next optimal point.\n",
      "Time taken: 16.2499\n",
      "Function value obtained: -185.7516\n",
      "Current minimum: -454.6902\n",
      "Iteration No: 111 started. Searching for the next optimal point.\n",
      "Iteration No: 111 ended. Search finished for the next optimal point.\n",
      "Time taken: 15.7978\n",
      "Function value obtained: -311.9500\n",
      "Current minimum: -454.6902\n",
      "Iteration No: 112 started. Searching for the next optimal point.\n",
      "Iteration No: 112 ended. Search finished for the next optimal point.\n",
      "Time taken: 15.7998\n",
      "Function value obtained: -267.6341\n",
      "Current minimum: -454.6902\n",
      "Iteration No: 113 started. Searching for the next optimal point.\n",
      "Iteration No: 113 ended. Search finished for the next optimal point.\n",
      "Time taken: 15.8251\n",
      "Function value obtained: -288.9180\n",
      "Current minimum: -454.6902\n",
      "Iteration No: 114 started. Searching for the next optimal point.\n",
      "Iteration No: 114 ended. Search finished for the next optimal point.\n",
      "Time taken: 15.9563\n",
      "Function value obtained: -297.4210\n",
      "Current minimum: -454.6902\n",
      "Iteration No: 115 started. Searching for the next optimal point.\n",
      "Iteration No: 115 ended. Search finished for the next optimal point.\n",
      "Time taken: 15.9263\n",
      "Function value obtained: -269.9024\n",
      "Current minimum: -454.6902\n",
      "Iteration No: 116 started. Searching for the next optimal point.\n",
      "Iteration No: 116 ended. Search finished for the next optimal point.\n",
      "Time taken: 15.7647\n",
      "Function value obtained: -332.9702\n",
      "Current minimum: -454.6902\n",
      "Iteration No: 117 started. Searching for the next optimal point.\n",
      "Iteration No: 117 ended. Search finished for the next optimal point.\n",
      "Time taken: 15.8393\n",
      "Function value obtained: -287.5196\n",
      "Current minimum: -454.6902\n",
      "Iteration No: 118 started. Searching for the next optimal point.\n",
      "Iteration No: 118 ended. Search finished for the next optimal point.\n",
      "Time taken: 16.4803\n",
      "Function value obtained: -365.5712\n",
      "Current minimum: -454.6902\n",
      "Iteration No: 119 started. Searching for the next optimal point.\n",
      "Iteration No: 119 ended. Search finished for the next optimal point.\n",
      "Time taken: 15.8271\n",
      "Function value obtained: -289.8397\n",
      "Current minimum: -454.6902\n",
      "Iteration No: 120 started. Searching for the next optimal point.\n",
      "Iteration No: 120 ended. Search finished for the next optimal point.\n",
      "Time taken: 15.8000\n",
      "Function value obtained: -428.0189\n",
      "Current minimum: -454.6902\n",
      "Iteration No: 121 started. Searching for the next optimal point.\n",
      "Iteration No: 121 ended. Search finished for the next optimal point.\n",
      "Time taken: 15.8749\n",
      "Function value obtained: -325.3286\n",
      "Current minimum: -454.6902\n",
      "Iteration No: 122 started. Searching for the next optimal point.\n",
      "Iteration No: 122 ended. Search finished for the next optimal point.\n",
      "Time taken: 16.0965\n",
      "Function value obtained: -262.0612\n",
      "Current minimum: -454.6902\n",
      "Iteration No: 123 started. Searching for the next optimal point.\n",
      "Iteration No: 123 ended. Search finished for the next optimal point.\n",
      "Time taken: 16.0577\n",
      "Function value obtained: -261.3653\n",
      "Current minimum: -454.6902\n",
      "Iteration No: 124 started. Searching for the next optimal point.\n",
      "Iteration No: 124 ended. Search finished for the next optimal point.\n",
      "Time taken: 16.0354\n",
      "Function value obtained: -247.9604\n",
      "Current minimum: -454.6902\n",
      "Iteration No: 125 started. Searching for the next optimal point.\n",
      "Iteration No: 125 ended. Search finished for the next optimal point.\n",
      "Time taken: 16.1425\n",
      "Function value obtained: -294.8476\n",
      "Current minimum: -454.6902\n",
      "Iteration No: 126 started. Searching for the next optimal point.\n",
      "Iteration No: 126 ended. Search finished for the next optimal point.\n",
      "Time taken: 16.2390\n",
      "Function value obtained: -364.9957\n",
      "Current minimum: -454.6902\n",
      "Iteration No: 127 started. Searching for the next optimal point.\n",
      "Iteration No: 127 ended. Search finished for the next optimal point.\n",
      "Time taken: 16.4888\n",
      "Function value obtained: -344.0682\n",
      "Current minimum: -454.6902\n",
      "Iteration No: 128 started. Searching for the next optimal point.\n",
      "Iteration No: 128 ended. Search finished for the next optimal point.\n",
      "Time taken: 16.3073\n",
      "Function value obtained: -390.7574\n",
      "Current minimum: -454.6902\n",
      "Iteration No: 129 started. Searching for the next optimal point.\n",
      "Iteration No: 129 ended. Search finished for the next optimal point.\n",
      "Time taken: 16.5701\n",
      "Function value obtained: -196.1202\n",
      "Current minimum: -454.6902\n",
      "Iteration No: 130 started. Searching for the next optimal point.\n",
      "Iteration No: 130 ended. Search finished for the next optimal point.\n",
      "Time taken: 16.3848\n",
      "Function value obtained: -341.5758\n",
      "Current minimum: -454.6902\n",
      "Iteration No: 131 started. Searching for the next optimal point.\n",
      "Iteration No: 131 ended. Search finished for the next optimal point.\n",
      "Time taken: 16.4364\n",
      "Function value obtained: -393.6795\n",
      "Current minimum: -454.6902\n",
      "Iteration No: 132 started. Searching for the next optimal point.\n",
      "Iteration No: 132 ended. Search finished for the next optimal point.\n",
      "Time taken: 16.2929\n",
      "Function value obtained: -269.6585\n",
      "Current minimum: -454.6902\n",
      "Iteration No: 133 started. Searching for the next optimal point.\n",
      "Iteration No: 133 ended. Search finished for the next optimal point.\n",
      "Time taken: 16.1430\n",
      "Function value obtained: -385.4108\n",
      "Current minimum: -454.6902\n",
      "Iteration No: 134 started. Searching for the next optimal point.\n",
      "Iteration No: 134 ended. Search finished for the next optimal point.\n",
      "Time taken: 16.5185\n",
      "Function value obtained: -408.1678\n",
      "Current minimum: -454.6902\n",
      "Iteration No: 135 started. Searching for the next optimal point.\n",
      "Iteration No: 135 ended. Search finished for the next optimal point.\n",
      "Time taken: 16.2813\n",
      "Function value obtained: -328.6534\n",
      "Current minimum: -454.6902\n",
      "Iteration No: 136 started. Searching for the next optimal point.\n",
      "Iteration No: 136 ended. Search finished for the next optimal point.\n",
      "Time taken: 16.1611\n",
      "Function value obtained: -348.8009\n",
      "Current minimum: -454.6902\n",
      "Iteration No: 137 started. Searching for the next optimal point.\n",
      "Iteration No: 137 ended. Search finished for the next optimal point.\n",
      "Time taken: 16.0663\n",
      "Function value obtained: -390.7550\n",
      "Current minimum: -454.6902\n",
      "Iteration No: 138 started. Searching for the next optimal point.\n",
      "Iteration No: 138 ended. Search finished for the next optimal point.\n",
      "Time taken: 16.6901\n",
      "Function value obtained: -231.0736\n",
      "Current minimum: -454.6902\n",
      "Iteration No: 139 started. Searching for the next optimal point.\n",
      "Iteration No: 139 ended. Search finished for the next optimal point.\n",
      "Time taken: 16.5807\n",
      "Function value obtained: -356.8110\n",
      "Current minimum: -454.6902\n",
      "Iteration No: 140 started. Searching for the next optimal point.\n",
      "Iteration No: 140 ended. Search finished for the next optimal point.\n",
      "Time taken: 16.4868\n",
      "Function value obtained: -195.4664\n",
      "Current minimum: -454.6902\n",
      "Iteration No: 141 started. Searching for the next optimal point.\n",
      "Iteration No: 141 ended. Search finished for the next optimal point.\n",
      "Time taken: 16.2288\n",
      "Function value obtained: -273.3829\n",
      "Current minimum: -454.6902\n",
      "Iteration No: 142 started. Searching for the next optimal point.\n",
      "Iteration No: 142 ended. Search finished for the next optimal point.\n",
      "Time taken: 16.3722\n",
      "Function value obtained: -231.4419\n",
      "Current minimum: -454.6902\n",
      "Iteration No: 143 started. Searching for the next optimal point.\n",
      "Iteration No: 143 ended. Search finished for the next optimal point.\n",
      "Time taken: 16.6915\n",
      "Function value obtained: -343.5587\n",
      "Current minimum: -454.6902\n",
      "Iteration No: 144 started. Searching for the next optimal point.\n",
      "Iteration No: 144 ended. Search finished for the next optimal point.\n",
      "Time taken: 16.6498\n",
      "Function value obtained: -318.5991\n",
      "Current minimum: -454.6902\n",
      "Iteration No: 145 started. Searching for the next optimal point.\n",
      "Iteration No: 145 ended. Search finished for the next optimal point.\n",
      "Time taken: 16.2139\n",
      "Function value obtained: -265.6124\n",
      "Current minimum: -454.6902\n",
      "Iteration No: 146 started. Searching for the next optimal point.\n",
      "Iteration No: 146 ended. Search finished for the next optimal point.\n",
      "Time taken: 16.2855\n",
      "Function value obtained: -284.7378\n",
      "Current minimum: -454.6902\n",
      "Iteration No: 147 started. Searching for the next optimal point.\n",
      "Iteration No: 147 ended. Search finished for the next optimal point.\n",
      "Time taken: 16.2652\n",
      "Function value obtained: -282.3433\n",
      "Current minimum: -454.6902\n",
      "Iteration No: 148 started. Searching for the next optimal point.\n",
      "Iteration No: 148 ended. Search finished for the next optimal point.\n",
      "Time taken: 16.6722\n",
      "Function value obtained: -250.6419\n",
      "Current minimum: -454.6902\n",
      "Iteration No: 149 started. Searching for the next optimal point.\n",
      "Iteration No: 149 ended. Search finished for the next optimal point.\n",
      "Time taken: 16.6253\n",
      "Function value obtained: -254.4936\n",
      "Current minimum: -454.6902\n",
      "Iteration No: 150 started. Searching for the next optimal point.\n",
      "Iteration No: 150 ended. Search finished for the next optimal point.\n",
      "Time taken: 16.5687\n",
      "Function value obtained: -209.1275\n",
      "Current minimum: -454.6902\n",
      "CPU times: user 48min 46s, sys: 1h 5min 38s, total: 1h 54min 25s\n",
      "Wall time: 39min 22s\n"
     ]
    },
    {
     "data": {
      "text/plain": [
       "(-454.69024843, [0.37243753649830236, 0.42278680991848616, 0.4207223170684818])"
      ]
     },
     "execution_count": 17,
     "metadata": {},
     "output_type": "execute_result"
    }
   ],
   "source": [
    "%%time\n",
    "cr_gbrt = gp_minimize(cr_obj, cr_space, n_calls = 150, verbose=True, n_jobs=-1)\n",
    "cr_gbrt.fun, cr_gbrt.x"
   ]
  },
  {
   "cell_type": "code",
   "execution_count": 18,
   "id": "dffeed5a-f975-4a6b-b91c-1d91e6c45140",
   "metadata": {},
   "outputs": [
    {
     "data": {
      "text/plain": [
       "<Axes: >"
      ]
     },
     "execution_count": 18,
     "metadata": {},
     "output_type": "execute_result"
    },
    {
     "data": {
      "image/png": "[encoded data removed]",
      "text/plain": [
       "<Figure size 600x600 with 10 Axes>"
      ]
     },
     "metadata": {},
     "output_type": "display_data"
    }
   ],
   "source": [
    "plot_objective(cr_gbrt)"
   ]
  },
  {
   "cell_type": "code",
   "execution_count": null,
   "id": "c3a775a4-4f27-419d-8cfb-3d4ec7d19fae",
   "metadata": {},
   "outputs": [],
   "source": []
  },
  {
   "cell_type": "code",
   "execution_count": null,
   "id": "e3a7567f-e007-4931-9982-7c4de99c2e0a",
   "metadata": {},
   "outputs": [],
   "source": []
  },
  {
   "cell_type": "code",
   "execution_count": null,
   "id": "01d309be-d7c2-4af1-afbc-3b91c42c1a6c",
   "metadata": {},
   "outputs": [],
   "source": [
    "# -> (-62.08484130000001, [0.058590822346937174])"
   ]
  },
  {
   "cell_type": "code",
   "execution_count": null,
   "id": "dabc6e34-7a25-4b2d-b8b1-294b59f60ca0",
   "metadata": {},
   "outputs": [],
   "source": [
    "path = \"../saved_agents/\"\n",
    "fname = \"msy_gp.pkl\"\n",
    "dump(msy_gp, path+fname)\n",
    "\n",
    "api.upload_file(\n",
    "    path_or_fileobj=path+fname,\n",
    "    path_in_repo=\"sb3/rl4fisheries/\"+fname,\n",
    "    repo_id=\"boettiger-lab/rl4eco\",\n",
    "    repo_type=\"model\",\n",
    ")"
   ]
  },
  {
   "cell_type": "code",
   "execution_count": null,
   "id": "4c5c2ec8-f61b-4dae-bc1b-ba70310a694b",
   "metadata": {
    "scrolled": true
   },
   "outputs": [],
   "source": [
    "%%time\n",
    "msy_gbrt = gbrt_minimize(msy_fun, [(0.02, 0.15)], n_calls = 100, verbose=True, n_jobs=-1)\n",
    "msy_gbrt.fun, msy_gbrt.x"
   ]
  },
  {
   "cell_type": "code",
   "execution_count": null,
   "id": "07918bc7-cdb2-4966-b24a-ac53db2f49ec",
   "metadata": {},
   "outputs": [],
   "source": [
    "# -> (-57.168266599999995, [0.05811506272614242])"
   ]
  },
  {
   "cell_type": "code",
   "execution_count": null,
   "id": "05db66a7-a0f0-46e5-abd6-f57f8bb1bc59",
   "metadata": {},
   "outputs": [],
   "source": [
    "path = \"../saved_agents/\"\n",
    "fname = \"msy_gbrt.pkl\"\n",
    "dump(msy_gbrt, path+fname)\n",
    "\n",
    "api.upload_file(\n",
    "    path_or_fileobj=path+fname,\n",
    "    path_in_repo=\"sb3/rl4fisheries/\"+fname,\n",
    "    repo_id=\"boettiger-lab/rl4eco\",\n",
    "    repo_type=\"model\",\n",
    ")"
   ]
  },
  {
   "cell_type": "code",
   "execution_count": null,
   "id": "95f89094-fd18-433b-a3fc-1e45d3e2e1ad",
   "metadata": {},
   "outputs": [],
   "source": [
    "plot_objective(msy_gp)"
   ]
  },
  {
   "cell_type": "markdown",
   "id": "1206af08-4695-422c-95f0-25a9da2a4299",
   "metadata": {},
   "source": [
    "## Const Escapement"
   ]
  },
  {
   "cell_type": "code",
   "execution_count": null,
   "id": "05fc9be0-b0d0-4822-99ca-f0fcf2304ae4",
   "metadata": {},
   "outputs": [],
   "source": [
    "def esc_fun(x):\n",
    "    agent = ConstEsc(escapement=x[0])\n",
    "    mean, sd = evaluate_policy(agent, Monitor(env), n_eval_episodes=100)\n",
    "    return -mean"
   ]
  },
  {
   "cell_type": "code",
   "execution_count": null,
   "id": "2aa1a6e7-dc64-410d-9850-db17810c0f03",
   "metadata": {},
   "outputs": [],
   "source": [
    "%%time\n",
    "esc_gp = gp_minimize(esc_fun, [(0.002, 0.25)], n_calls = 500, verbose=True, n_jobs=-1)\n",
    "esc_gp.fun, esc_gp.x"
   ]
  },
  {
   "cell_type": "code",
   "execution_count": null,
   "id": "9824bdb6-bacd-497d-bbfc-4ba711629e6a",
   "metadata": {},
   "outputs": [],
   "source": [
    "path = \"../saved_agents/\"\n",
    "fname = \"esc_gp.pkl\"\n",
    "dump(esc_gp, path+fname)\n",
    "\n",
    "api.upload_file(\n",
    "    path_or_fileobj=path+fname,\n",
    "    path_in_repo=\"sb3/rl4fisheries/\"+fname,\n",
    "    repo_id=\"boettiger-lab/rl4eco\",\n",
    "    repo_type=\"model\",\n",
    ")"
   ]
  },
  {
   "cell_type": "code",
   "execution_count": null,
   "id": "a75dd9f6-f430-4458-a035-8188c6b255d5",
   "metadata": {},
   "outputs": [],
   "source": [
    "%%time\n",
    "esc_gbrt = gbrt_minimize(esc_fun, [(0.02, 0.15)], n_calls = 100, verbose=True, n_jobs=-1)\n",
    "esc_gbrt.fun, esc_gbrt.x"
   ]
  },
  {
   "cell_type": "code",
   "execution_count": null,
   "id": "33725bba-434d-4c0e-84af-e89b151676f5",
   "metadata": {},
   "outputs": [],
   "source": [
    "plot_objective(esc_gp)"
   ]
  },
  {
   "cell_type": "code",
   "execution_count": null,
   "id": "abcac3a5-8136-4104-b8e0-abda7b53783e",
   "metadata": {},
   "outputs": [],
   "source": [
    "dump(esc_gbrt, \"../saved_agents/esc_gbrt.pkl\")"
   ]
  },
  {
   "cell_type": "markdown",
   "id": "1c89ae1d-bbeb-49b0-b6fb-6ab0a479d148",
   "metadata": {},
   "source": [
    "## Precationary Rule (piecewise linear)"
   ]
  },
  {
   "cell_type": "code",
   "execution_count": null,
   "id": "c5b6f1a3-2d7a-4698-9555-1e10f4032bed",
   "metadata": {},
   "outputs": [],
   "source": [
    "from skopt.space import Real\n",
    "from skopt.utils import use_named_args\n",
    "\n",
    "space  = [Real(0.00001, 1, name='radius'),\n",
    "          Real(0.00001, np.pi/4.00001, name='theta'),\n",
    "          Real(0, 0.2, name='y2')]\n",
    "\n",
    "@use_named_args(space)\n",
    "def g(**params):\n",
    "\n",
    "    theta = params[\"theta\"]\n",
    "    radius = params[\"radius\"]\n",
    "    x1 = np.sin(theta) * radius\n",
    "    x2 = np.cos(theta) * radius\n",
    "    \n",
    "    assert x1 <= x2, (\"CautionaryRule error: x1 < x2, \" + str(x1) + \", \", str(x2) )\n",
    "\n",
    "    agent = CautionaryRule(x1 = x1, x2 =  x2, y2 = params[\"y2\"])\n",
    "    mean, sd = evaluate_policy(agent, Monitor(env), n_eval_episodes=100)\n",
    "    return -mean        \n"
   ]
  },
  {
   "cell_type": "code",
   "execution_count": null,
   "id": "cda44a0a-55ad-4953-b31e-bbb43d6a4e12",
   "metadata": {
    "scrolled": true
   },
   "outputs": [],
   "source": [
    "%%time\n",
    "g_gp = gp_minimize(g, space, n_calls = 300, verbose=True, n_jobs=-1)\n"
   ]
  },
  {
   "cell_type": "code",
   "execution_count": null,
   "id": "f7bf06c4-8931-4970-955b-1c2799082bf4",
   "metadata": {},
   "outputs": [],
   "source": [
    "path = \"../saved_agents/\"\n",
    "fname = \"cr_gp.pkl\"\n",
    "dump(g_gbrt, path+fname)\n",
    "\n",
    "api.upload_file(\n",
    "    path_or_fileobj=path+fname,\n",
    "    path_in_repo=\"sb3/rl4fisheries/\"+fname,\n",
    "    repo_id=\"boettiger-lab/rl4eco\",\n",
    "    repo_type=\"model\",\n",
    ")"
   ]
  },
  {
   "cell_type": "code",
   "execution_count": null,
   "id": "c2b92ed3-d6f7-437e-be4f-796eac28a430",
   "metadata": {},
   "outputs": [],
   "source": [
    "# -> (-64.06042883, [0.041136645707627796, 0.7853961999069485, 0.12010362758045579])"
   ]
  },
  {
   "cell_type": "code",
   "execution_count": null,
   "id": "07b3c0ff-7772-4b7b-926f-bf18cc3cd425",
   "metadata": {
    "scrolled": true
   },
   "outputs": [],
   "source": [
    "%%time\n",
    "g_gbrt = gbrt_minimize(g, space, n_calls = 300, verbose=True, n_jobs=-1)\n"
   ]
  },
  {
   "cell_type": "code",
   "execution_count": null,
   "id": "f95cb6e7-9d2c-4f70-a648-e27cea582bd6",
   "metadata": {},
   "outputs": [],
   "source": [
    "# -> (-64.49868469, [0.06184391109700299, 0.3296309210963565, 0.12990125226898555])"
   ]
  },
  {
   "cell_type": "code",
   "execution_count": null,
   "id": "6e9df680-a093-4d4b-9bed-5e5a8aa8b59d",
   "metadata": {},
   "outputs": [],
   "source": [
    "path = \"../saved_agents/\"\n",
    "fname = \"cr_gbrt.pkl\"\n",
    "dump(g_gbrt, path+fname)\n",
    "\n",
    "api.upload_file(\n",
    "    path_or_fileobj=path+fname,\n",
    "    path_in_repo=\"sb3/rl4fisheries/\"+fname,\n",
    "    repo_id=\"boettiger-lab/rl4eco\",\n",
    "    repo_type=\"model\",\n",
    ")"
   ]
  },
  {
   "cell_type": "code",
   "execution_count": null,
   "id": "7f0be87a-0380-4ec3-98c1-c5c5879ec3f0",
   "metadata": {},
   "outputs": [],
   "source": [
    "g_gp.fun, g_gp.x, g_gbrt.fun, g_gbrt.x"
   ]
  },
  {
   "cell_type": "code",
   "execution_count": null,
   "id": "3735cd70-433a-406a-936b-a598fe700d0a",
   "metadata": {},
   "outputs": [],
   "source": [
    "res = g_gp\n",
    "\n",
    "radius = res.x[0]\n",
    "theta = res.x[1]\n",
    "y2 = res.x[2]\n",
    "x1 = np.sin(theta) * radius\n",
    "x2 = np.cos(theta) * radius\n",
    "\n",
    "agent = CautionaryRule(x1, x2, y2)\n",
    "evaluate_policy(agent, Monitor(env), n_eval_episodes=100)\n"
   ]
  },
  {
   "cell_type": "code",
   "execution_count": null,
   "id": "1e979533-468b-42a8-baba-3c6497924374",
   "metadata": {},
   "outputs": [],
   "source": [
    "plot_objective(g_gp)"
   ]
  },
  {
   "cell_type": "markdown",
   "id": "ad2a9d3e-5131-404b-a48a-6dab2c20e87f",
   "metadata": {},
   "source": [
    "# Reward statistics"
   ]
  },
  {
   "cell_type": "markdown",
   "id": "230d8821-9f17-41ea-88af-189e33f2f0d7",
   "metadata": {},
   "source": [
    "## RL agents"
   ]
  },
  {
   "cell_type": "code",
   "execution_count": null,
   "id": "d9427392-bac3-48fe-8332-0e4b01daa318",
   "metadata": {},
   "outputs": [],
   "source": [
    "revision = \"d21aac2cf7acd04485ae97c4194954cdba038ce2\"\n",
    "ppo_1obs = hf_hub_download(repo_id=\"boettiger-lab/rl4eco\", filename=\"sb3/PPO-Asm-v0-1.zip\", revision=revision)\n",
    "ppo_2obs = hf_hub_download(repo_id=\"boettiger-lab/rl4eco\", filename=\"sb3/PPO-Asm2o-v0-1.zip\", revision=revision)"
   ]
  },
  {
   "cell_type": "code",
   "execution_count": null,
   "id": "141e553d-92ad-4361-ab3e-cefe21b2421c",
   "metadata": {},
   "outputs": [],
   "source": [
    "from rl4fisheries.utils.sb3 import load_sb3_agent\n",
    "\n",
    "ppo_agent = load_sb3_agent(algo = \"PPO\", env = Asm(), weights = ppo_1obs)\n",
    "ppo2o_agent = load_sb3_agent(algo = \"PPO\", env = Asm2o(), weights = ppo_2obs)"
   ]
  },
  {
   "cell_type": "markdown",
   "id": "1ba152f6-31c0-4dff-98fc-792ee2c20f3d",
   "metadata": {},
   "source": [
    "## Fixed policy agents"
   ]
  },
  {
   "cell_type": "code",
   "execution_count": null,
   "id": "1f4c489c-e309-4ed3-beec-b9373a4aa630",
   "metadata": {},
   "outputs": [],
   "source": [
    "msy_agent = Msy(mortality = 0.05811506272614242)"
   ]
  },
  {
   "cell_type": "code",
   "execution_count": null,
   "id": "f0a07389-1557-4eb9-a1e1-cc9be6435567",
   "metadata": {},
   "outputs": [],
   "source": [
    "radius, theta, y2 = [0.041136645707627796, 0.7853961999069485, 0.12010362758045579] \n",
    "\n",
    "x1 = radius * np.sin(theta)\n",
    "x2 = radius * np.cos(theta)\n",
    "\n",
    "cr_agent = CautionaryRule(x1=x1, x2=x2, y2=y2)"
   ]
  },
  {
   "cell_type": "markdown",
   "id": "219bdbd1-3010-48e5-965f-908855dd712b",
   "metadata": {},
   "source": [
    "## Generate reward data"
   ]
  },
  {
   "cell_type": "code",
   "execution_count": null,
   "id": "c15e31d5-d40e-495b-9c94-a2bc35efe403",
   "metadata": {},
   "outputs": [],
   "source": [
    "msy_rews = evaluate_policy(\n",
    "    model=msy_agent, \n",
    "    env=Asm(), \n",
    "    n_eval_episodes=300,\n",
    "    return_episode_rewards=True,\n",
    ")[0]"
   ]
  },
  {
   "cell_type": "code",
   "execution_count": null,
   "id": "e73e79a1-dfda-45d9-a4fe-dfb7cf0ec534",
   "metadata": {},
   "outputs": [],
   "source": [
    "cr_rews = evaluate_policy(\n",
    "    model=cr_agent, \n",
    "    env=Asm(), \n",
    "    n_eval_episodes=300,\n",
    "    return_episode_rewards=True,\n",
    ")[0]"
   ]
  },
  {
   "cell_type": "code",
   "execution_count": null,
   "id": "6be205db-7b24-4205-a970-2a177b3e2814",
   "metadata": {
    "scrolled": true
   },
   "outputs": [],
   "source": [
    "ppo_rews = evaluate_policy(\n",
    "    model=ppo_agent, \n",
    "    env=Asm(), \n",
    "    n_eval_episodes=300,\n",
    "    return_episode_rewards=True,\n",
    ")[0]"
   ]
  },
  {
   "cell_type": "code",
   "execution_count": null,
   "id": "4288e3c5-7dfa-4cb0-87f0-a2a838196d28",
   "metadata": {},
   "outputs": [],
   "source": [
    "ppo2o_rews = evaluate_policy(\n",
    "    model=ppo2o_agent, \n",
    "    env=Asm2o(), \n",
    "    n_eval_episodes=300,\n",
    "    return_episode_rewards=True,\n",
    ")[0]"
   ]
  },
  {
   "cell_type": "code",
   "execution_count": null,
   "id": "a8e51a06-96b7-43c1-908b-8e0572c6d4f8",
   "metadata": {},
   "outputs": [],
   "source": [
    "msy_df = pd.DataFrame({\"strategy\": \"msy\", \"reward\":msy_rews})\n",
    "cr_df = pd.DataFrame({\"strategy\": \"cr\", \"reward\":cr_rews})\n",
    "ppo_df = pd.DataFrame({\"strategy\": \"ppo\", \"reward\":ppo_rews})\n",
    "ppo2o_df = pd.DataFrame({\"strategy\": \"ppo_2obs\", \"reward\":ppo2o_rews})\n",
    "\n",
    "rew_df = pd.concat([msy_df, cr_df, ppo_df, ppo2o_df], ignore_index=True)"
   ]
  },
  {
   "cell_type": "code",
   "execution_count": null,
   "id": "d1f82a1e-7f08-4234-9844-97b0983c8570",
   "metadata": {},
   "outputs": [],
   "source": [
    "from plotnine import ggplot, aes, geom_density\n",
    "(\n",
    "    ggplot(rew_df, aes(x=\"reward\", fill=\"strategy\")) +#  geom_bar(stat=\"bin\", binwidth=1, alpha=0.5) + \n",
    "    geom_density(alpha=0.5) \n",
    ")"
   ]
  },
  {
   "cell_type": "code",
   "execution_count": null,
   "id": "1ed55afa-2e09-4cf8-9106-0c7701b2f966",
   "metadata": {},
   "outputs": [],
   "source": []
  }
 ],
 "metadata": {
  "kernelspec": {
   "display_name": "Python 3 (ipykernel)",
   "language": "python",
   "name": "python3"
  },
  "language_info": {
   "codemirror_mode": {
    "name": "ipython",
    "version": 3
   },
   "file_extension": ".py",
   "mimetype": "text/x-python",
   "name": "python",
   "nbconvert_exporter": "python",
   "pygments_lexer": "ipython3",
   "version": "3.10.12"
  }
 },
 "nbformat": 4,
 "nbformat_minor": 5
}
