{
 "cells": [
  {
   "cell_type": "markdown",
   "id": "24dc16ef-5d68-4a20-be9f-7ed9f97f3c0b",
   "metadata": {},
   "source": [
    "# Testing several parts of our algos\n",
    "---\n",
    "## 1. default network architectures\n",
    "\n",
    "For each problem shape, what is the default network architecture used by PPO?"
   ]
  },
  {
   "cell_type": "code",
   "execution_count": 1,
   "id": "86470282-d84b-49ff-a7e9-5647580b3d65",
   "metadata": {},
   "outputs": [],
   "source": [
    "from rl4fisheries import AsmEnv\n",
    "import yaml\n",
    "from stable_baselines3 import PPO"
   ]
  },
  {
   "cell_type": "code",
   "execution_count": 10,
   "id": "2c293e58-45b2-41e1-881b-a85d9230aba0",
   "metadata": {},
   "outputs": [
    {
     "data": {
      "text/plain": [
       "ActorCriticPolicy(\n",
       "  (features_extractor): FlattenExtractor(\n",
       "    (flatten): Flatten(start_dim=1, end_dim=-1)\n",
       "  )\n",
       "  (pi_features_extractor): FlattenExtractor(\n",
       "    (flatten): Flatten(start_dim=1, end_dim=-1)\n",
       "  )\n",
       "  (vf_features_extractor): FlattenExtractor(\n",
       "    (flatten): Flatten(start_dim=1, end_dim=-1)\n",
       "  )\n",
       "  (mlp_extractor): MlpExtractor(\n",
       "    (policy_net): Sequential(\n",
       "      (0): Linear(in_features=2, out_features=64, bias=True)\n",
       "      (1): Tanh()\n",
       "      (2): Linear(in_features=64, out_features=32, bias=True)\n",
       "      (3): Tanh()\n",
       "      (4): Linear(in_features=32, out_features=16, bias=True)\n",
       "      (5): Tanh()\n",
       "    )\n",
       "    (value_net): Sequential(\n",
       "      (0): Linear(in_features=2, out_features=64, bias=True)\n",
       "      (1): Tanh()\n",
       "      (2): Linear(in_features=64, out_features=32, bias=True)\n",
       "      (3): Tanh()\n",
       "      (4): Linear(in_features=32, out_features=16, bias=True)\n",
       "      (5): Tanh()\n",
       "    )\n",
       "  )\n",
       "  (action_net): Linear(in_features=16, out_features=1, bias=True)\n",
       "  (value_net): Linear(in_features=16, out_features=1, bias=True)\n",
       ")"
      ]
     },
     "execution_count": 10,
     "metadata": {},
     "output_type": "execute_result"
    }
   ],
   "source": [
    "with open('../../hyperpars/for_results/ppo_both_UM2.yml') as stream:\n",
    "    options = yaml.safe_load(stream)\n",
    "options['algo_config']['policy_kwargs'] = eval(options['algo_config']['policy_kwargs'])\n",
    "PPO(env=AsmEnv(config=options['config']), **options['algo_config']).policy"
   ]
  },
  {
   "cell_type": "code",
   "execution_count": 11,
   "id": "4e1695dd-212e-489c-9a0b-4459600e02b4",
   "metadata": {},
   "outputs": [
    {
     "data": {
      "text/plain": [
       "{'net_arch': [64, 32, 16]}"
      ]
     },
     "execution_count": 11,
     "metadata": {},
     "output_type": "execute_result"
    }
   ],
   "source": [
    "options['algo_config']['policy_kwargs']"
   ]
  },
  {
   "cell_type": "code",
   "execution_count": null,
   "id": "6d79b258-1c1e-4b60-a276-97ddd2659634",
   "metadata": {},
   "outputs": [],
   "source": []
  }
 ],
 "metadata": {
  "kernelspec": {
   "display_name": "Python 3 (ipykernel)",
   "language": "python",
   "name": "python3"
  },
  "language_info": {
   "codemirror_mode": {
    "name": "ipython",
    "version": 3
   },
   "file_extension": ".py",
   "mimetype": "text/x-python",
   "name": "python",
   "nbconvert_exporter": "python",
   "pygments_lexer": "ipython3",
   "version": "3.10.12"
  }
 },
 "nbformat": 4,
 "nbformat_minor": 5
}
