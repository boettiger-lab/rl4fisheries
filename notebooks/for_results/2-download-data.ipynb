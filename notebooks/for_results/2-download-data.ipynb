{
 "cells": [
  {
   "cell_type": "code",
   "execution_count": 1,
   "id": "c2274c5a",
   "metadata": {},
   "outputs": [
    {
     "name": "stderr",
     "output_type": "stream",
     "text": [
      "/Users/felimomo/Desktop/Postdoc/Research/Walleye/peer-review/New-plots/.venv/lib/python3.13/site-packages/tqdm/auto.py:21: TqdmWarning: IProgress not found. Please update jupyter and ipywidgets. See https://ipywidgets.readthedocs.io/en/stable/user_install.html\n",
      "  from .autonotebook import tqdm as notebook_tqdm\n"
     ]
    }
   ],
   "source": [
    "import os\n",
    "\n",
    "from huggingface_hub import hf_hub_download, HfFileSystem, snapshot_download\n",
    "\n",
    "\n",
    "REPO = \"boettiger-lab/rl4eco\"\n",
    "PATH_IN_REPO = \"rl4fisheries-reproducing/\"\n",
    "FS = HfFileSystem()\n",
    "\n",
    "SAVE_DATA = \"data/\""
   ]
  },
  {
   "cell_type": "code",
   "execution_count": 4,
   "id": "096ea871",
   "metadata": {},
   "outputs": [
    {
     "name": "stdout",
     "output_type": "stream",
     "text": [
      "downloads data to data/rl4fisheries-reproducing/\n"
     ]
    }
   ],
   "source": [
    "csv_files = [\n",
    "    os.path.basename(file) for file in FS.glob(\n",
    "        REPO+\"/\"+PATH_IN_REPO+\"*.csv\"\n",
    "    )\n",
    "]\n",
    "\n",
    "for filename in csv_files:\n",
    "    hf_hub_download(\n",
    "        repo_id=REPO,\n",
    "        filename=PATH_IN_REPO + filename,\n",
    "        local_dir=SAVE_DATA\n",
    "    )\n",
    "\n",
    "print(\n",
    "    f\"downloads data to data/{PATH_IN_REPO}\"\n",
    ")"
   ]
  },
  {
   "cell_type": "code",
   "execution_count": null,
   "id": "74e43287",
   "metadata": {},
   "outputs": [],
   "source": []
  }
 ],
 "metadata": {
  "kernelspec": {
   "display_name": ".venv",
   "language": "python",
   "name": "python3"
  },
  "language_info": {
   "codemirror_mode": {
    "name": "ipython",
    "version": 3
   },
   "file_extension": ".py",
   "mimetype": "text/x-python",
   "name": "python",
   "nbconvert_exporter": "python",
   "pygments_lexer": "ipython3",
   "version": "3.13.3"
  }
 },
 "nbformat": 4,
 "nbformat_minor": 5
}
