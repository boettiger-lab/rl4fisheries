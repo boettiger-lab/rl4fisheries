{
 "cells": [
  {
   "cell_type": "markdown",
   "id": "2b1fef36-1981-4209-a418-85b7672be424",
   "metadata": {},
   "source": [
    "# Reward distributions"
   ]
  },
  {
   "cell_type": "code",
   "execution_count": 1,
   "id": "04e957aa-b77c-4112-b763-365fc12c01ee",
   "metadata": {},
   "outputs": [],
   "source": [
    "%matplotlib inline"
   ]
  },
  {
   "cell_type": "code",
   "execution_count": 2,
   "id": "0e5ee484-d06a-44ef-b263-6488207bc9b0",
   "metadata": {},
   "outputs": [],
   "source": [
    "from huggingface_hub import hf_hub_download, HfApi\n",
    "from plotnine import ggplot, aes, geom_density, scale_fill_manual, xlim\n",
    "from skopt import load\n",
    "from stable_baselines3 import PPO\n",
    "\n",
    "from rl4fisheries import AsmEnv, FMsy, ConstantEscapement, PrecautionaryPrinciple\n",
    "from rl4fisheries.utils import evaluate_agent\n",
    "from rl4fisheries.envs.asm_fns import get_r_devs\n",
    "\n",
    "import numpy as np\n",
    "import pandas as pd\n",
    "import ray"
   ]
  },
  {
   "cell_type": "code",
   "execution_count": 3,
   "id": "e3f64a2e-c60f-4c55-9b95-f7071b24f82b",
   "metadata": {
    "jupyter": {
     "source_hidden": true
    }
   },
   "outputs": [],
   "source": [
    "_viridis_data = [[0.267004, 0.004874, 0.329415],\n",
    "                 [0.268510, 0.009605, 0.335427],\n",
    "                 [0.269944, 0.014625, 0.341379],\n",
    "                 [0.271305, 0.019942, 0.347269],\n",
    "                 [0.272594, 0.025563, 0.353093],\n",
    "                 [0.273809, 0.031497, 0.358853],\n",
    "                 [0.274952, 0.037752, 0.364543],\n",
    "                 [0.276022, 0.044167, 0.370164],\n",
    "                 [0.277018, 0.050344, 0.375715],\n",
    "                 [0.277941, 0.056324, 0.381191],\n",
    "                 [0.278791, 0.062145, 0.386592],\n",
    "                 [0.279566, 0.067836, 0.391917],\n",
    "                 [0.280267, 0.073417, 0.397163],\n",
    "                 [0.280894, 0.078907, 0.402329],\n",
    "                 [0.281446, 0.084320, 0.407414],\n",
    "                 [0.281924, 0.089666, 0.412415],\n",
    "                 [0.282327, 0.094955, 0.417331],\n",
    "                 [0.282656, 0.100196, 0.422160],\n",
    "                 [0.282910, 0.105393, 0.426902],\n",
    "                 [0.283091, 0.110553, 0.431554],\n",
    "                 [0.283197, 0.115680, 0.436115],\n",
    "                 [0.283229, 0.120777, 0.440584],\n",
    "                 [0.283187, 0.125848, 0.444960],\n",
    "                 [0.283072, 0.130895, 0.449241],\n",
    "                 [0.282884, 0.135920, 0.453427],\n",
    "                 [0.282623, 0.140926, 0.457517],\n",
    "                 [0.282290, 0.145912, 0.461510],\n",
    "                 [0.281887, 0.150881, 0.465405],\n",
    "                 [0.281412, 0.155834, 0.469201],\n",
    "                 [0.280868, 0.160771, 0.472899],\n",
    "                 [0.280255, 0.165693, 0.476498],\n",
    "                 [0.279574, 0.170599, 0.479997],\n",
    "                 [0.278826, 0.175490, 0.483397],\n",
    "                 [0.278012, 0.180367, 0.486697],\n",
    "                 [0.277134, 0.185228, 0.489898],\n",
    "                 [0.276194, 0.190074, 0.493001],\n",
    "                 [0.275191, 0.194905, 0.496005],\n",
    "                 [0.274128, 0.199721, 0.498911],\n",
    "                 [0.273006, 0.204520, 0.501721],\n",
    "                 [0.271828, 0.209303, 0.504434],\n",
    "                 [0.270595, 0.214069, 0.507052],\n",
    "                 [0.269308, 0.218818, 0.509577],\n",
    "                 [0.267968, 0.223549, 0.512008],\n",
    "                 [0.266580, 0.228262, 0.514349],\n",
    "                 [0.265145, 0.232956, 0.516599],\n",
    "                 [0.263663, 0.237631, 0.518762],\n",
    "                 [0.262138, 0.242286, 0.520837],\n",
    "                 [0.260571, 0.246922, 0.522828],\n",
    "                 [0.258965, 0.251537, 0.524736],\n",
    "                 [0.257322, 0.256130, 0.526563],\n",
    "                 [0.255645, 0.260703, 0.528312],\n",
    "                 [0.253935, 0.265254, 0.529983],\n",
    "                 [0.252194, 0.269783, 0.531579],\n",
    "                 [0.250425, 0.274290, 0.533103],\n",
    "                 [0.248629, 0.278775, 0.534556],\n",
    "                 [0.246811, 0.283237, 0.535941],\n",
    "                 [0.244972, 0.287675, 0.537260],\n",
    "                 [0.243113, 0.292092, 0.538516],\n",
    "                 [0.241237, 0.296485, 0.539709],\n",
    "                 [0.239346, 0.300855, 0.540844],\n",
    "                 [0.237441, 0.305202, 0.541921],\n",
    "                 [0.235526, 0.309527, 0.542944],\n",
    "                 [0.233603, 0.313828, 0.543914],\n",
    "                 [0.231674, 0.318106, 0.544834],\n",
    "                 [0.229739, 0.322361, 0.545706],\n",
    "                 [0.227802, 0.326594, 0.546532],\n",
    "                 [0.225863, 0.330805, 0.547314],\n",
    "                 [0.223925, 0.334994, 0.548053],\n",
    "                 [0.221989, 0.339161, 0.548752],\n",
    "                 [0.220057, 0.343307, 0.549413],\n",
    "                 [0.218130, 0.347432, 0.550038],\n",
    "                 [0.216210, 0.351535, 0.550627],\n",
    "                 [0.214298, 0.355619, 0.551184],\n",
    "                 [0.212395, 0.359683, 0.551710],\n",
    "                 [0.210503, 0.363727, 0.552206],\n",
    "                 [0.208623, 0.367752, 0.552675],\n",
    "                 [0.206756, 0.371758, 0.553117],\n",
    "                 [0.204903, 0.375746, 0.553533],\n",
    "                 [0.203063, 0.379716, 0.553925],\n",
    "                 [0.201239, 0.383670, 0.554294],\n",
    "                 [0.199430, 0.387607, 0.554642],\n",
    "                 [0.197636, 0.391528, 0.554969],\n",
    "                 [0.195860, 0.395433, 0.555276],\n",
    "                 [0.194100, 0.399323, 0.555565],\n",
    "                 [0.192357, 0.403199, 0.555836],\n",
    "                 [0.190631, 0.407061, 0.556089],\n",
    "                 [0.188923, 0.410910, 0.556326],\n",
    "                 [0.187231, 0.414746, 0.556547],\n",
    "                 [0.185556, 0.418570, 0.556753],\n",
    "                 [0.183898, 0.422383, 0.556944],\n",
    "                 [0.182256, 0.426184, 0.557120],\n",
    "                 [0.180629, 0.429975, 0.557282],\n",
    "                 [0.179019, 0.433756, 0.557430],\n",
    "                 [0.177423, 0.437527, 0.557565],\n",
    "                 [0.175841, 0.441290, 0.557685],\n",
    "                 [0.174274, 0.445044, 0.557792],\n",
    "                 [0.172719, 0.448791, 0.557885],\n",
    "                 [0.171176, 0.452530, 0.557965],\n",
    "                 [0.169646, 0.456262, 0.558030],\n",
    "                 [0.168126, 0.459988, 0.558082],\n",
    "                 [0.166617, 0.463708, 0.558119],\n",
    "                 [0.165117, 0.467423, 0.558141],\n",
    "                 [0.163625, 0.471133, 0.558148],\n",
    "                 [0.162142, 0.474838, 0.558140],\n",
    "                 [0.160665, 0.478540, 0.558115],\n",
    "                 [0.159194, 0.482237, 0.558073],\n",
    "                 [0.157729, 0.485932, 0.558013],\n",
    "                 [0.156270, 0.489624, 0.557936],\n",
    "                 [0.154815, 0.493313, 0.557840],\n",
    "                 [0.153364, 0.497000, 0.557724],\n",
    "                 [0.151918, 0.500685, 0.557587],\n",
    "                 [0.150476, 0.504369, 0.557430],\n",
    "                 [0.149039, 0.508051, 0.557250],\n",
    "                 [0.147607, 0.511733, 0.557049],\n",
    "                 [0.146180, 0.515413, 0.556823],\n",
    "                 [0.144759, 0.519093, 0.556572],\n",
    "                 [0.143343, 0.522773, 0.556295],\n",
    "                 [0.141935, 0.526453, 0.555991],\n",
    "                 [0.140536, 0.530132, 0.555659],\n",
    "                 [0.139147, 0.533812, 0.555298],\n",
    "                 [0.137770, 0.537492, 0.554906],\n",
    "                 [0.136408, 0.541173, 0.554483],\n",
    "                 [0.135066, 0.544853, 0.554029],\n",
    "                 [0.133743, 0.548535, 0.553541],\n",
    "                 [0.132444, 0.552216, 0.553018],\n",
    "                 [0.131172, 0.555899, 0.552459],\n",
    "                 [0.129933, 0.559582, 0.551864],\n",
    "                 [0.128729, 0.563265, 0.551229],\n",
    "                 [0.127568, 0.566949, 0.550556],\n",
    "                 [0.126453, 0.570633, 0.549841],\n",
    "                 [0.125394, 0.574318, 0.549086],\n",
    "                 [0.124395, 0.578002, 0.548287],\n",
    "                 [0.123463, 0.581687, 0.547445],\n",
    "                 [0.122606, 0.585371, 0.546557],\n",
    "                 [0.121831, 0.589055, 0.545623],\n",
    "                 [0.121148, 0.592739, 0.544641],\n",
    "                 [0.120565, 0.596422, 0.543611],\n",
    "                 [0.120092, 0.600104, 0.542530],\n",
    "                 [0.119738, 0.603785, 0.541400],\n",
    "                 [0.119512, 0.607464, 0.540218],\n",
    "                 [0.119423, 0.611141, 0.538982],\n",
    "                 [0.119483, 0.614817, 0.537692],\n",
    "                 [0.119699, 0.618490, 0.536347],\n",
    "                 [0.120081, 0.622161, 0.534946],\n",
    "                 [0.120638, 0.625828, 0.533488],\n",
    "                 [0.121380, 0.629492, 0.531973],\n",
    "                 [0.122312, 0.633153, 0.530398],\n",
    "                 [0.123444, 0.636809, 0.528763],\n",
    "                 [0.124780, 0.640461, 0.527068],\n",
    "                 [0.126326, 0.644107, 0.525311],\n",
    "                 [0.128087, 0.647749, 0.523491],\n",
    "                 [0.130067, 0.651384, 0.521608],\n",
    "                 [0.132268, 0.655014, 0.519661],\n",
    "                 [0.134692, 0.658636, 0.517649],\n",
    "                 [0.137339, 0.662252, 0.515571],\n",
    "                 [0.140210, 0.665859, 0.513427],\n",
    "                 [0.143303, 0.669459, 0.511215],\n",
    "                 [0.146616, 0.673050, 0.508936],\n",
    "                 [0.150148, 0.676631, 0.506589],\n",
    "                 [0.153894, 0.680203, 0.504172],\n",
    "                 [0.157851, 0.683765, 0.501686],\n",
    "                 [0.162016, 0.687316, 0.499129],\n",
    "                 [0.166383, 0.690856, 0.496502],\n",
    "                 [0.170948, 0.694384, 0.493803],\n",
    "                 [0.175707, 0.697900, 0.491033],\n",
    "                 [0.180653, 0.701402, 0.488189],\n",
    "                 [0.185783, 0.704891, 0.485273],\n",
    "                 [0.191090, 0.708366, 0.482284],\n",
    "                 [0.196571, 0.711827, 0.479221],\n",
    "                 [0.202219, 0.715272, 0.476084],\n",
    "                 [0.208030, 0.718701, 0.472873],\n",
    "                 [0.214000, 0.722114, 0.469588],\n",
    "                 [0.220124, 0.725509, 0.466226],\n",
    "                 [0.226397, 0.728888, 0.462789],\n",
    "                 [0.232815, 0.732247, 0.459277],\n",
    "                 [0.239374, 0.735588, 0.455688],\n",
    "                 [0.246070, 0.738910, 0.452024],\n",
    "                 [0.252899, 0.742211, 0.448284],\n",
    "                 [0.259857, 0.745492, 0.444467],\n",
    "                 [0.266941, 0.748751, 0.440573],\n",
    "                 [0.274149, 0.751988, 0.436601],\n",
    "                 [0.281477, 0.755203, 0.432552],\n",
    "                 [0.288921, 0.758394, 0.428426],\n",
    "                 [0.296479, 0.761561, 0.424223],\n",
    "                 [0.304148, 0.764704, 0.419943],\n",
    "                 [0.311925, 0.767822, 0.415586],\n",
    "                 [0.319809, 0.770914, 0.411152],\n",
    "                 [0.327796, 0.773980, 0.406640],\n",
    "                 [0.335885, 0.777018, 0.402049],\n",
    "                 [0.344074, 0.780029, 0.397381],\n",
    "                 [0.352360, 0.783011, 0.392636],\n",
    "                 [0.360741, 0.785964, 0.387814],\n",
    "                 [0.369214, 0.788888, 0.382914],\n",
    "                 [0.377779, 0.791781, 0.377939],\n",
    "                 [0.386433, 0.794644, 0.372886],\n",
    "                 [0.395174, 0.797475, 0.367757],\n",
    "                 [0.404001, 0.800275, 0.362552],\n",
    "                 [0.412913, 0.803041, 0.357269],\n",
    "                 [0.421908, 0.805774, 0.351910],\n",
    "                 [0.430983, 0.808473, 0.346476],\n",
    "                 [0.440137, 0.811138, 0.340967],\n",
    "                 [0.449368, 0.813768, 0.335384],\n",
    "                 [0.458674, 0.816363, 0.329727],\n",
    "                 [0.468053, 0.818921, 0.323998],\n",
    "                 [0.477504, 0.821444, 0.318195],\n",
    "                 [0.487026, 0.823929, 0.312321],\n",
    "                 [0.496615, 0.826376, 0.306377],\n",
    "                 [0.506271, 0.828786, 0.300362],\n",
    "                 [0.515992, 0.831158, 0.294279],\n",
    "                 [0.525776, 0.833491, 0.288127],\n",
    "                 [0.535621, 0.835785, 0.281908],\n",
    "                 [0.545524, 0.838039, 0.275626],\n",
    "                 [0.555484, 0.840254, 0.269281],\n",
    "                 [0.565498, 0.842430, 0.262877],\n",
    "                 [0.575563, 0.844566, 0.256415],\n",
    "                 [0.585678, 0.846661, 0.249897],\n",
    "                 [0.595839, 0.848717, 0.243329],\n",
    "                 [0.606045, 0.850733, 0.236712],\n",
    "                 [0.616293, 0.852709, 0.230052],\n",
    "                 [0.626579, 0.854645, 0.223353],\n",
    "                 [0.636902, 0.856542, 0.216620],\n",
    "                 [0.647257, 0.858400, 0.209861],\n",
    "                 [0.657642, 0.860219, 0.203082],\n",
    "                 [0.668054, 0.861999, 0.196293],\n",
    "                 [0.678489, 0.863742, 0.189503],\n",
    "                 [0.688944, 0.865448, 0.182725],\n",
    "                 [0.699415, 0.867117, 0.175971],\n",
    "                 [0.709898, 0.868751, 0.169257],\n",
    "                 [0.720391, 0.870350, 0.162603],\n",
    "                 [0.730889, 0.871916, 0.156029],\n",
    "                 [0.741388, 0.873449, 0.149561],\n",
    "                 [0.751884, 0.874951, 0.143228],\n",
    "                 [0.762373, 0.876424, 0.137064],\n",
    "                 [0.772852, 0.877868, 0.131109],\n",
    "                 [0.783315, 0.879285, 0.125405],\n",
    "                 [0.793760, 0.880678, 0.120005],\n",
    "                 [0.804182, 0.882046, 0.114965],\n",
    "                 [0.814576, 0.883393, 0.110347],\n",
    "                 [0.824940, 0.884720, 0.106217],\n",
    "                 [0.835270, 0.886029, 0.102646],\n",
    "                 [0.845561, 0.887322, 0.099702],\n",
    "                 [0.855810, 0.888601, 0.097452],\n",
    "                 [0.866013, 0.889868, 0.095953],\n",
    "                 [0.876168, 0.891125, 0.095250],\n",
    "                 [0.886271, 0.892374, 0.095374],\n",
    "                 [0.896320, 0.893616, 0.096335],\n",
    "                 [0.906311, 0.894855, 0.098125],\n",
    "                 [0.916242, 0.896091, 0.100717],\n",
    "                 [0.926106, 0.897330, 0.104071],\n",
    "                 [0.935904, 0.898570, 0.108131],\n",
    "                 [0.945636, 0.899815, 0.112838],\n",
    "                 [0.955300, 0.901065, 0.118128],\n",
    "                 [0.964894, 0.902323, 0.123941],\n",
    "                 [0.974417, 0.903590, 0.130215],\n",
    "                 [0.983868, 0.904867, 0.136897],\n",
    "                 [0.993248, 0.906157, 0.143936]]"
   ]
  },
  {
   "cell_type": "markdown",
   "id": "e47f7d71-7186-45fd-a019-8ab3019fbae2",
   "metadata": {},
   "source": [
    "## Load"
   ]
  },
  {
   "cell_type": "code",
   "execution_count": 4,
   "id": "d3c7720d-ad1f-48e1-a449-2b7b192a1c5c",
   "metadata": {},
   "outputs": [],
   "source": [
    "MWT_OBS_LIST_SHORT = [0, 0.2, 0.3, 0.4, 0.45, 0.5, 0.55, 0.9]\n",
    "\n",
    "def rgb_to_hex(rgb):\n",
    "    return '#%02x%02x%02x' % tuple(rgb)\n",
    "\n",
    "\n",
    "color_rgbs = [ \n",
    "    [255, 43, 0], # 'red',  \n",
    "    [150, 150, 150], # 'gray',\n",
    "    [int(255 * datum) for datum in _viridis_data[199]], # 2 obs ppo\n",
    "    [255,0,255], # 'rose' , \n",
    "]\n",
    "\n",
    "ppo2o_color = color_rgbs[2]\n",
    "other_colors = [\n",
    "    [255, 43, 0], # 'red', \n",
    "    [114, 171, 216], # light blue\n",
    "    [150, 150, 150], # 'gray',\n",
    "    [255,0,255], # 'rose' , \n",
    "]\n",
    "\n",
    "color_hexs = [rgb_to_hex(rgb) for rgb in color_rgbs]\n",
    "\n",
    "ppo2o_hex = [rgb_to_hex(ppo2o_color)]\n",
    "other_hexs = [rgb_to_hex(rgb) for rgb in other_colors]\n"
   ]
  },
  {
   "cell_type": "code",
   "execution_count": 13,
   "id": "7fc4fa4a-95d8-452c-beb9-d01b9578e764",
   "metadata": {},
   "outputs": [],
   "source": [
    "## UM1\n",
    "\n",
    "CFG_UM1_2o = {\n",
    "    'observation_fn_id': 'observe_2o',\n",
    "    'n_observs': 2,\n",
    "    'obs_noise': 0.1,\n",
    "    #\n",
    "    'harvest_fn_name': \"default\",\n",
    "    'upow': 1,\n",
    "}\n",
    "CFG_UM1_mw = {\n",
    "    'observation_fn_id': 'observe_mwt',\n",
    "    'n_observs': 1,\n",
    "    'obs_noise': 0.1,\n",
    "    #\n",
    "    'harvest_fn_name': \"default\",\n",
    "    'upow': 1,\n",
    "}\n",
    "CFG_UM1_bm = {\n",
    "    'observation_fn_id': 'observe_1o',\n",
    "    'n_observs': 1,\n",
    "    'obs_noise': 0.1,\n",
    "    #\n",
    "    'harvest_fn_name': \"default\",\n",
    "    'upow': 1,\n",
    "}\n",
    "\n",
    "## UM2\n",
    "\n",
    "CFG_UM2_2o = {\n",
    "    'observation_fn_id': 'observe_2o',\n",
    "    'n_observs': 2,\n",
    "    'obs_noise': 0.1,\n",
    "    #\n",
    "    'harvest_fn_name': \"default\",\n",
    "    'upow': 0.6,\n",
    "}\n",
    "CFG_UM2_mw = {\n",
    "    'observation_fn_id': 'observe_mwt',\n",
    "    'n_observs': 1,\n",
    "    'obs_noise': 0.1,\n",
    "    #\n",
    "    'harvest_fn_name': \"default\",\n",
    "    'upow': 0.6,\n",
    "}\n",
    "CFG_UM2_bm = {\n",
    "    'observation_fn_id': 'observe_1o',\n",
    "    'n_observs': 1,\n",
    "    'obs_noise': 0.1,\n",
    "    #\n",
    "    'harvest_fn_name': \"default\",\n",
    "    'upow': 0.6,\n",
    "}\n",
    "\n",
    "## UM3\n",
    "\n",
    "CFG_UM3_2o = {\n",
    "    'observation_fn_id': 'observe_2o',\n",
    "    'n_observs': 2,\n",
    "    'obs_noise': 0.1,\n",
    "    #\n",
    "    'harvest_fn_name': \"trophy\",\n",
    "    'upow': 1,\n",
    "    'n_trophy_ages': 10\n",
    "}\n",
    "CFG_UM3_mw = {\n",
    "    'observation_fn_id': 'observe_mwt',\n",
    "    'n_observs': 1,\n",
    "    'obs_noise': 0.1,\n",
    "    #\n",
    "    'harvest_fn_name': \"trophy\",\n",
    "    'upow': 1,\n",
    "    'n_trophy_ages': 10\n",
    "}\n",
    "CFG_UM3_bm = {\n",
    "    'observation_fn_id': 'observe_1o',\n",
    "    'n_observs': 1,\n",
    "    'obs_noise': 0.1,\n",
    "    #\n",
    "    'harvest_fn_name': \"trophy\",\n",
    "    'upow': 1,\n",
    "    'n_trophy_ages': 10\n",
    "}"
   ]
  },
  {
   "cell_type": "code",
   "execution_count": 5,
   "id": "b2ad8d67-5113-4747-bd0f-28111e1ee572",
   "metadata": {
    "scrolled": true
   },
   "outputs": [],
   "source": [
    "cr_UM1_file = hf_hub_download(repo_id=\"boettiger-lab/rl4eco\", filename=\"sb3/rl4fisheries/post-review-results/cr-UM1-noise01.pkl\")\n",
    "cr_UM2_file = hf_hub_download(repo_id=\"boettiger-lab/rl4eco\", filename=\"sb3/rl4fisheries/post-review-results/cr-UM2-noise01.pkl\")\n",
    "cr_UM3_file = hf_hub_download(repo_id=\"boettiger-lab/rl4eco\", filename=\"sb3/rl4fisheries/post-review-results/cr-UM3-noise01.pkl\")\n",
    "\n",
    "msy_UM1_file = hf_hub_download(repo_id=\"boettiger-lab/rl4eco\", filename=\"sb3/rl4fisheries/post-review-results/msy-UM1-noise01.pkl\")\n",
    "msy_UM2_file = hf_hub_download(repo_id=\"boettiger-lab/rl4eco\", filename=\"sb3/rl4fisheries/post-review-results/msy-UM2-noise01.pkl\")\n",
    "msy_UM3_file = hf_hub_download(repo_id=\"boettiger-lab/rl4eco\", filename=\"sb3/rl4fisheries/post-review-results/msy-UM3-noise01.pkl\")"
   ]
  },
  {
   "cell_type": "code",
   "execution_count": 6,
   "id": "89f24e34-7302-4d8f-afca-4671d55355b7",
   "metadata": {},
   "outputs": [],
   "source": [
    "cr_UM1 = load(cr_UM1_file)\n",
    "cr_UM2 = load(cr_UM2_file)\n",
    "cr_UM3 = load(cr_UM3_file)\n",
    "\n",
    "msy_UM1 = load(msy_UM1_file)\n",
    "msy_UM2 = load(msy_UM2_file)\n",
    "msy_UM3 = load(msy_UM3_file)"
   ]
  },
  {
   "cell_type": "code",
   "execution_count": 8,
   "id": "2146eba9-ad8e-4e4b-90fc-84bc650f3477",
   "metadata": {
    "collapsed": true,
    "jupyter": {
     "outputs_hidden": true
    },
    "scrolled": true
   },
   "outputs": [
    {
     "data": {
      "application/vnd.jupyter.widget-view+json": {
       "model_id": "6368c78a59fb46b4bbe649ac02bfd95c",
       "version_major": 2,
       "version_minor": 0
      },
      "text/plain": [
       "(…)-2obs-UM1-256-64-16-noise0.1-chkpnt2.zip:   0%|          | 0.00/477k [00:00<?, ?B/s]"
      ]
     },
     "metadata": {},
     "output_type": "display_data"
    },
    {
     "data": {
      "application/vnd.jupyter.widget-view+json": {
       "model_id": "1d1f32d394854cd1bf1d40f3f13e95b0",
       "version_major": 2,
       "version_minor": 0
      },
      "text/plain": [
       "(…)iomass-UM1-64-32-16-noise0.1-chkpnt2.zip:   0%|          | 0.00/105k [00:00<?, ?B/s]"
      ]
     },
     "metadata": {},
     "output_type": "display_data"
    },
    {
     "data": {
      "application/vnd.jupyter.widget-view+json": {
       "model_id": "7546c2b24e1d4c998bad056a2cba5c74",
       "version_major": 2,
       "version_minor": 0
      },
      "text/plain": [
       "(…)-2obs-UM2-256-64-16-noise0.1-chkpnt4.zip:   0%|          | 0.00/477k [00:00<?, ?B/s]"
      ]
     },
     "metadata": {},
     "output_type": "display_data"
    },
    {
     "data": {
      "application/vnd.jupyter.widget-view+json": {
       "model_id": "8e858230ba0d410fb498d97a8a85d605",
       "version_major": 2,
       "version_minor": 0
      },
      "text/plain": [
       "(…)iomass-UM2-64-32-16-noise0.1-chkpnt4.zip:   0%|          | 0.00/105k [00:00<?, ?B/s]"
      ]
     },
     "metadata": {},
     "output_type": "display_data"
    },
    {
     "data": {
      "application/vnd.jupyter.widget-view+json": {
       "model_id": "6de09cbd515649dba5f8d7276a864b09",
       "version_major": 2,
       "version_minor": 0
      },
      "text/plain": [
       "(…)-2obs-UM3-256-64-16-noise0.1-chkpnt2.zip:   0%|          | 0.00/477k [00:00<?, ?B/s]"
      ]
     },
     "metadata": {},
     "output_type": "display_data"
    },
    {
     "data": {
      "application/vnd.jupyter.widget-view+json": {
       "model_id": "798c15e0ac2b4edfa48374183852b1d9",
       "version_major": 2,
       "version_minor": 0
      },
      "text/plain": [
       "(…)iomass-UM3-64-32-16-noise0.1-chkpnt4.zip:   0%|          | 0.00/105k [00:00<?, ?B/s]"
      ]
     },
     "metadata": {},
     "output_type": "display_data"
    }
   ],
   "source": [
    "base_fname = \"sb3/rl4fisheries/post-review-results/PPO-AsmEnv-\"\n",
    "repo = \"boettiger-lab/rl4eco\"\n",
    "\n",
    "PPO_2o_UM1_file = hf_hub_download(repo_id=repo, filename=base_fname+\"2obs-UM1-256-64-16-noise0.1-chkpnt2.zip\")\n",
    "PPO_bm_UM1_file = hf_hub_download(repo_id=repo, filename=base_fname+\"biomass-UM1-64-32-16-noise0.1-chkpnt2.zip\")\n",
    "\n",
    "PPO_2o_UM2_file = hf_hub_download(repo_id=repo, filename=base_fname+\"2obs-UM2-256-64-16-noise0.1-chkpnt4.zip\")\n",
    "PPO_bm_UM2_file = hf_hub_download(repo_id=repo, filename=base_fname+\"biomass-UM2-64-32-16-noise0.1-chkpnt4.zip\")\n",
    "\n",
    "PPO_2o_UM3_file = hf_hub_download(repo_id=repo, filename=base_fname+\"2obs-UM3-256-64-16-noise0.1-chkpnt2.zip\")\n",
    "PPO_bm_UM3_file = hf_hub_download(repo_id=repo, filename=base_fname+\"biomass-UM3-64-32-16-noise0.1-chkpnt4.zip\")\n",
    "\n",
    "\n"
   ]
  },
  {
   "cell_type": "code",
   "execution_count": 9,
   "id": "36236ed4-5350-4d19-9984-7c6095740081",
   "metadata": {},
   "outputs": [],
   "source": [
    "PPO_2o_UM1 = PPO.load(PPO_2o_UM1_file, device='cpu')\n",
    "PPO_bm_UM1 = PPO.load(PPO_bm_UM1_file, device='cpu')\n",
    "\n",
    "PPO_2o_UM2 = PPO.load(PPO_2o_UM2_file, device='cpu')\n",
    "PPO_bm_UM2 = PPO.load(PPO_bm_UM2_file, device='cpu')\n",
    "\n",
    "PPO_2o_UM3 = PPO.load(PPO_2o_UM3_file, device='cpu')\n",
    "PPO_bm_UM3 = PPO.load(PPO_bm_UM3_file, device='cpu')"
   ]
  },
  {
   "cell_type": "markdown",
   "id": "9917118c-dd5b-4cac-ad59-f6bb20154c4c",
   "metadata": {},
   "source": [
    "## Reward Plots"
   ]
  },
  {
   "cell_type": "code",
   "execution_count": 10,
   "id": "ac136b13-4c72-473f-b4ae-0e69048d38bd",
   "metadata": {},
   "outputs": [],
   "source": [
    "def get_rews(agent, env, agent_name):\n",
    "    rewards = evaluate_agent(\n",
    "        agent=agent, env=env, ray_remote=True,\n",
    "    ).evaluate(\n",
    "        return_episode_rewards=True, n_eval_episodes=500,\n",
    "    )\n",
    "    return {'rew': rewards, 'agent': [agent_name] * len(rewards)}"
   ]
  },
  {
   "cell_type": "code",
   "execution_count": 11,
   "id": "9ff61748-820a-4f53-90d9-2e52fd41e5c9",
   "metadata": {},
   "outputs": [],
   "source": [
    "def from_radius_theta(radius, theta, y2):\n",
    "    x1 = radius * np.sin(theta)\n",
    "    x2 = radius * np.cos(theta)\n",
    "    return {'x1': x1, 'x2': x2, 'y2': y2}"
   ]
  },
  {
   "cell_type": "markdown",
   "id": "7497a0ac-e8b8-43a9-b4f7-eda3941c6497",
   "metadata": {},
   "source": [
    "### UM1"
   ]
  },
  {
   "cell_type": "code",
   "execution_count": 14,
   "id": "35919cbc-2326-47bd-939c-a6c1da85dfe7",
   "metadata": {
    "scrolled": true
   },
   "outputs": [],
   "source": [
    "UM1_PPO_2o_rews = get_rews(\n",
    "    agent=PPO_2o_UM1,\n",
    "    env=AsmEnv(config=CFG_UM1_2o),\n",
    "    agent_name='PPO_2o',\n",
    ")\n",
    "\n",
    "\n",
    "UM1_PPO_bm_rews = get_rews(\n",
    "    agent=PPO_bm_UM1,\n",
    "    env=AsmEnv(config=CFG_UM1_bm),\n",
    "    agent_name='PPO_bm',\n",
    ")\n"
   ]
  },
  {
   "cell_type": "code",
   "execution_count": 15,
   "id": "86178492-d52a-49ca-a337-8e1df061df81",
   "metadata": {},
   "outputs": [],
   "source": [
    "UM1_CR_rews = get_rews(\n",
    "    agent=PrecautionaryPrinciple(\n",
    "        env=AsmEnv(config=CFG_UM1_bm),\n",
    "        **(from_radius_theta(*cr_UM1.x)),\n",
    "    ),\n",
    "    env=AsmEnv(config=CFG_UM1_bm),\n",
    "    agent_name='CR',\n",
    ")\n",
    "\n",
    "UM1_Msy_rews = get_rews(\n",
    "    agent=FMsy(\n",
    "        mortality=msy_UM1.x[0],\n",
    "        env=AsmEnv(config=CFG_UM1_bm),\n",
    "    ),\n",
    "    agent_name='Msy',\n",
    "    env=AsmEnv(config=CFG_UM1_bm),\n",
    ")"
   ]
  },
  {
   "cell_type": "code",
   "execution_count": 16,
   "id": "ed3117bc-69f7-406d-8b03-df7536d05d49",
   "metadata": {},
   "outputs": [],
   "source": [
    "ray.shutdown()"
   ]
  },
  {
   "cell_type": "code",
   "execution_count": 17,
   "id": "a34df959-3340-4fae-af8e-2d842bb90771",
   "metadata": {},
   "outputs": [],
   "source": [
    "## DFO rules!\n",
    "\n",
    "UM1_msy_step_rew = np.mean(UM1_Msy_rews['rew']) / 1000\n",
    "UM1_fmsy = msy_UM1.x[0]\n",
    "UM1_bmsy = UM1_msy_step_rew / UM1_fmsy\n",
    "\n",
    "UM1_DFO = PrecautionaryPrinciple(\n",
    "    env=AsmEnv(config=CFG_UM1_bm),\n",
    "    x1 = 0.4 * UM1_bmsy,\n",
    "    x2 = 0.8 * UM1_bmsy,\n",
    "    y2 = UM1_fmsy,\n",
    ")\n",
    "\n",
    "UM1_DFO_rews = get_rews(\n",
    "    agent=UM1_DFO,\n",
    "    agent_name='DFO',\n",
    "    env=AsmEnv(config=CFG_UM1_bm),\n",
    ")\n"
   ]
  },
  {
   "cell_type": "code",
   "execution_count": 22,
   "id": "27fda1d2-83ef-4c22-929a-404a8863835c",
   "metadata": {},
   "outputs": [],
   "source": [
    "# this is the biomass at which surplus production is maximized \n",
    "# aka UM1 is maximized\n",
    "bmsy = UM1_bmsy\n"
   ]
  },
  {
   "cell_type": "code",
   "execution_count": 19,
   "id": "f2d14fb9-216d-4817-86b4-f2aa0bbd686a",
   "metadata": {
    "scrolled": true
   },
   "outputs": [],
   "source": [
    "fixed_pol_df = pd.concat(\n",
    "    [\n",
    "        pd.DataFrame(UM1_CR_rews),\n",
    "        pd.DataFrame(UM1_Msy_rews),\n",
    "        pd.DataFrame(UM1_DFO_rews),\n",
    "    ]\n",
    ")\n",
    "ppo_df = pd.concat(\n",
    "    [\n",
    "        pd.DataFrame(UM1_PPO_2o_rews),\n",
    "        pd.DataFrame(UM1_PPO_bm_rews),\n",
    "    ]\n",
    ")\n",
    "\n",
    "UM1_results_df = pd.concat(\n",
    "    [\n",
    "        pd.DataFrame(UM1_CR_rews), \n",
    "        pd.DataFrame(UM1_Msy_rews),  \n",
    "        pd.DataFrame(UM1_PPO_2o_rews), \n",
    "        pd.DataFrame(UM1_PPO_bm_rews),\n",
    "        pd.DataFrame(UM1_DFO_rews),\n",
    "    ]\n",
    ")"
   ]
  },
  {
   "cell_type": "code",
   "execution_count": 20,
   "id": "99c93959-dc23-45d9-811c-4b5ec88fe469",
   "metadata": {},
   "outputs": [
    {
     "name": "stdout",
     "output_type": "stream",
     "text": [
      "\n",
      "UM1:\n",
      "\n",
      "        mean stdev median\n",
      "RPP:   106.45, 20.37, 104.88,\n",
      "DFO:  83.39, 17.09, 82.42,\n",
      "FMsy:  72.40, 17.02, 71.91, \n",
      "PPO2: 104.03, 21.16, 102.53,\n",
      "PPO1: 100.95, 19.24, 100.88,\n",
      "\n"
     ]
    }
   ],
   "source": [
    "print(f\"\"\"\n",
    "UM1:\n",
    "\n",
    "        mean stdev median\n",
    "RPP:   {np.mean(UM1_CR_rews['rew']):.2f}, {np.std(UM1_CR_rews['rew']):.2f}, {np.median(UM1_CR_rews['rew']):.2f},\n",
    "DFO:  {np.mean(UM1_DFO_rews['rew']):.2f}, {np.std(UM1_DFO_rews['rew']):.2f}, {np.median(UM1_DFO_rews['rew']):.2f},\n",
    "FMsy:  {np.mean(UM1_Msy_rews['rew']):.2f}, {np.std(UM1_Msy_rews['rew']):.2f}, {np.median(UM1_Msy_rews['rew']):.2f}, \n",
    "PPO2: {np.mean(UM1_PPO_2o_rews['rew']):.2f}, {np.std(UM1_PPO_2o_rews['rew']):.2f}, {np.median(UM1_PPO_2o_rews['rew']):.2f},\n",
    "PPO1: {np.mean(UM1_PPO_bm_rews['rew']):.2f}, {np.std(UM1_PPO_bm_rews['rew']):.2f}, {np.median(UM1_PPO_bm_rews['rew']):.2f},\n",
    "\"\"\")"
   ]
  },
  {
   "cell_type": "code",
   "execution_count": 21,
   "id": "01250275-1d1f-41c5-b42b-9b9d73e16c98",
   "metadata": {},
   "outputs": [
    {
     "name": "stderr",
     "output_type": "stream",
     "text": [
      "/opt/conda/lib/python3.12/site-packages/plotnine/ggplot.py:615: PlotnineWarning: Saving 6.4 x 4.8 in image.\n",
      "/opt/conda/lib/python3.12/site-packages/plotnine/ggplot.py:616: PlotnineWarning: Filename: plots/UM1_all_1o\n",
      "/opt/conda/lib/python3.12/site-packages/plotnine/ggplot.py:615: PlotnineWarning: Saving 6.4 x 4.8 in image.\n",
      "/opt/conda/lib/python3.12/site-packages/plotnine/ggplot.py:616: PlotnineWarning: Filename: plots/UM1_2o\n"
     ]
    },
    {
     "data": {
      "text/plain": [
       "(None, None)"
      ]
     },
     "execution_count": 21,
     "metadata": {},
     "output_type": "execute_result"
    }
   ],
   "source": [
    "\n",
    "(\n",
    "    (\n",
    "        ggplot(\n",
    "            UM1_results_df[UM1_results_df.agent != 'PPO_2o'], \n",
    "            aes(x='rew', fill='agent')\n",
    "        ) \n",
    "        + scale_fill_manual(values = other_hexs)\n",
    "        + geom_density(alpha=0.5)\n",
    "        + xlim(25, 200)\n",
    "    ).save('plots/UM1_all_1o'),\n",
    "    (\n",
    "        ggplot(\n",
    "            UM1_results_df[UM1_results_df.agent == 'PPO_2o'], \n",
    "            aes(x='rew', fill='agent')\n",
    "        ) \n",
    "        + scale_fill_manual(values = ppo2o_hex)\n",
    "        + geom_density(alpha=0.5)\n",
    "        + xlim(25, 200)\n",
    "    ).save('plots/UM1_2o'),\n",
    ")\n"
   ]
  },
  {
   "cell_type": "code",
   "execution_count": 80,
   "id": "e4b234a7-68d7-40c8-bf51-f443c37a9241",
   "metadata": {},
   "outputs": [],
   "source": []
  },
  {
   "cell_type": "code",
   "execution_count": null,
   "id": "4f0aad1f-38fd-4aaa-a8e6-cba859f5bb30",
   "metadata": {},
   "outputs": [],
   "source": []
  },
  {
   "cell_type": "markdown",
   "id": "74d6f109-7365-4731-8f8b-e001662461e9",
   "metadata": {},
   "source": [
    "### UM2"
   ]
  },
  {
   "cell_type": "code",
   "execution_count": 26,
   "id": "17233ba3-9669-4f49-8fdc-66ce612e75c1",
   "metadata": {
    "scrolled": true
   },
   "outputs": [],
   "source": [
    "UM2_PPO_2o_rews = get_rews(\n",
    "    agent=PPO_2o_UM2,\n",
    "    env=AsmEnv(config=CFG_UM2_2o),\n",
    "    agent_name='PPO_2o',\n",
    ")\n",
    "\n",
    "UM2_PPO_bm_rews = get_rews(\n",
    "    agent=PPO_bm_UM2,\n",
    "    env=AsmEnv(config=CFG_UM2_bm),\n",
    "    agent_name='PPO_bm',\n",
    ")\n"
   ]
  },
  {
   "cell_type": "code",
   "execution_count": 23,
   "id": "28b79920-2de2-4a7b-ac9f-a4dcf5c86b09",
   "metadata": {},
   "outputs": [],
   "source": [
    "UM2_CR_rews = get_rews(\n",
    "    agent=PrecautionaryPrinciple(\n",
    "        env=AsmEnv(config=CFG_UM2_bm),\n",
    "        **(from_radius_theta(*cr_UM2.x)),\n",
    "    ),\n",
    "    env=AsmEnv(config=CFG_UM2_bm),\n",
    "    agent_name='CR',\n",
    ")\n",
    "\n",
    "UM2_Msy_rews = get_rews(\n",
    "    agent=FMsy(\n",
    "        mortality=msy_UM2.x[0],\n",
    "        env=AsmEnv(config=CFG_UM2_bm),\n",
    "    ),\n",
    "    agent_name='Msy',\n",
    "    env=AsmEnv(config=CFG_UM2_bm),\n",
    ")\n",
    "\n",
    "UM2_fmsy = msy_UM2.x[0]\n",
    "UM2_bmsy = bmsy\n",
    "\n",
    "UM2_DFO = PrecautionaryPrinciple(\n",
    "    env=AsmEnv(config=CFG_UM2_bm),\n",
    "    x1 = 0.4 * UM2_bmsy,\n",
    "    x2 = 0.8 * UM2_bmsy,\n",
    "    y2 = UM2_fmsy,\n",
    ")\n",
    "\n",
    "UM2_DFO_rews = get_rews(\n",
    "    agent=UM2_DFO,\n",
    "    agent_name='DFO',\n",
    "    env=AsmEnv(config=CFG_UM2_bm),\n",
    ")"
   ]
  },
  {
   "cell_type": "code",
   "execution_count": 27,
   "id": "d66f1288-cb48-4a4f-971e-3b47226cbf32",
   "metadata": {},
   "outputs": [],
   "source": [
    "fixed_pol_df = pd.concat(\n",
    "    [\n",
    "        pd.DataFrame(UM2_CR_rews),\n",
    "        pd.DataFrame(UM2_Msy_rews),\n",
    "        pd.DataFrame(UM2_DFO_rews),\n",
    "    ]\n",
    ")\n",
    "ppo_df = pd.concat(\n",
    "    [\n",
    "        pd.DataFrame(UM2_PPO_2o_rews),\n",
    "        pd.DataFrame(UM2_PPO_bm_rews),\n",
    "    ]\n",
    ")\n",
    "\n",
    "UM2_results_df = pd.concat(\n",
    "    [\n",
    "        pd.DataFrame(UM2_CR_rews), \n",
    "        pd.DataFrame(UM2_Msy_rews),  \n",
    "        pd.DataFrame(UM2_PPO_2o_rews), \n",
    "        pd.DataFrame(UM2_PPO_bm_rews),\n",
    "        pd.DataFrame(UM2_DFO_rews),\n",
    "    ]\n",
    ")"
   ]
  },
  {
   "cell_type": "code",
   "execution_count": 28,
   "id": "6a0e4187-11d6-4b44-8be0-7d031bcfce18",
   "metadata": {},
   "outputs": [
    {
     "name": "stdout",
     "output_type": "stream",
     "text": [
      "\n",
      "UM2:\n",
      "\n",
      "        mean stdev median\n",
      "RPP:   189.80, 26.86, 189.90, \n",
      "DFO:   158.33, 26.45, 157.18, \n",
      "MSY:  174.92, 26.65, 174.20, \n",
      "PPO2: 154.18, 24.67, 153.64,\n",
      "PPO1: 188.61, 27.15, 187.42,\n",
      "\n"
     ]
    }
   ],
   "source": [
    "\n",
    "print(f\"\"\"\n",
    "UM2:\n",
    "\n",
    "        mean stdev median\n",
    "RPP:   {np.mean(UM2_CR_rews['rew']):.2f}, {np.std(UM2_CR_rews['rew']):.2f}, {np.median(UM2_CR_rews['rew']):.2f}, \n",
    "DFO:   {np.mean(UM2_DFO_rews['rew']):.2f}, {np.std(UM2_DFO_rews['rew']):.2f}, {np.median(UM2_DFO_rews['rew']):.2f}, \n",
    "MSY:  {np.mean(UM2_Msy_rews['rew']):.2f}, {np.std(UM2_Msy_rews['rew']):.2f}, {np.median(UM2_Msy_rews['rew']):.2f}, \n",
    "PPO2: {np.mean(UM2_PPO_2o_rews['rew']):.2f}, {np.std(UM2_PPO_2o_rews['rew']):.2f}, {np.median(UM2_PPO_2o_rews['rew']):.2f},\n",
    "PPO1: {np.mean(UM2_PPO_bm_rews['rew']):.2f}, {np.std(UM2_PPO_bm_rews['rew']):.2f}, {np.median(UM2_PPO_bm_rews['rew']):.2f},\n",
    "\"\"\")"
   ]
  },
  {
   "cell_type": "code",
   "execution_count": 29,
   "id": "467b094f-1948-4a0e-af8b-dd437adc8fe4",
   "metadata": {},
   "outputs": [
    {
     "name": "stderr",
     "output_type": "stream",
     "text": [
      "/opt/conda/lib/python3.12/site-packages/plotnine/ggplot.py:615: PlotnineWarning: Saving 6.4 x 4.8 in image.\n",
      "/opt/conda/lib/python3.12/site-packages/plotnine/ggplot.py:616: PlotnineWarning: Filename: plots/UM2_all_1o\n",
      "/opt/conda/lib/python3.12/site-packages/plotnine/ggplot.py:615: PlotnineWarning: Saving 6.4 x 4.8 in image.\n",
      "/opt/conda/lib/python3.12/site-packages/plotnine/ggplot.py:616: PlotnineWarning: Filename: plots/UM2_2o\n"
     ]
    },
    {
     "data": {
      "text/plain": [
       "(None, None)"
      ]
     },
     "execution_count": 29,
     "metadata": {},
     "output_type": "execute_result"
    }
   ],
   "source": [
    "(\n",
    "    (\n",
    "        ggplot(\n",
    "            UM2_results_df[UM2_results_df.agent != 'PPO_2o'], \n",
    "            aes(x='rew', fill='agent')\n",
    "        ) \n",
    "        + scale_fill_manual(values = other_hexs)\n",
    "        + geom_density(alpha=0.5)\n",
    "        + xlim(75, 275)\n",
    "    ).save('plots/UM2_all_1o'),\n",
    "    (\n",
    "        ggplot(\n",
    "            UM2_results_df[UM2_results_df.agent == 'PPO_2o'], \n",
    "            aes(x='rew', fill='agent')\n",
    "        ) \n",
    "        + scale_fill_manual(values = ppo2o_hex)\n",
    "        + geom_density(alpha=0.5)\n",
    "        + xlim(75, 275)\n",
    "    ).save('plots/UM2_2o'),\n",
    ")"
   ]
  },
  {
   "cell_type": "markdown",
   "id": "fa4acb62-93d3-4fdc-87e0-472a99eea4a0",
   "metadata": {},
   "source": [
    "### UM3"
   ]
  },
  {
   "cell_type": "code",
   "execution_count": 30,
   "id": "d0fd387d-f999-48bd-a79c-142c9f3c0d51",
   "metadata": {},
   "outputs": [],
   "source": [
    "UM3_PPO_2o_rews = get_rews(\n",
    "    agent=PPO_2o_UM3,\n",
    "    env=AsmEnv(config=CFG_UM3_2o),\n",
    "    agent_name='PPO_2o',\n",
    ")\n",
    "\n",
    "UM3_PPO_bm_rews = get_rews(\n",
    "    agent=PPO_bm_UM3,\n",
    "    env=AsmEnv(config=CFG_UM3_bm),\n",
    "    agent_name='PPO_bm',\n",
    ")\n"
   ]
  },
  {
   "cell_type": "code",
   "execution_count": 31,
   "id": "495838f3-cb9e-448f-9a04-c5241cb935c9",
   "metadata": {
    "scrolled": true
   },
   "outputs": [],
   "source": [
    "UM3_CR_rews = get_rews(\n",
    "    agent=PrecautionaryPrinciple(\n",
    "        env=AsmEnv(config=CFG_UM3_bm),\n",
    "        **(from_radius_theta(*cr_UM3.x)),\n",
    "    ),\n",
    "    env=AsmEnv(config=CFG_UM3_bm),\n",
    "    agent_name='CR',\n",
    ")\n",
    "\n",
    "UM3_Msy_rews = get_rews(\n",
    "    agent=FMsy(\n",
    "        mortality=msy_UM3.x[0],\n",
    "        env=AsmEnv(config=CFG_UM3_bm),\n",
    "    ),\n",
    "    agent_name='Msy',\n",
    "    env=AsmEnv(config=CFG_UM3_bm),\n",
    ")\n",
    "\n",
    "UM3_fmsy = msy_UM3.x[0]\n",
    "UM3_bmsy = bmsy\n",
    "\n",
    "UM3_DFO = PrecautionaryPrinciple(\n",
    "    env=AsmEnv(config=CFG_UM3_bm),\n",
    "    x1 = 0.4 * UM3_bmsy,\n",
    "    x2 = 0.8 * UM3_bmsy,\n",
    "    y2 = UM3_fmsy,\n",
    ")\n",
    "\n",
    "UM3_DFO_rews = get_rews(\n",
    "    agent=UM3_DFO,\n",
    "    agent_name='DFO',\n",
    "    env=AsmEnv(config=CFG_UM3_bm),\n",
    ")"
   ]
  },
  {
   "cell_type": "code",
   "execution_count": 32,
   "id": "1b6d4958-6956-41ca-8368-32942f1e2226",
   "metadata": {},
   "outputs": [],
   "source": [
    "fixed_pol_df = pd.concat(\n",
    "    [\n",
    "        pd.DataFrame(UM3_CR_rews),\n",
    "        pd.DataFrame(UM3_Msy_rews),\n",
    "        pd.DataFrame(UM3_DFO_rews),\n",
    "    ]\n",
    ")\n",
    "ppo_df = pd.concat(\n",
    "    [\n",
    "        pd.DataFrame(UM3_PPO_2o_rews),\n",
    "        pd.DataFrame(UM3_PPO_bm_rews),\n",
    "    ]\n",
    ")\n",
    "\n",
    "UM3_results_df = pd.concat(\n",
    "    [\n",
    "        pd.DataFrame(UM3_CR_rews), \n",
    "        pd.DataFrame(UM3_Msy_rews),  \n",
    "        pd.DataFrame(UM3_PPO_2o_rews), \n",
    "        pd.DataFrame(UM3_PPO_bm_rews),\n",
    "        pd.DataFrame(UM3_DFO_rews),\n",
    "    ]\n",
    ")"
   ]
  },
  {
   "cell_type": "code",
   "execution_count": 33,
   "id": "d5c106ea-6210-4e78-9684-03285db6147d",
   "metadata": {},
   "outputs": [
    {
     "name": "stdout",
     "output_type": "stream",
     "text": [
      "\n",
      "UM1:\n",
      "\n",
      "        mean stdev median\n",
      "RPP:   35.88, 6.87, 35.83, \n",
      "DFO:   37.42, 7.68, 37.20,\n",
      "FMSY:  35.16, 7.49, 34.87, \n",
      "PPO1: 36.03, 7.35, 35.28,\n",
      "PPO2: 62.50, 11.74, 61.16,\n",
      "\n"
     ]
    }
   ],
   "source": [
    "print(f\"\"\"\n",
    "UM1:\n",
    "\n",
    "        mean stdev median\n",
    "RPP:   {np.mean(UM3_CR_rews['rew']):.2f}, {np.std(UM3_CR_rews['rew']):.2f}, {np.median(UM3_CR_rews['rew']):.2f}, \n",
    "DFO:   {np.mean(UM3_DFO_rews['rew']):.2f}, {np.std(UM3_DFO_rews['rew']):.2f}, {np.median(UM3_DFO_rews['rew']):.2f},\n",
    "FMSY:  {np.mean(UM3_Msy_rews['rew']):.2f}, {np.std(UM3_Msy_rews['rew']):.2f}, {np.median(UM3_Msy_rews['rew']):.2f}, \n",
    "PPO1: {np.mean(UM3_PPO_bm_rews['rew']):.2f}, {np.std(UM3_PPO_bm_rews['rew']):.2f}, {np.median(UM3_PPO_bm_rews['rew']):.2f},\n",
    "PPO2: {np.mean(UM3_PPO_2o_rews['rew']):.2f}, {np.std(UM3_PPO_2o_rews['rew']):.2f}, {np.median(UM3_PPO_2o_rews['rew']):.2f},\n",
    "\"\"\")"
   ]
  },
  {
   "cell_type": "code",
   "execution_count": null,
   "id": "cc61027f-a482-4d8c-bdd4-9351060a384b",
   "metadata": {},
   "outputs": [],
   "source": []
  },
  {
   "cell_type": "code",
   "execution_count": 34,
   "id": "c6673202-3c37-4779-b648-2c2636b6c7fa",
   "metadata": {},
   "outputs": [
    {
     "name": "stderr",
     "output_type": "stream",
     "text": [
      "/opt/conda/lib/python3.12/site-packages/plotnine/ggplot.py:615: PlotnineWarning: Saving 6.4 x 4.8 in image.\n",
      "/opt/conda/lib/python3.12/site-packages/plotnine/ggplot.py:616: PlotnineWarning: Filename: plots/UM3_all_1o\n",
      "/opt/conda/lib/python3.12/site-packages/plotnine/layer.py:284: PlotnineWarning: stat_density : Removed 1 rows containing non-finite values.\n",
      "/opt/conda/lib/python3.12/site-packages/plotnine/ggplot.py:615: PlotnineWarning: Saving 6.4 x 4.8 in image.\n",
      "/opt/conda/lib/python3.12/site-packages/plotnine/ggplot.py:616: PlotnineWarning: Filename: plots/UM3_2o\n"
     ]
    },
    {
     "data": {
      "text/plain": [
       "(None, None)"
      ]
     },
     "execution_count": 34,
     "metadata": {},
     "output_type": "execute_result"
    }
   ],
   "source": [
    "(\n",
    "    (\n",
    "        ggplot(\n",
    "            UM3_results_df[UM3_results_df.agent != 'PPO_2o'], \n",
    "            aes(x='rew', fill='agent')\n",
    "        ) \n",
    "        + scale_fill_manual(values = other_hexs)\n",
    "        + geom_density(alpha=0.5)\n",
    "        + xlim(15, 150)\n",
    "    ).save('plots/UM3_all_1o'),\n",
    "    (\n",
    "        ggplot(\n",
    "            UM3_results_df[UM3_results_df.agent == 'PPO_2o'], \n",
    "            aes(x='rew', fill='agent')\n",
    "        ) \n",
    "        + scale_fill_manual(values = ppo2o_hex)\n",
    "        + geom_density(alpha=0.5)\n",
    "        + xlim(15, 150)\n",
    "    ).save('plots/UM3_2o'),\n",
    ")"
   ]
  },
  {
   "cell_type": "code",
   "execution_count": null,
   "id": "9b72c6d1-7419-4c60-81d1-3fcd56922235",
   "metadata": {},
   "outputs": [],
   "source": []
  }
 ],
 "metadata": {
  "kernelspec": {
   "display_name": "Python 3 (ipykernel)",
   "language": "python",
   "name": "python3"
  },
  "language_info": {
   "codemirror_mode": {
    "name": "ipython",
    "version": 3
   },
   "file_extension": ".py",
   "mimetype": "text/x-python",
   "name": "python",
   "nbconvert_exporter": "python",
   "pygments_lexer": "ipython3",
   "version": "3.12.10"
  }
 },
 "nbformat": 4,
 "nbformat_minor": 5
}
