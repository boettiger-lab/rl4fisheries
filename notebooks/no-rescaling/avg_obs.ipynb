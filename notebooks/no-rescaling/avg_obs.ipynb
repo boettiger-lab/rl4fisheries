{
 "cells": [
  {
   "cell_type": "code",
   "execution_count": 199,
   "id": "f5844d8d-209d-4d2c-b7e0-113b83241f40",
   "metadata": {},
   "outputs": [],
   "source": [
    "from huggingface_hub import hf_hub_download, HfApi\n",
    "from plotnine import ggplot, aes, geom_density, scale_fill_manual, xlim, element_text, theme\n",
    "from skopt import load\n",
    "from stable_baselines3 import PPO\n",
    "\n",
    "from rl4fisheries import AsmEnv, AsmMovingAvg\n",
    "from rl4fisheries.utils import evaluate_agent\n",
    "from rl4fisheries.envs.asm_fns import get_r_devs\n",
    "\n",
    "import numpy as np\n",
    "import pandas as pd\n",
    "import ray"
   ]
  },
  {
   "cell_type": "code",
   "execution_count": 200,
   "id": "d53259d9-3502-4c09-9013-14991f1df927",
   "metadata": {},
   "outputs": [],
   "source": [
    "directory = \"sb3/rl4fisheries/post-review-results/\"\n",
    "regular_ppo = \"PPO-AsmEnv-2obs-UM3-256-64-16-noise0.1-no-rescaling-chkpnt4.zip\"\n",
    "mv_avg_ppo = \"PPO-AsmMovingAvg-2obs-UM3-full-avg-chkpnt3.zip\"\n",
    "\n",
    "\n",
    "repo = \"boettiger-lab/rl4eco\"\n",
    "\n",
    "PPO_avg = hf_hub_download(repo_id=repo, filename=directory+mv_avg_ppo)\n",
    "PPO_reg = hf_hub_download(repo_id=repo, filename=directory+regular_ppo)\n"
   ]
  },
  {
   "cell_type": "code",
   "execution_count": 201,
   "id": "e182f549-65ab-4dfd-8346-a1dc76aca0c4",
   "metadata": {},
   "outputs": [],
   "source": [
    "PPO_reg_agent = PPO.load(PPO_reg, device='cpu')\n",
    "PPO_mv_agent = PPO.load(PPO_avg, device='cpu')"
   ]
  },
  {
   "cell_type": "code",
   "execution_count": 202,
   "id": "a4cb87e6-df98-402d-a8e6-d9e6da7376a2",
   "metadata": {},
   "outputs": [],
   "source": [
    "def get_rews(agent, env, agent_name):\n",
    "    rewards = evaluate_agent(\n",
    "        agent=agent, env=env, ray_remote=True,\n",
    "    ).evaluate(\n",
    "        return_episode_rewards=True, n_eval_episodes=500,\n",
    "    )\n",
    "    return {'rew': rewards, 'agent': [agent_name] * len(rewards)}"
   ]
  },
  {
   "cell_type": "code",
   "execution_count": 203,
   "id": "8aa31f29-f36a-490f-8f0a-dd24bcde11c1",
   "metadata": {},
   "outputs": [],
   "source": [
    "CFG_UM3 = {\n",
    "    'observation_fn_id': 'observe_2o',\n",
    "    'n_observs': 2,\n",
    "    'obs_noise': 0.1,\n",
    "    #\n",
    "    'harvest_fn_name': \"trophy\",\n",
    "    'upow': 1,\n",
    "    'n_trophy_ages': 10,\n",
    "    'avg_win_size': 3,\n",
    "}\n",
    "\n",
    "asm = AsmEnv(config=CFG_UM3)\n",
    "asm_avg = AsmMovingAvg(config=CFG_UM3)\n"
   ]
  },
  {
   "cell_type": "code",
   "execution_count": 204,
   "id": "17d8066b-b9d9-4758-bf7d-f17ca116dc6b",
   "metadata": {
    "scrolled": true
   },
   "outputs": [],
   "source": [
    "PPO_reg_rew = get_rews(\n",
    "    agent=PPO_reg_agent,\n",
    "    env=asm,\n",
    "    agent_name='Regular RL',\n",
    ")\n"
   ]
  },
  {
   "cell_type": "code",
   "execution_count": 206,
   "id": "bbff3dcc-a193-4aee-b477-d4c40f4924cb",
   "metadata": {
    "scrolled": true
   },
   "outputs": [],
   "source": [
    "PPO_avg_rew = get_rews(\n",
    "    agent=PPO_mv_agent,\n",
    "    env=asm_avg,\n",
    "    agent_name='Moving Average RL',\n",
    ")"
   ]
  },
  {
   "cell_type": "code",
   "execution_count": 207,
   "id": "05bf1c14-9bc0-4e81-a272-cfe693dc2c3c",
   "metadata": {
    "scrolled": true
   },
   "outputs": [],
   "source": [
    "ray.shutdown()"
   ]
  },
  {
   "cell_type": "code",
   "execution_count": null,
   "id": "39064f36-cf1f-4e07-85ca-c6677164880f",
   "metadata": {},
   "outputs": [],
   "source": []
  }
 ],
 "metadata": {
  "kernelspec": {
   "display_name": "Python 3 (ipykernel)",
   "language": "python",
   "name": "python3"
  },
  "language_info": {
   "codemirror_mode": {
    "name": "ipython",
    "version": 3
   },
   "file_extension": ".py",
   "mimetype": "text/x-python",
   "name": "python",
   "nbconvert_exporter": "python",
   "pygments_lexer": "ipython3",
   "version": "3.12.10"
  }
 },
 "nbformat": 4,
 "nbformat_minor": 5
}
