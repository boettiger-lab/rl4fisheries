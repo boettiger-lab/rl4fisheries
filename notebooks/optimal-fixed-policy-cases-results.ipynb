{
 "cells": [
  {
   "cell_type": "code",
   "execution_count": 1,
   "id": "d11f82f4-1819-452a-8174-0808cdcb7c8f",
   "metadata": {},
   "outputs": [],
   "source": [
    "import numpy as np\n",
    "import pandas as pd\n",
    "import ray\n",
    "\n",
    "from skopt import gp_minimize, gbrt_minimize \n",
    "from skopt import dump\n",
    "from skopt.plots import plot_objective, plot_convergence\n",
    "from skopt.space import Real\n",
    "from skopt.utils import use_named_args\n",
    "\n",
    "from stable_baselines3.common.evaluation import evaluate_policy\n",
    "from stable_baselines3.common.monitor import Monitor\n",
    "\n",
    "from rl4fisheries import AsmEnv, Msy, ConstEsc, ConstAct, CautionaryRule\n",
    "from rl4fisheries.envs.asm_fns import get_r_devs, observe_total"
   ]
  },
  {
   "cell_type": "markdown",
   "id": "7ff29091-615f-4d91-8198-20d8ae2fb197",
   "metadata": {},
   "source": [
    "# Finding optimal fixed policies for several cases to explore in the paper\n",
    "---\n",
    "## Setup"
   ]
  },
  {
   "cell_type": "code",
   "execution_count": 2,
   "id": "716cd9fe-37cc-4b0e-b25a-813a1fe7c49c",
   "metadata": {},
   "outputs": [],
   "source": [
    "@ray.remote\n",
    "def generate_rew(policy, env_cls, config):\n",
    "    ep_rew = 0\n",
    "    env = env_cls(config=config)\n",
    "    obs, info = env.reset()\n",
    "    for t in range(env.Tmax):\n",
    "        act, info = policy.predict(obs)\n",
    "        obs, rew, term, trunc, info = env.step(act)\n",
    "        ep_rew += rew\n",
    "    return ep_rew\n",
    "\n",
    "\n",
    "def rew_batch(policy, env_cls, config, batch_size):\n",
    "    tmax = env_cls().Tmax\n",
    "    parallel = [generate_rew.remote(policy, env_cls, config) for _ in range(batch_size)]\n",
    "    rews = ray.get(parallel)\n",
    "    if ray.is_initialized():\n",
    "        ray.shutdown()\n",
    "    return rews\n",
    "\n",
    "def eval_pol(policy, env_cls, config, n_batches=4, batch_size=40, pb=False):\n",
    "    batch_iter = range(n_batches)\n",
    "    if pb:\n",
    "        from tqdm import tqdm\n",
    "        batch_iter = tqdm(iter)\n",
    "    #\n",
    "    rews = []\n",
    "    for i in batch_iter:\n",
    "        rews.append(\n",
    "            rew_batch(policy=policy, env_cls=env_cls, config=config, batch_size=batch_size)\n",
    "        )\n",
    "    return np.array(rews).flatten()"
   ]
  },
  {
   "cell_type": "code",
   "execution_count": 3,
   "id": "80aa7183-0fb0-4a0e-a112-ffa536334413",
   "metadata": {},
   "outputs": [],
   "source": [
    "msy_space = [Real(0.001, 0.25, name='mortality')]\n",
    "esc_space = [Real(0, AsmEnv().bound / 5, name='escapement')]\n",
    "cr_space  = [\n",
    "    Real(-5, 2, name='log_radius'),\n",
    "    Real(- np.pi/4.00001, np.pi/4.00001, name='theta'),\n",
    "    Real(0, 0.3, name='y2'),\n",
    "]\n",
    "def msy_obj_generator(config):\n",
    "    @use_named_args(msy_space)\n",
    "    def msy_obj(**x):\n",
    "        eval_env = AsmEnv(config=config)\n",
    "        agent = Msy(env=eval_env, mortality = x['mortality'])\n",
    "        rews = eval_pol(\n",
    "            policy=agent, \n",
    "            env_cls=AsmEnv, config=config, \n",
    "            n_batches=1, batch_size=200\n",
    "        )\n",
    "        return -np.mean(rews)\n",
    "    return msy_obj\n",
    "\n",
    "def esc_obj_generator(config):\n",
    "    @use_named_args(esc_space)\n",
    "    def esc_obj(**x):\n",
    "        eval_env = AsmEnv(config=config)\n",
    "        agent = ConstEsc(env=eval_env, escapement = x['escapement'])\n",
    "        rews = eval_pol(\n",
    "            policy=agent, \n",
    "            env_cls=AsmEnv, config=config, \n",
    "            n_batches=1, batch_size=200\n",
    "        )\n",
    "        return -np.mean(rews)\n",
    "    return esc_obj\n",
    "\n",
    "def cr_obj_generator(config):\n",
    "    @use_named_args(cr_space)\n",
    "    def cr_obj(**x):\n",
    "        theta = x[\"theta\"]\n",
    "        radius = 10 ** x[\"log_radius\"]\n",
    "        x1 = np.sin(theta) * radius\n",
    "        x2 = np.cos(theta) * radius\n",
    "        #\n",
    "        eval_env = AsmEnv(config=config)\n",
    "        eval_env.reset()\n",
    "        agent = CautionaryRule(env=eval_env, x1 = x1, x2 =  x2, y2 = x[\"y2\"])\n",
    "        rews = eval_pol(\n",
    "            policy=agent, \n",
    "            env_cls=AsmEnv, \n",
    "            config=config, \n",
    "            n_batches=1, batch_size=200\n",
    "        )\n",
    "        return -np.mean(rews)\n",
    "    return cr_obj"
   ]
  },
  {
   "cell_type": "code",
   "execution_count": 4,
   "id": "240f1608-98aa-486c-b27e-6f018acfe896",
   "metadata": {},
   "outputs": [],
   "source": [
    "NCALLS = 40"
   ]
  },
  {
   "cell_type": "markdown",
   "id": "14cd665f-e859-41f7-b6f7-d14b16566bab",
   "metadata": {},
   "source": [
    "## upow=1, trophy fishing 10 age classes"
   ]
  },
  {
   "cell_type": "code",
   "execution_count": 5,
   "id": "6e5b88dd-3725-48ea-b227-f6ca5357f189",
   "metadata": {},
   "outputs": [],
   "source": [
    "CONFIG3 = {\n",
    "    \"upow\": 1,\n",
    "    \"harvest_fn_name\": \"trophy\"\n",
    "}\n",
    "\n",
    "cr_obj3 = cr_obj_generator(CONFIG3)\n",
    "esc_obj3 = esc_obj_generator(CONFIG3)\n",
    "msy_obj3 = msy_obj_generator(CONFIG3)"
   ]
  },
  {
   "cell_type": "code",
   "execution_count": 9,
   "id": "1b4333db-83ce-46c2-87cf-943da18b3370",
   "metadata": {
    "collapsed": true,
    "jupyter": {
     "outputs_hidden": true
    },
    "scrolled": true
   },
   "outputs": [
    {
     "name": "stdout",
     "output_type": "stream",
     "text": [
      "Iteration No: 1 started. Evaluating function at random point.\n"
     ]
    },
    {
     "name": "stderr",
     "output_type": "stream",
     "text": [
      "2024-05-24 19:11:25,183\tINFO worker.py:1749 -- Started a local Ray instance.\n"
     ]
    },
    {
     "name": "stdout",
     "output_type": "stream",
     "text": [
      "Iteration No: 1 ended. Evaluation done at random point.\n",
      "Time taken: 8.4516\n",
      "Function value obtained: -3.1997\n",
      "Current minimum: -3.1997\n",
      "Iteration No: 2 started. Evaluating function at random point.\n"
     ]
    },
    {
     "name": "stderr",
     "output_type": "stream",
     "text": [
      "2024-05-24 19:11:33,630\tINFO worker.py:1749 -- Started a local Ray instance.\n"
     ]
    },
    {
     "name": "stdout",
     "output_type": "stream",
     "text": [
      "Iteration No: 2 ended. Evaluation done at random point.\n",
      "Time taken: 7.7052\n",
      "Function value obtained: -6.5283\n",
      "Current minimum: -6.5283\n",
      "Iteration No: 3 started. Evaluating function at random point.\n"
     ]
    },
    {
     "name": "stderr",
     "output_type": "stream",
     "text": [
      "2024-05-24 19:11:41,351\tINFO worker.py:1749 -- Started a local Ray instance.\n"
     ]
    },
    {
     "name": "stdout",
     "output_type": "stream",
     "text": [
      "Iteration No: 3 ended. Evaluation done at random point.\n",
      "Time taken: 8.4599\n",
      "Function value obtained: -22.9527\n",
      "Current minimum: -22.9527\n",
      "Iteration No: 4 started. Evaluating function at random point.\n"
     ]
    },
    {
     "name": "stderr",
     "output_type": "stream",
     "text": [
      "2024-05-24 19:11:49,814\tINFO worker.py:1749 -- Started a local Ray instance.\n"
     ]
    },
    {
     "name": "stdout",
     "output_type": "stream",
     "text": [
      "Iteration No: 4 ended. Evaluation done at random point.\n",
      "Time taken: 7.7430\n",
      "Function value obtained: -26.7393\n",
      "Current minimum: -26.7393\n",
      "Iteration No: 5 started. Evaluating function at random point.\n"
     ]
    },
    {
     "name": "stderr",
     "output_type": "stream",
     "text": [
      "2024-05-24 19:11:57,583\tINFO worker.py:1749 -- Started a local Ray instance.\n"
     ]
    },
    {
     "name": "stdout",
     "output_type": "stream",
     "text": [
      "Iteration No: 5 ended. Evaluation done at random point.\n",
      "Time taken: 7.7411\n",
      "Function value obtained: -6.7580\n",
      "Current minimum: -26.7393\n",
      "Iteration No: 6 started. Evaluating function at random point.\n"
     ]
    },
    {
     "name": "stderr",
     "output_type": "stream",
     "text": [
      "2024-05-24 19:12:05,291\tINFO worker.py:1749 -- Started a local Ray instance.\n"
     ]
    },
    {
     "name": "stdout",
     "output_type": "stream",
     "text": [
      "Iteration No: 6 ended. Evaluation done at random point.\n",
      "Time taken: 8.4607\n",
      "Function value obtained: -0.0109\n",
      "Current minimum: -26.7393\n",
      "Iteration No: 7 started. Evaluating function at random point.\n"
     ]
    },
    {
     "name": "stderr",
     "output_type": "stream",
     "text": [
      "2024-05-24 19:12:13,770\tINFO worker.py:1749 -- Started a local Ray instance.\n"
     ]
    },
    {
     "name": "stdout",
     "output_type": "stream",
     "text": [
      "Iteration No: 7 ended. Evaluation done at random point.\n",
      "Time taken: 8.1181\n",
      "Function value obtained: -4.8319\n",
      "Current minimum: -26.7393\n",
      "Iteration No: 8 started. Evaluating function at random point.\n"
     ]
    },
    {
     "name": "stderr",
     "output_type": "stream",
     "text": [
      "2024-05-24 19:12:21,893\tINFO worker.py:1749 -- Started a local Ray instance.\n"
     ]
    },
    {
     "name": "stdout",
     "output_type": "stream",
     "text": [
      "Iteration No: 8 ended. Evaluation done at random point.\n",
      "Time taken: 8.6239\n",
      "Function value obtained: -1.9565\n",
      "Current minimum: -26.7393\n",
      "Iteration No: 9 started. Evaluating function at random point.\n"
     ]
    },
    {
     "name": "stderr",
     "output_type": "stream",
     "text": [
      "2024-05-24 19:12:30,602\tINFO worker.py:1749 -- Started a local Ray instance.\n"
     ]
    },
    {
     "name": "stdout",
     "output_type": "stream",
     "text": [
      "Iteration No: 9 ended. Evaluation done at random point.\n",
      "Time taken: 8.5311\n",
      "Function value obtained: -0.5830\n",
      "Current minimum: -26.7393\n",
      "Iteration No: 10 started. Evaluating function at random point.\n"
     ]
    },
    {
     "name": "stderr",
     "output_type": "stream",
     "text": [
      "2024-05-24 19:12:39,051\tINFO worker.py:1749 -- Started a local Ray instance.\n"
     ]
    },
    {
     "name": "stdout",
     "output_type": "stream",
     "text": [
      "Iteration No: 10 ended. Evaluation done at random point.\n",
      "Time taken: 8.9081\n",
      "Function value obtained: -16.4910\n",
      "Current minimum: -26.7393\n",
      "Iteration No: 11 started. Searching for the next optimal point.\n"
     ]
    },
    {
     "name": "stderr",
     "output_type": "stream",
     "text": [
      "2024-05-24 19:12:47,965\tINFO worker.py:1749 -- Started a local Ray instance.\n"
     ]
    },
    {
     "name": "stdout",
     "output_type": "stream",
     "text": [
      "Iteration No: 11 ended. Search finished for the next optimal point.\n",
      "Time taken: 8.8131\n",
      "Function value obtained: -27.9997\n",
      "Current minimum: -27.9997\n",
      "Iteration No: 12 started. Searching for the next optimal point.\n"
     ]
    },
    {
     "name": "stderr",
     "output_type": "stream",
     "text": [
      "2024-05-24 19:12:56,768\tINFO worker.py:1749 -- Started a local Ray instance.\n"
     ]
    },
    {
     "name": "stdout",
     "output_type": "stream",
     "text": [
      "Iteration No: 12 ended. Search finished for the next optimal point.\n",
      "Time taken: 8.7463\n",
      "Function value obtained: -28.4467\n",
      "Current minimum: -28.4467\n",
      "Iteration No: 13 started. Searching for the next optimal point.\n"
     ]
    },
    {
     "name": "stderr",
     "output_type": "stream",
     "text": [
      "2024-05-24 19:13:05,517\tINFO worker.py:1749 -- Started a local Ray instance.\n"
     ]
    },
    {
     "name": "stdout",
     "output_type": "stream",
     "text": [
      "Iteration No: 13 ended. Search finished for the next optimal point.\n",
      "Time taken: 8.7956\n",
      "Function value obtained: -27.3375\n",
      "Current minimum: -28.4467\n",
      "Iteration No: 14 started. Searching for the next optimal point.\n"
     ]
    },
    {
     "name": "stderr",
     "output_type": "stream",
     "text": [
      "2024-05-24 19:13:14,292\tINFO worker.py:1749 -- Started a local Ray instance.\n"
     ]
    },
    {
     "name": "stdout",
     "output_type": "stream",
     "text": [
      "Iteration No: 14 ended. Search finished for the next optimal point.\n",
      "Time taken: 8.7755\n",
      "Function value obtained: -14.2261\n",
      "Current minimum: -28.4467\n",
      "Iteration No: 15 started. Searching for the next optimal point.\n"
     ]
    },
    {
     "name": "stderr",
     "output_type": "stream",
     "text": [
      "2024-05-24 19:13:23,065\tINFO worker.py:1749 -- Started a local Ray instance.\n"
     ]
    },
    {
     "name": "stdout",
     "output_type": "stream",
     "text": [
      "Iteration No: 15 ended. Search finished for the next optimal point.\n",
      "Time taken: 8.8205\n",
      "Function value obtained: -28.2476\n",
      "Current minimum: -28.4467\n",
      "Iteration No: 16 started. Searching for the next optimal point.\n"
     ]
    },
    {
     "name": "stderr",
     "output_type": "stream",
     "text": [
      "2024-05-24 19:13:31,916\tINFO worker.py:1749 -- Started a local Ray instance.\n"
     ]
    },
    {
     "name": "stdout",
     "output_type": "stream",
     "text": [
      "Iteration No: 16 ended. Search finished for the next optimal point.\n",
      "Time taken: 9.0165\n",
      "Function value obtained: -26.4324\n",
      "Current minimum: -28.4467\n",
      "Iteration No: 17 started. Searching for the next optimal point.\n"
     ]
    },
    {
     "name": "stderr",
     "output_type": "stream",
     "text": [
      "2024-05-24 19:13:40,921\tINFO worker.py:1749 -- Started a local Ray instance.\n"
     ]
    },
    {
     "name": "stdout",
     "output_type": "stream",
     "text": [
      "Iteration No: 17 ended. Search finished for the next optimal point.\n",
      "Time taken: 8.7226\n",
      "Function value obtained: -0.0000\n",
      "Current minimum: -28.4467\n",
      "Iteration No: 18 started. Searching for the next optimal point.\n"
     ]
    },
    {
     "name": "stderr",
     "output_type": "stream",
     "text": [
      "2024-05-24 19:13:49,679\tINFO worker.py:1749 -- Started a local Ray instance.\n"
     ]
    },
    {
     "name": "stdout",
     "output_type": "stream",
     "text": [
      "Iteration No: 18 ended. Search finished for the next optimal point.\n",
      "Time taken: 8.7945\n",
      "Function value obtained: -0.0000\n",
      "Current minimum: -28.4467\n",
      "Iteration No: 19 started. Searching for the next optimal point.\n"
     ]
    },
    {
     "name": "stderr",
     "output_type": "stream",
     "text": [
      "2024-05-24 19:13:58,484\tINFO worker.py:1749 -- Started a local Ray instance.\n"
     ]
    },
    {
     "name": "stdout",
     "output_type": "stream",
     "text": [
      "Iteration No: 19 ended. Search finished for the next optimal point.\n",
      "Time taken: 8.7617\n",
      "Function value obtained: -29.7365\n",
      "Current minimum: -29.7365\n",
      "Iteration No: 20 started. Searching for the next optimal point.\n"
     ]
    },
    {
     "name": "stderr",
     "output_type": "stream",
     "text": [
      "2024-05-24 19:14:07,223\tINFO worker.py:1749 -- Started a local Ray instance.\n"
     ]
    },
    {
     "name": "stdout",
     "output_type": "stream",
     "text": [
      "Iteration No: 20 ended. Search finished for the next optimal point.\n",
      "Time taken: 8.8635\n",
      "Function value obtained: -28.8264\n",
      "Current minimum: -29.7365\n",
      "Iteration No: 21 started. Searching for the next optimal point.\n"
     ]
    },
    {
     "name": "stderr",
     "output_type": "stream",
     "text": [
      "2024-05-24 19:14:16,093\tINFO worker.py:1749 -- Started a local Ray instance.\n"
     ]
    },
    {
     "name": "stdout",
     "output_type": "stream",
     "text": [
      "Iteration No: 21 ended. Search finished for the next optimal point.\n",
      "Time taken: 8.8558\n",
      "Function value obtained: -30.5688\n",
      "Current minimum: -30.5688\n",
      "Iteration No: 22 started. Searching for the next optimal point.\n"
     ]
    },
    {
     "name": "stderr",
     "output_type": "stream",
     "text": [
      "2024-05-24 19:14:24,959\tINFO worker.py:1749 -- Started a local Ray instance.\n"
     ]
    },
    {
     "name": "stdout",
     "output_type": "stream",
     "text": [
      "Iteration No: 22 ended. Search finished for the next optimal point.\n",
      "Time taken: 8.3566\n",
      "Function value obtained: -31.3171\n",
      "Current minimum: -31.3171\n",
      "Iteration No: 23 started. Searching for the next optimal point.\n"
     ]
    },
    {
     "name": "stderr",
     "output_type": "stream",
     "text": [
      "2024-05-24 19:14:33,327\tINFO worker.py:1749 -- Started a local Ray instance.\n"
     ]
    },
    {
     "name": "stdout",
     "output_type": "stream",
     "text": [
      "Iteration No: 23 ended. Search finished for the next optimal point.\n",
      "Time taken: 8.0471\n",
      "Function value obtained: -30.8064\n",
      "Current minimum: -31.3171\n",
      "Iteration No: 24 started. Searching for the next optimal point.\n"
     ]
    },
    {
     "name": "stderr",
     "output_type": "stream",
     "text": [
      "2024-05-24 19:14:41,383\tINFO worker.py:1749 -- Started a local Ray instance.\n"
     ]
    },
    {
     "name": "stdout",
     "output_type": "stream",
     "text": [
      "Iteration No: 24 ended. Search finished for the next optimal point.\n",
      "Time taken: 8.1063\n",
      "Function value obtained: -21.6612\n",
      "Current minimum: -31.3171\n",
      "Iteration No: 25 started. Searching for the next optimal point.\n"
     ]
    },
    {
     "name": "stderr",
     "output_type": "stream",
     "text": [
      "2024-05-24 19:14:49,515\tINFO worker.py:1749 -- Started a local Ray instance.\n"
     ]
    },
    {
     "name": "stdout",
     "output_type": "stream",
     "text": [
      "Iteration No: 25 ended. Search finished for the next optimal point.\n",
      "Time taken: 8.9988\n",
      "Function value obtained: -29.9731\n",
      "Current minimum: -31.3171\n",
      "Iteration No: 26 started. Searching for the next optimal point.\n"
     ]
    },
    {
     "name": "stderr",
     "output_type": "stream",
     "text": [
      "2024-05-24 19:14:58,523\tINFO worker.py:1749 -- Started a local Ray instance.\n"
     ]
    },
    {
     "name": "stdout",
     "output_type": "stream",
     "text": [
      "Iteration No: 26 ended. Search finished for the next optimal point.\n",
      "Time taken: 8.9511\n",
      "Function value obtained: -29.6215\n",
      "Current minimum: -31.3171\n",
      "Iteration No: 27 started. Searching for the next optimal point.\n"
     ]
    },
    {
     "name": "stderr",
     "output_type": "stream",
     "text": [
      "2024-05-24 19:15:07,462\tINFO worker.py:1749 -- Started a local Ray instance.\n"
     ]
    },
    {
     "name": "stdout",
     "output_type": "stream",
     "text": [
      "Iteration No: 27 ended. Search finished for the next optimal point.\n",
      "Time taken: 9.1322\n",
      "Function value obtained: -31.4150\n",
      "Current minimum: -31.4150\n",
      "Iteration No: 28 started. Searching for the next optimal point.\n"
     ]
    },
    {
     "name": "stderr",
     "output_type": "stream",
     "text": [
      "2024-05-24 19:15:16,590\tINFO worker.py:1749 -- Started a local Ray instance.\n"
     ]
    },
    {
     "name": "stdout",
     "output_type": "stream",
     "text": [
      "Iteration No: 28 ended. Search finished for the next optimal point.\n",
      "Time taken: 8.9694\n",
      "Function value obtained: -31.1333\n",
      "Current minimum: -31.4150\n",
      "Iteration No: 29 started. Searching for the next optimal point.\n"
     ]
    },
    {
     "name": "stderr",
     "output_type": "stream",
     "text": [
      "2024-05-24 19:15:25,570\tINFO worker.py:1749 -- Started a local Ray instance.\n"
     ]
    },
    {
     "name": "stdout",
     "output_type": "stream",
     "text": [
      "Iteration No: 29 ended. Search finished for the next optimal point.\n",
      "Time taken: 8.9227\n",
      "Function value obtained: -6.5397\n",
      "Current minimum: -31.4150\n",
      "Iteration No: 30 started. Searching for the next optimal point.\n"
     ]
    },
    {
     "name": "stderr",
     "output_type": "stream",
     "text": [
      "2024-05-24 19:15:34,515\tINFO worker.py:1749 -- Started a local Ray instance.\n"
     ]
    },
    {
     "name": "stdout",
     "output_type": "stream",
     "text": [
      "Iteration No: 30 ended. Search finished for the next optimal point.\n",
      "Time taken: 8.8802\n",
      "Function value obtained: -31.7101\n",
      "Current minimum: -31.7101\n",
      "Iteration No: 31 started. Searching for the next optimal point.\n"
     ]
    },
    {
     "name": "stderr",
     "output_type": "stream",
     "text": [
      "2024-05-24 19:15:43,379\tINFO worker.py:1749 -- Started a local Ray instance.\n"
     ]
    },
    {
     "name": "stdout",
     "output_type": "stream",
     "text": [
      "Iteration No: 31 ended. Search finished for the next optimal point.\n",
      "Time taken: 8.9249\n",
      "Function value obtained: -31.6148\n",
      "Current minimum: -31.7101\n",
      "Iteration No: 32 started. Searching for the next optimal point.\n"
     ]
    },
    {
     "name": "stderr",
     "output_type": "stream",
     "text": [
      "2024-05-24 19:15:53,303\tINFO worker.py:1749 -- Started a local Ray instance.\n"
     ]
    },
    {
     "name": "stdout",
     "output_type": "stream",
     "text": [
      "Iteration No: 32 ended. Search finished for the next optimal point.\n",
      "Time taken: 9.9819\n",
      "Function value obtained: -31.3555\n",
      "Current minimum: -31.7101\n",
      "Iteration No: 33 started. Searching for the next optimal point.\n"
     ]
    },
    {
     "name": "stderr",
     "output_type": "stream",
     "text": [
      "2024-05-24 19:16:02,334\tINFO worker.py:1749 -- Started a local Ray instance.\n"
     ]
    },
    {
     "name": "stdout",
     "output_type": "stream",
     "text": [
      "Iteration No: 33 ended. Search finished for the next optimal point.\n",
      "Time taken: 8.7532\n",
      "Function value obtained: -0.0000\n",
      "Current minimum: -31.7101\n",
      "Iteration No: 34 started. Searching for the next optimal point.\n"
     ]
    },
    {
     "name": "stderr",
     "output_type": "stream",
     "text": [
      "2024-05-24 19:16:11,055\tINFO worker.py:1749 -- Started a local Ray instance.\n"
     ]
    },
    {
     "name": "stdout",
     "output_type": "stream",
     "text": [
      "Iteration No: 34 ended. Search finished for the next optimal point.\n",
      "Time taken: 8.9633\n",
      "Function value obtained: -30.7369\n",
      "Current minimum: -31.7101\n",
      "Iteration No: 35 started. Searching for the next optimal point.\n"
     ]
    },
    {
     "name": "stderr",
     "output_type": "stream",
     "text": [
      "2024-05-24 19:16:20,017\tINFO worker.py:1749 -- Started a local Ray instance.\n"
     ]
    },
    {
     "name": "stdout",
     "output_type": "stream",
     "text": [
      "Iteration No: 35 ended. Search finished for the next optimal point.\n",
      "Time taken: 8.9807\n",
      "Function value obtained: -0.0000\n",
      "Current minimum: -31.7101\n",
      "Iteration No: 36 started. Searching for the next optimal point.\n"
     ]
    },
    {
     "name": "stderr",
     "output_type": "stream",
     "text": [
      "2024-05-24 19:16:28,992\tINFO worker.py:1749 -- Started a local Ray instance.\n"
     ]
    },
    {
     "name": "stdout",
     "output_type": "stream",
     "text": [
      "Iteration No: 36 ended. Search finished for the next optimal point.\n",
      "Time taken: 8.9359\n",
      "Function value obtained: -0.0000\n",
      "Current minimum: -31.7101\n",
      "Iteration No: 37 started. Searching for the next optimal point.\n"
     ]
    },
    {
     "name": "stderr",
     "output_type": "stream",
     "text": [
      "2024-05-24 19:16:37,929\tINFO worker.py:1749 -- Started a local Ray instance.\n"
     ]
    },
    {
     "name": "stdout",
     "output_type": "stream",
     "text": [
      "Iteration No: 37 ended. Search finished for the next optimal point.\n",
      "Time taken: 9.0881\n",
      "Function value obtained: -31.3828\n",
      "Current minimum: -31.7101\n",
      "Iteration No: 38 started. Searching for the next optimal point.\n"
     ]
    },
    {
     "name": "stderr",
     "output_type": "stream",
     "text": [
      "2024-05-24 19:16:47,050\tINFO worker.py:1749 -- Started a local Ray instance.\n"
     ]
    },
    {
     "name": "stdout",
     "output_type": "stream",
     "text": [
      "Iteration No: 38 ended. Search finished for the next optimal point.\n",
      "Time taken: 9.0722\n",
      "Function value obtained: -1.1221\n",
      "Current minimum: -31.7101\n",
      "Iteration No: 39 started. Searching for the next optimal point.\n"
     ]
    },
    {
     "name": "stderr",
     "output_type": "stream",
     "text": [
      "2024-05-24 19:16:56,131\tINFO worker.py:1749 -- Started a local Ray instance.\n"
     ]
    },
    {
     "name": "stdout",
     "output_type": "stream",
     "text": [
      "Iteration No: 39 ended. Search finished for the next optimal point.\n",
      "Time taken: 10.1829\n",
      "Function value obtained: -31.1595\n",
      "Current minimum: -31.7101\n",
      "Iteration No: 40 started. Searching for the next optimal point.\n"
     ]
    },
    {
     "name": "stderr",
     "output_type": "stream",
     "text": [
      "2024-05-24 19:17:06,317\tINFO worker.py:1749 -- Started a local Ray instance.\n"
     ]
    },
    {
     "name": "stdout",
     "output_type": "stream",
     "text": [
      "Iteration No: 40 ended. Search finished for the next optimal point.\n",
      "Time taken: 9.1643\n",
      "Function value obtained: -31.2598\n",
      "Current minimum: -31.7101\n",
      "\n",
      "--------------------\n",
      "--------------------\n",
      "Iteration No: 1 started. Evaluating function at random point.\n"
     ]
    },
    {
     "name": "stderr",
     "output_type": "stream",
     "text": [
      "2024-05-24 19:17:15,484\tINFO worker.py:1749 -- Started a local Ray instance.\n"
     ]
    },
    {
     "name": "stdout",
     "output_type": "stream",
     "text": [
      "Iteration No: 1 ended. Evaluation done at random point.\n",
      "Time taken: 8.7507\n",
      "Function value obtained: -2.5989\n",
      "Current minimum: -2.5989\n",
      "Iteration No: 2 started. Evaluating function at random point.\n"
     ]
    },
    {
     "name": "stderr",
     "output_type": "stream",
     "text": [
      "2024-05-24 19:17:24,295\tINFO worker.py:1749 -- Started a local Ray instance.\n"
     ]
    },
    {
     "name": "stdout",
     "output_type": "stream",
     "text": [
      "Iteration No: 2 ended. Evaluation done at random point.\n",
      "Time taken: 8.7705\n",
      "Function value obtained: -13.7095\n",
      "Current minimum: -13.7095\n",
      "Iteration No: 3 started. Evaluating function at random point.\n"
     ]
    },
    {
     "name": "stderr",
     "output_type": "stream",
     "text": [
      "2024-05-24 19:17:33,095\tINFO worker.py:1749 -- Started a local Ray instance.\n"
     ]
    },
    {
     "name": "stdout",
     "output_type": "stream",
     "text": [
      "Iteration No: 3 ended. Evaluation done at random point.\n",
      "Time taken: 8.8140\n",
      "Function value obtained: -11.9370\n",
      "Current minimum: -13.7095\n",
      "Iteration No: 4 started. Evaluating function at random point.\n"
     ]
    },
    {
     "name": "stderr",
     "output_type": "stream",
     "text": [
      "2024-05-24 19:17:41,861\tINFO worker.py:1749 -- Started a local Ray instance.\n"
     ]
    },
    {
     "name": "stdout",
     "output_type": "stream",
     "text": [
      "Iteration No: 4 ended. Evaluation done at random point.\n",
      "Time taken: 8.3590\n",
      "Function value obtained: -6.7621\n",
      "Current minimum: -13.7095\n",
      "Iteration No: 5 started. Evaluating function at random point.\n"
     ]
    },
    {
     "name": "stderr",
     "output_type": "stream",
     "text": [
      "2024-05-24 19:17:50,270\tINFO worker.py:1749 -- Started a local Ray instance.\n"
     ]
    },
    {
     "name": "stdout",
     "output_type": "stream",
     "text": [
      "Iteration No: 5 ended. Evaluation done at random point.\n",
      "Time taken: 8.8122\n",
      "Function value obtained: -9.9579\n",
      "Current minimum: -13.7095\n",
      "Iteration No: 6 started. Evaluating function at random point.\n"
     ]
    },
    {
     "name": "stderr",
     "output_type": "stream",
     "text": [
      "2024-05-24 19:17:59,042\tINFO worker.py:1749 -- Started a local Ray instance.\n"
     ]
    },
    {
     "name": "stdout",
     "output_type": "stream",
     "text": [
      "Iteration No: 6 ended. Evaluation done at random point.\n",
      "Time taken: 8.6047\n",
      "Function value obtained: -0.0816\n",
      "Current minimum: -13.7095\n",
      "Iteration No: 7 started. Evaluating function at random point.\n"
     ]
    },
    {
     "name": "stderr",
     "output_type": "stream",
     "text": [
      "2024-05-24 19:18:07,689\tINFO worker.py:1749 -- Started a local Ray instance.\n"
     ]
    },
    {
     "name": "stdout",
     "output_type": "stream",
     "text": [
      "Iteration No: 7 ended. Evaluation done at random point.\n",
      "Time taken: 8.8067\n",
      "Function value obtained: -1.1403\n",
      "Current minimum: -13.7095\n",
      "Iteration No: 8 started. Evaluating function at random point.\n"
     ]
    },
    {
     "name": "stderr",
     "output_type": "stream",
     "text": [
      "2024-05-24 19:18:16,473\tINFO worker.py:1749 -- Started a local Ray instance.\n"
     ]
    },
    {
     "name": "stdout",
     "output_type": "stream",
     "text": [
      "Iteration No: 8 ended. Evaluation done at random point.\n",
      "Time taken: 8.7715\n",
      "Function value obtained: -12.6753\n",
      "Current minimum: -13.7095\n",
      "Iteration No: 9 started. Evaluating function at random point.\n"
     ]
    },
    {
     "name": "stderr",
     "output_type": "stream",
     "text": [
      "2024-05-24 19:18:25,270\tINFO worker.py:1749 -- Started a local Ray instance.\n"
     ]
    },
    {
     "name": "stdout",
     "output_type": "stream",
     "text": [
      "Iteration No: 9 ended. Evaluation done at random point.\n",
      "Time taken: 8.7691\n",
      "Function value obtained: -0.7091\n",
      "Current minimum: -13.7095\n",
      "Iteration No: 10 started. Evaluating function at random point.\n"
     ]
    },
    {
     "name": "stderr",
     "output_type": "stream",
     "text": [
      "2024-05-24 19:18:34,041\tINFO worker.py:1749 -- Started a local Ray instance.\n"
     ]
    },
    {
     "name": "stdout",
     "output_type": "stream",
     "text": [
      "Iteration No: 10 ended. Evaluation done at random point.\n",
      "Time taken: 9.2388\n",
      "Function value obtained: -1.5970\n",
      "Current minimum: -13.7095\n",
      "Iteration No: 11 started. Searching for the next optimal point.\n"
     ]
    },
    {
     "name": "stderr",
     "output_type": "stream",
     "text": [
      "2024-05-24 19:18:43,243\tINFO worker.py:1749 -- Started a local Ray instance.\n"
     ]
    },
    {
     "name": "stdout",
     "output_type": "stream",
     "text": [
      "Iteration No: 11 ended. Search finished for the next optimal point.\n",
      "Time taken: 9.0674\n",
      "Function value obtained: -13.7622\n",
      "Current minimum: -13.7622\n",
      "Iteration No: 12 started. Searching for the next optimal point.\n"
     ]
    },
    {
     "name": "stderr",
     "output_type": "stream",
     "text": [
      "2024-05-24 19:18:52,295\tINFO worker.py:1749 -- Started a local Ray instance.\n"
     ]
    },
    {
     "name": "stdout",
     "output_type": "stream",
     "text": [
      "Iteration No: 12 ended. Search finished for the next optimal point.\n",
      "Time taken: 8.6153\n",
      "Function value obtained: -13.2632\n",
      "Current minimum: -13.7622\n",
      "Iteration No: 13 started. Searching for the next optimal point.\n"
     ]
    },
    {
     "name": "stderr",
     "output_type": "stream",
     "text": [
      "2024-05-24 19:19:01,000\tINFO worker.py:1749 -- Started a local Ray instance.\n"
     ]
    },
    {
     "name": "stdout",
     "output_type": "stream",
     "text": [
      "Iteration No: 13 ended. Search finished for the next optimal point.\n",
      "Time taken: 9.0366\n",
      "Function value obtained: -13.0581\n",
      "Current minimum: -13.7622\n",
      "Iteration No: 14 started. Searching for the next optimal point.\n"
     ]
    },
    {
     "name": "stderr",
     "output_type": "stream",
     "text": [
      "2024-05-24 19:19:10,046\tINFO worker.py:1749 -- Started a local Ray instance.\n"
     ]
    },
    {
     "name": "stdout",
     "output_type": "stream",
     "text": [
      "Iteration No: 14 ended. Search finished for the next optimal point.\n",
      "Time taken: 9.6125\n",
      "Function value obtained: -0.0604\n",
      "Current minimum: -13.7622\n",
      "Iteration No: 15 started. Searching for the next optimal point.\n"
     ]
    },
    {
     "name": "stderr",
     "output_type": "stream",
     "text": [
      "2024-05-24 19:19:19,610\tINFO worker.py:1749 -- Started a local Ray instance.\n"
     ]
    },
    {
     "name": "stdout",
     "output_type": "stream",
     "text": [
      "Iteration No: 15 ended. Search finished for the next optimal point.\n",
      "Time taken: 9.3962\n",
      "Function value obtained: -13.8986\n",
      "Current minimum: -13.8986\n",
      "Iteration No: 16 started. Searching for the next optimal point.\n"
     ]
    },
    {
     "name": "stderr",
     "output_type": "stream",
     "text": [
      "2024-05-24 19:19:29,061\tINFO worker.py:1749 -- Started a local Ray instance.\n"
     ]
    },
    {
     "name": "stdout",
     "output_type": "stream",
     "text": [
      "Iteration No: 16 ended. Search finished for the next optimal point.\n",
      "Time taken: 9.3479\n",
      "Function value obtained: -13.3746\n",
      "Current minimum: -13.8986\n",
      "Iteration No: 17 started. Searching for the next optimal point.\n"
     ]
    },
    {
     "name": "stderr",
     "output_type": "stream",
     "text": [
      "2024-05-24 19:19:38,356\tINFO worker.py:1749 -- Started a local Ray instance.\n"
     ]
    },
    {
     "name": "stdout",
     "output_type": "stream",
     "text": [
      "Iteration No: 17 ended. Search finished for the next optimal point.\n",
      "Time taken: 8.6922\n",
      "Function value obtained: -12.8879\n",
      "Current minimum: -13.8986\n",
      "Iteration No: 18 started. Searching for the next optimal point.\n"
     ]
    },
    {
     "name": "stderr",
     "output_type": "stream",
     "text": [
      "2024-05-24 19:19:47,080\tINFO worker.py:1749 -- Started a local Ray instance.\n"
     ]
    },
    {
     "name": "stdout",
     "output_type": "stream",
     "text": [
      "Iteration No: 18 ended. Search finished for the next optimal point.\n",
      "Time taken: 9.1179\n",
      "Function value obtained: -13.4850\n",
      "Current minimum: -13.8986\n",
      "Iteration No: 19 started. Searching for the next optimal point.\n"
     ]
    },
    {
     "name": "stderr",
     "output_type": "stream",
     "text": [
      "2024-05-24 19:19:56,195\tINFO worker.py:1749 -- Started a local Ray instance.\n"
     ]
    },
    {
     "name": "stdout",
     "output_type": "stream",
     "text": [
      "Iteration No: 19 ended. Search finished for the next optimal point.\n",
      "Time taken: 9.0332\n",
      "Function value obtained: -13.4547\n",
      "Current minimum: -13.8986\n",
      "Iteration No: 20 started. Searching for the next optimal point.\n"
     ]
    },
    {
     "name": "stderr",
     "output_type": "stream",
     "text": [
      "2024-05-24 19:20:05,227\tINFO worker.py:1749 -- Started a local Ray instance.\n"
     ]
    },
    {
     "name": "stdout",
     "output_type": "stream",
     "text": [
      "Iteration No: 20 ended. Search finished for the next optimal point.\n",
      "Time taken: 9.0526\n",
      "Function value obtained: -13.3495\n",
      "Current minimum: -13.8986\n",
      "Iteration No: 21 started. Searching for the next optimal point.\n"
     ]
    },
    {
     "name": "stderr",
     "output_type": "stream",
     "text": [
      "2024-05-24 19:20:14,258\tINFO worker.py:1749 -- Started a local Ray instance.\n"
     ]
    },
    {
     "name": "stdout",
     "output_type": "stream",
     "text": [
      "Iteration No: 21 ended. Search finished for the next optimal point.\n",
      "Time taken: 9.0562\n",
      "Function value obtained: -0.2710\n",
      "Current minimum: -13.8986\n",
      "Iteration No: 22 started. Searching for the next optimal point.\n"
     ]
    },
    {
     "name": "stderr",
     "output_type": "stream",
     "text": [
      "2024-05-24 19:20:23,357\tINFO worker.py:1749 -- Started a local Ray instance.\n"
     ]
    },
    {
     "name": "stdout",
     "output_type": "stream",
     "text": [
      "Iteration No: 22 ended. Search finished for the next optimal point.\n",
      "Time taken: 9.2721\n",
      "Function value obtained: -13.5180\n",
      "Current minimum: -13.8986\n",
      "Iteration No: 23 started. Searching for the next optimal point.\n"
     ]
    },
    {
     "name": "stderr",
     "output_type": "stream",
     "text": [
      "2024-05-24 19:20:32,636\tINFO worker.py:1749 -- Started a local Ray instance.\n"
     ]
    },
    {
     "name": "stdout",
     "output_type": "stream",
     "text": [
      "Iteration No: 23 ended. Search finished for the next optimal point.\n",
      "Time taken: 9.2449\n",
      "Function value obtained: -13.4055\n",
      "Current minimum: -13.8986\n",
      "Iteration No: 24 started. Searching for the next optimal point.\n"
     ]
    },
    {
     "name": "stderr",
     "output_type": "stream",
     "text": [
      "2024-05-24 19:20:41,911\tINFO worker.py:1749 -- Started a local Ray instance.\n"
     ]
    },
    {
     "name": "stdout",
     "output_type": "stream",
     "text": [
      "Iteration No: 24 ended. Search finished for the next optimal point.\n",
      "Time taken: 9.0993\n",
      "Function value obtained: -13.9822\n",
      "Current minimum: -13.9822\n",
      "Iteration No: 25 started. Searching for the next optimal point.\n"
     ]
    },
    {
     "name": "stderr",
     "output_type": "stream",
     "text": [
      "2024-05-24 19:20:50,937\tINFO worker.py:1749 -- Started a local Ray instance.\n"
     ]
    },
    {
     "name": "stdout",
     "output_type": "stream",
     "text": [
      "Iteration No: 25 ended. Search finished for the next optimal point.\n",
      "Time taken: 9.0729\n",
      "Function value obtained: -13.2498\n",
      "Current minimum: -13.9822\n",
      "Iteration No: 26 started. Searching for the next optimal point.\n"
     ]
    },
    {
     "name": "stderr",
     "output_type": "stream",
     "text": [
      "2024-05-24 19:21:00,020\tINFO worker.py:1749 -- Started a local Ray instance.\n"
     ]
    },
    {
     "name": "stdout",
     "output_type": "stream",
     "text": [
      "Iteration No: 26 ended. Search finished for the next optimal point.\n",
      "Time taken: 9.2779\n",
      "Function value obtained: -13.4668\n",
      "Current minimum: -13.9822\n",
      "Iteration No: 27 started. Searching for the next optimal point.\n"
     ]
    },
    {
     "name": "stderr",
     "output_type": "stream",
     "text": [
      "2024-05-24 19:21:10,320\tINFO worker.py:1749 -- Started a local Ray instance.\n"
     ]
    },
    {
     "name": "stdout",
     "output_type": "stream",
     "text": [
      "Iteration No: 27 ended. Search finished for the next optimal point.\n",
      "Time taken: 10.4320\n",
      "Function value obtained: -13.4532\n",
      "Current minimum: -13.9822\n",
      "Iteration No: 28 started. Searching for the next optimal point.\n"
     ]
    },
    {
     "name": "stderr",
     "output_type": "stream",
     "text": [
      "2024-05-24 19:21:19,748\tINFO worker.py:1749 -- Started a local Ray instance.\n"
     ]
    },
    {
     "name": "stdout",
     "output_type": "stream",
     "text": [
      "Iteration No: 28 ended. Search finished for the next optimal point.\n",
      "Time taken: 9.5455\n",
      "Function value obtained: -13.1296\n",
      "Current minimum: -13.9822\n",
      "Iteration No: 29 started. Searching for the next optimal point.\n"
     ]
    },
    {
     "name": "stderr",
     "output_type": "stream",
     "text": [
      "2024-05-24 19:21:29,312\tINFO worker.py:1749 -- Started a local Ray instance.\n"
     ]
    },
    {
     "name": "stdout",
     "output_type": "stream",
     "text": [
      "Iteration No: 29 ended. Search finished for the next optimal point.\n",
      "Time taken: 9.2624\n",
      "Function value obtained: -13.3584\n",
      "Current minimum: -13.9822\n",
      "Iteration No: 30 started. Searching for the next optimal point.\n"
     ]
    },
    {
     "name": "stderr",
     "output_type": "stream",
     "text": [
      "2024-05-24 19:21:38,625\tINFO worker.py:1749 -- Started a local Ray instance.\n"
     ]
    },
    {
     "name": "stdout",
     "output_type": "stream",
     "text": [
      "Iteration No: 30 ended. Search finished for the next optimal point.\n",
      "Time taken: 10.1221\n",
      "Function value obtained: -12.4933\n",
      "Current minimum: -13.9822\n",
      "Iteration No: 31 started. Searching for the next optimal point.\n"
     ]
    },
    {
     "name": "stderr",
     "output_type": "stream",
     "text": [
      "2024-05-24 19:21:48,713\tINFO worker.py:1749 -- Started a local Ray instance.\n"
     ]
    },
    {
     "name": "stdout",
     "output_type": "stream",
     "text": [
      "Iteration No: 31 ended. Search finished for the next optimal point.\n",
      "Time taken: 9.1819\n",
      "Function value obtained: -13.2568\n",
      "Current minimum: -13.9822\n",
      "Iteration No: 32 started. Searching for the next optimal point.\n"
     ]
    },
    {
     "name": "stderr",
     "output_type": "stream",
     "text": [
      "2024-05-24 19:21:57,916\tINFO worker.py:1749 -- Started a local Ray instance.\n"
     ]
    },
    {
     "name": "stdout",
     "output_type": "stream",
     "text": [
      "Iteration No: 32 ended. Search finished for the next optimal point.\n",
      "Time taken: 8.7738\n",
      "Function value obtained: -13.2592\n",
      "Current minimum: -13.9822\n",
      "Iteration No: 33 started. Searching for the next optimal point.\n"
     ]
    },
    {
     "name": "stderr",
     "output_type": "stream",
     "text": [
      "2024-05-24 19:22:06,642\tINFO worker.py:1749 -- Started a local Ray instance.\n"
     ]
    },
    {
     "name": "stdout",
     "output_type": "stream",
     "text": [
      "Iteration No: 33 ended. Search finished for the next optimal point.\n",
      "Time taken: 9.4649\n",
      "Function value obtained: -13.5029\n",
      "Current minimum: -13.9822\n",
      "Iteration No: 34 started. Searching for the next optimal point.\n"
     ]
    },
    {
     "name": "stderr",
     "output_type": "stream",
     "text": [
      "2024-05-24 19:22:16,166\tINFO worker.py:1749 -- Started a local Ray instance.\n"
     ]
    },
    {
     "name": "stdout",
     "output_type": "stream",
     "text": [
      "Iteration No: 34 ended. Search finished for the next optimal point.\n",
      "Time taken: 9.1748\n",
      "Function value obtained: -13.6450\n",
      "Current minimum: -13.9822\n",
      "Iteration No: 35 started. Searching for the next optimal point.\n"
     ]
    },
    {
     "name": "stderr",
     "output_type": "stream",
     "text": [
      "2024-05-24 19:22:25,332\tINFO worker.py:1749 -- Started a local Ray instance.\n"
     ]
    },
    {
     "name": "stdout",
     "output_type": "stream",
     "text": [
      "Iteration No: 35 ended. Search finished for the next optimal point.\n",
      "Time taken: 9.2320\n",
      "Function value obtained: -12.8053\n",
      "Current minimum: -13.9822\n",
      "Iteration No: 36 started. Searching for the next optimal point.\n"
     ]
    },
    {
     "name": "stderr",
     "output_type": "stream",
     "text": [
      "2024-05-24 19:22:34,628\tINFO worker.py:1749 -- Started a local Ray instance.\n"
     ]
    },
    {
     "name": "stdout",
     "output_type": "stream",
     "text": [
      "Iteration No: 36 ended. Search finished for the next optimal point.\n",
      "Time taken: 9.2320\n",
      "Function value obtained: -12.8431\n",
      "Current minimum: -13.9822\n",
      "Iteration No: 37 started. Searching for the next optimal point.\n"
     ]
    },
    {
     "name": "stderr",
     "output_type": "stream",
     "text": [
      "2024-05-24 19:22:43,888\tINFO worker.py:1749 -- Started a local Ray instance.\n"
     ]
    },
    {
     "name": "stdout",
     "output_type": "stream",
     "text": [
      "Iteration No: 37 ended. Search finished for the next optimal point.\n",
      "Time taken: 9.8065\n",
      "Function value obtained: -13.9130\n",
      "Current minimum: -13.9822\n",
      "Iteration No: 38 started. Searching for the next optimal point.\n"
     ]
    },
    {
     "name": "stderr",
     "output_type": "stream",
     "text": [
      "2024-05-24 19:22:53,601\tINFO worker.py:1749 -- Started a local Ray instance.\n"
     ]
    },
    {
     "name": "stdout",
     "output_type": "stream",
     "text": [
      "Iteration No: 38 ended. Search finished for the next optimal point.\n",
      "Time taken: 9.1979\n",
      "Function value obtained: -13.3716\n",
      "Current minimum: -13.9822\n",
      "Iteration No: 39 started. Searching for the next optimal point.\n"
     ]
    },
    {
     "name": "stderr",
     "output_type": "stream",
     "text": [
      "2024-05-24 19:23:03,794\tINFO worker.py:1749 -- Started a local Ray instance.\n"
     ]
    },
    {
     "name": "stdout",
     "output_type": "stream",
     "text": [
      "Iteration No: 39 ended. Search finished for the next optimal point.\n",
      "Time taken: 10.1941\n",
      "Function value obtained: -13.5835\n",
      "Current minimum: -13.9822\n",
      "Iteration No: 40 started. Searching for the next optimal point.\n"
     ]
    },
    {
     "name": "stderr",
     "output_type": "stream",
     "text": [
      "2024-05-24 19:23:12,961\tINFO worker.py:1749 -- Started a local Ray instance.\n"
     ]
    },
    {
     "name": "stdout",
     "output_type": "stream",
     "text": [
      "Iteration No: 40 ended. Search finished for the next optimal point.\n",
      "Time taken: 9.3120\n",
      "Function value obtained: -12.9922\n",
      "Current minimum: -13.9822\n",
      "\n",
      "--------------------\n",
      "--------------------\n",
      "Iteration No: 1 started. Evaluating function at random point.\n"
     ]
    },
    {
     "name": "stderr",
     "output_type": "stream",
     "text": [
      "2024-05-24 19:23:22,354\tINFO worker.py:1749 -- Started a local Ray instance.\n"
     ]
    },
    {
     "name": "stdout",
     "output_type": "stream",
     "text": [
      "Iteration No: 1 ended. Evaluation done at random point.\n",
      "Time taken: 9.2445\n",
      "Function value obtained: -2.8234\n",
      "Current minimum: -2.8234\n",
      "Iteration No: 2 started. Evaluating function at random point.\n"
     ]
    },
    {
     "name": "stderr",
     "output_type": "stream",
     "text": [
      "2024-05-24 19:23:31,648\tINFO worker.py:1749 -- Started a local Ray instance.\n"
     ]
    },
    {
     "name": "stdout",
     "output_type": "stream",
     "text": [
      "Iteration No: 2 ended. Evaluation done at random point.\n",
      "Time taken: 9.5994\n",
      "Function value obtained: -3.8033\n",
      "Current minimum: -3.8033\n",
      "Iteration No: 3 started. Evaluating function at random point.\n"
     ]
    },
    {
     "name": "stderr",
     "output_type": "stream",
     "text": [
      "2024-05-24 19:23:41,195\tINFO worker.py:1749 -- Started a local Ray instance.\n"
     ]
    },
    {
     "name": "stdout",
     "output_type": "stream",
     "text": [
      "Iteration No: 3 ended. Evaluation done at random point.\n",
      "Time taken: 9.6936\n",
      "Function value obtained: -1.7693\n",
      "Current minimum: -3.8033\n",
      "Iteration No: 4 started. Evaluating function at random point.\n"
     ]
    },
    {
     "name": "stderr",
     "output_type": "stream",
     "text": [
      "2024-05-24 19:23:50,848\tINFO worker.py:1749 -- Started a local Ray instance.\n"
     ]
    },
    {
     "name": "stdout",
     "output_type": "stream",
     "text": [
      "Iteration No: 4 ended. Evaluation done at random point.\n",
      "Time taken: 9.0173\n",
      "Function value obtained: -10.7400\n",
      "Current minimum: -10.7400\n",
      "Iteration No: 5 started. Evaluating function at random point.\n"
     ]
    },
    {
     "name": "stderr",
     "output_type": "stream",
     "text": [
      "2024-05-24 19:23:59,928\tINFO worker.py:1749 -- Started a local Ray instance.\n"
     ]
    },
    {
     "name": "stdout",
     "output_type": "stream",
     "text": [
      "Iteration No: 5 ended. Evaluation done at random point.\n",
      "Time taken: 9.5029\n",
      "Function value obtained: -4.5722\n",
      "Current minimum: -10.7400\n",
      "Iteration No: 6 started. Evaluating function at random point.\n"
     ]
    },
    {
     "name": "stderr",
     "output_type": "stream",
     "text": [
      "2024-05-24 19:24:09,962\tINFO worker.py:1749 -- Started a local Ray instance.\n"
     ]
    },
    {
     "name": "stdout",
     "output_type": "stream",
     "text": [
      "Iteration No: 6 ended. Evaluation done at random point.\n",
      "Time taken: 9.8481\n",
      "Function value obtained: -24.1916\n",
      "Current minimum: -24.1916\n",
      "Iteration No: 7 started. Evaluating function at random point.\n"
     ]
    },
    {
     "name": "stderr",
     "output_type": "stream",
     "text": [
      "2024-05-24 19:24:19,279\tINFO worker.py:1749 -- Started a local Ray instance.\n"
     ]
    },
    {
     "name": "stdout",
     "output_type": "stream",
     "text": [
      "Iteration No: 7 ended. Evaluation done at random point.\n",
      "Time taken: 9.0514\n",
      "Function value obtained: -2.3565\n",
      "Current minimum: -24.1916\n",
      "Iteration No: 8 started. Evaluating function at random point.\n"
     ]
    },
    {
     "name": "stderr",
     "output_type": "stream",
     "text": [
      "2024-05-24 19:24:28,437\tINFO worker.py:1749 -- Started a local Ray instance.\n"
     ]
    },
    {
     "name": "stdout",
     "output_type": "stream",
     "text": [
      "Iteration No: 8 ended. Evaluation done at random point.\n",
      "Time taken: 10.0270\n",
      "Function value obtained: -6.1845\n",
      "Current minimum: -24.1916\n",
      "Iteration No: 9 started. Evaluating function at random point.\n"
     ]
    },
    {
     "name": "stderr",
     "output_type": "stream",
     "text": [
      "2024-05-24 19:24:38,375\tINFO worker.py:1749 -- Started a local Ray instance.\n"
     ]
    },
    {
     "name": "stdout",
     "output_type": "stream",
     "text": [
      "Iteration No: 9 ended. Evaluation done at random point.\n",
      "Time taken: 9.3369\n",
      "Function value obtained: -19.4562\n",
      "Current minimum: -24.1916\n",
      "Iteration No: 10 started. Evaluating function at random point.\n"
     ]
    },
    {
     "name": "stderr",
     "output_type": "stream",
     "text": [
      "2024-05-24 19:24:47,634\tINFO worker.py:1749 -- Started a local Ray instance.\n"
     ]
    },
    {
     "name": "stdout",
     "output_type": "stream",
     "text": [
      "Iteration No: 10 ended. Evaluation done at random point.\n",
      "Time taken: 9.2591\n",
      "Function value obtained: -23.4271\n",
      "Current minimum: -24.1916\n",
      "Iteration No: 11 started. Searching for the next optimal point.\n"
     ]
    },
    {
     "name": "stderr",
     "output_type": "stream",
     "text": [
      "2024-05-24 19:24:56,952\tINFO worker.py:1749 -- Started a local Ray instance.\n"
     ]
    },
    {
     "name": "stdout",
     "output_type": "stream",
     "text": [
      "Iteration No: 11 ended. Search finished for the next optimal point.\n",
      "Time taken: 9.0426\n",
      "Function value obtained: -1.3370\n",
      "Current minimum: -24.1916\n",
      "Iteration No: 12 started. Searching for the next optimal point.\n"
     ]
    },
    {
     "name": "stderr",
     "output_type": "stream",
     "text": [
      "2024-05-24 19:25:06,027\tINFO worker.py:1749 -- Started a local Ray instance.\n"
     ]
    },
    {
     "name": "stdout",
     "output_type": "stream",
     "text": [
      "Iteration No: 12 ended. Search finished for the next optimal point.\n",
      "Time taken: 10.9825\n",
      "Function value obtained: -24.1701\n",
      "Current minimum: -24.1916\n",
      "Iteration No: 13 started. Searching for the next optimal point.\n"
     ]
    },
    {
     "name": "stderr",
     "output_type": "stream",
     "text": [
      "2024-05-24 19:25:17,010\tINFO worker.py:1749 -- Started a local Ray instance.\n"
     ]
    },
    {
     "name": "stdout",
     "output_type": "stream",
     "text": [
      "Iteration No: 13 ended. Search finished for the next optimal point.\n",
      "Time taken: 9.7463\n",
      "Function value obtained: -23.5009\n",
      "Current minimum: -24.1916\n",
      "Iteration No: 14 started. Searching for the next optimal point.\n"
     ]
    },
    {
     "name": "stderr",
     "output_type": "stream",
     "text": [
      "2024-05-24 19:25:26,729\tINFO worker.py:1749 -- Started a local Ray instance.\n"
     ]
    },
    {
     "name": "stdout",
     "output_type": "stream",
     "text": [
      "Iteration No: 14 ended. Search finished for the next optimal point.\n",
      "Time taken: 9.3757\n",
      "Function value obtained: -24.3974\n",
      "Current minimum: -24.3974\n",
      "Iteration No: 15 started. Searching for the next optimal point.\n"
     ]
    },
    {
     "name": "stderr",
     "output_type": "stream",
     "text": [
      "2024-05-24 19:25:36,163\tINFO worker.py:1749 -- Started a local Ray instance.\n"
     ]
    },
    {
     "name": "stdout",
     "output_type": "stream",
     "text": [
      "Iteration No: 15 ended. Search finished for the next optimal point.\n",
      "Time taken: 9.3587\n",
      "Function value obtained: -23.9335\n",
      "Current minimum: -24.3974\n",
      "Iteration No: 16 started. Searching for the next optimal point.\n"
     ]
    },
    {
     "name": "stderr",
     "output_type": "stream",
     "text": [
      "2024-05-24 19:25:45,524\tINFO worker.py:1749 -- Started a local Ray instance.\n"
     ]
    },
    {
     "name": "stdout",
     "output_type": "stream",
     "text": [
      "Iteration No: 16 ended. Search finished for the next optimal point.\n",
      "Time taken: 9.1368\n",
      "Function value obtained: -24.2812\n",
      "Current minimum: -24.3974\n",
      "Iteration No: 17 started. Searching for the next optimal point.\n"
     ]
    },
    {
     "name": "stderr",
     "output_type": "stream",
     "text": [
      "2024-05-24 19:25:54,684\tINFO worker.py:1749 -- Started a local Ray instance.\n"
     ]
    },
    {
     "name": "stdout",
     "output_type": "stream",
     "text": [
      "Iteration No: 17 ended. Search finished for the next optimal point.\n",
      "Time taken: 10.3667\n",
      "Function value obtained: -23.7564\n",
      "Current minimum: -24.3974\n",
      "Iteration No: 18 started. Searching for the next optimal point.\n"
     ]
    },
    {
     "name": "stderr",
     "output_type": "stream",
     "text": [
      "2024-05-24 19:26:05,077\tINFO worker.py:1749 -- Started a local Ray instance.\n"
     ]
    },
    {
     "name": "stdout",
     "output_type": "stream",
     "text": [
      "Iteration No: 18 ended. Search finished for the next optimal point.\n",
      "Time taken: 9.3228\n",
      "Function value obtained: -24.0885\n",
      "Current minimum: -24.3974\n",
      "Iteration No: 19 started. Searching for the next optimal point.\n"
     ]
    },
    {
     "name": "stderr",
     "output_type": "stream",
     "text": [
      "2024-05-24 19:26:14,409\tINFO worker.py:1749 -- Started a local Ray instance.\n"
     ]
    },
    {
     "name": "stdout",
     "output_type": "stream",
     "text": [
      "Iteration No: 19 ended. Search finished for the next optimal point.\n",
      "Time taken: 9.4847\n",
      "Function value obtained: -1.4339\n",
      "Current minimum: -24.3974\n",
      "Iteration No: 20 started. Searching for the next optimal point.\n"
     ]
    },
    {
     "name": "stderr",
     "output_type": "stream",
     "text": [
      "2024-05-24 19:26:23,892\tINFO worker.py:1749 -- Started a local Ray instance.\n"
     ]
    },
    {
     "name": "stdout",
     "output_type": "stream",
     "text": [
      "Iteration No: 20 ended. Search finished for the next optimal point.\n",
      "Time taken: 9.4311\n",
      "Function value obtained: -22.5492\n",
      "Current minimum: -24.3974\n",
      "Iteration No: 21 started. Searching for the next optimal point.\n"
     ]
    },
    {
     "name": "stderr",
     "output_type": "stream",
     "text": [
      "2024-05-24 19:26:33,288\tINFO worker.py:1749 -- Started a local Ray instance.\n"
     ]
    },
    {
     "name": "stdout",
     "output_type": "stream",
     "text": [
      "Iteration No: 21 ended. Search finished for the next optimal point.\n",
      "Time taken: 9.4446\n",
      "Function value obtained: -24.1125\n",
      "Current minimum: -24.3974\n",
      "Iteration No: 22 started. Searching for the next optimal point.\n"
     ]
    },
    {
     "name": "stderr",
     "output_type": "stream",
     "text": [
      "2024-05-24 19:26:42,735\tINFO worker.py:1749 -- Started a local Ray instance.\n"
     ]
    },
    {
     "name": "stdout",
     "output_type": "stream",
     "text": [
      "Iteration No: 22 ended. Search finished for the next optimal point.\n",
      "Time taken: 9.8582\n",
      "Function value obtained: -24.9897\n",
      "Current minimum: -24.9897\n",
      "Iteration No: 23 started. Searching for the next optimal point.\n"
     ]
    },
    {
     "name": "stderr",
     "output_type": "stream",
     "text": [
      "2024-05-24 19:26:52,597\tINFO worker.py:1749 -- Started a local Ray instance.\n"
     ]
    },
    {
     "name": "stdout",
     "output_type": "stream",
     "text": [
      "Iteration No: 23 ended. Search finished for the next optimal point.\n",
      "Time taken: 9.5239\n",
      "Function value obtained: -24.3544\n",
      "Current minimum: -24.9897\n",
      "Iteration No: 24 started. Searching for the next optimal point.\n"
     ]
    },
    {
     "name": "stderr",
     "output_type": "stream",
     "text": [
      "2024-05-24 19:27:02,131\tINFO worker.py:1749 -- Started a local Ray instance.\n"
     ]
    },
    {
     "name": "stdout",
     "output_type": "stream",
     "text": [
      "Iteration No: 24 ended. Search finished for the next optimal point.\n",
      "Time taken: 9.5923\n",
      "Function value obtained: -24.7287\n",
      "Current minimum: -24.9897\n",
      "Iteration No: 25 started. Searching for the next optimal point.\n"
     ]
    },
    {
     "name": "stderr",
     "output_type": "stream",
     "text": [
      "2024-05-24 19:27:11,732\tINFO worker.py:1749 -- Started a local Ray instance.\n"
     ]
    },
    {
     "name": "stdout",
     "output_type": "stream",
     "text": [
      "Iteration No: 25 ended. Search finished for the next optimal point.\n",
      "Time taken: 9.7160\n",
      "Function value obtained: -25.5449\n",
      "Current minimum: -25.5449\n",
      "Iteration No: 26 started. Searching for the next optimal point.\n"
     ]
    },
    {
     "name": "stderr",
     "output_type": "stream",
     "text": [
      "2024-05-24 19:27:21,440\tINFO worker.py:1749 -- Started a local Ray instance.\n"
     ]
    },
    {
     "name": "stdout",
     "output_type": "stream",
     "text": [
      "Iteration No: 26 ended. Search finished for the next optimal point.\n",
      "Time taken: 10.0578\n",
      "Function value obtained: -24.2661\n",
      "Current minimum: -25.5449\n",
      "Iteration No: 27 started. Searching for the next optimal point.\n"
     ]
    },
    {
     "name": "stderr",
     "output_type": "stream",
     "text": [
      "2024-05-24 19:27:31,518\tINFO worker.py:1749 -- Started a local Ray instance.\n"
     ]
    },
    {
     "name": "stdout",
     "output_type": "stream",
     "text": [
      "Iteration No: 27 ended. Search finished for the next optimal point.\n",
      "Time taken: 11.0957\n",
      "Function value obtained: -23.8934\n",
      "Current minimum: -25.5449\n",
      "Iteration No: 28 started. Searching for the next optimal point.\n"
     ]
    },
    {
     "name": "stderr",
     "output_type": "stream",
     "text": [
      "2024-05-24 19:27:42,609\tINFO worker.py:1749 -- Started a local Ray instance.\n"
     ]
    },
    {
     "name": "stdout",
     "output_type": "stream",
     "text": [
      "Iteration No: 28 ended. Search finished for the next optimal point.\n",
      "Time taken: 10.4367\n",
      "Function value obtained: -24.8825\n",
      "Current minimum: -25.5449\n",
      "Iteration No: 29 started. Searching for the next optimal point.\n"
     ]
    },
    {
     "name": "stderr",
     "output_type": "stream",
     "text": [
      "2024-05-24 19:27:53,047\tINFO worker.py:1749 -- Started a local Ray instance.\n"
     ]
    },
    {
     "name": "stdout",
     "output_type": "stream",
     "text": [
      "Iteration No: 29 ended. Search finished for the next optimal point.\n",
      "Time taken: 9.5060\n",
      "Function value obtained: -25.2361\n",
      "Current minimum: -25.5449\n",
      "Iteration No: 30 started. Searching for the next optimal point.\n"
     ]
    },
    {
     "name": "stderr",
     "output_type": "stream",
     "text": [
      "2024-05-24 19:28:02,591\tINFO worker.py:1749 -- Started a local Ray instance.\n"
     ]
    },
    {
     "name": "stdout",
     "output_type": "stream",
     "text": [
      "Iteration No: 30 ended. Search finished for the next optimal point.\n",
      "Time taken: 9.4736\n",
      "Function value obtained: -24.0366\n",
      "Current minimum: -25.5449\n",
      "Iteration No: 31 started. Searching for the next optimal point.\n"
     ]
    },
    {
     "name": "stderr",
     "output_type": "stream",
     "text": [
      "2024-05-24 19:28:12,059\tINFO worker.py:1749 -- Started a local Ray instance.\n"
     ]
    },
    {
     "name": "stdout",
     "output_type": "stream",
     "text": [
      "Iteration No: 31 ended. Search finished for the next optimal point.\n",
      "Time taken: 9.4649\n",
      "Function value obtained: -25.2479\n",
      "Current minimum: -25.5449\n",
      "Iteration No: 32 started. Searching for the next optimal point.\n"
     ]
    },
    {
     "name": "stderr",
     "output_type": "stream",
     "text": [
      "2024-05-24 19:28:22,539\tINFO worker.py:1749 -- Started a local Ray instance.\n"
     ]
    },
    {
     "name": "stdout",
     "output_type": "stream",
     "text": [
      "Iteration No: 32 ended. Search finished for the next optimal point.\n",
      "Time taken: 11.1297\n",
      "Function value obtained: -24.3826\n",
      "Current minimum: -25.5449\n",
      "Iteration No: 33 started. Searching for the next optimal point.\n"
     ]
    },
    {
     "name": "stderr",
     "output_type": "stream",
     "text": [
      "2024-05-24 19:28:32,723\tINFO worker.py:1749 -- Started a local Ray instance.\n"
     ]
    },
    {
     "name": "stdout",
     "output_type": "stream",
     "text": [
      "Iteration No: 33 ended. Search finished for the next optimal point.\n",
      "Time taken: 9.4881\n",
      "Function value obtained: -25.3757\n",
      "Current minimum: -25.5449\n",
      "Iteration No: 34 started. Searching for the next optimal point.\n"
     ]
    },
    {
     "name": "stderr",
     "output_type": "stream",
     "text": [
      "2024-05-24 19:28:42,184\tINFO worker.py:1749 -- Started a local Ray instance.\n"
     ]
    },
    {
     "name": "stdout",
     "output_type": "stream",
     "text": [
      "Iteration No: 34 ended. Search finished for the next optimal point.\n",
      "Time taken: 9.4984\n",
      "Function value obtained: -24.6935\n",
      "Current minimum: -25.5449\n",
      "Iteration No: 35 started. Searching for the next optimal point.\n"
     ]
    },
    {
     "name": "stderr",
     "output_type": "stream",
     "text": [
      "2024-05-24 19:28:51,719\tINFO worker.py:1749 -- Started a local Ray instance.\n"
     ]
    },
    {
     "name": "stdout",
     "output_type": "stream",
     "text": [
      "Iteration No: 35 ended. Search finished for the next optimal point.\n",
      "Time taken: 9.5176\n",
      "Function value obtained: -24.6567\n",
      "Current minimum: -25.5449\n",
      "Iteration No: 36 started. Searching for the next optimal point.\n"
     ]
    },
    {
     "name": "stderr",
     "output_type": "stream",
     "text": [
      "2024-05-24 19:29:01,227\tINFO worker.py:1749 -- Started a local Ray instance.\n"
     ]
    },
    {
     "name": "stdout",
     "output_type": "stream",
     "text": [
      "Iteration No: 36 ended. Search finished for the next optimal point.\n",
      "Time taken: 9.9622\n",
      "Function value obtained: -24.5985\n",
      "Current minimum: -25.5449\n",
      "Iteration No: 37 started. Searching for the next optimal point.\n"
     ]
    },
    {
     "name": "stderr",
     "output_type": "stream",
     "text": [
      "2024-05-24 19:29:11,197\tINFO worker.py:1749 -- Started a local Ray instance.\n"
     ]
    },
    {
     "name": "stdout",
     "output_type": "stream",
     "text": [
      "Iteration No: 37 ended. Search finished for the next optimal point.\n",
      "Time taken: 9.6649\n",
      "Function value obtained: -23.9832\n",
      "Current minimum: -25.5449\n",
      "Iteration No: 38 started. Searching for the next optimal point.\n"
     ]
    },
    {
     "name": "stderr",
     "output_type": "stream",
     "text": [
      "2024-05-24 19:29:20,844\tINFO worker.py:1749 -- Started a local Ray instance.\n"
     ]
    },
    {
     "name": "stdout",
     "output_type": "stream",
     "text": [
      "Iteration No: 38 ended. Search finished for the next optimal point.\n",
      "Time taken: 10.2147\n",
      "Function value obtained: -24.7094\n",
      "Current minimum: -25.5449\n",
      "Iteration No: 39 started. Searching for the next optimal point.\n"
     ]
    },
    {
     "name": "stderr",
     "output_type": "stream",
     "text": [
      "2024-05-24 19:29:31,064\tINFO worker.py:1749 -- Started a local Ray instance.\n"
     ]
    },
    {
     "name": "stdout",
     "output_type": "stream",
     "text": [
      "Iteration No: 39 ended. Search finished for the next optimal point.\n",
      "Time taken: 10.0227\n",
      "Function value obtained: -24.4611\n",
      "Current minimum: -25.5449\n",
      "Iteration No: 40 started. Searching for the next optimal point.\n"
     ]
    },
    {
     "name": "stderr",
     "output_type": "stream",
     "text": [
      "2024-05-24 19:29:41,110\tINFO worker.py:1749 -- Started a local Ray instance.\n"
     ]
    },
    {
     "name": "stdout",
     "output_type": "stream",
     "text": [
      "Iteration No: 40 ended. Search finished for the next optimal point.\n",
      "Time taken: 9.7620\n",
      "Function value obtained: -24.3058\n",
      "Current minimum: -25.5449\n",
      "CPU times: user 14min 51s, sys: 19min 45s, total: 34min 37s\n",
      "Wall time: 18min 25s\n"
     ]
    }
   ],
   "source": [
    "%%time\n",
    "\n",
    "cr_gp3 = gp_minimize(cr_obj3, cr_space, n_calls = NCALLS, verbose=True)\n",
    "print(\"\\n--------------------\"*2)\n",
    "esc_gp3 = gp_minimize(esc_obj3, esc_space, n_calls = NCALLS, verbose=True)\n",
    "print(\"\\n--------------------\"*2)\n",
    "msy_gp3 = gp_minimize(msy_obj3, msy_space, n_calls = NCALLS, verbose=True)"
   ]
  },
  {
   "cell_type": "code",
   "execution_count": 14,
   "id": "bcd28c02-a8ff-4bd8-9df6-4b8981bdc8a2",
   "metadata": {},
   "outputs": [],
   "source": [
    "# plot_objective(esc_gp3) # looks good!"
   ]
  },
  {
   "cell_type": "code",
   "execution_count": 15,
   "id": "fb84909e-3816-493a-b888-cb394c6beed6",
   "metadata": {
    "scrolled": true
   },
   "outputs": [
    {
     "name": "stdout",
     "output_type": "stream",
     "text": [
      "\n",
      "cr.: -31.71, [-0.2958516511636784, 0.4446492829229163, 0.08970008331564934] \n",
      "esc: -13.98, [1.136737379993107]\n",
      "msy: -25.54, [0.04672528295535901]\n",
      "\n"
     ]
    }
   ],
   "source": [
    "print(f\"\"\"\n",
    "cr.: {cr_gp3.fun:.2f}, {cr_gp3.x} \n",
    "esc: {esc_gp3.fun:.2f}, {esc_gp3.x}\n",
    "msy: {msy_gp3.fun:.2f}, {msy_gp3.x}\n",
    "\"\"\")"
   ]
  },
  {
   "cell_type": "markdown",
   "id": "8226ea99-2cf1-494f-8335-365c036f43ac",
   "metadata": {},
   "source": [
    "## upow=0.6, non-trophy fishing"
   ]
  },
  {
   "cell_type": "code",
   "execution_count": 16,
   "id": "800575c8-7adf-4afb-9d1e-095148727fa0",
   "metadata": {},
   "outputs": [],
   "source": [
    "CONFIG1 = {\n",
    "    \"upow\": 0.6\n",
    "}\n",
    "\n",
    "cr_obj1 = cr_obj_generator(CONFIG1)\n",
    "esc_obj1 = esc_obj_generator(CONFIG1)\n",
    "msy_obj1 = msy_obj_generator(CONFIG1)"
   ]
  },
  {
   "cell_type": "code",
   "execution_count": 17,
   "id": "a9cc0d3d-66de-49fa-910a-7731bba0a8aa",
   "metadata": {
    "collapsed": true,
    "jupyter": {
     "outputs_hidden": true
    },
    "scrolled": true
   },
   "outputs": [
    {
     "name": "stdout",
     "output_type": "stream",
     "text": [
      "Iteration No: 1 started. Evaluating function at random point.\n",
      "Iteration No: 1 ended. Evaluation done at random point.\n",
      "Time taken: 2.5186\n",
      "Function value obtained: -10.2335\n",
      "Current minimum: -10.2335\n",
      "Iteration No: 2 started. Evaluating function at random point.\n"
     ]
    },
    {
     "name": "stderr",
     "output_type": "stream",
     "text": [
      "2024-05-24 19:31:13,215\tINFO worker.py:1749 -- Started a local Ray instance.\n"
     ]
    },
    {
     "name": "stdout",
     "output_type": "stream",
     "text": [
      "Iteration No: 2 ended. Evaluation done at random point.\n",
      "Time taken: 13.1620\n",
      "Function value obtained: -24.2906\n",
      "Current minimum: -24.2906\n",
      "Iteration No: 3 started. Evaluating function at random point.\n"
     ]
    },
    {
     "name": "stderr",
     "output_type": "stream",
     "text": [
      "2024-05-24 19:31:22,540\tINFO worker.py:1749 -- Started a local Ray instance.\n"
     ]
    },
    {
     "name": "stdout",
     "output_type": "stream",
     "text": [
      "Iteration No: 3 ended. Evaluation done at random point.\n",
      "Time taken: 9.4016\n",
      "Function value obtained: -9.4887\n",
      "Current minimum: -24.2906\n",
      "Iteration No: 4 started. Evaluating function at random point.\n"
     ]
    },
    {
     "name": "stderr",
     "output_type": "stream",
     "text": [
      "2024-05-24 19:31:32,044\tINFO worker.py:1749 -- Started a local Ray instance.\n"
     ]
    },
    {
     "name": "stdout",
     "output_type": "stream",
     "text": [
      "Iteration No: 4 ended. Evaluation done at random point.\n",
      "Time taken: 9.6123\n",
      "Function value obtained: -136.8509\n",
      "Current minimum: -136.8509\n",
      "Iteration No: 5 started. Evaluating function at random point.\n"
     ]
    },
    {
     "name": "stderr",
     "output_type": "stream",
     "text": [
      "2024-05-24 19:31:41,557\tINFO worker.py:1749 -- Started a local Ray instance.\n"
     ]
    },
    {
     "name": "stdout",
     "output_type": "stream",
     "text": [
      "Iteration No: 5 ended. Evaluation done at random point.\n",
      "Time taken: 10.2846\n",
      "Function value obtained: -8.0572\n",
      "Current minimum: -136.8509\n",
      "Iteration No: 6 started. Evaluating function at random point.\n"
     ]
    },
    {
     "name": "stderr",
     "output_type": "stream",
     "text": [
      "2024-05-24 19:31:51,777\tINFO worker.py:1749 -- Started a local Ray instance.\n"
     ]
    },
    {
     "name": "stdout",
     "output_type": "stream",
     "text": [
      "Iteration No: 6 ended. Evaluation done at random point.\n",
      "Time taken: 10.2745\n",
      "Function value obtained: -133.5202\n",
      "Current minimum: -136.8509\n",
      "Iteration No: 7 started. Evaluating function at random point.\n"
     ]
    },
    {
     "name": "stderr",
     "output_type": "stream",
     "text": [
      "2024-05-24 19:32:02,095\tINFO worker.py:1749 -- Started a local Ray instance.\n"
     ]
    },
    {
     "name": "stdout",
     "output_type": "stream",
     "text": [
      "Iteration No: 7 ended. Evaluation done at random point.\n",
      "Time taken: 9.7550\n",
      "Function value obtained: -61.5989\n",
      "Current minimum: -136.8509\n",
      "Iteration No: 8 started. Evaluating function at random point.\n"
     ]
    },
    {
     "name": "stderr",
     "output_type": "stream",
     "text": [
      "2024-05-24 19:32:11,799\tINFO worker.py:1749 -- Started a local Ray instance.\n"
     ]
    },
    {
     "name": "stdout",
     "output_type": "stream",
     "text": [
      "Iteration No: 8 ended. Evaluation done at random point.\n",
      "Time taken: 9.1711\n",
      "Function value obtained: -34.3222\n",
      "Current minimum: -136.8509\n",
      "Iteration No: 9 started. Evaluating function at random point.\n"
     ]
    },
    {
     "name": "stderr",
     "output_type": "stream",
     "text": [
      "2024-05-24 19:32:21,037\tINFO worker.py:1749 -- Started a local Ray instance.\n"
     ]
    },
    {
     "name": "stdout",
     "output_type": "stream",
     "text": [
      "Iteration No: 9 ended. Evaluation done at random point.\n",
      "Time taken: 9.8201\n",
      "Function value obtained: -110.6454\n",
      "Current minimum: -136.8509\n",
      "Iteration No: 10 started. Evaluating function at random point.\n"
     ]
    },
    {
     "name": "stderr",
     "output_type": "stream",
     "text": [
      "2024-05-24 19:32:30,843\tINFO worker.py:1749 -- Started a local Ray instance.\n"
     ]
    },
    {
     "name": "stdout",
     "output_type": "stream",
     "text": [
      "Iteration No: 10 ended. Evaluation done at random point.\n",
      "Time taken: 10.1430\n",
      "Function value obtained: -100.4184\n",
      "Current minimum: -136.8509\n",
      "Iteration No: 11 started. Searching for the next optimal point.\n"
     ]
    },
    {
     "name": "stderr",
     "output_type": "stream",
     "text": [
      "2024-05-24 19:32:41,005\tINFO worker.py:1749 -- Started a local Ray instance.\n"
     ]
    },
    {
     "name": "stdout",
     "output_type": "stream",
     "text": [
      "Iteration No: 11 ended. Search finished for the next optimal point.\n",
      "Time taken: 10.4935\n",
      "Function value obtained: -0.0000\n",
      "Current minimum: -136.8509\n",
      "Iteration No: 12 started. Searching for the next optimal point.\n"
     ]
    },
    {
     "name": "stderr",
     "output_type": "stream",
     "text": [
      "2024-05-24 19:32:51,656\tINFO worker.py:1749 -- Started a local Ray instance.\n"
     ]
    },
    {
     "name": "stdout",
     "output_type": "stream",
     "text": [
      "Iteration No: 12 ended. Search finished for the next optimal point.\n",
      "Time taken: 10.0505\n",
      "Function value obtained: -128.8594\n",
      "Current minimum: -136.8509\n",
      "Iteration No: 13 started. Searching for the next optimal point.\n"
     ]
    },
    {
     "name": "stderr",
     "output_type": "stream",
     "text": [
      "2024-05-24 19:33:01,538\tINFO worker.py:1749 -- Started a local Ray instance.\n"
     ]
    },
    {
     "name": "stdout",
     "output_type": "stream",
     "text": [
      "Iteration No: 13 ended. Search finished for the next optimal point.\n",
      "Time taken: 9.4755\n",
      "Function value obtained: -139.4282\n",
      "Current minimum: -139.4282\n",
      "Iteration No: 14 started. Searching for the next optimal point.\n"
     ]
    },
    {
     "name": "stderr",
     "output_type": "stream",
     "text": [
      "2024-05-24 19:33:11,073\tINFO worker.py:1749 -- Started a local Ray instance.\n"
     ]
    },
    {
     "name": "stdout",
     "output_type": "stream",
     "text": [
      "Iteration No: 14 ended. Search finished for the next optimal point.\n",
      "Time taken: 8.7018\n",
      "Function value obtained: -138.0903\n",
      "Current minimum: -139.4282\n",
      "Iteration No: 15 started. Searching for the next optimal point.\n"
     ]
    },
    {
     "name": "stderr",
     "output_type": "stream",
     "text": [
      "2024-05-24 19:33:22,622\tINFO worker.py:1749 -- Started a local Ray instance.\n"
     ]
    },
    {
     "name": "stdout",
     "output_type": "stream",
     "text": [
      "Iteration No: 15 ended. Search finished for the next optimal point.\n",
      "Time taken: 13.6099\n",
      "Function value obtained: -146.0186\n",
      "Current minimum: -146.0186\n",
      "Iteration No: 16 started. Searching for the next optimal point.\n"
     ]
    },
    {
     "name": "stderr",
     "output_type": "stream",
     "text": [
      "2024-05-24 19:33:33,336\tINFO worker.py:1749 -- Started a local Ray instance.\n"
     ]
    },
    {
     "name": "stdout",
     "output_type": "stream",
     "text": [
      "Iteration No: 16 ended. Search finished for the next optimal point.\n",
      "Time taken: 10.9004\n",
      "Function value obtained: -149.7063\n",
      "Current minimum: -149.7063\n",
      "Iteration No: 17 started. Searching for the next optimal point.\n"
     ]
    },
    {
     "name": "stderr",
     "output_type": "stream",
     "text": [
      "2024-05-24 19:33:44,268\tINFO worker.py:1749 -- Started a local Ray instance.\n"
     ]
    },
    {
     "name": "stdout",
     "output_type": "stream",
     "text": [
      "Iteration No: 17 ended. Search finished for the next optimal point.\n",
      "Time taken: 9.6152\n",
      "Function value obtained: -148.2921\n",
      "Current minimum: -149.7063\n",
      "Iteration No: 18 started. Searching for the next optimal point.\n"
     ]
    },
    {
     "name": "stderr",
     "output_type": "stream",
     "text": [
      "2024-05-24 19:33:53,845\tINFO worker.py:1749 -- Started a local Ray instance.\n"
     ]
    },
    {
     "name": "stdout",
     "output_type": "stream",
     "text": [
      "Iteration No: 18 ended. Search finished for the next optimal point.\n",
      "Time taken: 10.3368\n",
      "Function value obtained: -0.0000\n",
      "Current minimum: -149.7063\n",
      "Iteration No: 19 started. Searching for the next optimal point.\n"
     ]
    },
    {
     "name": "stderr",
     "output_type": "stream",
     "text": [
      "2024-05-24 19:34:04,182\tINFO worker.py:1749 -- Started a local Ray instance.\n"
     ]
    },
    {
     "name": "stdout",
     "output_type": "stream",
     "text": [
      "Iteration No: 19 ended. Search finished for the next optimal point.\n",
      "Time taken: 9.5271\n",
      "Function value obtained: -149.1930\n",
      "Current minimum: -149.7063\n",
      "Iteration No: 20 started. Searching for the next optimal point.\n"
     ]
    },
    {
     "name": "stderr",
     "output_type": "stream",
     "text": [
      "2024-05-24 19:34:13,860\tINFO worker.py:1749 -- Started a local Ray instance.\n"
     ]
    },
    {
     "name": "stdout",
     "output_type": "stream",
     "text": [
      "Iteration No: 20 ended. Search finished for the next optimal point.\n",
      "Time taken: 10.0119\n",
      "Function value obtained: -150.1250\n",
      "Current minimum: -150.1250\n",
      "Iteration No: 21 started. Searching for the next optimal point.\n"
     ]
    },
    {
     "name": "stderr",
     "output_type": "stream",
     "text": [
      "2024-05-24 19:34:23,785\tINFO worker.py:1749 -- Started a local Ray instance.\n"
     ]
    },
    {
     "name": "stdout",
     "output_type": "stream",
     "text": [
      "Iteration No: 21 ended. Search finished for the next optimal point.\n",
      "Time taken: 9.9642\n",
      "Function value obtained: -150.0871\n",
      "Current minimum: -150.1250\n",
      "Iteration No: 22 started. Searching for the next optimal point.\n"
     ]
    },
    {
     "name": "stderr",
     "output_type": "stream",
     "text": [
      "2024-05-24 19:34:33,704\tINFO worker.py:1749 -- Started a local Ray instance.\n"
     ]
    },
    {
     "name": "stdout",
     "output_type": "stream",
     "text": [
      "Iteration No: 22 ended. Search finished for the next optimal point.\n",
      "Time taken: 9.6005\n",
      "Function value obtained: -146.4708\n",
      "Current minimum: -150.1250\n",
      "Iteration No: 23 started. Searching for the next optimal point.\n"
     ]
    },
    {
     "name": "stderr",
     "output_type": "stream",
     "text": [
      "2024-05-24 19:34:43,333\tINFO worker.py:1749 -- Started a local Ray instance.\n"
     ]
    },
    {
     "name": "stdout",
     "output_type": "stream",
     "text": [
      "Iteration No: 23 ended. Search finished for the next optimal point.\n",
      "Time taken: 10.0960\n",
      "Function value obtained: -146.3879\n",
      "Current minimum: -150.1250\n",
      "Iteration No: 24 started. Searching for the next optimal point.\n"
     ]
    },
    {
     "name": "stderr",
     "output_type": "stream",
     "text": [
      "2024-05-24 19:34:53,444\tINFO worker.py:1749 -- Started a local Ray instance.\n"
     ]
    },
    {
     "name": "stdout",
     "output_type": "stream",
     "text": [
      "Iteration No: 24 ended. Search finished for the next optimal point.\n",
      "Time taken: 9.6909\n",
      "Function value obtained: -145.2411\n",
      "Current minimum: -150.1250\n",
      "Iteration No: 25 started. Searching for the next optimal point.\n"
     ]
    },
    {
     "name": "stderr",
     "output_type": "stream",
     "text": [
      "2024-05-24 19:35:03,123\tINFO worker.py:1749 -- Started a local Ray instance.\n"
     ]
    },
    {
     "name": "stdout",
     "output_type": "stream",
     "text": [
      "Iteration No: 25 ended. Search finished for the next optimal point.\n",
      "Time taken: 9.8158\n",
      "Function value obtained: -126.8413\n",
      "Current minimum: -150.1250\n",
      "Iteration No: 26 started. Searching for the next optimal point.\n"
     ]
    },
    {
     "name": "stderr",
     "output_type": "stream",
     "text": [
      "2024-05-24 19:35:12,973\tINFO worker.py:1749 -- Started a local Ray instance.\n"
     ]
    },
    {
     "name": "stdout",
     "output_type": "stream",
     "text": [
      "Iteration No: 26 ended. Search finished for the next optimal point.\n",
      "Time taken: 9.9763\n",
      "Function value obtained: -119.4992\n",
      "Current minimum: -150.1250\n",
      "Iteration No: 27 started. Searching for the next optimal point.\n"
     ]
    },
    {
     "name": "stderr",
     "output_type": "stream",
     "text": [
      "2024-05-24 19:35:22,948\tINFO worker.py:1749 -- Started a local Ray instance.\n"
     ]
    },
    {
     "name": "stdout",
     "output_type": "stream",
     "text": [
      "Iteration No: 27 ended. Search finished for the next optimal point.\n",
      "Time taken: 10.0881\n",
      "Function value obtained: -146.5926\n",
      "Current minimum: -150.1250\n",
      "Iteration No: 28 started. Searching for the next optimal point.\n"
     ]
    },
    {
     "name": "stderr",
     "output_type": "stream",
     "text": [
      "2024-05-24 19:35:33,027\tINFO worker.py:1749 -- Started a local Ray instance.\n"
     ]
    },
    {
     "name": "stdout",
     "output_type": "stream",
     "text": [
      "Iteration No: 28 ended. Search finished for the next optimal point.\n",
      "Time taken: 10.4038\n",
      "Function value obtained: -146.1494\n",
      "Current minimum: -150.1250\n",
      "Iteration No: 29 started. Searching for the next optimal point.\n"
     ]
    },
    {
     "name": "stderr",
     "output_type": "stream",
     "text": [
      "2024-05-24 19:35:43,507\tINFO worker.py:1749 -- Started a local Ray instance.\n"
     ]
    },
    {
     "name": "stdout",
     "output_type": "stream",
     "text": [
      "Iteration No: 29 ended. Search finished for the next optimal point.\n",
      "Time taken: 10.6138\n",
      "Function value obtained: -0.0000\n",
      "Current minimum: -150.1250\n",
      "Iteration No: 30 started. Searching for the next optimal point.\n"
     ]
    },
    {
     "name": "stderr",
     "output_type": "stream",
     "text": [
      "2024-05-24 19:35:54,054\tINFO worker.py:1749 -- Started a local Ray instance.\n"
     ]
    },
    {
     "name": "stdout",
     "output_type": "stream",
     "text": [
      "Iteration No: 30 ended. Search finished for the next optimal point.\n",
      "Time taken: 10.2692\n",
      "Function value obtained: -145.8938\n",
      "Current minimum: -150.1250\n",
      "Iteration No: 31 started. Searching for the next optimal point.\n"
     ]
    },
    {
     "name": "stderr",
     "output_type": "stream",
     "text": [
      "2024-05-24 19:36:04,369\tINFO worker.py:1749 -- Started a local Ray instance.\n"
     ]
    },
    {
     "name": "stdout",
     "output_type": "stream",
     "text": [
      "Iteration No: 31 ended. Search finished for the next optimal point.\n",
      "Time taken: 10.0923\n",
      "Function value obtained: -0.0000\n",
      "Current minimum: -150.1250\n",
      "Iteration No: 32 started. Searching for the next optimal point.\n"
     ]
    },
    {
     "name": "stderr",
     "output_type": "stream",
     "text": [
      "2024-05-24 19:36:14,489\tINFO worker.py:1749 -- Started a local Ray instance.\n"
     ]
    },
    {
     "name": "stdout",
     "output_type": "stream",
     "text": [
      "Iteration No: 32 ended. Search finished for the next optimal point.\n",
      "Time taken: 9.8600\n",
      "Function value obtained: -128.3500\n",
      "Current minimum: -150.1250\n",
      "Iteration No: 33 started. Searching for the next optimal point.\n"
     ]
    },
    {
     "name": "stderr",
     "output_type": "stream",
     "text": [
      "2024-05-24 19:36:24,311\tINFO worker.py:1749 -- Started a local Ray instance.\n"
     ]
    },
    {
     "name": "stdout",
     "output_type": "stream",
     "text": [
      "Iteration No: 33 ended. Search finished for the next optimal point.\n",
      "Time taken: 10.2425\n",
      "Function value obtained: -143.7077\n",
      "Current minimum: -150.1250\n",
      "Iteration No: 34 started. Searching for the next optimal point.\n"
     ]
    },
    {
     "name": "stderr",
     "output_type": "stream",
     "text": [
      "2024-05-24 19:36:34,594\tINFO worker.py:1749 -- Started a local Ray instance.\n"
     ]
    },
    {
     "name": "stdout",
     "output_type": "stream",
     "text": [
      "Iteration No: 34 ended. Search finished for the next optimal point.\n",
      "Time taken: 10.2733\n",
      "Function value obtained: -0.0000\n",
      "Current minimum: -150.1250\n",
      "Iteration No: 35 started. Searching for the next optimal point.\n"
     ]
    },
    {
     "name": "stderr",
     "output_type": "stream",
     "text": [
      "2024-05-24 19:36:44,811\tINFO worker.py:1749 -- Started a local Ray instance.\n"
     ]
    },
    {
     "name": "stdout",
     "output_type": "stream",
     "text": [
      "Iteration No: 35 ended. Search finished for the next optimal point.\n",
      "Time taken: 10.4232\n",
      "Function value obtained: -144.4944\n",
      "Current minimum: -150.1250\n",
      "Iteration No: 36 started. Searching for the next optimal point.\n"
     ]
    },
    {
     "name": "stderr",
     "output_type": "stream",
     "text": [
      "2024-05-24 19:36:55,236\tINFO worker.py:1749 -- Started a local Ray instance.\n"
     ]
    },
    {
     "name": "stdout",
     "output_type": "stream",
     "text": [
      "Iteration No: 36 ended. Search finished for the next optimal point.\n",
      "Time taken: 10.0153\n",
      "Function value obtained: -123.5602\n",
      "Current minimum: -150.1250\n",
      "Iteration No: 37 started. Searching for the next optimal point.\n"
     ]
    },
    {
     "name": "stderr",
     "output_type": "stream",
     "text": [
      "2024-05-24 19:37:05,332\tINFO worker.py:1749 -- Started a local Ray instance.\n"
     ]
    },
    {
     "name": "stdout",
     "output_type": "stream",
     "text": [
      "Iteration No: 37 ended. Search finished for the next optimal point.\n",
      "Time taken: 10.9372\n",
      "Function value obtained: -97.4335\n",
      "Current minimum: -150.1250\n",
      "Iteration No: 38 started. Searching for the next optimal point.\n"
     ]
    },
    {
     "name": "stderr",
     "output_type": "stream",
     "text": [
      "2024-05-24 19:37:17,260\tINFO worker.py:1749 -- Started a local Ray instance.\n"
     ]
    },
    {
     "name": "stdout",
     "output_type": "stream",
     "text": [
      "Iteration No: 38 ended. Search finished for the next optimal point.\n",
      "Time taken: 12.0363\n",
      "Function value obtained: -132.8630\n",
      "Current minimum: -150.1250\n",
      "Iteration No: 39 started. Searching for the next optimal point.\n"
     ]
    },
    {
     "name": "stderr",
     "output_type": "stream",
     "text": [
      "2024-05-24 19:37:28,270\tINFO worker.py:1749 -- Started a local Ray instance.\n"
     ]
    },
    {
     "name": "stdout",
     "output_type": "stream",
     "text": [
      "Iteration No: 39 ended. Search finished for the next optimal point.\n",
      "Time taken: 12.8358\n",
      "Function value obtained: -22.1397\n",
      "Current minimum: -150.1250\n",
      "Iteration No: 40 started. Searching for the next optimal point.\n"
     ]
    },
    {
     "name": "stderr",
     "output_type": "stream",
     "text": [
      "2024-05-24 19:37:41,194\tINFO worker.py:1749 -- Started a local Ray instance.\n"
     ]
    },
    {
     "name": "stdout",
     "output_type": "stream",
     "text": [
      "Iteration No: 40 ended. Search finished for the next optimal point.\n",
      "Time taken: 10.2494\n",
      "Function value obtained: -135.8170\n",
      "Current minimum: -150.1250\n",
      "\n",
      "--------------------\n",
      "--------------------\n",
      "Iteration No: 1 started. Evaluating function at random point.\n"
     ]
    },
    {
     "name": "stderr",
     "output_type": "stream",
     "text": [
      "2024-05-24 19:37:51,412\tINFO worker.py:1749 -- Started a local Ray instance.\n"
     ]
    },
    {
     "name": "stdout",
     "output_type": "stream",
     "text": [
      "Iteration No: 1 ended. Evaluation done at random point.\n",
      "Time taken: 8.1063\n",
      "Function value obtained: -2.3129\n",
      "Current minimum: -2.3129\n",
      "Iteration No: 2 started. Evaluating function at random point.\n"
     ]
    },
    {
     "name": "stderr",
     "output_type": "stream",
     "text": [
      "2024-05-24 19:38:02,628\tINFO worker.py:1749 -- Started a local Ray instance.\n"
     ]
    },
    {
     "name": "stdout",
     "output_type": "stream",
     "text": [
      "Iteration No: 2 ended. Evaluation done at random point.\n",
      "Time taken: 12.9156\n",
      "Function value obtained: -0.1582\n",
      "Current minimum: -2.3129\n",
      "Iteration No: 3 started. Evaluating function at random point.\n"
     ]
    },
    {
     "name": "stderr",
     "output_type": "stream",
     "text": [
      "2024-05-24 19:38:12,422\tINFO worker.py:1749 -- Started a local Ray instance.\n"
     ]
    },
    {
     "name": "stdout",
     "output_type": "stream",
     "text": [
      "Iteration No: 3 ended. Evaluation done at random point.\n",
      "Time taken: 9.6119\n",
      "Function value obtained: -0.1828\n",
      "Current minimum: -2.3129\n",
      "Iteration No: 4 started. Evaluating function at random point.\n"
     ]
    },
    {
     "name": "stderr",
     "output_type": "stream",
     "text": [
      "2024-05-24 19:38:22,080\tINFO worker.py:1749 -- Started a local Ray instance.\n"
     ]
    },
    {
     "name": "stdout",
     "output_type": "stream",
     "text": [
      "Iteration No: 4 ended. Evaluation done at random point.\n",
      "Time taken: 9.5967\n",
      "Function value obtained: -1.0969\n",
      "Current minimum: -2.3129\n",
      "Iteration No: 5 started. Evaluating function at random point.\n"
     ]
    },
    {
     "name": "stderr",
     "output_type": "stream",
     "text": [
      "2024-05-24 19:38:31,740\tINFO worker.py:1749 -- Started a local Ray instance.\n"
     ]
    },
    {
     "name": "stdout",
     "output_type": "stream",
     "text": [
      "Iteration No: 5 ended. Evaluation done at random point.\n",
      "Time taken: 10.6148\n",
      "Function value obtained: -0.4385\n",
      "Current minimum: -2.3129\n",
      "Iteration No: 6 started. Evaluating function at random point.\n"
     ]
    },
    {
     "name": "stderr",
     "output_type": "stream",
     "text": [
      "2024-05-24 19:38:42,306\tINFO worker.py:1749 -- Started a local Ray instance.\n"
     ]
    },
    {
     "name": "stdout",
     "output_type": "stream",
     "text": [
      "Iteration No: 6 ended. Evaluation done at random point.\n",
      "Time taken: 9.8437\n",
      "Function value obtained: -0.4405\n",
      "Current minimum: -2.3129\n",
      "Iteration No: 7 started. Evaluating function at random point.\n"
     ]
    },
    {
     "name": "stderr",
     "output_type": "stream",
     "text": [
      "2024-05-24 19:38:52,204\tINFO worker.py:1749 -- Started a local Ray instance.\n"
     ]
    },
    {
     "name": "stdout",
     "output_type": "stream",
     "text": [
      "Iteration No: 7 ended. Evaluation done at random point.\n",
      "Time taken: 10.9900\n",
      "Function value obtained: -95.7194\n",
      "Current minimum: -95.7194\n",
      "Iteration No: 8 started. Evaluating function at random point.\n"
     ]
    },
    {
     "name": "stderr",
     "output_type": "stream",
     "text": [
      "2024-05-24 19:39:03,118\tINFO worker.py:1749 -- Started a local Ray instance.\n"
     ]
    },
    {
     "name": "stdout",
     "output_type": "stream",
     "text": [
      "Iteration No: 8 ended. Evaluation done at random point.\n",
      "Time taken: 10.1492\n",
      "Function value obtained: -33.4026\n",
      "Current minimum: -95.7194\n",
      "Iteration No: 9 started. Evaluating function at random point.\n"
     ]
    },
    {
     "name": "stderr",
     "output_type": "stream",
     "text": [
      "2024-05-24 19:39:13,368\tINFO worker.py:1749 -- Started a local Ray instance.\n"
     ]
    },
    {
     "name": "stdout",
     "output_type": "stream",
     "text": [
      "Iteration No: 9 ended. Evaluation done at random point.\n",
      "Time taken: 10.2079\n",
      "Function value obtained: -0.1904\n",
      "Current minimum: -95.7194\n",
      "Iteration No: 10 started. Evaluating function at random point.\n"
     ]
    },
    {
     "name": "stderr",
     "output_type": "stream",
     "text": [
      "2024-05-24 19:39:23,486\tINFO worker.py:1749 -- Started a local Ray instance.\n"
     ]
    },
    {
     "name": "stdout",
     "output_type": "stream",
     "text": [
      "Iteration No: 10 ended. Evaluation done at random point.\n",
      "Time taken: 10.2832\n",
      "Function value obtained: -0.0817\n",
      "Current minimum: -95.7194\n",
      "Iteration No: 11 started. Searching for the next optimal point.\n"
     ]
    },
    {
     "name": "stderr",
     "output_type": "stream",
     "text": [
      "2024-05-24 19:39:33,761\tINFO worker.py:1749 -- Started a local Ray instance.\n"
     ]
    },
    {
     "name": "stdout",
     "output_type": "stream",
     "text": [
      "Iteration No: 11 ended. Search finished for the next optimal point.\n",
      "Time taken: 10.6636\n",
      "Function value obtained: -107.4204\n",
      "Current minimum: -107.4204\n",
      "Iteration No: 12 started. Searching for the next optimal point.\n"
     ]
    },
    {
     "name": "stderr",
     "output_type": "stream",
     "text": [
      "2024-05-24 19:39:44,504\tINFO worker.py:1749 -- Started a local Ray instance.\n"
     ]
    },
    {
     "name": "stdout",
     "output_type": "stream",
     "text": [
      "Iteration No: 12 ended. Search finished for the next optimal point.\n",
      "Time taken: 9.8027\n",
      "Function value obtained: -2.6271\n",
      "Current minimum: -107.4204\n",
      "Iteration No: 13 started. Searching for the next optimal point.\n"
     ]
    },
    {
     "name": "stderr",
     "output_type": "stream",
     "text": [
      "2024-05-24 19:39:54,398\tINFO worker.py:1749 -- Started a local Ray instance.\n"
     ]
    },
    {
     "name": "stdout",
     "output_type": "stream",
     "text": [
      "Iteration No: 13 ended. Search finished for the next optimal point.\n",
      "Time taken: 8.7279\n",
      "Function value obtained: -106.1368\n",
      "Current minimum: -107.4204\n",
      "Iteration No: 14 started. Searching for the next optimal point.\n"
     ]
    },
    {
     "name": "stderr",
     "output_type": "stream",
     "text": [
      "2024-05-24 19:40:07,348\tINFO worker.py:1749 -- Started a local Ray instance.\n"
     ]
    },
    {
     "name": "stdout",
     "output_type": "stream",
     "text": [
      "Iteration No: 14 ended. Search finished for the next optimal point.\n",
      "Time taken: 14.6205\n",
      "Function value obtained: -103.0969\n",
      "Current minimum: -107.4204\n",
      "Iteration No: 15 started. Searching for the next optimal point.\n"
     ]
    },
    {
     "name": "stderr",
     "output_type": "stream",
     "text": [
      "2024-05-24 19:40:17,666\tINFO worker.py:1749 -- Started a local Ray instance.\n"
     ]
    },
    {
     "name": "stdout",
     "output_type": "stream",
     "text": [
      "Iteration No: 15 ended. Search finished for the next optimal point.\n",
      "Time taken: 10.2602\n",
      "Function value obtained: -109.3642\n",
      "Current minimum: -109.3642\n",
      "Iteration No: 16 started. Searching for the next optimal point.\n"
     ]
    },
    {
     "name": "stderr",
     "output_type": "stream",
     "text": [
      "2024-05-24 19:40:27,913\tINFO worker.py:1749 -- Started a local Ray instance.\n"
     ]
    },
    {
     "name": "stdout",
     "output_type": "stream",
     "text": [
      "Iteration No: 16 ended. Search finished for the next optimal point.\n",
      "Time taken: 9.1735\n",
      "Function value obtained: -109.4980\n",
      "Current minimum: -109.4980\n",
      "Iteration No: 17 started. Searching for the next optimal point.\n"
     ]
    },
    {
     "name": "stderr",
     "output_type": "stream",
     "text": [
      "2024-05-24 19:40:40,849\tINFO worker.py:1749 -- Started a local Ray instance.\n"
     ]
    },
    {
     "name": "stdout",
     "output_type": "stream",
     "text": [
      "Iteration No: 17 ended. Search finished for the next optimal point.\n",
      "Time taken: 12.5517\n",
      "Function value obtained: -104.1693\n",
      "Current minimum: -109.4980\n",
      "Iteration No: 18 started. Searching for the next optimal point.\n"
     ]
    },
    {
     "name": "stderr",
     "output_type": "stream",
     "text": [
      "2024-05-24 19:40:54,005\tINFO worker.py:1749 -- Started a local Ray instance.\n"
     ]
    },
    {
     "name": "stdout",
     "output_type": "stream",
     "text": [
      "Iteration No: 18 ended. Search finished for the next optimal point.\n",
      "Time taken: 14.4668\n",
      "Function value obtained: -76.1099\n",
      "Current minimum: -109.4980\n",
      "Iteration No: 19 started. Searching for the next optimal point.\n"
     ]
    },
    {
     "name": "stderr",
     "output_type": "stream",
     "text": [
      "2024-05-24 19:41:04,130\tINFO worker.py:1749 -- Started a local Ray instance.\n"
     ]
    },
    {
     "name": "stdout",
     "output_type": "stream",
     "text": [
      "Iteration No: 19 ended. Search finished for the next optimal point.\n",
      "Time taken: 10.8885\n",
      "Function value obtained: -8.9258\n",
      "Current minimum: -109.4980\n",
      "Iteration No: 20 started. Searching for the next optimal point.\n"
     ]
    },
    {
     "name": "stderr",
     "output_type": "stream",
     "text": [
      "2024-05-24 19:41:15,020\tINFO worker.py:1749 -- Started a local Ray instance.\n"
     ]
    },
    {
     "name": "stdout",
     "output_type": "stream",
     "text": [
      "Iteration No: 20 ended. Search finished for the next optimal point.\n",
      "Time taken: 10.5906\n",
      "Function value obtained: -57.0804\n",
      "Current minimum: -109.4980\n",
      "Iteration No: 21 started. Searching for the next optimal point.\n"
     ]
    },
    {
     "name": "stderr",
     "output_type": "stream",
     "text": [
      "2024-05-24 19:41:25,603\tINFO worker.py:1749 -- Started a local Ray instance.\n"
     ]
    },
    {
     "name": "stdout",
     "output_type": "stream",
     "text": [
      "Iteration No: 21 ended. Search finished for the next optimal point.\n",
      "Time taken: 10.5209\n",
      "Function value obtained: -4.0593\n",
      "Current minimum: -109.4980\n",
      "Iteration No: 22 started. Searching for the next optimal point.\n"
     ]
    },
    {
     "name": "stderr",
     "output_type": "stream",
     "text": [
      "2024-05-24 19:41:36,155\tINFO worker.py:1749 -- Started a local Ray instance.\n"
     ]
    },
    {
     "name": "stdout",
     "output_type": "stream",
     "text": [
      "Iteration No: 22 ended. Search finished for the next optimal point.\n",
      "Time taken: 8.9820\n",
      "Function value obtained: -110.5932\n",
      "Current minimum: -110.5932\n",
      "Iteration No: 23 started. Searching for the next optimal point.\n"
     ]
    },
    {
     "name": "stderr",
     "output_type": "stream",
     "text": [
      "2024-05-24 19:41:49,334\tINFO worker.py:1749 -- Started a local Ray instance.\n"
     ]
    },
    {
     "name": "stdout",
     "output_type": "stream",
     "text": [
      "Iteration No: 23 ended. Search finished for the next optimal point.\n",
      "Time taken: 15.2155\n",
      "Function value obtained: -108.4352\n",
      "Current minimum: -110.5932\n",
      "Iteration No: 24 started. Searching for the next optimal point.\n"
     ]
    },
    {
     "name": "stderr",
     "output_type": "stream",
     "text": [
      "2024-05-24 19:42:00,386\tINFO worker.py:1749 -- Started a local Ray instance.\n"
     ]
    },
    {
     "name": "stdout",
     "output_type": "stream",
     "text": [
      "Iteration No: 24 ended. Search finished for the next optimal point.\n",
      "Time taken: 10.0849\n",
      "Function value obtained: -18.3594\n",
      "Current minimum: -110.5932\n",
      "Iteration No: 25 started. Searching for the next optimal point.\n"
     ]
    },
    {
     "name": "stderr",
     "output_type": "stream",
     "text": [
      "2024-05-24 19:42:10,464\tINFO worker.py:1749 -- Started a local Ray instance.\n"
     ]
    },
    {
     "name": "stdout",
     "output_type": "stream",
     "text": [
      "Iteration No: 25 ended. Search finished for the next optimal point.\n",
      "Time taken: 10.6497\n",
      "Function value obtained: -107.9916\n",
      "Current minimum: -110.5932\n",
      "Iteration No: 26 started. Searching for the next optimal point.\n"
     ]
    },
    {
     "name": "stderr",
     "output_type": "stream",
     "text": [
      "2024-05-24 19:42:21,107\tINFO worker.py:1749 -- Started a local Ray instance.\n"
     ]
    },
    {
     "name": "stdout",
     "output_type": "stream",
     "text": [
      "Iteration No: 26 ended. Search finished for the next optimal point.\n",
      "Time taken: 10.1949\n",
      "Function value obtained: -109.1506\n",
      "Current minimum: -110.5932\n",
      "Iteration No: 27 started. Searching for the next optimal point.\n"
     ]
    },
    {
     "name": "stderr",
     "output_type": "stream",
     "text": [
      "2024-05-24 19:42:31,331\tINFO worker.py:1749 -- Started a local Ray instance.\n"
     ]
    },
    {
     "name": "stdout",
     "output_type": "stream",
     "text": [
      "Iteration No: 27 ended. Search finished for the next optimal point.\n",
      "Time taken: 9.4586\n",
      "Function value obtained: -106.9728\n",
      "Current minimum: -110.5932\n",
      "Iteration No: 28 started. Searching for the next optimal point.\n"
     ]
    },
    {
     "name": "stderr",
     "output_type": "stream",
     "text": [
      "2024-05-24 19:42:45,778\tINFO worker.py:1749 -- Started a local Ray instance.\n"
     ]
    },
    {
     "name": "stdout",
     "output_type": "stream",
     "text": [
      "Iteration No: 28 ended. Search finished for the next optimal point.\n",
      "Time taken: 15.8136\n",
      "Function value obtained: -90.5518\n",
      "Current minimum: -110.5932\n",
      "Iteration No: 29 started. Searching for the next optimal point.\n"
     ]
    },
    {
     "name": "stderr",
     "output_type": "stream",
     "text": [
      "2024-05-24 19:42:56,684\tINFO worker.py:1749 -- Started a local Ray instance.\n"
     ]
    },
    {
     "name": "stdout",
     "output_type": "stream",
     "text": [
      "Iteration No: 29 ended. Search finished for the next optimal point.\n",
      "Time taken: 10.9237\n",
      "Function value obtained: -110.2055\n",
      "Current minimum: -110.5932\n",
      "Iteration No: 30 started. Searching for the next optimal point.\n"
     ]
    },
    {
     "name": "stderr",
     "output_type": "stream",
     "text": [
      "2024-05-24 19:43:07,587\tINFO worker.py:1749 -- Started a local Ray instance.\n"
     ]
    },
    {
     "name": "stdout",
     "output_type": "stream",
     "text": [
      "Iteration No: 30 ended. Search finished for the next optimal point.\n",
      "Time taken: 11.0950\n",
      "Function value obtained: -105.5405\n",
      "Current minimum: -110.5932\n",
      "Iteration No: 31 started. Searching for the next optimal point.\n"
     ]
    },
    {
     "name": "stderr",
     "output_type": "stream",
     "text": [
      "2024-05-24 19:43:18,655\tINFO worker.py:1749 -- Started a local Ray instance.\n"
     ]
    },
    {
     "name": "stdout",
     "output_type": "stream",
     "text": [
      "Iteration No: 31 ended. Search finished for the next optimal point.\n",
      "Time taken: 10.8020\n",
      "Function value obtained: -110.0656\n",
      "Current minimum: -110.5932\n",
      "Iteration No: 32 started. Searching for the next optimal point.\n"
     ]
    },
    {
     "name": "stderr",
     "output_type": "stream",
     "text": [
      "2024-05-24 19:43:29,440\tINFO worker.py:1749 -- Started a local Ray instance.\n"
     ]
    },
    {
     "name": "stdout",
     "output_type": "stream",
     "text": [
      "Iteration No: 32 ended. Search finished for the next optimal point.\n",
      "Time taken: 11.5400\n",
      "Function value obtained: -111.6948\n",
      "Current minimum: -111.6948\n",
      "Iteration No: 33 started. Searching for the next optimal point.\n"
     ]
    },
    {
     "name": "stderr",
     "output_type": "stream",
     "text": [
      "2024-05-24 19:43:41,027\tINFO worker.py:1749 -- Started a local Ray instance.\n"
     ]
    },
    {
     "name": "stdout",
     "output_type": "stream",
     "text": [
      "Iteration No: 33 ended. Search finished for the next optimal point.\n",
      "Time taken: 11.0360\n",
      "Function value obtained: -108.2348\n",
      "Current minimum: -111.6948\n",
      "Iteration No: 34 started. Searching for the next optimal point.\n"
     ]
    },
    {
     "name": "stderr",
     "output_type": "stream",
     "text": [
      "2024-05-24 19:43:52,051\tINFO worker.py:1749 -- Started a local Ray instance.\n"
     ]
    },
    {
     "name": "stdout",
     "output_type": "stream",
     "text": [
      "Iteration No: 34 ended. Search finished for the next optimal point.\n",
      "Time taken: 10.5317\n",
      "Function value obtained: -45.0164\n",
      "Current minimum: -111.6948\n",
      "Iteration No: 35 started. Searching for the next optimal point.\n"
     ]
    },
    {
     "name": "stderr",
     "output_type": "stream",
     "text": [
      "2024-05-24 19:44:02,574\tINFO worker.py:1749 -- Started a local Ray instance.\n"
     ]
    },
    {
     "name": "stdout",
     "output_type": "stream",
     "text": [
      "Iteration No: 35 ended. Search finished for the next optimal point.\n",
      "Time taken: 11.5652\n",
      "Function value obtained: -111.1728\n",
      "Current minimum: -111.6948\n",
      "Iteration No: 36 started. Searching for the next optimal point.\n"
     ]
    },
    {
     "name": "stderr",
     "output_type": "stream",
     "text": [
      "2024-05-24 19:44:14,094\tINFO worker.py:1749 -- Started a local Ray instance.\n"
     ]
    },
    {
     "name": "stdout",
     "output_type": "stream",
     "text": [
      "Iteration No: 36 ended. Search finished for the next optimal point.\n",
      "Time taken: 11.6510\n",
      "Function value obtained: -107.1987\n",
      "Current minimum: -111.6948\n",
      "Iteration No: 37 started. Searching for the next optimal point.\n"
     ]
    },
    {
     "name": "stderr",
     "output_type": "stream",
     "text": [
      "2024-05-24 19:44:25,830\tINFO worker.py:1749 -- Started a local Ray instance.\n"
     ]
    },
    {
     "name": "stdout",
     "output_type": "stream",
     "text": [
      "Iteration No: 37 ended. Search finished for the next optimal point.\n",
      "Time taken: 14.5112\n",
      "Function value obtained: -106.5132\n",
      "Current minimum: -111.6948\n",
      "Iteration No: 38 started. Searching for the next optimal point.\n"
     ]
    },
    {
     "name": "stderr",
     "output_type": "stream",
     "text": [
      "2024-05-24 19:44:40,315\tINFO worker.py:1749 -- Started a local Ray instance.\n"
     ]
    },
    {
     "name": "stdout",
     "output_type": "stream",
     "text": [
      "Iteration No: 38 ended. Search finished for the next optimal point.\n",
      "Time taken: 10.2311\n",
      "Function value obtained: -107.8871\n",
      "Current minimum: -111.6948\n",
      "Iteration No: 39 started. Searching for the next optimal point.\n"
     ]
    },
    {
     "name": "stderr",
     "output_type": "stream",
     "text": [
      "2024-05-24 19:44:50,602\tINFO worker.py:1749 -- Started a local Ray instance.\n"
     ]
    },
    {
     "name": "stdout",
     "output_type": "stream",
     "text": [
      "Iteration No: 39 ended. Search finished for the next optimal point.\n",
      "Time taken: 9.6303\n",
      "Function value obtained: -109.5860\n",
      "Current minimum: -111.6948\n",
      "Iteration No: 40 started. Searching for the next optimal point.\n"
     ]
    },
    {
     "name": "stderr",
     "output_type": "stream",
     "text": [
      "2024-05-24 19:45:00,900\tINFO worker.py:1749 -- Started a local Ray instance.\n"
     ]
    },
    {
     "name": "stdout",
     "output_type": "stream",
     "text": [
      "Iteration No: 40 ended. Search finished for the next optimal point.\n",
      "Time taken: 12.3379\n",
      "Function value obtained: -108.2855\n",
      "Current minimum: -111.6948\n",
      "\n",
      "--------------------\n",
      "--------------------\n",
      "Iteration No: 1 started. Evaluating function at random point.\n"
     ]
    },
    {
     "name": "stderr",
     "output_type": "stream",
     "text": [
      "2024-05-24 19:45:12,488\tINFO worker.py:1749 -- Started a local Ray instance.\n"
     ]
    },
    {
     "name": "stdout",
     "output_type": "stream",
     "text": [
      "Iteration No: 1 ended. Evaluation done at random point.\n",
      "Time taken: 9.9504\n",
      "Function value obtained: -12.7125\n",
      "Current minimum: -12.7125\n",
      "Iteration No: 2 started. Evaluating function at random point.\n"
     ]
    },
    {
     "name": "stderr",
     "output_type": "stream",
     "text": [
      "2024-05-24 19:45:22,516\tINFO worker.py:1749 -- Started a local Ray instance.\n"
     ]
    },
    {
     "name": "stdout",
     "output_type": "stream",
     "text": [
      "Iteration No: 2 ended. Evaluation done at random point.\n",
      "Time taken: 10.1196\n",
      "Function value obtained: -11.5940\n",
      "Current minimum: -12.7125\n",
      "Iteration No: 3 started. Evaluating function at random point.\n"
     ]
    },
    {
     "name": "stderr",
     "output_type": "stream",
     "text": [
      "2024-05-24 19:45:32,658\tINFO worker.py:1749 -- Started a local Ray instance.\n"
     ]
    },
    {
     "name": "stdout",
     "output_type": "stream",
     "text": [
      "Iteration No: 3 ended. Evaluation done at random point.\n",
      "Time taken: 11.3079\n",
      "Function value obtained: -32.8462\n",
      "Current minimum: -32.8462\n",
      "Iteration No: 4 started. Evaluating function at random point.\n"
     ]
    },
    {
     "name": "stderr",
     "output_type": "stream",
     "text": [
      "2024-05-24 19:45:43,957\tINFO worker.py:1749 -- Started a local Ray instance.\n"
     ]
    },
    {
     "name": "stdout",
     "output_type": "stream",
     "text": [
      "Iteration No: 4 ended. Evaluation done at random point.\n",
      "Time taken: 10.5472\n",
      "Function value obtained: -105.7970\n",
      "Current minimum: -105.7970\n",
      "Iteration No: 5 started. Evaluating function at random point.\n"
     ]
    },
    {
     "name": "stderr",
     "output_type": "stream",
     "text": [
      "2024-05-24 19:45:54,508\tINFO worker.py:1749 -- Started a local Ray instance.\n"
     ]
    },
    {
     "name": "stdout",
     "output_type": "stream",
     "text": [
      "Iteration No: 5 ended. Evaluation done at random point.\n",
      "Time taken: 10.7245\n",
      "Function value obtained: -34.5301\n",
      "Current minimum: -105.7970\n",
      "Iteration No: 6 started. Evaluating function at random point.\n"
     ]
    },
    {
     "name": "stderr",
     "output_type": "stream",
     "text": [
      "2024-05-24 19:46:06,243\tINFO worker.py:1749 -- Started a local Ray instance.\n"
     ]
    },
    {
     "name": "stdout",
     "output_type": "stream",
     "text": [
      "Iteration No: 6 ended. Evaluation done at random point.\n",
      "Time taken: 11.1340\n",
      "Function value obtained: -114.0690\n",
      "Current minimum: -114.0690\n",
      "Iteration No: 7 started. Evaluating function at random point.\n"
     ]
    },
    {
     "name": "stderr",
     "output_type": "stream",
     "text": [
      "2024-05-24 19:46:18,214\tINFO worker.py:1749 -- Started a local Ray instance.\n"
     ]
    },
    {
     "name": "stdout",
     "output_type": "stream",
     "text": [
      "Iteration No: 7 ended. Evaluation done at random point.\n",
      "Time taken: 12.7205\n",
      "Function value obtained: -65.3205\n",
      "Current minimum: -114.0690\n",
      "Iteration No: 8 started. Evaluating function at random point.\n"
     ]
    },
    {
     "name": "stderr",
     "output_type": "stream",
     "text": [
      "2024-05-24 19:46:29,106\tINFO worker.py:1749 -- Started a local Ray instance.\n"
     ]
    },
    {
     "name": "stdout",
     "output_type": "stream",
     "text": [
      "Iteration No: 8 ended. Evaluation done at random point.\n",
      "Time taken: 10.3345\n",
      "Function value obtained: -8.5293\n",
      "Current minimum: -114.0690\n",
      "Iteration No: 9 started. Evaluating function at random point.\n"
     ]
    },
    {
     "name": "stderr",
     "output_type": "stream",
     "text": [
      "2024-05-24 19:46:39,441\tINFO worker.py:1749 -- Started a local Ray instance.\n"
     ]
    },
    {
     "name": "stdout",
     "output_type": "stream",
     "text": [
      "Iteration No: 9 ended. Evaluation done at random point.\n",
      "Time taken: 11.5117\n",
      "Function value obtained: -46.7897\n",
      "Current minimum: -114.0690\n",
      "Iteration No: 10 started. Evaluating function at random point.\n"
     ]
    },
    {
     "name": "stderr",
     "output_type": "stream",
     "text": [
      "2024-05-24 19:46:51,989\tINFO worker.py:1749 -- Started a local Ray instance.\n"
     ]
    },
    {
     "name": "stdout",
     "output_type": "stream",
     "text": [
      "Iteration No: 10 ended. Evaluation done at random point.\n",
      "Time taken: 12.3599\n",
      "Function value obtained: -9.6972\n",
      "Current minimum: -114.0690\n",
      "Iteration No: 11 started. Searching for the next optimal point.\n"
     ]
    },
    {
     "name": "stderr",
     "output_type": "stream",
     "text": [
      "2024-05-24 19:47:03,272\tINFO worker.py:1749 -- Started a local Ray instance.\n"
     ]
    },
    {
     "name": "stdout",
     "output_type": "stream",
     "text": [
      "Iteration No: 11 ended. Search finished for the next optimal point.\n",
      "Time taken: 11.9172\n",
      "Function value obtained: -124.8926\n",
      "Current minimum: -124.8926\n",
      "Iteration No: 12 started. Searching for the next optimal point.\n"
     ]
    },
    {
     "name": "stderr",
     "output_type": "stream",
     "text": [
      "2024-05-24 19:47:15,230\tINFO worker.py:1749 -- Started a local Ray instance.\n"
     ]
    },
    {
     "name": "stdout",
     "output_type": "stream",
     "text": [
      "Iteration No: 12 ended. Search finished for the next optimal point.\n",
      "Time taken: 11.1081\n",
      "Function value obtained: -121.5150\n",
      "Current minimum: -124.8926\n",
      "Iteration No: 13 started. Searching for the next optimal point.\n"
     ]
    },
    {
     "name": "stderr",
     "output_type": "stream",
     "text": [
      "2024-05-24 19:47:26,340\tINFO worker.py:1749 -- Started a local Ray instance.\n"
     ]
    },
    {
     "name": "stdout",
     "output_type": "stream",
     "text": [
      "Iteration No: 13 ended. Search finished for the next optimal point.\n",
      "Time taken: 11.3430\n",
      "Function value obtained: -124.2937\n",
      "Current minimum: -124.8926\n",
      "Iteration No: 14 started. Searching for the next optimal point.\n"
     ]
    },
    {
     "name": "stderr",
     "output_type": "stream",
     "text": [
      "2024-05-24 19:47:37,695\tINFO worker.py:1749 -- Started a local Ray instance.\n"
     ]
    },
    {
     "name": "stdout",
     "output_type": "stream",
     "text": [
      "Iteration No: 14 ended. Search finished for the next optimal point.\n",
      "Time taken: 10.3123\n",
      "Function value obtained: -122.6365\n",
      "Current minimum: -124.8926\n",
      "Iteration No: 15 started. Searching for the next optimal point.\n"
     ]
    },
    {
     "name": "stderr",
     "output_type": "stream",
     "text": [
      "2024-05-24 19:47:48,015\tINFO worker.py:1749 -- Started a local Ray instance.\n"
     ]
    },
    {
     "name": "stdout",
     "output_type": "stream",
     "text": [
      "Iteration No: 15 ended. Search finished for the next optimal point.\n",
      "Time taken: 9.0860\n",
      "Function value obtained: -122.9173\n",
      "Current minimum: -124.8926\n",
      "Iteration No: 16 started. Searching for the next optimal point.\n"
     ]
    },
    {
     "name": "stderr",
     "output_type": "stream",
     "text": [
      "2024-05-24 19:48:01,378\tINFO worker.py:1749 -- Started a local Ray instance.\n"
     ]
    },
    {
     "name": "stdout",
     "output_type": "stream",
     "text": [
      "Iteration No: 16 ended. Search finished for the next optimal point.\n",
      "Time taken: 14.9621\n",
      "Function value obtained: -122.6017\n",
      "Current minimum: -124.8926\n",
      "Iteration No: 17 started. Searching for the next optimal point.\n"
     ]
    },
    {
     "name": "stderr",
     "output_type": "stream",
     "text": [
      "2024-05-24 19:48:12,080\tINFO worker.py:1749 -- Started a local Ray instance.\n"
     ]
    },
    {
     "name": "stdout",
     "output_type": "stream",
     "text": [
      "Iteration No: 17 ended. Search finished for the next optimal point.\n",
      "Time taken: 9.1725\n",
      "Function value obtained: -122.9132\n",
      "Current minimum: -124.8926\n",
      "Iteration No: 18 started. Searching for the next optimal point.\n"
     ]
    },
    {
     "name": "stderr",
     "output_type": "stream",
     "text": [
      "2024-05-24 19:48:25,745\tINFO worker.py:1749 -- Started a local Ray instance.\n"
     ]
    },
    {
     "name": "stdout",
     "output_type": "stream",
     "text": [
      "Iteration No: 18 ended. Search finished for the next optimal point.\n",
      "Time taken: 15.3665\n",
      "Function value obtained: -122.0319\n",
      "Current minimum: -124.8926\n",
      "Iteration No: 19 started. Searching for the next optimal point.\n"
     ]
    },
    {
     "name": "stderr",
     "output_type": "stream",
     "text": [
      "2024-05-24 19:48:36,655\tINFO worker.py:1749 -- Started a local Ray instance.\n"
     ]
    },
    {
     "name": "stdout",
     "output_type": "stream",
     "text": [
      "Iteration No: 19 ended. Search finished for the next optimal point.\n",
      "Time taken: 10.3742\n",
      "Function value obtained: -124.4707\n",
      "Current minimum: -124.8926\n",
      "Iteration No: 20 started. Searching for the next optimal point.\n"
     ]
    },
    {
     "name": "stderr",
     "output_type": "stream",
     "text": [
      "2024-05-24 19:48:47,009\tINFO worker.py:1749 -- Started a local Ray instance.\n"
     ]
    },
    {
     "name": "stdout",
     "output_type": "stream",
     "text": [
      "Iteration No: 20 ended. Search finished for the next optimal point.\n",
      "Time taken: 10.8190\n",
      "Function value obtained: -127.3040\n",
      "Current minimum: -127.3040\n",
      "Iteration No: 21 started. Searching for the next optimal point.\n"
     ]
    },
    {
     "name": "stderr",
     "output_type": "stream",
     "text": [
      "2024-05-24 19:48:57,792\tINFO worker.py:1749 -- Started a local Ray instance.\n"
     ]
    },
    {
     "name": "stdout",
     "output_type": "stream",
     "text": [
      "Iteration No: 21 ended. Search finished for the next optimal point.\n",
      "Time taken: 11.0690\n",
      "Function value obtained: -125.3524\n",
      "Current minimum: -127.3040\n",
      "Iteration No: 22 started. Searching for the next optimal point.\n"
     ]
    },
    {
     "name": "stderr",
     "output_type": "stream",
     "text": [
      "2024-05-24 19:49:08,958\tINFO worker.py:1749 -- Started a local Ray instance.\n"
     ]
    },
    {
     "name": "stdout",
     "output_type": "stream",
     "text": [
      "Iteration No: 22 ended. Search finished for the next optimal point.\n",
      "Time taken: 11.4150\n",
      "Function value obtained: -122.2632\n",
      "Current minimum: -127.3040\n",
      "Iteration No: 23 started. Searching for the next optimal point.\n"
     ]
    },
    {
     "name": "stderr",
     "output_type": "stream",
     "text": [
      "2024-05-24 19:49:20,367\tINFO worker.py:1749 -- Started a local Ray instance.\n"
     ]
    },
    {
     "name": "stdout",
     "output_type": "stream",
     "text": [
      "Iteration No: 23 ended. Search finished for the next optimal point.\n",
      "Time taken: 9.2634\n",
      "Function value obtained: -118.9392\n",
      "Current minimum: -127.3040\n",
      "Iteration No: 24 started. Searching for the next optimal point.\n"
     ]
    },
    {
     "name": "stderr",
     "output_type": "stream",
     "text": [
      "2024-05-24 19:49:35,237\tINFO worker.py:1749 -- Started a local Ray instance.\n"
     ]
    },
    {
     "name": "stdout",
     "output_type": "stream",
     "text": [
      "Iteration No: 24 ended. Search finished for the next optimal point.\n",
      "Time taken: 16.3303\n",
      "Function value obtained: -120.4615\n",
      "Current minimum: -127.3040\n",
      "Iteration No: 25 started. Searching for the next optimal point.\n"
     ]
    },
    {
     "name": "stderr",
     "output_type": "stream",
     "text": [
      "2024-05-24 19:49:45,932\tINFO worker.py:1749 -- Started a local Ray instance.\n"
     ]
    },
    {
     "name": "stdout",
     "output_type": "stream",
     "text": [
      "Iteration No: 25 ended. Search finished for the next optimal point.\n",
      "Time taken: 9.2637\n",
      "Function value obtained: -125.3327\n",
      "Current minimum: -127.3040\n",
      "Iteration No: 26 started. Searching for the next optimal point.\n"
     ]
    },
    {
     "name": "stderr",
     "output_type": "stream",
     "text": [
      "2024-05-24 19:50:00,162\tINFO worker.py:1749 -- Started a local Ray instance.\n"
     ]
    },
    {
     "name": "stdout",
     "output_type": "stream",
     "text": [
      "Iteration No: 26 ended. Search finished for the next optimal point.\n",
      "Time taken: 16.1308\n",
      "Function value obtained: -122.4334\n",
      "Current minimum: -127.3040\n",
      "Iteration No: 27 started. Searching for the next optimal point.\n"
     ]
    },
    {
     "name": "stderr",
     "output_type": "stream",
     "text": [
      "2024-05-24 19:50:11,380\tINFO worker.py:1749 -- Started a local Ray instance.\n"
     ]
    },
    {
     "name": "stdout",
     "output_type": "stream",
     "text": [
      "Iteration No: 27 ended. Search finished for the next optimal point.\n",
      "Time taken: 10.9672\n",
      "Function value obtained: -124.4445\n",
      "Current minimum: -127.3040\n",
      "Iteration No: 28 started. Searching for the next optimal point.\n"
     ]
    },
    {
     "name": "stderr",
     "output_type": "stream",
     "text": [
      "2024-05-24 19:50:22,281\tINFO worker.py:1749 -- Started a local Ray instance.\n"
     ]
    },
    {
     "name": "stdout",
     "output_type": "stream",
     "text": [
      "Iteration No: 28 ended. Search finished for the next optimal point.\n",
      "Time taken: 10.8215\n",
      "Function value obtained: -125.8148\n",
      "Current minimum: -127.3040\n",
      "Iteration No: 29 started. Searching for the next optimal point.\n"
     ]
    },
    {
     "name": "stderr",
     "output_type": "stream",
     "text": [
      "2024-05-24 19:50:33,156\tINFO worker.py:1749 -- Started a local Ray instance.\n"
     ]
    },
    {
     "name": "stdout",
     "output_type": "stream",
     "text": [
      "Iteration No: 29 ended. Search finished for the next optimal point.\n",
      "Time taken: 10.2420\n",
      "Function value obtained: -126.8922\n",
      "Current minimum: -127.3040\n",
      "Iteration No: 30 started. Searching for the next optimal point.\n"
     ]
    },
    {
     "name": "stderr",
     "output_type": "stream",
     "text": [
      "2024-05-24 19:50:44,559\tINFO worker.py:1749 -- Started a local Ray instance.\n"
     ]
    },
    {
     "name": "stdout",
     "output_type": "stream",
     "text": [
      "Iteration No: 30 ended. Search finished for the next optimal point.\n",
      "Time taken: 12.9081\n",
      "Function value obtained: -122.7065\n",
      "Current minimum: -127.3040\n",
      "Iteration No: 31 started. Searching for the next optimal point.\n"
     ]
    },
    {
     "name": "stderr",
     "output_type": "stream",
     "text": [
      "2024-05-24 19:50:56,297\tINFO worker.py:1749 -- Started a local Ray instance.\n"
     ]
    },
    {
     "name": "stdout",
     "output_type": "stream",
     "text": [
      "Iteration No: 31 ended. Search finished for the next optimal point.\n",
      "Time taken: 10.7134\n",
      "Function value obtained: -121.7051\n",
      "Current minimum: -127.3040\n",
      "Iteration No: 32 started. Searching for the next optimal point.\n"
     ]
    },
    {
     "name": "stderr",
     "output_type": "stream",
     "text": [
      "2024-05-24 19:51:07,071\tINFO worker.py:1749 -- Started a local Ray instance.\n"
     ]
    },
    {
     "name": "stdout",
     "output_type": "stream",
     "text": [
      "Iteration No: 32 ended. Search finished for the next optimal point.\n",
      "Time taken: 12.6497\n",
      "Function value obtained: -123.0796\n",
      "Current minimum: -127.3040\n",
      "Iteration No: 33 started. Searching for the next optimal point.\n"
     ]
    },
    {
     "name": "stderr",
     "output_type": "stream",
     "text": [
      "2024-05-24 19:51:19,709\tINFO worker.py:1749 -- Started a local Ray instance.\n"
     ]
    },
    {
     "name": "stdout",
     "output_type": "stream",
     "text": [
      "Iteration No: 33 ended. Search finished for the next optimal point.\n",
      "Time taken: 10.9608\n",
      "Function value obtained: -121.6733\n",
      "Current minimum: -127.3040\n",
      "Iteration No: 34 started. Searching for the next optimal point.\n"
     ]
    },
    {
     "name": "stderr",
     "output_type": "stream",
     "text": [
      "2024-05-24 19:51:30,650\tINFO worker.py:1749 -- Started a local Ray instance.\n"
     ]
    },
    {
     "name": "stdout",
     "output_type": "stream",
     "text": [
      "Iteration No: 34 ended. Search finished for the next optimal point.\n",
      "Time taken: 11.5136\n",
      "Function value obtained: -125.8669\n",
      "Current minimum: -127.3040\n",
      "Iteration No: 35 started. Searching for the next optimal point.\n"
     ]
    },
    {
     "name": "stderr",
     "output_type": "stream",
     "text": [
      "2024-05-24 19:51:42,172\tINFO worker.py:1749 -- Started a local Ray instance.\n"
     ]
    },
    {
     "name": "stdout",
     "output_type": "stream",
     "text": [
      "Iteration No: 35 ended. Search finished for the next optimal point.\n",
      "Time taken: 12.1153\n",
      "Function value obtained: -125.0135\n",
      "Current minimum: -127.3040\n",
      "Iteration No: 36 started. Searching for the next optimal point.\n"
     ]
    },
    {
     "name": "stderr",
     "output_type": "stream",
     "text": [
      "2024-05-24 19:51:54,351\tINFO worker.py:1749 -- Started a local Ray instance.\n"
     ]
    },
    {
     "name": "stdout",
     "output_type": "stream",
     "text": [
      "Iteration No: 36 ended. Search finished for the next optimal point.\n",
      "Time taken: 10.7594\n",
      "Function value obtained: -122.2269\n",
      "Current minimum: -127.3040\n",
      "Iteration No: 37 started. Searching for the next optimal point.\n"
     ]
    },
    {
     "name": "stderr",
     "output_type": "stream",
     "text": [
      "2024-05-24 19:52:05,072\tINFO worker.py:1749 -- Started a local Ray instance.\n"
     ]
    },
    {
     "name": "stdout",
     "output_type": "stream",
     "text": [
      "Iteration No: 37 ended. Search finished for the next optimal point.\n",
      "Time taken: 11.0589\n",
      "Function value obtained: -121.1210\n",
      "Current minimum: -127.3040\n",
      "Iteration No: 38 started. Searching for the next optimal point.\n"
     ]
    },
    {
     "name": "stderr",
     "output_type": "stream",
     "text": [
      "2024-05-24 19:52:16,158\tINFO worker.py:1749 -- Started a local Ray instance.\n"
     ]
    },
    {
     "name": "stdout",
     "output_type": "stream",
     "text": [
      "Iteration No: 38 ended. Search finished for the next optimal point.\n",
      "Time taken: 10.9067\n",
      "Function value obtained: -124.1935\n",
      "Current minimum: -127.3040\n",
      "Iteration No: 39 started. Searching for the next optimal point.\n"
     ]
    },
    {
     "name": "stderr",
     "output_type": "stream",
     "text": [
      "2024-05-24 19:52:27,133\tINFO worker.py:1749 -- Started a local Ray instance.\n"
     ]
    },
    {
     "name": "stdout",
     "output_type": "stream",
     "text": [
      "Iteration No: 39 ended. Search finished for the next optimal point.\n",
      "Time taken: 12.0283\n",
      "Function value obtained: -124.4234\n",
      "Current minimum: -127.3040\n",
      "Iteration No: 40 started. Searching for the next optimal point.\n"
     ]
    },
    {
     "name": "stderr",
     "output_type": "stream",
     "text": [
      "2024-05-24 19:52:39,144\tINFO worker.py:1749 -- Started a local Ray instance.\n"
     ]
    },
    {
     "name": "stdout",
     "output_type": "stream",
     "text": [
      "Iteration No: 40 ended. Search finished for the next optimal point.\n",
      "Time taken: 16.1896\n",
      "Function value obtained: -120.8218\n",
      "Current minimum: -127.3040\n",
      "CPU times: user 15min 14s, sys: 19min 8s, total: 34min 22s\n",
      "Wall time: 21min 47s\n"
     ]
    }
   ],
   "source": [
    "%%time\n",
    "\n",
    "cr_gp1 = gp_minimize(cr_obj1, cr_space, n_calls = NCALLS, verbose=True)\n",
    "print(\"\\n--------------------\"*2)\n",
    "esc_gp1 = gp_minimize(esc_obj1, esc_space, n_calls = NCALLS, verbose=True)\n",
    "print(\"\\n--------------------\"*2)\n",
    "msy_gp1 = gp_minimize(msy_obj1, msy_space, n_calls = NCALLS, verbose=True)"
   ]
  },
  {
   "cell_type": "code",
   "execution_count": 18,
   "id": "7793ff2e-dc78-4900-ac38-431b5f5b201d",
   "metadata": {
    "scrolled": true
   },
   "outputs": [
    {
     "name": "stdout",
     "output_type": "stream",
     "text": [
      "\n",
      "cr.: -150.13, [0.04342366137026321, -0.01139629999817482, 0.15086166706789647] \n",
      "esc: -111.69, [0.46970553887262595]\n",
      "msy: -127.30, [0.044227386748548404]\n",
      "\n"
     ]
    }
   ],
   "source": [
    "print(f\"\"\"\n",
    "cr.: {cr_gp1.fun:.2f}, {cr_gp1.x} \n",
    "esc: {esc_gp1.fun:.2f}, {esc_gp1.x}\n",
    "msy: {msy_gp1.fun:.2f}, {msy_gp1.x}\n",
    "\"\"\")"
   ]
  },
  {
   "cell_type": "code",
   "execution_count": 20,
   "id": "0b5f1e9f-d896-4e6c-835a-fd227adfec08",
   "metadata": {},
   "outputs": [],
   "source": [
    "# plot_objective(esc_gp3) # looks good too!"
   ]
  },
  {
   "cell_type": "code",
   "execution_count": 21,
   "id": "3ea1e603-3c5d-4fbd-aefb-f3531b99a8c3",
   "metadata": {},
   "outputs": [],
   "source": [
    "import ray\n",
    "ray.shutdown()"
   ]
  },
  {
   "cell_type": "markdown",
   "id": "acc1d2fc-e50e-40bf-bbdb-35cff1a151b4",
   "metadata": {},
   "source": [
    "## upow=1, non-trophy fishing"
   ]
  },
  {
   "cell_type": "code",
   "execution_count": 22,
   "id": "8983ccaa-ee40-4161-b691-d095b51a8d57",
   "metadata": {},
   "outputs": [],
   "source": [
    "CONFIG2 = {\n",
    "    \"upow\": 1\n",
    "}\n",
    "\n",
    "cr_obj2 = cr_obj_generator(CONFIG2)\n",
    "esc_obj2 = esc_obj_generator(CONFIG2)\n",
    "msy_obj2 = msy_obj_generator(CONFIG2)"
   ]
  },
  {
   "cell_type": "code",
   "execution_count": 23,
   "id": "883f8c50-0897-4c2f-92d2-0a6b683d638c",
   "metadata": {
    "collapsed": true,
    "jupyter": {
     "outputs_hidden": true
    },
    "scrolled": true
   },
   "outputs": [
    {
     "name": "stdout",
     "output_type": "stream",
     "text": [
      "Iteration No: 1 started. Evaluating function at random point.\n"
     ]
    },
    {
     "name": "stderr",
     "output_type": "stream",
     "text": [
      "2024-05-24 19:54:02,633\tINFO worker.py:1749 -- Started a local Ray instance.\n"
     ]
    },
    {
     "name": "stdout",
     "output_type": "stream",
     "text": [
      "Iteration No: 1 ended. Evaluation done at random point.\n",
      "Time taken: 10.9315\n",
      "Function value obtained: -46.1007\n",
      "Current minimum: -46.1007\n",
      "Iteration No: 2 started. Evaluating function at random point.\n"
     ]
    },
    {
     "name": "stderr",
     "output_type": "stream",
     "text": [
      "2024-05-24 19:54:13,534\tINFO worker.py:1749 -- Started a local Ray instance.\n"
     ]
    },
    {
     "name": "stdout",
     "output_type": "stream",
     "text": [
      "Iteration No: 2 ended. Evaluation done at random point.\n",
      "Time taken: 12.4076\n",
      "Function value obtained: -55.6889\n",
      "Current minimum: -55.6889\n",
      "Iteration No: 3 started. Evaluating function at random point.\n"
     ]
    },
    {
     "name": "stderr",
     "output_type": "stream",
     "text": [
      "2024-05-24 19:54:25,958\tINFO worker.py:1749 -- Started a local Ray instance.\n"
     ]
    },
    {
     "name": "stdout",
     "output_type": "stream",
     "text": [
      "Iteration No: 3 ended. Evaluation done at random point.\n",
      "Time taken: 11.9817\n",
      "Function value obtained: -7.2042\n",
      "Current minimum: -55.6889\n",
      "Iteration No: 4 started. Evaluating function at random point.\n"
     ]
    },
    {
     "name": "stderr",
     "output_type": "stream",
     "text": [
      "2024-05-24 19:54:37,865\tINFO worker.py:1749 -- Started a local Ray instance.\n"
     ]
    },
    {
     "name": "stdout",
     "output_type": "stream",
     "text": [
      "Iteration No: 4 ended. Evaluation done at random point.\n",
      "Time taken: 10.9808\n",
      "Function value obtained: -68.2717\n",
      "Current minimum: -68.2717\n",
      "Iteration No: 5 started. Evaluating function at random point.\n"
     ]
    },
    {
     "name": "stderr",
     "output_type": "stream",
     "text": [
      "2024-05-24 19:54:48,838\tINFO worker.py:1749 -- Started a local Ray instance.\n"
     ]
    },
    {
     "name": "stdout",
     "output_type": "stream",
     "text": [
      "Iteration No: 5 ended. Evaluation done at random point.\n",
      "Time taken: 11.5361\n",
      "Function value obtained: -23.6040\n",
      "Current minimum: -68.2717\n",
      "Iteration No: 6 started. Evaluating function at random point.\n"
     ]
    },
    {
     "name": "stderr",
     "output_type": "stream",
     "text": [
      "2024-05-24 19:55:00,456\tINFO worker.py:1749 -- Started a local Ray instance.\n"
     ]
    },
    {
     "name": "stdout",
     "output_type": "stream",
     "text": [
      "Iteration No: 6 ended. Evaluation done at random point.\n",
      "Time taken: 11.2388\n",
      "Function value obtained: -44.7199\n",
      "Current minimum: -68.2717\n",
      "Iteration No: 7 started. Evaluating function at random point.\n"
     ]
    },
    {
     "name": "stderr",
     "output_type": "stream",
     "text": [
      "2024-05-24 19:55:11,664\tINFO worker.py:1749 -- Started a local Ray instance.\n"
     ]
    },
    {
     "name": "stdout",
     "output_type": "stream",
     "text": [
      "Iteration No: 7 ended. Evaluation done at random point.\n",
      "Time taken: 10.6266\n",
      "Function value obtained: -27.0222\n",
      "Current minimum: -68.2717\n",
      "Iteration No: 8 started. Evaluating function at random point.\n"
     ]
    },
    {
     "name": "stderr",
     "output_type": "stream",
     "text": [
      "2024-05-24 19:55:22,236\tINFO worker.py:1749 -- Started a local Ray instance.\n"
     ]
    },
    {
     "name": "stdout",
     "output_type": "stream",
     "text": [
      "Iteration No: 8 ended. Evaluation done at random point.\n",
      "Time taken: 9.1898\n",
      "Function value obtained: -56.4855\n",
      "Current minimum: -68.2717\n",
      "Iteration No: 9 started. Evaluating function at random point.\n"
     ]
    },
    {
     "name": "stderr",
     "output_type": "stream",
     "text": [
      "2024-05-24 19:55:36,709\tINFO worker.py:1749 -- Started a local Ray instance.\n"
     ]
    },
    {
     "name": "stdout",
     "output_type": "stream",
     "text": [
      "Iteration No: 9 ended. Evaluation done at random point.\n",
      "Time taken: 15.8840\n",
      "Function value obtained: -22.9363\n",
      "Current minimum: -68.2717\n",
      "Iteration No: 10 started. Evaluating function at random point.\n"
     ]
    },
    {
     "name": "stderr",
     "output_type": "stream",
     "text": [
      "2024-05-24 19:55:47,333\tINFO worker.py:1749 -- Started a local Ray instance.\n"
     ]
    },
    {
     "name": "stdout",
     "output_type": "stream",
     "text": [
      "Iteration No: 10 ended. Evaluation done at random point.\n",
      "Time taken: 10.7103\n",
      "Function value obtained: -37.8728\n",
      "Current minimum: -68.2717\n",
      "Iteration No: 11 started. Searching for the next optimal point.\n"
     ]
    },
    {
     "name": "stderr",
     "output_type": "stream",
     "text": [
      "2024-05-24 19:55:58,006\tINFO worker.py:1749 -- Started a local Ray instance.\n"
     ]
    },
    {
     "name": "stdout",
     "output_type": "stream",
     "text": [
      "Iteration No: 11 ended. Search finished for the next optimal point.\n",
      "Time taken: 11.8545\n",
      "Function value obtained: -63.3852\n",
      "Current minimum: -68.2717\n",
      "Iteration No: 12 started. Searching for the next optimal point.\n"
     ]
    },
    {
     "name": "stderr",
     "output_type": "stream",
     "text": [
      "2024-05-24 19:56:09,937\tINFO worker.py:1749 -- Started a local Ray instance.\n"
     ]
    },
    {
     "name": "stdout",
     "output_type": "stream",
     "text": [
      "Iteration No: 12 ended. Search finished for the next optimal point.\n",
      "Time taken: 11.0440\n",
      "Function value obtained: -63.8500\n",
      "Current minimum: -68.2717\n",
      "Iteration No: 13 started. Searching for the next optimal point.\n"
     ]
    },
    {
     "name": "stderr",
     "output_type": "stream",
     "text": [
      "2024-05-24 19:56:20,990\tINFO worker.py:1749 -- Started a local Ray instance.\n"
     ]
    },
    {
     "name": "stdout",
     "output_type": "stream",
     "text": [
      "Iteration No: 13 ended. Search finished for the next optimal point.\n",
      "Time taken: 11.9483\n",
      "Function value obtained: -0.0000\n",
      "Current minimum: -68.2717\n",
      "Iteration No: 14 started. Searching for the next optimal point.\n"
     ]
    },
    {
     "name": "stderr",
     "output_type": "stream",
     "text": [
      "2024-05-24 19:56:32,965\tINFO worker.py:1749 -- Started a local Ray instance.\n"
     ]
    },
    {
     "name": "stdout",
     "output_type": "stream",
     "text": [
      "Iteration No: 14 ended. Search finished for the next optimal point.\n",
      "Time taken: 12.5362\n",
      "Function value obtained: -68.2444\n",
      "Current minimum: -68.2717\n",
      "Iteration No: 15 started. Searching for the next optimal point.\n"
     ]
    },
    {
     "name": "stderr",
     "output_type": "stream",
     "text": [
      "2024-05-24 19:56:45,517\tINFO worker.py:1749 -- Started a local Ray instance.\n"
     ]
    },
    {
     "name": "stdout",
     "output_type": "stream",
     "text": [
      "Iteration No: 15 ended. Search finished for the next optimal point.\n",
      "Time taken: 9.7372\n",
      "Function value obtained: -53.1859\n",
      "Current minimum: -68.2717\n",
      "Iteration No: 16 started. Searching for the next optimal point.\n"
     ]
    },
    {
     "name": "stderr",
     "output_type": "stream",
     "text": [
      "2024-05-24 19:57:01,885\tINFO worker.py:1749 -- Started a local Ray instance.\n"
     ]
    },
    {
     "name": "stdout",
     "output_type": "stream",
     "text": [
      "Iteration No: 16 ended. Search finished for the next optimal point.\n",
      "Time taken: 18.1602\n",
      "Function value obtained: -68.4843\n",
      "Current minimum: -68.4843\n",
      "Iteration No: 17 started. Searching for the next optimal point.\n"
     ]
    },
    {
     "name": "stderr",
     "output_type": "stream",
     "text": [
      "2024-05-24 19:57:13,385\tINFO worker.py:1749 -- Started a local Ray instance.\n"
     ]
    },
    {
     "name": "stdout",
     "output_type": "stream",
     "text": [
      "Iteration No: 17 ended. Search finished for the next optimal point.\n",
      "Time taken: 11.6575\n",
      "Function value obtained: -67.7700\n",
      "Current minimum: -68.4843\n",
      "Iteration No: 18 started. Searching for the next optimal point.\n"
     ]
    },
    {
     "name": "stderr",
     "output_type": "stream",
     "text": [
      "2024-05-24 19:57:25,037\tINFO worker.py:1749 -- Started a local Ray instance.\n"
     ]
    },
    {
     "name": "stdout",
     "output_type": "stream",
     "text": [
      "Iteration No: 18 ended. Search finished for the next optimal point.\n",
      "Time taken: 10.6207\n",
      "Function value obtained: -72.4312\n",
      "Current minimum: -72.4312\n",
      "Iteration No: 19 started. Searching for the next optimal point.\n"
     ]
    },
    {
     "name": "stderr",
     "output_type": "stream",
     "text": [
      "2024-05-24 19:57:39,417\tINFO worker.py:1749 -- Started a local Ray instance.\n"
     ]
    },
    {
     "name": "stdout",
     "output_type": "stream",
     "text": [
      "Iteration No: 19 ended. Search finished for the next optimal point.\n",
      "Time taken: 15.1011\n",
      "Function value obtained: -75.0044\n",
      "Current minimum: -75.0044\n",
      "Iteration No: 20 started. Searching for the next optimal point.\n"
     ]
    },
    {
     "name": "stderr",
     "output_type": "stream",
     "text": [
      "2024-05-24 19:57:50,811\tINFO worker.py:1749 -- Started a local Ray instance.\n"
     ]
    },
    {
     "name": "stdout",
     "output_type": "stream",
     "text": [
      "Iteration No: 20 ended. Search finished for the next optimal point.\n",
      "Time taken: 12.2990\n",
      "Function value obtained: -76.9663\n",
      "Current minimum: -76.9663\n",
      "Iteration No: 21 started. Searching for the next optimal point.\n"
     ]
    },
    {
     "name": "stderr",
     "output_type": "stream",
     "text": [
      "2024-05-24 19:58:03,117\tINFO worker.py:1749 -- Started a local Ray instance.\n"
     ]
    },
    {
     "name": "stdout",
     "output_type": "stream",
     "text": [
      "Iteration No: 21 ended. Search finished for the next optimal point.\n",
      "Time taken: 11.7030\n",
      "Function value obtained: -80.9614\n",
      "Current minimum: -80.9614\n",
      "Iteration No: 22 started. Searching for the next optimal point.\n"
     ]
    },
    {
     "name": "stderr",
     "output_type": "stream",
     "text": [
      "2024-05-24 19:58:15,829\tINFO worker.py:1749 -- Started a local Ray instance.\n"
     ]
    },
    {
     "name": "stdout",
     "output_type": "stream",
     "text": [
      "Iteration No: 22 ended. Search finished for the next optimal point.\n",
      "Time taken: 12.5174\n",
      "Function value obtained: -79.0889\n",
      "Current minimum: -80.9614\n",
      "Iteration No: 23 started. Searching for the next optimal point.\n"
     ]
    },
    {
     "name": "stderr",
     "output_type": "stream",
     "text": [
      "2024-05-24 19:58:27,239\tINFO worker.py:1749 -- Started a local Ray instance.\n"
     ]
    },
    {
     "name": "stdout",
     "output_type": "stream",
     "text": [
      "Iteration No: 23 ended. Search finished for the next optimal point.\n",
      "Time taken: 11.2068\n",
      "Function value obtained: -83.4642\n",
      "Current minimum: -83.4642\n",
      "Iteration No: 24 started. Searching for the next optimal point.\n"
     ]
    },
    {
     "name": "stderr",
     "output_type": "stream",
     "text": [
      "2024-05-24 19:58:38,489\tINFO worker.py:1749 -- Started a local Ray instance.\n"
     ]
    },
    {
     "name": "stdout",
     "output_type": "stream",
     "text": [
      "Iteration No: 24 ended. Search finished for the next optimal point.\n",
      "Time taken: 11.0475\n",
      "Function value obtained: -81.2126\n",
      "Current minimum: -83.4642\n",
      "Iteration No: 25 started. Searching for the next optimal point.\n"
     ]
    },
    {
     "name": "stderr",
     "output_type": "stream",
     "text": [
      "2024-05-24 19:58:49,576\tINFO worker.py:1749 -- Started a local Ray instance.\n"
     ]
    },
    {
     "name": "stdout",
     "output_type": "stream",
     "text": [
      "Iteration No: 25 ended. Search finished for the next optimal point.\n",
      "Time taken: 10.8559\n",
      "Function value obtained: -80.0164\n",
      "Current minimum: -83.4642\n",
      "Iteration No: 26 started. Searching for the next optimal point.\n"
     ]
    },
    {
     "name": "stderr",
     "output_type": "stream",
     "text": [
      "2024-05-24 19:59:00,380\tINFO worker.py:1749 -- Started a local Ray instance.\n"
     ]
    },
    {
     "name": "stdout",
     "output_type": "stream",
     "text": [
      "Iteration No: 26 ended. Search finished for the next optimal point.\n",
      "Time taken: 10.0461\n",
      "Function value obtained: -84.9349\n",
      "Current minimum: -84.9349\n",
      "Iteration No: 27 started. Searching for the next optimal point.\n"
     ]
    },
    {
     "name": "stderr",
     "output_type": "stream",
     "text": [
      "2024-05-24 19:59:15,995\tINFO worker.py:1749 -- Started a local Ray instance.\n"
     ]
    },
    {
     "name": "stdout",
     "output_type": "stream",
     "text": [
      "Iteration No: 27 ended. Search finished for the next optimal point.\n",
      "Time taken: 18.1204\n",
      "Function value obtained: -84.4203\n",
      "Current minimum: -84.9349\n",
      "Iteration No: 28 started. Searching for the next optimal point.\n"
     ]
    },
    {
     "name": "stderr",
     "output_type": "stream",
     "text": [
      "2024-05-24 19:59:28,617\tINFO worker.py:1749 -- Started a local Ray instance.\n"
     ]
    },
    {
     "name": "stdout",
     "output_type": "stream",
     "text": [
      "Iteration No: 28 ended. Search finished for the next optimal point.\n",
      "Time taken: 12.3726\n",
      "Function value obtained: -84.1797\n",
      "Current minimum: -84.9349\n",
      "Iteration No: 29 started. Searching for the next optimal point.\n"
     ]
    },
    {
     "name": "stderr",
     "output_type": "stream",
     "text": [
      "2024-05-24 19:59:41,006\tINFO worker.py:1749 -- Started a local Ray instance.\n"
     ]
    },
    {
     "name": "stdout",
     "output_type": "stream",
     "text": [
      "Iteration No: 29 ended. Search finished for the next optimal point.\n",
      "Time taken: 11.9805\n",
      "Function value obtained: -82.1850\n",
      "Current minimum: -84.9349\n",
      "Iteration No: 30 started. Searching for the next optimal point.\n"
     ]
    },
    {
     "name": "stderr",
     "output_type": "stream",
     "text": [
      "2024-05-24 19:59:52,945\tINFO worker.py:1749 -- Started a local Ray instance.\n"
     ]
    },
    {
     "name": "stdout",
     "output_type": "stream",
     "text": [
      "Iteration No: 30 ended. Search finished for the next optimal point.\n",
      "Time taken: 11.4122\n",
      "Function value obtained: -87.0540\n",
      "Current minimum: -87.0540\n",
      "Iteration No: 31 started. Searching for the next optimal point.\n"
     ]
    },
    {
     "name": "stderr",
     "output_type": "stream",
     "text": [
      "2024-05-24 20:00:04,400\tINFO worker.py:1749 -- Started a local Ray instance.\n"
     ]
    },
    {
     "name": "stdout",
     "output_type": "stream",
     "text": [
      "Iteration No: 31 ended. Search finished for the next optimal point.\n",
      "Time taken: 11.3546\n",
      "Function value obtained: -86.0763\n",
      "Current minimum: -87.0540\n",
      "Iteration No: 32 started. Searching for the next optimal point.\n"
     ]
    },
    {
     "name": "stderr",
     "output_type": "stream",
     "text": [
      "2024-05-24 20:00:15,824\tINFO worker.py:1749 -- Started a local Ray instance.\n"
     ]
    },
    {
     "name": "stdout",
     "output_type": "stream",
     "text": [
      "Iteration No: 32 ended. Search finished for the next optimal point.\n",
      "Time taken: 12.5947\n",
      "Function value obtained: -88.0330\n",
      "Current minimum: -88.0330\n",
      "Iteration No: 33 started. Searching for the next optimal point.\n"
     ]
    },
    {
     "name": "stderr",
     "output_type": "stream",
     "text": [
      "2024-05-24 20:00:28,379\tINFO worker.py:1749 -- Started a local Ray instance.\n"
     ]
    },
    {
     "name": "stdout",
     "output_type": "stream",
     "text": [
      "Iteration No: 33 ended. Search finished for the next optimal point.\n",
      "Time taken: 11.9900\n",
      "Function value obtained: -86.4731\n",
      "Current minimum: -88.0330\n",
      "Iteration No: 34 started. Searching for the next optimal point.\n"
     ]
    },
    {
     "name": "stderr",
     "output_type": "stream",
     "text": [
      "2024-05-24 20:00:40,333\tINFO worker.py:1749 -- Started a local Ray instance.\n"
     ]
    },
    {
     "name": "stdout",
     "output_type": "stream",
     "text": [
      "Iteration No: 34 ended. Search finished for the next optimal point.\n",
      "Time taken: 12.1745\n",
      "Function value obtained: -81.9750\n",
      "Current minimum: -88.0330\n",
      "Iteration No: 35 started. Searching for the next optimal point.\n"
     ]
    },
    {
     "name": "stderr",
     "output_type": "stream",
     "text": [
      "2024-05-24 20:00:52,546\tINFO worker.py:1749 -- Started a local Ray instance.\n"
     ]
    },
    {
     "name": "stdout",
     "output_type": "stream",
     "text": [
      "Iteration No: 35 ended. Search finished for the next optimal point.\n",
      "Time taken: 11.8411\n",
      "Function value obtained: -84.5548\n",
      "Current minimum: -88.0330\n",
      "Iteration No: 36 started. Searching for the next optimal point.\n"
     ]
    },
    {
     "name": "stderr",
     "output_type": "stream",
     "text": [
      "2024-05-24 20:01:04,433\tINFO worker.py:1749 -- Started a local Ray instance.\n"
     ]
    },
    {
     "name": "stdout",
     "output_type": "stream",
     "text": [
      "Iteration No: 36 ended. Search finished for the next optimal point.\n",
      "Time taken: 12.0906\n",
      "Function value obtained: -85.3201\n",
      "Current minimum: -88.0330\n",
      "Iteration No: 37 started. Searching for the next optimal point.\n"
     ]
    },
    {
     "name": "stderr",
     "output_type": "stream",
     "text": [
      "2024-05-24 20:01:16,577\tINFO worker.py:1749 -- Started a local Ray instance.\n"
     ]
    },
    {
     "name": "stdout",
     "output_type": "stream",
     "text": [
      "Iteration No: 37 ended. Search finished for the next optimal point.\n",
      "Time taken: 11.5605\n",
      "Function value obtained: -82.3599\n",
      "Current minimum: -88.0330\n",
      "Iteration No: 38 started. Searching for the next optimal point.\n"
     ]
    },
    {
     "name": "stderr",
     "output_type": "stream",
     "text": [
      "2024-05-24 20:01:28,016\tINFO worker.py:1749 -- Started a local Ray instance.\n"
     ]
    },
    {
     "name": "stdout",
     "output_type": "stream",
     "text": [
      "Iteration No: 38 ended. Search finished for the next optimal point.\n",
      "Time taken: 11.8971\n",
      "Function value obtained: -8.3631\n",
      "Current minimum: -88.0330\n",
      "Iteration No: 39 started. Searching for the next optimal point.\n"
     ]
    },
    {
     "name": "stderr",
     "output_type": "stream",
     "text": [
      "2024-05-24 20:01:39,891\tINFO worker.py:1749 -- Started a local Ray instance.\n"
     ]
    },
    {
     "name": "stdout",
     "output_type": "stream",
     "text": [
      "Iteration No: 39 ended. Search finished for the next optimal point.\n",
      "Time taken: 11.2061\n",
      "Function value obtained: -89.8726\n",
      "Current minimum: -89.8726\n",
      "Iteration No: 40 started. Searching for the next optimal point.\n"
     ]
    },
    {
     "name": "stderr",
     "output_type": "stream",
     "text": [
      "2024-05-24 20:01:51,182\tINFO worker.py:1749 -- Started a local Ray instance.\n"
     ]
    },
    {
     "name": "stdout",
     "output_type": "stream",
     "text": [
      "Iteration No: 40 ended. Search finished for the next optimal point.\n",
      "Time taken: 11.7599\n",
      "Function value obtained: -83.7336\n",
      "Current minimum: -89.8726\n",
      "\n",
      "--------------------\n",
      "--------------------\n",
      "Iteration No: 1 started. Evaluating function at random point.\n"
     ]
    },
    {
     "name": "stderr",
     "output_type": "stream",
     "text": [
      "2024-05-24 20:02:02,968\tINFO worker.py:1749 -- Started a local Ray instance.\n"
     ]
    },
    {
     "name": "stdout",
     "output_type": "stream",
     "text": [
      "Iteration No: 1 ended. Evaluation done at random point.\n",
      "Time taken: 10.4022\n",
      "Function value obtained: -0.6225\n",
      "Current minimum: -0.6225\n",
      "Iteration No: 2 started. Evaluating function at random point.\n"
     ]
    },
    {
     "name": "stderr",
     "output_type": "stream",
     "text": [
      "2024-05-24 20:02:15,208\tINFO worker.py:1749 -- Started a local Ray instance.\n"
     ]
    },
    {
     "name": "stdout",
     "output_type": "stream",
     "text": [
      "Iteration No: 2 ended. Evaluation done at random point.\n",
      "Time taken: 13.6815\n",
      "Function value obtained: -56.1893\n",
      "Current minimum: -56.1893\n",
      "Iteration No: 3 started. Evaluating function at random point.\n"
     ]
    },
    {
     "name": "stderr",
     "output_type": "stream",
     "text": [
      "2024-05-24 20:02:27,095\tINFO worker.py:1749 -- Started a local Ray instance.\n"
     ]
    },
    {
     "name": "stdout",
     "output_type": "stream",
     "text": [
      "Iteration No: 3 ended. Evaluation done at random point.\n",
      "Time taken: 11.0478\n",
      "Function value obtained: -6.4770\n",
      "Current minimum: -56.1893\n",
      "Iteration No: 4 started. Evaluating function at random point.\n"
     ]
    },
    {
     "name": "stderr",
     "output_type": "stream",
     "text": [
      "2024-05-24 20:02:38,165\tINFO worker.py:1749 -- Started a local Ray instance.\n"
     ]
    },
    {
     "name": "stdout",
     "output_type": "stream",
     "text": [
      "Iteration No: 4 ended. Evaluation done at random point.\n",
      "Time taken: 11.4460\n",
      "Function value obtained: -9.1928\n",
      "Current minimum: -56.1893\n",
      "Iteration No: 5 started. Evaluating function at random point.\n"
     ]
    },
    {
     "name": "stderr",
     "output_type": "stream",
     "text": [
      "2024-05-24 20:02:49,533\tINFO worker.py:1749 -- Started a local Ray instance.\n"
     ]
    },
    {
     "name": "stdout",
     "output_type": "stream",
     "text": [
      "Iteration No: 5 ended. Evaluation done at random point.\n",
      "Time taken: 10.4646\n",
      "Function value obtained: -0.0905\n",
      "Current minimum: -56.1893\n",
      "Iteration No: 6 started. Evaluating function at random point.\n"
     ]
    },
    {
     "name": "stderr",
     "output_type": "stream",
     "text": [
      "2024-05-24 20:02:59,971\tINFO worker.py:1749 -- Started a local Ray instance.\n"
     ]
    },
    {
     "name": "stdout",
     "output_type": "stream",
     "text": [
      "Iteration No: 6 ended. Evaluation done at random point.\n",
      "Time taken: 11.3627\n",
      "Function value obtained: -1.4677\n",
      "Current minimum: -56.1893\n",
      "Iteration No: 7 started. Evaluating function at random point.\n"
     ]
    },
    {
     "name": "stderr",
     "output_type": "stream",
     "text": [
      "2024-05-24 20:03:11,435\tINFO worker.py:1749 -- Started a local Ray instance.\n"
     ]
    },
    {
     "name": "stdout",
     "output_type": "stream",
     "text": [
      "Iteration No: 7 ended. Evaluation done at random point.\n",
      "Time taken: 10.7663\n",
      "Function value obtained: -3.9063\n",
      "Current minimum: -56.1893\n",
      "Iteration No: 8 started. Evaluating function at random point.\n"
     ]
    },
    {
     "name": "stderr",
     "output_type": "stream",
     "text": [
      "2024-05-24 20:03:22,212\tINFO worker.py:1749 -- Started a local Ray instance.\n"
     ]
    },
    {
     "name": "stdout",
     "output_type": "stream",
     "text": [
      "Iteration No: 8 ended. Evaluation done at random point.\n",
      "Time taken: 11.3977\n",
      "Function value obtained: -4.3400\n",
      "Current minimum: -56.1893\n",
      "Iteration No: 9 started. Evaluating function at random point.\n"
     ]
    },
    {
     "name": "stderr",
     "output_type": "stream",
     "text": [
      "2024-05-24 20:03:33,597\tINFO worker.py:1749 -- Started a local Ray instance.\n"
     ]
    },
    {
     "name": "stdout",
     "output_type": "stream",
     "text": [
      "Iteration No: 9 ended. Evaluation done at random point.\n",
      "Time taken: 14.0482\n",
      "Function value obtained: -3.4998\n",
      "Current minimum: -56.1893\n",
      "Iteration No: 10 started. Evaluating function at random point.\n"
     ]
    },
    {
     "name": "stderr",
     "output_type": "stream",
     "text": [
      "2024-05-24 20:03:47,676\tINFO worker.py:1749 -- Started a local Ray instance.\n"
     ]
    },
    {
     "name": "stdout",
     "output_type": "stream",
     "text": [
      "Iteration No: 10 ended. Evaluation done at random point.\n",
      "Time taken: 12.7551\n",
      "Function value obtained: -0.1903\n",
      "Current minimum: -56.1893\n",
      "Iteration No: 11 started. Searching for the next optimal point.\n"
     ]
    },
    {
     "name": "stderr",
     "output_type": "stream",
     "text": [
      "2024-05-24 20:04:00,457\tINFO worker.py:1749 -- Started a local Ray instance.\n"
     ]
    },
    {
     "name": "stdout",
     "output_type": "stream",
     "text": [
      "Iteration No: 11 ended. Search finished for the next optimal point.\n",
      "Time taken: 10.9471\n",
      "Function value obtained: -2.0055\n",
      "Current minimum: -56.1893\n",
      "Iteration No: 12 started. Searching for the next optimal point.\n"
     ]
    },
    {
     "name": "stderr",
     "output_type": "stream",
     "text": [
      "2024-05-24 20:04:12,562\tINFO worker.py:1749 -- Started a local Ray instance.\n"
     ]
    },
    {
     "name": "stdout",
     "output_type": "stream",
     "text": [
      "Iteration No: 12 ended. Search finished for the next optimal point.\n",
      "Time taken: 13.3978\n",
      "Function value obtained: -56.1504\n",
      "Current minimum: -56.1893\n",
      "Iteration No: 13 started. Searching for the next optimal point.\n"
     ]
    },
    {
     "name": "stderr",
     "output_type": "stream",
     "text": [
      "2024-05-24 20:04:24,716\tINFO worker.py:1749 -- Started a local Ray instance.\n"
     ]
    },
    {
     "name": "stdout",
     "output_type": "stream",
     "text": [
      "Iteration No: 13 ended. Search finished for the next optimal point.\n",
      "Time taken: 12.5740\n",
      "Function value obtained: -53.6866\n",
      "Current minimum: -56.1893\n",
      "Iteration No: 14 started. Searching for the next optimal point.\n"
     ]
    },
    {
     "name": "stderr",
     "output_type": "stream",
     "text": [
      "2024-05-24 20:04:37,278\tINFO worker.py:1749 -- Started a local Ray instance.\n"
     ]
    },
    {
     "name": "stdout",
     "output_type": "stream",
     "text": [
      "Iteration No: 14 ended. Search finished for the next optimal point.\n",
      "Time taken: 9.5907\n",
      "Function value obtained: -52.6332\n",
      "Current minimum: -56.1893\n",
      "Iteration No: 15 started. Searching for the next optimal point.\n"
     ]
    },
    {
     "name": "stderr",
     "output_type": "stream",
     "text": [
      "2024-05-24 20:04:52,580\tINFO worker.py:1749 -- Started a local Ray instance.\n"
     ]
    },
    {
     "name": "stdout",
     "output_type": "stream",
     "text": [
      "Iteration No: 15 ended. Search finished for the next optimal point.\n",
      "Time taken: 17.0366\n",
      "Function value obtained: -61.1456\n",
      "Current minimum: -61.1456\n",
      "Iteration No: 16 started. Searching for the next optimal point.\n"
     ]
    },
    {
     "name": "stderr",
     "output_type": "stream",
     "text": [
      "2024-05-24 20:05:03,942\tINFO worker.py:1749 -- Started a local Ray instance.\n"
     ]
    },
    {
     "name": "stdout",
     "output_type": "stream",
     "text": [
      "Iteration No: 16 ended. Search finished for the next optimal point.\n",
      "Time taken: 12.2087\n",
      "Function value obtained: -61.5286\n",
      "Current minimum: -61.5286\n",
      "Iteration No: 17 started. Searching for the next optimal point.\n"
     ]
    },
    {
     "name": "stderr",
     "output_type": "stream",
     "text": [
      "2024-05-24 20:05:16,219\tINFO worker.py:1749 -- Started a local Ray instance.\n"
     ]
    },
    {
     "name": "stdout",
     "output_type": "stream",
     "text": [
      "Iteration No: 17 ended. Search finished for the next optimal point.\n",
      "Time taken: 12.2079\n",
      "Function value obtained: -68.9736\n",
      "Current minimum: -68.9736\n",
      "Iteration No: 18 started. Searching for the next optimal point.\n"
     ]
    },
    {
     "name": "stderr",
     "output_type": "stream",
     "text": [
      "2024-05-24 20:05:28,431\tINFO worker.py:1749 -- Started a local Ray instance.\n"
     ]
    },
    {
     "name": "stdout",
     "output_type": "stream",
     "text": [
      "Iteration No: 18 ended. Search finished for the next optimal point.\n",
      "Time taken: 9.7108\n",
      "Function value obtained: -72.3998\n",
      "Current minimum: -72.3998\n",
      "Iteration No: 19 started. Searching for the next optimal point.\n"
     ]
    },
    {
     "name": "stderr",
     "output_type": "stream",
     "text": [
      "2024-05-24 20:05:44,973\tINFO worker.py:1749 -- Started a local Ray instance.\n"
     ]
    },
    {
     "name": "stdout",
     "output_type": "stream",
     "text": [
      "Iteration No: 19 ended. Search finished for the next optimal point.\n",
      "Time taken: 19.3513\n",
      "Function value obtained: -77.6997\n",
      "Current minimum: -77.6997\n",
      "Iteration No: 20 started. Searching for the next optimal point.\n"
     ]
    },
    {
     "name": "stderr",
     "output_type": "stream",
     "text": [
      "2024-05-24 20:05:57,466\tINFO worker.py:1749 -- Started a local Ray instance.\n"
     ]
    },
    {
     "name": "stdout",
     "output_type": "stream",
     "text": [
      "Iteration No: 20 ended. Search finished for the next optimal point.\n",
      "Time taken: 11.5576\n",
      "Function value obtained: -79.4983\n",
      "Current minimum: -79.4983\n",
      "Iteration No: 21 started. Searching for the next optimal point.\n"
     ]
    },
    {
     "name": "stderr",
     "output_type": "stream",
     "text": [
      "2024-05-24 20:06:09,070\tINFO worker.py:1749 -- Started a local Ray instance.\n"
     ]
    },
    {
     "name": "stdout",
     "output_type": "stream",
     "text": [
      "Iteration No: 21 ended. Search finished for the next optimal point.\n",
      "Time taken: 10.7931\n",
      "Function value obtained: -79.8282\n",
      "Current minimum: -79.8282\n",
      "Iteration No: 22 started. Searching for the next optimal point.\n"
     ]
    },
    {
     "name": "stderr",
     "output_type": "stream",
     "text": [
      "2024-05-24 20:06:21,020\tINFO worker.py:1749 -- Started a local Ray instance.\n"
     ]
    },
    {
     "name": "stdout",
     "output_type": "stream",
     "text": [
      "Iteration No: 22 ended. Search finished for the next optimal point.\n",
      "Time taken: 13.9501\n",
      "Function value obtained: -79.5679\n",
      "Current minimum: -79.8282\n",
      "Iteration No: 23 started. Searching for the next optimal point.\n"
     ]
    },
    {
     "name": "stderr",
     "output_type": "stream",
     "text": [
      "2024-05-24 20:06:33,820\tINFO worker.py:1749 -- Started a local Ray instance.\n"
     ]
    },
    {
     "name": "stdout",
     "output_type": "stream",
     "text": [
      "Iteration No: 23 ended. Search finished for the next optimal point.\n",
      "Time taken: 11.1967\n",
      "Function value obtained: -77.8531\n",
      "Current minimum: -79.8282\n",
      "Iteration No: 24 started. Searching for the next optimal point.\n"
     ]
    },
    {
     "name": "stderr",
     "output_type": "stream",
     "text": [
      "2024-05-24 20:06:45,016\tINFO worker.py:1749 -- Started a local Ray instance.\n"
     ]
    },
    {
     "name": "stdout",
     "output_type": "stream",
     "text": [
      "Iteration No: 24 ended. Search finished for the next optimal point.\n",
      "Time taken: 12.3307\n",
      "Function value obtained: -79.1936\n",
      "Current minimum: -79.8282\n",
      "Iteration No: 25 started. Searching for the next optimal point.\n"
     ]
    },
    {
     "name": "stderr",
     "output_type": "stream",
     "text": [
      "2024-05-24 20:06:57,346\tINFO worker.py:1749 -- Started a local Ray instance.\n"
     ]
    },
    {
     "name": "stdout",
     "output_type": "stream",
     "text": [
      "Iteration No: 25 ended. Search finished for the next optimal point.\n",
      "Time taken: 12.6949\n",
      "Function value obtained: -81.2194\n",
      "Current minimum: -81.2194\n",
      "Iteration No: 26 started. Searching for the next optimal point.\n"
     ]
    },
    {
     "name": "stderr",
     "output_type": "stream",
     "text": [
      "2024-05-24 20:07:09,979\tINFO worker.py:1749 -- Started a local Ray instance.\n"
     ]
    },
    {
     "name": "stdout",
     "output_type": "stream",
     "text": [
      "Iteration No: 26 ended. Search finished for the next optimal point.\n",
      "Time taken: 11.7577\n",
      "Function value obtained: -81.1917\n",
      "Current minimum: -81.2194\n",
      "Iteration No: 27 started. Searching for the next optimal point.\n"
     ]
    },
    {
     "name": "stderr",
     "output_type": "stream",
     "text": [
      "2024-05-24 20:07:21,802\tINFO worker.py:1749 -- Started a local Ray instance.\n"
     ]
    },
    {
     "name": "stdout",
     "output_type": "stream",
     "text": [
      "Iteration No: 27 ended. Search finished for the next optimal point.\n",
      "Time taken: 11.5382\n",
      "Function value obtained: -82.9986\n",
      "Current minimum: -82.9986\n",
      "Iteration No: 28 started. Searching for the next optimal point.\n"
     ]
    },
    {
     "name": "stderr",
     "output_type": "stream",
     "text": [
      "2024-05-24 20:07:33,398\tINFO worker.py:1749 -- Started a local Ray instance.\n"
     ]
    },
    {
     "name": "stdout",
     "output_type": "stream",
     "text": [
      "Iteration No: 28 ended. Search finished for the next optimal point.\n",
      "Time taken: 12.3809\n",
      "Function value obtained: -27.2346\n",
      "Current minimum: -82.9986\n",
      "Iteration No: 29 started. Searching for the next optimal point.\n"
     ]
    },
    {
     "name": "stderr",
     "output_type": "stream",
     "text": [
      "2024-05-24 20:07:45,744\tINFO worker.py:1749 -- Started a local Ray instance.\n"
     ]
    },
    {
     "name": "stdout",
     "output_type": "stream",
     "text": [
      "Iteration No: 29 ended. Search finished for the next optimal point.\n",
      "Time taken: 12.6984\n",
      "Function value obtained: -81.5665\n",
      "Current minimum: -82.9986\n",
      "Iteration No: 30 started. Searching for the next optimal point.\n"
     ]
    },
    {
     "name": "stderr",
     "output_type": "stream",
     "text": [
      "2024-05-24 20:07:58,464\tINFO worker.py:1749 -- Started a local Ray instance.\n"
     ]
    },
    {
     "name": "stdout",
     "output_type": "stream",
     "text": [
      "Iteration No: 30 ended. Search finished for the next optimal point.\n",
      "Time taken: 12.8719\n",
      "Function value obtained: -85.0717\n",
      "Current minimum: -85.0717\n",
      "Iteration No: 31 started. Searching for the next optimal point.\n"
     ]
    },
    {
     "name": "stderr",
     "output_type": "stream",
     "text": [
      "2024-05-24 20:08:11,321\tINFO worker.py:1749 -- Started a local Ray instance.\n"
     ]
    },
    {
     "name": "stdout",
     "output_type": "stream",
     "text": [
      "Iteration No: 31 ended. Search finished for the next optimal point.\n",
      "Time taken: 13.7921\n",
      "Function value obtained: -84.7287\n",
      "Current minimum: -85.0717\n",
      "Iteration No: 32 started. Searching for the next optimal point.\n"
     ]
    },
    {
     "name": "stderr",
     "output_type": "stream",
     "text": [
      "2024-05-24 20:08:25,161\tINFO worker.py:1749 -- Started a local Ray instance.\n"
     ]
    },
    {
     "name": "stdout",
     "output_type": "stream",
     "text": [
      "Iteration No: 32 ended. Search finished for the next optimal point.\n",
      "Time taken: 12.4475\n",
      "Function value obtained: -81.3886\n",
      "Current minimum: -85.0717\n",
      "Iteration No: 33 started. Searching for the next optimal point.\n"
     ]
    },
    {
     "name": "stderr",
     "output_type": "stream",
     "text": [
      "2024-05-24 20:08:37,616\tINFO worker.py:1749 -- Started a local Ray instance.\n"
     ]
    },
    {
     "name": "stdout",
     "output_type": "stream",
     "text": [
      "Iteration No: 33 ended. Search finished for the next optimal point.\n",
      "Time taken: 13.8823\n",
      "Function value obtained: -82.8944\n",
      "Current minimum: -85.0717\n",
      "Iteration No: 34 started. Searching for the next optimal point.\n"
     ]
    },
    {
     "name": "stderr",
     "output_type": "stream",
     "text": [
      "2024-05-24 20:08:51,431\tINFO worker.py:1749 -- Started a local Ray instance.\n"
     ]
    },
    {
     "name": "stdout",
     "output_type": "stream",
     "text": [
      "Iteration No: 34 ended. Search finished for the next optimal point.\n",
      "Time taken: 12.8321\n",
      "Function value obtained: -81.4263\n",
      "Current minimum: -85.0717\n",
      "Iteration No: 35 started. Searching for the next optimal point.\n"
     ]
    },
    {
     "name": "stderr",
     "output_type": "stream",
     "text": [
      "2024-05-24 20:09:04,351\tINFO worker.py:1749 -- Started a local Ray instance.\n"
     ]
    },
    {
     "name": "stdout",
     "output_type": "stream",
     "text": [
      "Iteration No: 35 ended. Search finished for the next optimal point.\n",
      "Time taken: 11.1246\n",
      "Function value obtained: -85.4385\n",
      "Current minimum: -85.4385\n",
      "Iteration No: 36 started. Searching for the next optimal point.\n"
     ]
    },
    {
     "name": "stderr",
     "output_type": "stream",
     "text": [
      "2024-05-24 20:09:15,855\tINFO worker.py:1749 -- Started a local Ray instance.\n"
     ]
    },
    {
     "name": "stdout",
     "output_type": "stream",
     "text": [
      "Iteration No: 36 ended. Search finished for the next optimal point.\n",
      "Time taken: 16.1497\n",
      "Function value obtained: -85.9286\n",
      "Current minimum: -85.9286\n",
      "Iteration No: 37 started. Searching for the next optimal point.\n"
     ]
    },
    {
     "name": "stderr",
     "output_type": "stream",
     "text": [
      "2024-05-24 20:09:31,603\tINFO worker.py:1749 -- Started a local Ray instance.\n"
     ]
    },
    {
     "name": "stdout",
     "output_type": "stream",
     "text": [
      "Iteration No: 37 ended. Search finished for the next optimal point.\n",
      "Time taken: 12.6213\n",
      "Function value obtained: -83.1319\n",
      "Current minimum: -85.9286\n",
      "Iteration No: 38 started. Searching for the next optimal point.\n"
     ]
    },
    {
     "name": "stderr",
     "output_type": "stream",
     "text": [
      "2024-05-24 20:09:44,243\tINFO worker.py:1749 -- Started a local Ray instance.\n"
     ]
    },
    {
     "name": "stdout",
     "output_type": "stream",
     "text": [
      "Iteration No: 38 ended. Search finished for the next optimal point.\n",
      "Time taken: 11.1807\n",
      "Function value obtained: -83.0476\n",
      "Current minimum: -85.9286\n",
      "Iteration No: 39 started. Searching for the next optimal point.\n"
     ]
    },
    {
     "name": "stderr",
     "output_type": "stream",
     "text": [
      "2024-05-24 20:09:55,450\tINFO worker.py:1749 -- Started a local Ray instance.\n"
     ]
    },
    {
     "name": "stdout",
     "output_type": "stream",
     "text": [
      "Iteration No: 39 ended. Search finished for the next optimal point.\n",
      "Time taken: 12.2951\n",
      "Function value obtained: -85.7664\n",
      "Current minimum: -85.9286\n",
      "Iteration No: 40 started. Searching for the next optimal point.\n"
     ]
    },
    {
     "name": "stderr",
     "output_type": "stream",
     "text": [
      "2024-05-24 20:10:07,703\tINFO worker.py:1749 -- Started a local Ray instance.\n"
     ]
    },
    {
     "name": "stdout",
     "output_type": "stream",
     "text": [
      "Iteration No: 40 ended. Search finished for the next optimal point.\n",
      "Time taken: 11.1823\n",
      "Function value obtained: -87.1824\n",
      "Current minimum: -87.1824\n",
      "\n",
      "--------------------\n",
      "--------------------\n",
      "Iteration No: 1 started. Evaluating function at random point.\n"
     ]
    },
    {
     "name": "stderr",
     "output_type": "stream",
     "text": [
      "2024-05-24 20:10:19,304\tINFO worker.py:1749 -- Started a local Ray instance.\n"
     ]
    },
    {
     "name": "stdout",
     "output_type": "stream",
     "text": [
      "Iteration No: 1 ended. Evaluation done at random point.\n",
      "Time taken: 14.9840\n",
      "Function value obtained: -4.0178\n",
      "Current minimum: -4.0178\n",
      "Iteration No: 2 started. Evaluating function at random point.\n"
     ]
    },
    {
     "name": "stderr",
     "output_type": "stream",
     "text": [
      "2024-05-24 20:10:34,106\tINFO worker.py:1749 -- Started a local Ray instance.\n"
     ]
    },
    {
     "name": "stdout",
     "output_type": "stream",
     "text": [
      "Iteration No: 2 ended. Evaluation done at random point.\n",
      "Time taken: 14.4173\n",
      "Function value obtained: -31.5501\n",
      "Current minimum: -31.5501\n",
      "Iteration No: 3 started. Evaluating function at random point.\n"
     ]
    },
    {
     "name": "stderr",
     "output_type": "stream",
     "text": [
      "2024-05-24 20:10:48,317\tINFO worker.py:1749 -- Started a local Ray instance.\n"
     ]
    },
    {
     "name": "stdout",
     "output_type": "stream",
     "text": [
      "Iteration No: 3 ended. Evaluation done at random point.\n",
      "Time taken: 10.2892\n",
      "Function value obtained: -10.5194\n",
      "Current minimum: -31.5501\n",
      "Iteration No: 4 started. Evaluating function at random point.\n"
     ]
    },
    {
     "name": "stderr",
     "output_type": "stream",
     "text": [
      "2024-05-24 20:10:59,133\tINFO worker.py:1749 -- Started a local Ray instance.\n"
     ]
    },
    {
     "name": "stdout",
     "output_type": "stream",
     "text": [
      "Iteration No: 4 ended. Evaluation done at random point.\n",
      "Time taken: 15.6113\n",
      "Function value obtained: -46.6685\n",
      "Current minimum: -46.6685\n",
      "Iteration No: 5 started. Evaluating function at random point.\n"
     ]
    },
    {
     "name": "stderr",
     "output_type": "stream",
     "text": [
      "2024-05-24 20:11:14,522\tINFO worker.py:1749 -- Started a local Ray instance.\n"
     ]
    },
    {
     "name": "stdout",
     "output_type": "stream",
     "text": [
      "Iteration No: 5 ended. Evaluation done at random point.\n",
      "Time taken: 11.1985\n",
      "Function value obtained: -5.0326\n",
      "Current minimum: -46.6685\n",
      "Iteration No: 6 started. Evaluating function at random point.\n"
     ]
    },
    {
     "name": "stderr",
     "output_type": "stream",
     "text": [
      "2024-05-24 20:11:25,884\tINFO worker.py:1749 -- Started a local Ray instance.\n"
     ]
    },
    {
     "name": "stdout",
     "output_type": "stream",
     "text": [
      "Iteration No: 6 ended. Evaluation done at random point.\n",
      "Time taken: 13.4766\n",
      "Function value obtained: -10.7524\n",
      "Current minimum: -46.6685\n",
      "Iteration No: 7 started. Evaluating function at random point.\n"
     ]
    },
    {
     "name": "stderr",
     "output_type": "stream",
     "text": [
      "2024-05-24 20:11:39,903\tINFO worker.py:1749 -- Started a local Ray instance.\n"
     ]
    },
    {
     "name": "stdout",
     "output_type": "stream",
     "text": [
      "Iteration No: 7 ended. Evaluation done at random point.\n",
      "Time taken: 13.7367\n",
      "Function value obtained: -11.1720\n",
      "Current minimum: -46.6685\n",
      "Iteration No: 8 started. Evaluating function at random point.\n"
     ]
    },
    {
     "name": "stderr",
     "output_type": "stream",
     "text": [
      "2024-05-24 20:11:52,717\tINFO worker.py:1749 -- Started a local Ray instance.\n"
     ]
    },
    {
     "name": "stdout",
     "output_type": "stream",
     "text": [
      "Iteration No: 8 ended. Evaluation done at random point.\n",
      "Time taken: 12.2371\n",
      "Function value obtained: -14.1001\n",
      "Current minimum: -46.6685\n",
      "Iteration No: 9 started. Evaluating function at random point.\n"
     ]
    },
    {
     "name": "stderr",
     "output_type": "stream",
     "text": [
      "2024-05-24 20:12:04,997\tINFO worker.py:1749 -- Started a local Ray instance.\n"
     ]
    },
    {
     "name": "stdout",
     "output_type": "stream",
     "text": [
      "Iteration No: 9 ended. Evaluation done at random point.\n",
      "Time taken: 11.0415\n",
      "Function value obtained: -10.1015\n",
      "Current minimum: -46.6685\n",
      "Iteration No: 10 started. Evaluating function at random point.\n"
     ]
    },
    {
     "name": "stderr",
     "output_type": "stream",
     "text": [
      "2024-05-24 20:12:16,070\tINFO worker.py:1749 -- Started a local Ray instance.\n"
     ]
    },
    {
     "name": "stdout",
     "output_type": "stream",
     "text": [
      "Iteration No: 10 ended. Evaluation done at random point.\n",
      "Time taken: 12.5963\n",
      "Function value obtained: -37.8382\n",
      "Current minimum: -46.6685\n",
      "Iteration No: 11 started. Searching for the next optimal point.\n"
     ]
    },
    {
     "name": "stderr",
     "output_type": "stream",
     "text": [
      "2024-05-24 20:12:28,540\tINFO worker.py:1749 -- Started a local Ray instance.\n"
     ]
    },
    {
     "name": "stdout",
     "output_type": "stream",
     "text": [
      "Iteration No: 11 ended. Search finished for the next optimal point.\n",
      "Time taken: 11.7697\n",
      "Function value obtained: -46.3341\n",
      "Current minimum: -46.6685\n",
      "Iteration No: 12 started. Searching for the next optimal point.\n"
     ]
    },
    {
     "name": "stderr",
     "output_type": "stream",
     "text": [
      "2024-05-24 20:12:40,375\tINFO worker.py:1749 -- Started a local Ray instance.\n"
     ]
    },
    {
     "name": "stdout",
     "output_type": "stream",
     "text": [
      "Iteration No: 12 ended. Search finished for the next optimal point.\n",
      "Time taken: 12.4146\n",
      "Function value obtained: -46.3095\n",
      "Current minimum: -46.6685\n",
      "Iteration No: 13 started. Searching for the next optimal point.\n"
     ]
    },
    {
     "name": "stderr",
     "output_type": "stream",
     "text": [
      "2024-05-24 20:12:52,699\tINFO worker.py:1749 -- Started a local Ray instance.\n"
     ]
    },
    {
     "name": "stdout",
     "output_type": "stream",
     "text": [
      "Iteration No: 13 ended. Search finished for the next optimal point.\n",
      "Time taken: 12.1300\n",
      "Function value obtained: -48.3464\n",
      "Current minimum: -48.3464\n",
      "Iteration No: 14 started. Searching for the next optimal point.\n"
     ]
    },
    {
     "name": "stderr",
     "output_type": "stream",
     "text": [
      "2024-05-24 20:13:04,925\tINFO worker.py:1749 -- Started a local Ray instance.\n"
     ]
    },
    {
     "name": "stdout",
     "output_type": "stream",
     "text": [
      "Iteration No: 14 ended. Search finished for the next optimal point.\n",
      "Time taken: 12.5492\n",
      "Function value obtained: -18.2297\n",
      "Current minimum: -48.3464\n",
      "Iteration No: 15 started. Searching for the next optimal point.\n"
     ]
    },
    {
     "name": "stderr",
     "output_type": "stream",
     "text": [
      "2024-05-24 20:13:17,366\tINFO worker.py:1749 -- Started a local Ray instance.\n"
     ]
    },
    {
     "name": "stdout",
     "output_type": "stream",
     "text": [
      "Iteration No: 15 ended. Search finished for the next optimal point.\n",
      "Time taken: 12.5743\n",
      "Function value obtained: -47.2293\n",
      "Current minimum: -48.3464\n",
      "Iteration No: 16 started. Searching for the next optimal point.\n"
     ]
    },
    {
     "name": "stderr",
     "output_type": "stream",
     "text": [
      "2024-05-24 20:13:30,087\tINFO worker.py:1749 -- Started a local Ray instance.\n"
     ]
    },
    {
     "name": "stdout",
     "output_type": "stream",
     "text": [
      "Iteration No: 16 ended. Search finished for the next optimal point.\n",
      "Time taken: 11.2751\n",
      "Function value obtained: -47.1796\n",
      "Current minimum: -48.3464\n",
      "Iteration No: 17 started. Searching for the next optimal point.\n"
     ]
    },
    {
     "name": "stderr",
     "output_type": "stream",
     "text": [
      "2024-05-24 20:13:41,685\tINFO worker.py:1749 -- Started a local Ray instance.\n"
     ]
    },
    {
     "name": "stdout",
     "output_type": "stream",
     "text": [
      "Iteration No: 17 ended. Search finished for the next optimal point.\n",
      "Time taken: 13.7624\n",
      "Function value obtained: -46.5643\n",
      "Current minimum: -48.3464\n",
      "Iteration No: 18 started. Searching for the next optimal point.\n"
     ]
    },
    {
     "name": "stderr",
     "output_type": "stream",
     "text": [
      "2024-05-24 20:13:55,631\tINFO worker.py:1749 -- Started a local Ray instance.\n"
     ]
    },
    {
     "name": "stdout",
     "output_type": "stream",
     "text": [
      "Iteration No: 18 ended. Search finished for the next optimal point.\n",
      "Time taken: 18.5540\n",
      "Function value obtained: -47.8431\n",
      "Current minimum: -48.3464\n",
      "Iteration No: 19 started. Searching for the next optimal point.\n"
     ]
    },
    {
     "name": "stderr",
     "output_type": "stream",
     "text": [
      "2024-05-24 20:14:13,694\tINFO worker.py:1749 -- Started a local Ray instance.\n"
     ]
    },
    {
     "name": "stdout",
     "output_type": "stream",
     "text": [
      "Iteration No: 19 ended. Search finished for the next optimal point.\n",
      "Time taken: 12.7725\n",
      "Function value obtained: -49.1088\n",
      "Current minimum: -49.1088\n",
      "Iteration No: 20 started. Searching for the next optimal point.\n"
     ]
    },
    {
     "name": "stderr",
     "output_type": "stream",
     "text": [
      "2024-05-24 20:14:26,428\tINFO worker.py:1749 -- Started a local Ray instance.\n"
     ]
    },
    {
     "name": "stdout",
     "output_type": "stream",
     "text": [
      "Iteration No: 20 ended. Search finished for the next optimal point.\n",
      "Time taken: 12.9839\n",
      "Function value obtained: -46.8100\n",
      "Current minimum: -49.1088\n",
      "Iteration No: 21 started. Searching for the next optimal point.\n"
     ]
    },
    {
     "name": "stderr",
     "output_type": "stream",
     "text": [
      "2024-05-24 20:14:39,553\tINFO worker.py:1749 -- Started a local Ray instance.\n"
     ]
    },
    {
     "name": "stdout",
     "output_type": "stream",
     "text": [
      "Iteration No: 21 ended. Search finished for the next optimal point.\n",
      "Time taken: 11.2575\n",
      "Function value obtained: -46.5567\n",
      "Current minimum: -49.1088\n",
      "Iteration No: 22 started. Searching for the next optimal point.\n"
     ]
    },
    {
     "name": "stderr",
     "output_type": "stream",
     "text": [
      "2024-05-24 20:14:51,432\tINFO worker.py:1749 -- Started a local Ray instance.\n"
     ]
    },
    {
     "name": "stdout",
     "output_type": "stream",
     "text": [
      "Iteration No: 22 ended. Search finished for the next optimal point.\n",
      "Time taken: 18.1203\n",
      "Function value obtained: -45.8535\n",
      "Current minimum: -49.1088\n",
      "Iteration No: 23 started. Searching for the next optimal point.\n"
     ]
    },
    {
     "name": "stderr",
     "output_type": "stream",
     "text": [
      "2024-05-24 20:15:08,816\tINFO worker.py:1749 -- Started a local Ray instance.\n"
     ]
    },
    {
     "name": "stdout",
     "output_type": "stream",
     "text": [
      "Iteration No: 23 ended. Search finished for the next optimal point.\n",
      "Time taken: 12.0476\n",
      "Function value obtained: -45.2057\n",
      "Current minimum: -49.1088\n",
      "Iteration No: 24 started. Searching for the next optimal point.\n"
     ]
    },
    {
     "name": "stderr",
     "output_type": "stream",
     "text": [
      "2024-05-24 20:15:20,829\tINFO worker.py:1749 -- Started a local Ray instance.\n"
     ]
    },
    {
     "name": "stdout",
     "output_type": "stream",
     "text": [
      "Iteration No: 24 ended. Search finished for the next optimal point.\n",
      "Time taken: 12.2335\n",
      "Function value obtained: -47.0513\n",
      "Current minimum: -49.1088\n",
      "Iteration No: 25 started. Searching for the next optimal point.\n"
     ]
    },
    {
     "name": "stderr",
     "output_type": "stream",
     "text": [
      "2024-05-24 20:15:33,165\tINFO worker.py:1749 -- Started a local Ray instance.\n"
     ]
    },
    {
     "name": "stdout",
     "output_type": "stream",
     "text": [
      "Iteration No: 25 ended. Search finished for the next optimal point.\n",
      "Time taken: 11.2428\n",
      "Function value obtained: -44.2587\n",
      "Current minimum: -49.1088\n",
      "Iteration No: 26 started. Searching for the next optimal point.\n"
     ]
    },
    {
     "name": "stderr",
     "output_type": "stream",
     "text": [
      "2024-05-24 20:15:47,820\tINFO worker.py:1749 -- Started a local Ray instance.\n"
     ]
    },
    {
     "name": "stdout",
     "output_type": "stream",
     "text": [
      "Iteration No: 26 ended. Search finished for the next optimal point.\n",
      "Time taken: 14.7874\n",
      "Function value obtained: -47.1422\n",
      "Current minimum: -49.1088\n",
      "Iteration No: 27 started. Searching for the next optimal point.\n"
     ]
    },
    {
     "name": "stderr",
     "output_type": "stream",
     "text": [
      "2024-05-24 20:16:01,981\tINFO worker.py:1749 -- Started a local Ray instance.\n"
     ]
    },
    {
     "name": "stdout",
     "output_type": "stream",
     "text": [
      "Iteration No: 27 ended. Search finished for the next optimal point.\n",
      "Time taken: 13.8157\n",
      "Function value obtained: -43.6144\n",
      "Current minimum: -49.1088\n",
      "Iteration No: 28 started. Searching for the next optimal point.\n"
     ]
    },
    {
     "name": "stderr",
     "output_type": "stream",
     "text": [
      "2024-05-24 20:16:13,383\tINFO worker.py:1749 -- Started a local Ray instance.\n"
     ]
    },
    {
     "name": "stdout",
     "output_type": "stream",
     "text": [
      "Iteration No: 28 ended. Search finished for the next optimal point.\n",
      "Time taken: 16.9669\n",
      "Function value obtained: -45.1806\n",
      "Current minimum: -49.1088\n",
      "Iteration No: 29 started. Searching for the next optimal point.\n"
     ]
    },
    {
     "name": "stderr",
     "output_type": "stream",
     "text": [
      "2024-05-24 20:16:29,963\tINFO worker.py:1749 -- Started a local Ray instance.\n"
     ]
    },
    {
     "name": "stdout",
     "output_type": "stream",
     "text": [
      "Iteration No: 29 ended. Search finished for the next optimal point.\n",
      "Time taken: 10.6304\n",
      "Function value obtained: -48.0437\n",
      "Current minimum: -49.1088\n",
      "Iteration No: 30 started. Searching for the next optimal point.\n"
     ]
    },
    {
     "name": "stderr",
     "output_type": "stream",
     "text": [
      "2024-05-24 20:16:41,217\tINFO worker.py:1749 -- Started a local Ray instance.\n"
     ]
    },
    {
     "name": "stdout",
     "output_type": "stream",
     "text": [
      "Iteration No: 30 ended. Search finished for the next optimal point.\n",
      "Time taken: 16.3949\n",
      "Function value obtained: -46.0012\n",
      "Current minimum: -49.1088\n",
      "Iteration No: 31 started. Searching for the next optimal point.\n"
     ]
    },
    {
     "name": "stderr",
     "output_type": "stream",
     "text": [
      "2024-05-24 20:16:57,018\tINFO worker.py:1749 -- Started a local Ray instance.\n"
     ]
    },
    {
     "name": "stdout",
     "output_type": "stream",
     "text": [
      "Iteration No: 31 ended. Search finished for the next optimal point.\n",
      "Time taken: 12.4767\n",
      "Function value obtained: -46.8942\n",
      "Current minimum: -49.1088\n",
      "Iteration No: 32 started. Searching for the next optimal point.\n"
     ]
    },
    {
     "name": "stderr",
     "output_type": "stream",
     "text": [
      "2024-05-24 20:17:09,489\tINFO worker.py:1749 -- Started a local Ray instance.\n"
     ]
    },
    {
     "name": "stdout",
     "output_type": "stream",
     "text": [
      "Iteration No: 32 ended. Search finished for the next optimal point.\n",
      "Time taken: 12.8090\n",
      "Function value obtained: -46.1682\n",
      "Current minimum: -49.1088\n",
      "Iteration No: 33 started. Searching for the next optimal point.\n"
     ]
    },
    {
     "name": "stderr",
     "output_type": "stream",
     "text": [
      "2024-05-24 20:17:22,298\tINFO worker.py:1749 -- Started a local Ray instance.\n"
     ]
    },
    {
     "name": "stdout",
     "output_type": "stream",
     "text": [
      "Iteration No: 33 ended. Search finished for the next optimal point.\n",
      "Time taken: 13.1923\n",
      "Function value obtained: -44.1171\n",
      "Current minimum: -49.1088\n",
      "Iteration No: 34 started. Searching for the next optimal point.\n"
     ]
    },
    {
     "name": "stderr",
     "output_type": "stream",
     "text": [
      "2024-05-24 20:17:35,447\tINFO worker.py:1749 -- Started a local Ray instance.\n"
     ]
    },
    {
     "name": "stdout",
     "output_type": "stream",
     "text": [
      "Iteration No: 34 ended. Search finished for the next optimal point.\n",
      "Time taken: 11.6060\n",
      "Function value obtained: -45.3269\n",
      "Current minimum: -49.1088\n",
      "Iteration No: 35 started. Searching for the next optimal point.\n"
     ]
    },
    {
     "name": "stderr",
     "output_type": "stream",
     "text": [
      "2024-05-24 20:17:49,986\tINFO worker.py:1749 -- Started a local Ray instance.\n"
     ]
    },
    {
     "name": "stdout",
     "output_type": "stream",
     "text": [
      "Iteration No: 35 ended. Search finished for the next optimal point.\n",
      "Time taken: 14.6667\n",
      "Function value obtained: -5.7484\n",
      "Current minimum: -49.1088\n",
      "Iteration No: 36 started. Searching for the next optimal point.\n"
     ]
    },
    {
     "name": "stderr",
     "output_type": "stream",
     "text": [
      "2024-05-24 20:18:01,705\tINFO worker.py:1749 -- Started a local Ray instance.\n"
     ]
    },
    {
     "name": "stdout",
     "output_type": "stream",
     "text": [
      "Iteration No: 36 ended. Search finished for the next optimal point.\n",
      "Time taken: 13.0461\n",
      "Function value obtained: -44.9505\n",
      "Current minimum: -49.1088\n",
      "Iteration No: 37 started. Searching for the next optimal point.\n"
     ]
    },
    {
     "name": "stderr",
     "output_type": "stream",
     "text": [
      "2024-05-24 20:18:14,750\tINFO worker.py:1749 -- Started a local Ray instance.\n"
     ]
    },
    {
     "name": "stdout",
     "output_type": "stream",
     "text": [
      "Iteration No: 37 ended. Search finished for the next optimal point.\n",
      "Time taken: 12.5551\n",
      "Function value obtained: -46.0894\n",
      "Current minimum: -49.1088\n",
      "Iteration No: 38 started. Searching for the next optimal point.\n"
     ]
    },
    {
     "name": "stderr",
     "output_type": "stream",
     "text": [
      "2024-05-24 20:18:27,472\tINFO worker.py:1749 -- Started a local Ray instance.\n"
     ]
    },
    {
     "name": "stdout",
     "output_type": "stream",
     "text": [
      "Iteration No: 38 ended. Search finished for the next optimal point.\n",
      "Time taken: 11.5106\n",
      "Function value obtained: -46.7230\n",
      "Current minimum: -49.1088\n",
      "Iteration No: 39 started. Searching for the next optimal point.\n"
     ]
    },
    {
     "name": "stderr",
     "output_type": "stream",
     "text": [
      "2024-05-24 20:18:39,394\tINFO worker.py:1749 -- Started a local Ray instance.\n"
     ]
    },
    {
     "name": "stdout",
     "output_type": "stream",
     "text": [
      "Iteration No: 39 ended. Search finished for the next optimal point.\n",
      "Time taken: 15.1281\n",
      "Function value obtained: -48.9271\n",
      "Current minimum: -49.1088\n",
      "Iteration No: 40 started. Searching for the next optimal point.\n"
     ]
    },
    {
     "name": "stderr",
     "output_type": "stream",
     "text": [
      "2024-05-24 20:18:55,034\tINFO worker.py:1749 -- Started a local Ray instance.\n"
     ]
    },
    {
     "name": "stdout",
     "output_type": "stream",
     "text": [
      "Iteration No: 40 ended. Search finished for the next optimal point.\n",
      "Time taken: 16.7738\n",
      "Function value obtained: -45.6091\n",
      "Current minimum: -49.1088\n",
      "CPU times: user 15min 39s, sys: 21min 59s, total: 37min 38s\n",
      "Wall time: 25min 7s\n"
     ]
    }
   ],
   "source": [
    "%%time\n",
    "\n",
    "cr_gp2 = gp_minimize(cr_obj2, cr_space, n_calls = NCALLS, verbose=True)\n",
    "print(\"\\n--------------------\"*2)\n",
    "esc_gp2 = gp_minimize(esc_obj2, esc_space, n_calls = NCALLS, verbose=True)\n",
    "print(\"\\n--------------------\"*2)\n",
    "msy_gp2 = gp_minimize(msy_obj2, msy_space, n_calls = NCALLS, verbose=True)"
   ]
  },
  {
   "cell_type": "code",
   "execution_count": 24,
   "id": "8104f281-815e-4d55-86c3-9e22c4634149",
   "metadata": {},
   "outputs": [
    {
     "name": "stdout",
     "output_type": "stream",
     "text": [
      "\n",
      "cr.: -89.87, [-0.011692399581430202, 0.5402896544155231, 0.22268980190474855] \n",
      "esc: -87.18, [0.647851461853063]\n",
      "msy: -49.11, [0.05164405247952578]\n",
      "\n"
     ]
    }
   ],
   "source": [
    "print(f\"\"\"\n",
    "cr.: {cr_gp2.fun:.2f}, {cr_gp2.x} \n",
    "esc: {esc_gp2.fun:.2f}, {esc_gp2.x}\n",
    "msy: {msy_gp2.fun:.2f}, {msy_gp2.x}\n",
    "\"\"\")"
   ]
  },
  {
   "cell_type": "markdown",
   "id": "624c8d13-95cd-402c-a61f-18e497194db6",
   "metadata": {},
   "source": [
    "## Saving models"
   ]
  },
  {
   "cell_type": "code",
   "execution_count": 25,
   "id": "9196be9f-11aa-4a9e-8e41-718bcec76091",
   "metadata": {
    "scrolled": true
   },
   "outputs": [],
   "source": [
    "path = \"../saved_agents/results/\"\n",
    "\n",
    "def to_cr(log_polar_params):\n",
    "    theta = log_polar_params[1]\n",
    "    radius = 10 ** log_polar_params[0]\n",
    "    x1 = np.sin(theta) * radius\n",
    "    x2 = np.cos(theta) * radius\n",
    "    y2 = log_polar_params[2]\n",
    "    return {'x1': x1, 'x2': x2, 'y2': y2}\n",
    "\n",
    "def to_esc(params):\n",
    "    return {'escapement': params[0]}\n",
    "\n",
    "def to_msy(params):\n",
    "    return {'msy': params[0]}\n",
    "\n",
    "#\n",
    "eval_env1 = AsmEnv(config=CONFIG1)\n",
    "eval_env2 = AsmEnv(config=CONFIG2)\n",
    "eval_env3 = AsmEnv(config=CONFIG3)\n",
    "\n",
    "# \n",
    "cr1_fname = \"cr_case_1.pkl\"\n",
    "cr1 = CautionaryRule(env=eval_env1, **to_cr(cr_gp1.x))\n",
    "dump(cr1, path+cr1_fname)\n",
    "\n",
    "esc1_fname = \"esc_case_1.pkl\"\n",
    "esc1 = ConstEsc(env=eval_env1, **to_esc(esc_gp1.x))\n",
    "dump(esc1, path+esc1_fname)\n",
    "\n",
    "msy1_fname = \"msy_case_1.pkl\"\n",
    "msy1 = Msy(env=eval_env1, **to_msy(msy_gp1.x))\n",
    "dump(msy1, path+msy1_fname)\n",
    "\n",
    "# \n",
    "cr2_fname = \"cr_case_2.pkl\"\n",
    "cr2 = CautionaryRule(env=eval_env2, **to_cr(cr_gp2.x))\n",
    "dump(cr2, path+cr2_fname)\n",
    "\n",
    "esc2_fname = \"esc_case_2.pkl\"\n",
    "esc2 = ConstEsc(env=eval_env2, **to_esc(esc_gp2.x))\n",
    "dump(esc2, path+esc2_fname)\n",
    "\n",
    "msy2_fname = \"msy_case_2.pkl\"\n",
    "msy2 = Msy(env=eval_env2, **to_msy(msy_gp2.x))\n",
    "dump(msy2, path+msy2_fname)\n",
    "\n",
    "# \n",
    "cr3_fname = \"cr_case_3.pkl\"\n",
    "cr3 = CautionaryRule(env=eval_env3, **to_cr(cr_gp3.x))\n",
    "dump(cr3, path+cr3_fname)\n",
    "\n",
    "esc3_fname = \"esc_case_3.pkl\"\n",
    "esc3 = ConstEsc(env=eval_env3, **to_esc(esc_gp3.x))\n",
    "dump(esc3, path+esc3_fname)\n",
    "\n",
    "msy3_fname = \"msy_case_3.pkl\"\n",
    "msy3 = Msy(env=eval_env3, **to_msy(msy_gp3.x))\n",
    "dump(msy3, path+msy3_fname)\n",
    "\n",
    "\n",
    "## Didn't work for the gp objects since I used a fn generator :(\n",
    "\n",
    "# cr1_fname = \"cr_case_1.pkl\"\n",
    "# dump(cr_gp1, path+cr1_fname)\n",
    "\n",
    "# esc1_fname = \"esc_case_1.pkl\"\n",
    "# dump(esc_gp1, path+esc1_fname)\n",
    "\n",
    "# msy1_fname = \"msy_case_1.pkl\"\n",
    "# dump(msy_gp1, path+msy1_fname)\n",
    "\n",
    "# #\n",
    "\n",
    "# cr2_fname = \"cr_case_2.pkl\"\n",
    "# dump(cr_gp2, path+cr2_fname)\n",
    "\n",
    "# esc2_fname = \"esc_case_2.pkl\"\n",
    "# dump(esc_gp2, path+esc2_fname)\n",
    "\n",
    "# msy2_fname = \"msy_case_2.pkl\"\n",
    "# dump(msy_gp2, path+msy2_fname)\n",
    "\n",
    "# #\n",
    "\n",
    "# cr3_fname = \"cr_case_3.pkl\"\n",
    "# dump(cr_gp3, path+cr3_fname)\n",
    "\n",
    "# esc3_fname = \"esc_case_3.pkl\"\n",
    "# dump(esc_gp3, path+esc3_fname)\n",
    "\n",
    "# msy3_fname = \"msy_case_3.pkl\"\n",
    "# dump(msy_gp3, path+msy3_fname)"
   ]
  },
  {
   "cell_type": "code",
   "execution_count": null,
   "id": "4df50600-c069-4974-a7fc-6630e13e8057",
   "metadata": {},
   "outputs": [],
   "source": [
    "esc3"
   ]
  },
  {
   "cell_type": "markdown",
   "id": "a5f554a4-dd95-4bff-bf24-d60ef1215cf5",
   "metadata": {},
   "source": [
    "## Objective plots"
   ]
  },
  {
   "cell_type": "markdown",
   "id": "491ddf8b-9039-49d8-b027-7b7e89046f4a",
   "metadata": {},
   "source": [
    "### 1"
   ]
  },
  {
   "cell_type": "code",
   "execution_count": 26,
   "id": "aa3f2db6-75b0-47aa-8c08-8511faf6290b",
   "metadata": {},
   "outputs": [
    {
     "data": {
      "text/plain": [
       "<Axes: >"
      ]
     },
     "execution_count": 26,
     "metadata": {},
     "output_type": "execute_result"
    },
    {
     "data": {
      "image/png": "[encoded data removed]",
      "text/plain": [
       "<Figure size 600x600 with 10 Axes>"
      ]
     },
     "metadata": {},
     "output_type": "display_data"
    }
   ],
   "source": [
    "plot_objective(cr_gp1)"
   ]
  },
  {
   "cell_type": "code",
   "execution_count": 27,
   "id": "80a9ca9b-2a4a-425f-b644-5559a096f825",
   "metadata": {},
   "outputs": [
    {
     "data": {
      "text/plain": [
       "<Axes: >"
      ]
     },
     "execution_count": 27,
     "metadata": {},
     "output_type": "execute_result"
    },
    {
     "data": {
      "image/png": "[encoded data removed]",
      "text/plain": [
       "<Figure size 200x200 with 2 Axes>"
      ]
     },
     "metadata": {},
     "output_type": "display_data"
    }
   ],
   "source": [
    "plot_objective(esc_gp1)"
   ]
  },
  {
   "cell_type": "code",
   "execution_count": 28,
   "id": "ad28edfe-c997-49c9-af07-9aec73462d50",
   "metadata": {},
   "outputs": [
    {
     "data": {
      "text/plain": [
       "<Axes: >"
      ]
     },
     "execution_count": 28,
     "metadata": {},
     "output_type": "execute_result"
    },
    {
     "data": {
      "image/png": "[encoded data removed]",
      "text/plain": [
       "<Figure size 200x200 with 2 Axes>"
      ]
     },
     "metadata": {},
     "output_type": "display_data"
    }
   ],
   "source": [
    "plot_objective(msy_gp1)"
   ]
  },
  {
   "cell_type": "markdown",
   "id": "5fbd99bb-d5c0-4cc7-a8d8-57ae7410623d",
   "metadata": {},
   "source": [
    "### 2"
   ]
  },
  {
   "cell_type": "code",
   "execution_count": 29,
   "id": "7c5d3b9c-d627-4851-89cf-f8769818e184",
   "metadata": {},
   "outputs": [
    {
     "data": {
      "text/plain": [
       "<Axes: >"
      ]
     },
     "execution_count": 29,
     "metadata": {},
     "output_type": "execute_result"
    },
    {
     "data": {
      "image/png": "[encoded data removed]",
      "text/plain": [
       "<Figure size 600x600 with 10 Axes>"
      ]
     },
     "metadata": {},
     "output_type": "display_data"
    }
   ],
   "source": [
    "plot_objective(cr_gp2)"
   ]
  },
  {
   "cell_type": "code",
   "execution_count": 30,
   "id": "8f177fb6-d527-4367-bc55-080f4116bbc1",
   "metadata": {},
   "outputs": [
    {
     "data": {
      "text/plain": [
       "<Axes: >"
      ]
     },
     "execution_count": 30,
     "metadata": {},
     "output_type": "execute_result"
    },
    {
     "data": {
      "image/png": "[encoded data removed]",
      "text/plain": [
       "<Figure size 200x200 with 2 Axes>"
      ]
     },
     "metadata": {},
     "output_type": "display_data"
    }
   ],
   "source": [
    "plot_objective(esc_gp2)"
   ]
  },
  {
   "cell_type": "code",
   "execution_count": 31,
   "id": "20647c64-7ab3-47c4-a0e8-5b7f4b7a9e2c",
   "metadata": {},
   "outputs": [
    {
     "data": {
      "text/plain": [
       "<Axes: >"
      ]
     },
     "execution_count": 31,
     "metadata": {},
     "output_type": "execute_result"
    },
    {
     "data": {
      "image/png": "[encoded data removed]",
      "text/plain": [
       "<Figure size 200x200 with 2 Axes>"
      ]
     },
     "metadata": {},
     "output_type": "display_data"
    }
   ],
   "source": [
    "plot_objective(msy_gp2)"
   ]
  },
  {
   "cell_type": "markdown",
   "id": "41607833-e11a-4ca1-8a8c-b478cc811894",
   "metadata": {},
   "source": [
    "### 3"
   ]
  },
  {
   "cell_type": "code",
   "execution_count": 32,
   "id": "1636f3ff-2f3c-4563-a4b1-139e67a28cbf",
   "metadata": {},
   "outputs": [
    {
     "data": {
      "text/plain": [
       "<Axes: >"
      ]
     },
     "execution_count": 32,
     "metadata": {},
     "output_type": "execute_result"
    },
    {
     "data": {
      "image/png": "[encoded data removed]",
      "text/plain": [
       "<Figure size 600x600 with 10 Axes>"
      ]
     },
     "metadata": {},
     "output_type": "display_data"
    }
   ],
   "source": [
    "plot_objective(cr_gp3)"
   ]
  },
  {
   "cell_type": "code",
   "execution_count": 33,
   "id": "4bfa1c5a-45f1-43dd-a2fa-16231a9a5079",
   "metadata": {},
   "outputs": [
    {
     "data": {
      "text/plain": [
       "<Axes: >"
      ]
     },
     "execution_count": 33,
     "metadata": {},
     "output_type": "execute_result"
    },
    {
     "data": {
      "image/png": "[encoded data removed]",
      "text/plain": [
       "<Figure size 200x200 with 2 Axes>"
      ]
     },
     "metadata": {},
     "output_type": "display_data"
    }
   ],
   "source": [
    "plot_objective(esc_gp3)"
   ]
  },
  {
   "cell_type": "code",
   "execution_count": 34,
   "id": "f9415caa-168f-4177-8ba8-970ebb57322f",
   "metadata": {},
   "outputs": [
    {
     "data": {
      "text/plain": [
       "<Axes: >"
      ]
     },
     "execution_count": 34,
     "metadata": {},
     "output_type": "execute_result"
    },
    {
     "data": {
      "image/png": "[encoded data removed]",
      "text/plain": [
       "<Figure size 200x200 with 2 Axes>"
      ]
     },
     "metadata": {},
     "output_type": "display_data"
    }
   ],
   "source": [
    "plot_objective(msy_gp3)"
   ]
  },
  {
   "cell_type": "markdown",
   "id": "b1c7400b-a8fc-4d28-8493-3cad80babb53",
   "metadata": {},
   "source": [
    "## Constant action on escapement env \n",
    "(Should be equivalent to simply constant escapement)"
   ]
  },
  {
   "cell_type": "code",
   "execution_count": 6,
   "id": "21893d39-3aa1-48b5-8677-6ac836cabc42",
   "metadata": {},
   "outputs": [],
   "source": [
    "from rl4fisheries import AsmEnvEsc\n",
    "\n",
    "# do this for CONFIG3\n",
    "CONFIG = CONFIG3\n",
    "\n",
    "def const_act_esc_obj(x):\n",
    "    eval_env = AsmEnvEsc(config=CONFIG)\n",
    "    agent = ConstAct(env=eval_env, action=np.float32([x[0]]))\n",
    "    rews = eval_pol(\n",
    "        policy=agent, \n",
    "        env_cls=AsmEnvEsc, config=CONFIG, \n",
    "        n_batches=1, batch_size=200\n",
    "    )\n",
    "    return -np.mean(rews)"
   ]
  },
  {
   "cell_type": "code",
   "execution_count": 7,
   "id": "b041ad87-48c7-4c85-80f1-86f33891f3c2",
   "metadata": {
    "scrolled": true
   },
   "outputs": [
    {
     "name": "stdout",
     "output_type": "stream",
     "text": [
      "Iteration No: 1 started. Evaluating function at random point.\n"
     ]
    },
    {
     "name": "stderr",
     "output_type": "stream",
     "text": [
      "2024-05-24 22:49:09,759\tINFO worker.py:1749 -- Started a local Ray instance.\n"
     ]
    },
    {
     "name": "stdout",
     "output_type": "stream",
     "text": [
      "Iteration No: 1 ended. Evaluation done at random point.\n",
      "Time taken: 7.7871\n",
      "Function value obtained: -0.0000\n",
      "Current minimum: -0.0000\n",
      "Iteration No: 2 started. Evaluating function at random point.\n"
     ]
    },
    {
     "name": "stderr",
     "output_type": "stream",
     "text": [
      "2024-05-24 22:49:17,359\tINFO worker.py:1749 -- Started a local Ray instance.\n"
     ]
    },
    {
     "name": "stdout",
     "output_type": "stream",
     "text": [
      "Iteration No: 2 ended. Evaluation done at random point.\n",
      "Time taken: 7.5012\n",
      "Function value obtained: -0.0000\n",
      "Current minimum: -0.0000\n",
      "Iteration No: 3 started. Evaluating function at random point.\n"
     ]
    },
    {
     "name": "stderr",
     "output_type": "stream",
     "text": [
      "2024-05-24 22:49:24,880\tINFO worker.py:1749 -- Started a local Ray instance.\n"
     ]
    },
    {
     "name": "stdout",
     "output_type": "stream",
     "text": [
      "Iteration No: 3 ended. Evaluation done at random point.\n",
      "Time taken: 7.7451\n",
      "Function value obtained: -0.2427\n",
      "Current minimum: -0.2427\n",
      "Iteration No: 4 started. Evaluating function at random point.\n"
     ]
    },
    {
     "name": "stderr",
     "output_type": "stream",
     "text": [
      "2024-05-24 22:49:32,646\tINFO worker.py:1749 -- Started a local Ray instance.\n"
     ]
    },
    {
     "name": "stdout",
     "output_type": "stream",
     "text": [
      "Iteration No: 4 ended. Evaluation done at random point.\n",
      "Time taken: 8.3741\n",
      "Function value obtained: -0.0000\n",
      "Current minimum: -0.2427\n",
      "Iteration No: 5 started. Evaluating function at random point.\n"
     ]
    },
    {
     "name": "stderr",
     "output_type": "stream",
     "text": [
      "2024-05-24 22:49:41,032\tINFO worker.py:1749 -- Started a local Ray instance.\n"
     ]
    },
    {
     "name": "stdout",
     "output_type": "stream",
     "text": [
      "Iteration No: 5 ended. Evaluation done at random point.\n",
      "Time taken: 7.5954\n",
      "Function value obtained: -14.2442\n",
      "Current minimum: -14.2442\n",
      "Iteration No: 6 started. Evaluating function at random point.\n"
     ]
    },
    {
     "name": "stderr",
     "output_type": "stream",
     "text": [
      "2024-05-24 22:49:48,614\tINFO worker.py:1749 -- Started a local Ray instance.\n"
     ]
    },
    {
     "name": "stdout",
     "output_type": "stream",
     "text": [
      "Iteration No: 6 ended. Evaluation done at random point.\n",
      "Time taken: 7.7939\n",
      "Function value obtained: -0.0000\n",
      "Current minimum: -14.2442\n",
      "Iteration No: 7 started. Evaluating function at random point.\n"
     ]
    },
    {
     "name": "stderr",
     "output_type": "stream",
     "text": [
      "2024-05-24 22:49:56,376\tINFO worker.py:1749 -- Started a local Ray instance.\n"
     ]
    },
    {
     "name": "stdout",
     "output_type": "stream",
     "text": [
      "Iteration No: 7 ended. Evaluation done at random point.\n",
      "Time taken: 7.8183\n",
      "Function value obtained: -0.0000\n",
      "Current minimum: -14.2442\n",
      "Iteration No: 8 started. Evaluating function at random point.\n"
     ]
    },
    {
     "name": "stderr",
     "output_type": "stream",
     "text": [
      "2024-05-24 22:50:04,221\tINFO worker.py:1749 -- Started a local Ray instance.\n"
     ]
    },
    {
     "name": "stdout",
     "output_type": "stream",
     "text": [
      "Iteration No: 8 ended. Evaluation done at random point.\n",
      "Time taken: 8.2861\n",
      "Function value obtained: -13.5701\n",
      "Current minimum: -14.2442\n",
      "Iteration No: 9 started. Evaluating function at random point.\n"
     ]
    },
    {
     "name": "stderr",
     "output_type": "stream",
     "text": [
      "2024-05-24 22:50:12,548\tINFO worker.py:1749 -- Started a local Ray instance.\n"
     ]
    },
    {
     "name": "stdout",
     "output_type": "stream",
     "text": [
      "Iteration No: 9 ended. Evaluation done at random point.\n",
      "Time taken: 7.7770\n",
      "Function value obtained: -0.0000\n",
      "Current minimum: -14.2442\n",
      "Iteration No: 10 started. Evaluating function at random point.\n"
     ]
    },
    {
     "name": "stderr",
     "output_type": "stream",
     "text": [
      "2024-05-24 22:50:20,324\tINFO worker.py:1749 -- Started a local Ray instance.\n"
     ]
    },
    {
     "name": "stdout",
     "output_type": "stream",
     "text": [
      "Iteration No: 10 ended. Evaluation done at random point.\n",
      "Time taken: 7.7843\n",
      "Function value obtained: -0.0000\n",
      "Current minimum: -14.2442\n",
      "Iteration No: 11 started. Searching for the next optimal point.\n"
     ]
    },
    {
     "name": "stderr",
     "output_type": "stream",
     "text": [
      "2024-05-24 22:50:28,088\tINFO worker.py:1749 -- Started a local Ray instance.\n"
     ]
    },
    {
     "name": "stdout",
     "output_type": "stream",
     "text": [
      "Iteration No: 11 ended. Search finished for the next optimal point.\n",
      "Time taken: 8.0924\n",
      "Function value obtained: -0.8730\n",
      "Current minimum: -14.2442\n",
      "Iteration No: 12 started. Searching for the next optimal point.\n"
     ]
    },
    {
     "name": "stderr",
     "output_type": "stream",
     "text": [
      "2024-05-24 22:50:36,165\tINFO worker.py:1749 -- Started a local Ray instance.\n"
     ]
    },
    {
     "name": "stdout",
     "output_type": "stream",
     "text": [
      "Iteration No: 12 ended. Search finished for the next optimal point.\n",
      "Time taken: 7.9161\n",
      "Function value obtained: -13.7361\n",
      "Current minimum: -14.2442\n",
      "Iteration No: 13 started. Searching for the next optimal point.\n"
     ]
    },
    {
     "name": "stderr",
     "output_type": "stream",
     "text": [
      "2024-05-24 22:50:44,129\tINFO worker.py:1749 -- Started a local Ray instance.\n"
     ]
    },
    {
     "name": "stdout",
     "output_type": "stream",
     "text": [
      "Iteration No: 13 ended. Search finished for the next optimal point.\n",
      "Time taken: 9.0523\n",
      "Function value obtained: -13.9624\n",
      "Current minimum: -14.2442\n",
      "Iteration No: 14 started. Searching for the next optimal point.\n"
     ]
    },
    {
     "name": "stderr",
     "output_type": "stream",
     "text": [
      "2024-05-24 22:50:53,204\tINFO worker.py:1749 -- Started a local Ray instance.\n"
     ]
    },
    {
     "name": "stdout",
     "output_type": "stream",
     "text": [
      "Iteration No: 14 ended. Search finished for the next optimal point.\n",
      "Time taken: 8.6467\n",
      "Function value obtained: -14.4321\n",
      "Current minimum: -14.4321\n",
      "Iteration No: 15 started. Searching for the next optimal point.\n"
     ]
    },
    {
     "name": "stderr",
     "output_type": "stream",
     "text": [
      "2024-05-24 22:51:01,902\tINFO worker.py:1749 -- Started a local Ray instance.\n"
     ]
    },
    {
     "name": "stdout",
     "output_type": "stream",
     "text": [
      "Iteration No: 15 ended. Search finished for the next optimal point.\n",
      "Time taken: 8.7355\n",
      "Function value obtained: -9.5334\n",
      "Current minimum: -14.4321\n",
      "Iteration No: 16 started. Searching for the next optimal point.\n"
     ]
    },
    {
     "name": "stderr",
     "output_type": "stream",
     "text": [
      "2024-05-24 22:51:10,570\tINFO worker.py:1749 -- Started a local Ray instance.\n"
     ]
    },
    {
     "name": "stdout",
     "output_type": "stream",
     "text": [
      "Iteration No: 16 ended. Search finished for the next optimal point.\n",
      "Time taken: 7.9293\n",
      "Function value obtained: -3.9556\n",
      "Current minimum: -14.4321\n",
      "Iteration No: 17 started. Searching for the next optimal point.\n"
     ]
    },
    {
     "name": "stderr",
     "output_type": "stream",
     "text": [
      "2024-05-24 22:51:18,507\tINFO worker.py:1749 -- Started a local Ray instance.\n"
     ]
    },
    {
     "name": "stdout",
     "output_type": "stream",
     "text": [
      "Iteration No: 17 ended. Search finished for the next optimal point.\n",
      "Time taken: 8.0527\n",
      "Function value obtained: -0.0000\n",
      "Current minimum: -14.4321\n",
      "Iteration No: 18 started. Searching for the next optimal point.\n"
     ]
    },
    {
     "name": "stderr",
     "output_type": "stream",
     "text": [
      "2024-05-24 22:51:26,652\tINFO worker.py:1749 -- Started a local Ray instance.\n"
     ]
    },
    {
     "name": "stdout",
     "output_type": "stream",
     "text": [
      "Iteration No: 18 ended. Search finished for the next optimal point.\n",
      "Time taken: 8.0973\n",
      "Function value obtained: -0.0135\n",
      "Current minimum: -14.4321\n",
      "Iteration No: 19 started. Searching for the next optimal point.\n"
     ]
    },
    {
     "name": "stderr",
     "output_type": "stream",
     "text": [
      "2024-05-24 22:51:34,749\tINFO worker.py:1749 -- Started a local Ray instance.\n"
     ]
    },
    {
     "name": "stdout",
     "output_type": "stream",
     "text": [
      "Iteration No: 19 ended. Search finished for the next optimal point.\n",
      "Time taken: 8.8475\n",
      "Function value obtained: -0.0000\n",
      "Current minimum: -14.4321\n",
      "Iteration No: 20 started. Searching for the next optimal point.\n"
     ]
    },
    {
     "name": "stderr",
     "output_type": "stream",
     "text": [
      "2024-05-24 22:51:43,493\tINFO worker.py:1749 -- Started a local Ray instance.\n"
     ]
    },
    {
     "name": "stdout",
     "output_type": "stream",
     "text": [
      "Iteration No: 20 ended. Search finished for the next optimal point.\n",
      "Time taken: 8.6437\n",
      "Function value obtained: -13.9815\n",
      "Current minimum: -14.4321\n",
      "Iteration No: 21 started. Searching for the next optimal point.\n"
     ]
    },
    {
     "name": "stderr",
     "output_type": "stream",
     "text": [
      "2024-05-24 22:51:52,155\tINFO worker.py:1749 -- Started a local Ray instance.\n"
     ]
    },
    {
     "name": "stdout",
     "output_type": "stream",
     "text": [
      "Iteration No: 21 ended. Search finished for the next optimal point.\n",
      "Time taken: 8.1441\n",
      "Function value obtained: -0.0000\n",
      "Current minimum: -14.4321\n",
      "Iteration No: 22 started. Searching for the next optimal point.\n"
     ]
    },
    {
     "name": "stderr",
     "output_type": "stream",
     "text": [
      "2024-05-24 22:52:00,312\tINFO worker.py:1749 -- Started a local Ray instance.\n"
     ]
    },
    {
     "name": "stdout",
     "output_type": "stream",
     "text": [
      "Iteration No: 22 ended. Search finished for the next optimal point.\n",
      "Time taken: 8.5943\n",
      "Function value obtained: -0.0000\n",
      "Current minimum: -14.4321\n",
      "Iteration No: 23 started. Searching for the next optimal point.\n"
     ]
    },
    {
     "name": "stderr",
     "output_type": "stream",
     "text": [
      "2024-05-24 22:52:08,915\tINFO worker.py:1749 -- Started a local Ray instance.\n"
     ]
    },
    {
     "name": "stdout",
     "output_type": "stream",
     "text": [
      "Iteration No: 23 ended. Search finished for the next optimal point.\n",
      "Time taken: 8.1905\n",
      "Function value obtained: -13.9271\n",
      "Current minimum: -14.4321\n",
      "Iteration No: 24 started. Searching for the next optimal point.\n"
     ]
    },
    {
     "name": "stderr",
     "output_type": "stream",
     "text": [
      "2024-05-24 22:52:17,098\tINFO worker.py:1749 -- Started a local Ray instance.\n"
     ]
    },
    {
     "name": "stdout",
     "output_type": "stream",
     "text": [
      "Iteration No: 24 ended. Search finished for the next optimal point.\n",
      "Time taken: 8.8385\n",
      "Function value obtained: -13.3206\n",
      "Current minimum: -14.4321\n",
      "Iteration No: 25 started. Searching for the next optimal point.\n"
     ]
    },
    {
     "name": "stderr",
     "output_type": "stream",
     "text": [
      "2024-05-24 22:52:25,965\tINFO worker.py:1749 -- Started a local Ray instance.\n"
     ]
    },
    {
     "name": "stdout",
     "output_type": "stream",
     "text": [
      "Iteration No: 25 ended. Search finished for the next optimal point.\n",
      "Time taken: 8.7661\n",
      "Function value obtained: -13.6458\n",
      "Current minimum: -14.4321\n",
      "Iteration No: 26 started. Searching for the next optimal point.\n"
     ]
    },
    {
     "name": "stderr",
     "output_type": "stream",
     "text": [
      "2024-05-24 22:52:34,730\tINFO worker.py:1749 -- Started a local Ray instance.\n"
     ]
    },
    {
     "name": "stdout",
     "output_type": "stream",
     "text": [
      "Iteration No: 26 ended. Search finished for the next optimal point.\n",
      "Time taken: 8.7579\n",
      "Function value obtained: -13.8530\n",
      "Current minimum: -14.4321\n",
      "Iteration No: 27 started. Searching for the next optimal point.\n"
     ]
    },
    {
     "name": "stderr",
     "output_type": "stream",
     "text": [
      "2024-05-24 22:52:43,478\tINFO worker.py:1749 -- Started a local Ray instance.\n"
     ]
    },
    {
     "name": "stdout",
     "output_type": "stream",
     "text": [
      "Iteration No: 27 ended. Search finished for the next optimal point.\n",
      "Time taken: 8.6986\n",
      "Function value obtained: -14.1390\n",
      "Current minimum: -14.4321\n",
      "Iteration No: 28 started. Searching for the next optimal point.\n"
     ]
    },
    {
     "name": "stderr",
     "output_type": "stream",
     "text": [
      "2024-05-24 22:52:52,188\tINFO worker.py:1749 -- Started a local Ray instance.\n"
     ]
    },
    {
     "name": "stdout",
     "output_type": "stream",
     "text": [
      "Iteration No: 28 ended. Search finished for the next optimal point.\n",
      "Time taken: 8.7337\n",
      "Function value obtained: -14.7883\n",
      "Current minimum: -14.7883\n",
      "Iteration No: 29 started. Searching for the next optimal point.\n"
     ]
    },
    {
     "name": "stderr",
     "output_type": "stream",
     "text": [
      "2024-05-24 22:53:00,945\tINFO worker.py:1749 -- Started a local Ray instance.\n"
     ]
    },
    {
     "name": "stdout",
     "output_type": "stream",
     "text": [
      "Iteration No: 29 ended. Search finished for the next optimal point.\n",
      "Time taken: 8.4861\n",
      "Function value obtained: -13.6805\n",
      "Current minimum: -14.7883\n",
      "Iteration No: 30 started. Searching for the next optimal point.\n"
     ]
    },
    {
     "name": "stderr",
     "output_type": "stream",
     "text": [
      "2024-05-24 22:53:09,425\tINFO worker.py:1749 -- Started a local Ray instance.\n"
     ]
    },
    {
     "name": "stdout",
     "output_type": "stream",
     "text": [
      "Iteration No: 30 ended. Search finished for the next optimal point.\n",
      "Time taken: 9.1717\n",
      "Function value obtained: -14.0910\n",
      "Current minimum: -14.7883\n",
      "Iteration No: 31 started. Searching for the next optimal point.\n"
     ]
    },
    {
     "name": "stderr",
     "output_type": "stream",
     "text": [
      "2024-05-24 22:53:18,584\tINFO worker.py:1749 -- Started a local Ray instance.\n"
     ]
    },
    {
     "name": "stdout",
     "output_type": "stream",
     "text": [
      "Iteration No: 31 ended. Search finished for the next optimal point.\n",
      "Time taken: 8.6759\n",
      "Function value obtained: -13.8217\n",
      "Current minimum: -14.7883\n",
      "Iteration No: 32 started. Searching for the next optimal point.\n"
     ]
    },
    {
     "name": "stderr",
     "output_type": "stream",
     "text": [
      "2024-05-24 22:53:27,310\tINFO worker.py:1749 -- Started a local Ray instance.\n"
     ]
    },
    {
     "name": "stdout",
     "output_type": "stream",
     "text": [
      "Iteration No: 32 ended. Search finished for the next optimal point.\n",
      "Time taken: 8.8683\n",
      "Function value obtained: -13.4420\n",
      "Current minimum: -14.7883\n",
      "Iteration No: 33 started. Searching for the next optimal point.\n"
     ]
    },
    {
     "name": "stderr",
     "output_type": "stream",
     "text": [
      "2024-05-24 22:53:36,166\tINFO worker.py:1749 -- Started a local Ray instance.\n"
     ]
    },
    {
     "name": "stdout",
     "output_type": "stream",
     "text": [
      "Iteration No: 33 ended. Search finished for the next optimal point.\n",
      "Time taken: 8.6232\n",
      "Function value obtained: -14.0526\n",
      "Current minimum: -14.7883\n",
      "Iteration No: 34 started. Searching for the next optimal point.\n"
     ]
    },
    {
     "name": "stderr",
     "output_type": "stream",
     "text": [
      "2024-05-24 22:53:44,792\tINFO worker.py:1749 -- Started a local Ray instance.\n"
     ]
    },
    {
     "name": "stdout",
     "output_type": "stream",
     "text": [
      "Iteration No: 34 ended. Search finished for the next optimal point.\n",
      "Time taken: 8.6967\n",
      "Function value obtained: -14.3145\n",
      "Current minimum: -14.7883\n",
      "Iteration No: 35 started. Searching for the next optimal point.\n"
     ]
    },
    {
     "name": "stderr",
     "output_type": "stream",
     "text": [
      "2024-05-24 22:53:53,525\tINFO worker.py:1749 -- Started a local Ray instance.\n"
     ]
    },
    {
     "name": "stdout",
     "output_type": "stream",
     "text": [
      "Iteration No: 35 ended. Search finished for the next optimal point.\n",
      "Time taken: 8.8980\n",
      "Function value obtained: -14.2506\n",
      "Current minimum: -14.7883\n",
      "Iteration No: 36 started. Searching for the next optimal point.\n"
     ]
    },
    {
     "name": "stderr",
     "output_type": "stream",
     "text": [
      "2024-05-24 22:54:02,380\tINFO worker.py:1749 -- Started a local Ray instance.\n"
     ]
    },
    {
     "name": "stdout",
     "output_type": "stream",
     "text": [
      "Iteration No: 36 ended. Search finished for the next optimal point.\n",
      "Time taken: 8.8348\n",
      "Function value obtained: -13.8238\n",
      "Current minimum: -14.7883\n",
      "Iteration No: 37 started. Searching for the next optimal point.\n"
     ]
    },
    {
     "name": "stderr",
     "output_type": "stream",
     "text": [
      "2024-05-24 22:54:11,253\tINFO worker.py:1749 -- Started a local Ray instance.\n"
     ]
    },
    {
     "name": "stdout",
     "output_type": "stream",
     "text": [
      "Iteration No: 37 ended. Search finished for the next optimal point.\n",
      "Time taken: 8.9657\n",
      "Function value obtained: -14.5724\n",
      "Current minimum: -14.7883\n",
      "Iteration No: 38 started. Searching for the next optimal point.\n"
     ]
    },
    {
     "name": "stderr",
     "output_type": "stream",
     "text": [
      "2024-05-24 22:54:20,220\tINFO worker.py:1749 -- Started a local Ray instance.\n"
     ]
    },
    {
     "name": "stdout",
     "output_type": "stream",
     "text": [
      "Iteration No: 38 ended. Search finished for the next optimal point.\n",
      "Time taken: 9.1209\n",
      "Function value obtained: -13.9084\n",
      "Current minimum: -14.7883\n",
      "Iteration No: 39 started. Searching for the next optimal point.\n"
     ]
    },
    {
     "name": "stderr",
     "output_type": "stream",
     "text": [
      "2024-05-24 22:54:29,333\tINFO worker.py:1749 -- Started a local Ray instance.\n"
     ]
    },
    {
     "name": "stdout",
     "output_type": "stream",
     "text": [
      "Iteration No: 39 ended. Search finished for the next optimal point.\n",
      "Time taken: 8.8265\n",
      "Function value obtained: -14.1652\n",
      "Current minimum: -14.7883\n",
      "Iteration No: 40 started. Searching for the next optimal point.\n"
     ]
    },
    {
     "name": "stderr",
     "output_type": "stream",
     "text": [
      "2024-05-24 22:54:38,131\tINFO worker.py:1749 -- Started a local Ray instance.\n"
     ]
    },
    {
     "name": "stdout",
     "output_type": "stream",
     "text": [
      "Iteration No: 40 ended. Search finished for the next optimal point.\n",
      "Time taken: 8.1129\n",
      "Function value obtained: -14.0068\n",
      "Current minimum: -14.7883\n"
     ]
    }
   ],
   "source": [
    "esc_gp2 = gp_minimize(const_act_esc_obj, [(-1.,1.)], n_calls = NCALLS, verbose=True)"
   ]
  },
  {
   "cell_type": "code",
   "execution_count": 8,
   "id": "68d8ba12-c8fe-468d-b831-66d954006dba",
   "metadata": {
    "scrolled": true
   },
   "outputs": [
    {
     "data": {
      "text/plain": [
       "([-0.9388866114029923], -14.788338827246875)"
      ]
     },
     "execution_count": 8,
     "metadata": {},
     "output_type": "execute_result"
    }
   ],
   "source": [
    "esc_gp2.x, esc_gp2.fun"
   ]
  },
  {
   "cell_type": "code",
   "execution_count": 9,
   "id": "0032643f-a900-46b3-85b3-1b106e117d5b",
   "metadata": {},
   "outputs": [],
   "source": [
    "ca_agent = ConstAct(env=AsmEnvEsc(config=CONFIG), action=esc_gp2.x[0])"
   ]
  },
  {
   "cell_type": "code",
   "execution_count": 10,
   "id": "f28c880a-5c90-4343-b8a1-15ebd3aaaace",
   "metadata": {},
   "outputs": [
    {
     "data": {
      "text/plain": [
       "1.5278347149251914"
      ]
     },
     "execution_count": 10,
     "metadata": {},
     "output_type": "execute_result"
    }
   ],
   "source": [
    "ca_agent.action_to_escapement(ca_agent.action)"
   ]
  },
  {
   "cell_type": "code",
   "execution_count": null,
   "id": "960ca82c-bf56-4e6a-929d-9dec1fae50e5",
   "metadata": {},
   "outputs": [],
   "source": []
  }
 ],
 "metadata": {
  "kernelspec": {
   "display_name": "Python 3 (ipykernel)",
   "language": "python",
   "name": "python3"
  },
  "language_info": {
   "codemirror_mode": {
    "name": "ipython",
    "version": 3
   },
   "file_extension": ".py",
   "mimetype": "text/x-python",
   "name": "python",
   "nbconvert_exporter": "python",
   "pygments_lexer": "ipython3",
   "version": "3.10.12"
  }
 },
 "nbformat": 4,
 "nbformat_minor": 5
}
